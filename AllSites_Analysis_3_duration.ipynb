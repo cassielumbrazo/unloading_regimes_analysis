{
 "cells": [
  {
   "cell_type": "markdown",
   "id": "3d85bcde-fe45-4570-89d9-8872291c4ae5",
   "metadata": {},
   "source": [
    "# All Sites- Analysis 3 \n",
    "* looking at the duration of unloading for each event\n",
    "* duration of unloading scatter matrix figures "
   ]
  },
  {
   "cell_type": "code",
   "execution_count": 78,
   "id": "2e8ae2b4-167c-43ad-b3fb-f70925f35ca0",
   "metadata": {},
   "outputs": [],
   "source": [
    "# import packages \n",
    "%matplotlib widget\n",
    "\n",
    "# plotting packages \n",
    "import matplotlib as mpl\n",
    "import matplotlib.pyplot as plt\n",
    "import seaborn as sns \n",
    "\n",
    "# interactive plotting\n",
    "import plotly.express as px\n",
    "import plotly.graph_objects as go\n",
    "from plotly.subplots import make_subplots # adding for subplots\n",
    "import plotly.figure_factory as ff\n",
    "\n",
    "# data packages \n",
    "import pandas as pd\n",
    "import numpy as np\n",
    "import xarray as xr\n",
    "from datetime import datetime\n",
    "\n",
    "import csv \n",
    "import copy \n",
    "import os.path "
   ]
  },
  {
   "cell_type": "markdown",
   "id": "866a5a87-b83d-4406-a69b-d46f3cf33239",
   "metadata": {},
   "source": [
    "# Open the event and duration datasets"
   ]
  },
  {
   "cell_type": "code",
   "execution_count": 79,
   "id": "bd777d9b-4036-4e32-86ac-e7fd6c775ba4",
   "metadata": {},
   "outputs": [],
   "source": [
    "opn_events = pd.read_csv(\"/Users/Lumbr/OneDrive - UW/Documents/Washington/UnloadingRegimes/OtherSites/Classifications/laret_open_events_edit.csv\")\n",
    "sod_events = pd.read_csv(\"/Users/Lumbr/OneDrive - UW/Documents/Washington/UnloadingRegimes/OtherSites/Classifications/sodankyla_events_edit.csv\")\n",
    "niw_events = pd.read_csv(\"/Users/Lumbr/OneDrive - UW/Documents/Washington/UnloadingRegimes/OtherSites/Classifications/niwot_events_edit.csv\")"
   ]
  },
  {
   "cell_type": "code",
   "execution_count": 80,
   "id": "3e9e52cf-3772-45ab-a55b-d68169c511f2",
   "metadata": {},
   "outputs": [],
   "source": [
    "# Only save the unloading events information\n",
    "opn_events.CD = opn_events.CD.where(opn_events.CD == 0).dropna()\n",
    "opn_events.dropna(inplace=True)\n",
    "\n",
    "sod_events.CD = sod_events.CD.where(sod_events.CD == 0).dropna()\n",
    "sod_events.dropna(inplace=True)\n",
    "\n",
    "niw_events.CD = niw_events.CD.where(niw_events.CD == 0).dropna()\n",
    "niw_events.dropna(inplace=True)"
   ]
  },
  {
   "cell_type": "code",
   "execution_count": 81,
   "id": "a5e925b6-a2d1-4043-bd35-0ccb97522da3",
   "metadata": {},
   "outputs": [],
   "source": [
    "opn_events['datetime']=opn_events['time_max'].copy(deep=True)\n",
    "sod_events['datetime']=sod_events['time_max'].copy(deep=True)\n",
    "niw_events['datetime']=niw_events['time_max'].copy(deep=True)"
   ]
  },
  {
   "cell_type": "code",
   "execution_count": 82,
   "id": "9d114e71-ed87-4298-9268-db4dcf23c0fb",
   "metadata": {},
   "outputs": [],
   "source": [
    "opn_events.index = pd.DatetimeIndex(opn_events['datetime'])\n",
    "opn_events.drop(columns=['datetime'], inplace=True)\n",
    "\n",
    "sod_events.index = pd.DatetimeIndex(sod_events['datetime'])\n",
    "sod_events.drop(columns=['datetime'], inplace=True)\n",
    "\n",
    "niw_events.index = pd.DatetimeIndex(niw_events['datetime'])\n",
    "niw_events.drop(columns=['datetime'], inplace=True)"
   ]
  },
  {
   "cell_type": "code",
   "execution_count": 83,
   "id": "2104d6d2-e089-453c-ba81-30c9a6520966",
   "metadata": {},
   "outputs": [],
   "source": [
    "# LARET \n",
    "# Create symbols for type 1 and type 2 \n",
    "opn_events['TypeSymbol'] = np.nan\n",
    "\n",
    "# open diamont for type 1, diamond for type 2, open x circle for no classification\n",
    "opn_events['TypeSymbol'].mask(opn_events['Type'] == 1, 102, inplace=True) # part unloading\n",
    "opn_events['TypeSymbol'].mask(opn_events['Type'] == 2., 2, inplace=True)  # full unloading\n",
    "\n",
    "# then fillna with 128 for circle with x through it \n",
    "opn_events['TypeSymbol'] = opn_events['TypeSymbol'].fillna(128)  \n",
    "\n",
    "# SODANKYLA\n",
    "# Create symbols for type 1 and type 2 \n",
    "sod_events['TypeSymbol'] = np.nan\n",
    "\n",
    "# open diamont for type 1, diamond for type 2, open x circle for no classification\n",
    "sod_events['TypeSymbol'].mask(sod_events['Type'] == 1, 102, inplace=True) \n",
    "sod_events['TypeSymbol'].mask(sod_events['Type'] == 2., 2, inplace=True)    \n",
    "\n",
    "# then fillna with 128 for circle with x through it \n",
    "sod_events['TypeSymbol'] = sod_events['TypeSymbol'].fillna(128)  \n",
    "\n",
    "# NIWOT\n",
    "# Create symbols for type 1 and type 2 \n",
    "niw_events['TypeSymbol'] = np.nan\n",
    "\n",
    "# open diamont for type 1, diamond for type 2, open x circle for no classification\n",
    "niw_events['TypeSymbol'].mask(niw_events['Type'] == 1, 102, inplace=True) \n",
    "niw_events['TypeSymbol'].mask(niw_events['Type'] == 2., 2, inplace=True)    \n",
    "\n",
    "# then fillna with 128 for circle with x through it \n",
    "niw_events['TypeSymbol'] = niw_events['TypeSymbol'].fillna(128)  "
   ]
  },
  {
   "cell_type": "markdown",
   "id": "dc1a03cf-ea88-4cba-b1ff-c8f9e5fb92ff",
   "metadata": {},
   "source": [
    "## Plot"
   ]
  },
  {
   "cell_type": "code",
   "execution_count": 84,
   "id": "fccc2b08-77ff-403f-ad56-bb0de9ea1b67",
   "metadata": {},
   "outputs": [],
   "source": [
    "## Define some plotting constants for easier coding \n",
    "plt.close('all')\n",
    "\n",
    "# Colors\n",
    "colornosnow = '#D2B48C' # nice tan\n",
    "colorsnow = '#7dcfd4' # slightly desaturated cyan\n",
    "colorsnowunload = '#1F15D5' # bright, deep blue \n",
    "colorsunny = '#E4E44A' # trying a little less bright \n",
    "unloadcolors = [colorsnow, colorsnowunload]\n",
    "\n",
    "# Names\n",
    "namesnow = 'Snow Staying'\n",
    "namesnowunload = 'Snow Unloading'\n",
    "group_labels = ['Snow Staying', 'Snow Unloading']\n",
    "\n",
    "nametemp = \"Air Temperature (C)\"\n",
    "namewind = \"Wind Speed (m/s)\"\n",
    "nameSW = \"Shortwave (W/m2)\"\n",
    "\n",
    "namesodankyla = 'A)  Sodankyla, Finland'\n",
    "namesod = 'A)  Sodankyla, Finland'\n",
    "namelaret = 'B)  Davos Laret, Switzerland'\n",
    "nameniwot = 'C)  Niwot Ridge, Colorado, USA'\n",
    "\n",
    "# namelaret = 'Laret, Switzerland: Colored by duration of unloading event (hours)'\n",
    "# nameniwot = 'Niwot Ridge, Colorado, USA: Colored by duration of unloading event (hours) '\n",
    "# namesodankyla = 'Sodankyla, Finland: Colored by duration of unloading event (hours)'"
   ]
  },
  {
   "cell_type": "markdown",
   "id": "f1a18b80",
   "metadata": {},
   "source": [
    "## Scatter matrix\n",
    "* with the same limits on the colorbar \n",
    "* now, need to figure out the limits on the axes"
   ]
  },
  {
   "cell_type": "code",
   "execution_count": 85,
   "id": "9115f65f-0f2b-47ad-ba53-4770a25a6749",
   "metadata": {},
   "outputs": [
    {
     "data": {
      "application/vnd.plotly.v1+json": {
       "config": {
        "plotlyServerURL": "https://plot.ly"
       },
       "data": [
        {
         "diagonal": {
          "visible": false
         },
         "dimensions": [
          {
           "label": "Air Temperature (C)",
           "values": [
            -8.245441667,
            -3.012491667,
            2.885173611,
            3.755580833,
            1.966270833,
            2.602745833,
            1.371179167,
            -0.3,
            2.386268056,
            -2.911902092,
            -3.262133333,
            -2.551411111,
            -2.928713889,
            1.80320057,
            6.098255556,
            -5.982351042,
            -7.076153472,
            0.439040741,
            4.259456944,
            -1.8793875,
            -3.758180208,
            0.095193696,
            1.045287413,
            -0.5075625,
            0.987025,
            3.20375,
            0.742500463,
            4.5117
           ]
          },
          {
           "label": "Wind Speed (m/s)",
           "values": [
            2.843723958,
            1.548304167,
            1.2982875,
            1.672135,
            1.629116667,
            1.292145833,
            2.497654167,
            1.980245833,
            2.390784722,
            2.492476234,
            2.676545833,
            2.280898611,
            2.6998875,
            2.125788935,
            2.046325,
            1.994790625,
            1.885221528,
            1.799315741,
            2.772544444,
            2.835897222,
            2.128888542,
            2.10706777,
            2.590837823,
            1.624341667,
            2.005966667,
            1.560375,
            1.618489352,
            1.598276389
           ]
          },
          {
           "label": "Shortwave (W/m2)",
           "values": [
            495.976875,
            548.1158333,
            362.0820833,
            231.930825,
            348.89625,
            668.059375,
            720.685,
            494.2308333,
            660.4209722,
            344.9870574,
            807.730625,
            686.5218056,
            283.5187083,
            731.0560601,
            758.5559722,
            311.9571875,
            65.25650694,
            680.2162963,
            553.8976389,
            759.1180556,
            125.3498833,
            705.9779433,
            858.0342233,
            461.5933333,
            503.2675,
            460.2133333,
            171.3137375,
            901.7844444
           ]
          }
         ],
         "marker": {
          "cmax": 12,
          "cmin": 0,
          "color": [
           4,
           1,
           3,
           5,
           1,
           2,
           1,
           1,
           3,
           4,
           2,
           3,
           9,
           5,
           3,
           4,
           12,
           9,
           3,
           3,
           4,
           9,
           2,
           1,
           2,
           1,
           9,
           3
          ],
          "colorscale": [
           [
            0,
            "#fee838"
           ],
           [
            0.1111111111111111,
            "#e1cc55"
           ],
           [
            0.2222222222222222,
            "#c3b369"
           ],
           [
            0.3333333333333333,
            "#a59c74"
           ],
           [
            0.4444444444444444,
            "#8a8678"
           ],
           [
            0.5555555555555556,
            "#707173"
           ],
           [
            0.6666666666666666,
            "#575d6d"
           ],
           [
            0.7777777777777778,
            "#3b496c"
           ],
           [
            0.8888888888888888,
            "#123570"
           ],
           [
            1,
            "#00224e"
           ]
          ],
          "line": {
           "width": 2
          },
          "showscale": true,
          "size": 12,
          "symbol": [
           102,
           102,
           102,
           2,
           2,
           2,
           2,
           2,
           2,
           102,
           102,
           102,
           102,
           102,
           2,
           102,
           102,
           102,
           2,
           102,
           102,
           102,
           2,
           2,
           2,
           2,
           102,
           2
          ]
         },
         "showlegend": false,
         "showupperhalf": false,
         "type": "splom"
        }
       ],
       "layout": {
        "dragmode": "select",
        "height": 700,
        "template": {
         "data": {
          "bar": [
           {
            "error_x": {
             "color": "#2a3f5f"
            },
            "error_y": {
             "color": "#2a3f5f"
            },
            "marker": {
             "line": {
              "color": "#E5ECF6",
              "width": 0.5
             },
             "pattern": {
              "fillmode": "overlay",
              "size": 10,
              "solidity": 0.2
             }
            },
            "type": "bar"
           }
          ],
          "barpolar": [
           {
            "marker": {
             "line": {
              "color": "#E5ECF6",
              "width": 0.5
             },
             "pattern": {
              "fillmode": "overlay",
              "size": 10,
              "solidity": 0.2
             }
            },
            "type": "barpolar"
           }
          ],
          "carpet": [
           {
            "aaxis": {
             "endlinecolor": "#2a3f5f",
             "gridcolor": "white",
             "linecolor": "white",
             "minorgridcolor": "white",
             "startlinecolor": "#2a3f5f"
            },
            "baxis": {
             "endlinecolor": "#2a3f5f",
             "gridcolor": "white",
             "linecolor": "white",
             "minorgridcolor": "white",
             "startlinecolor": "#2a3f5f"
            },
            "type": "carpet"
           }
          ],
          "choropleth": [
           {
            "colorbar": {
             "outlinewidth": 0,
             "ticks": ""
            },
            "type": "choropleth"
           }
          ],
          "contour": [
           {
            "colorbar": {
             "outlinewidth": 0,
             "ticks": ""
            },
            "colorscale": [
             [
              0,
              "#0d0887"
             ],
             [
              0.1111111111111111,
              "#46039f"
             ],
             [
              0.2222222222222222,
              "#7201a8"
             ],
             [
              0.3333333333333333,
              "#9c179e"
             ],
             [
              0.4444444444444444,
              "#bd3786"
             ],
             [
              0.5555555555555556,
              "#d8576b"
             ],
             [
              0.6666666666666666,
              "#ed7953"
             ],
             [
              0.7777777777777778,
              "#fb9f3a"
             ],
             [
              0.8888888888888888,
              "#fdca26"
             ],
             [
              1,
              "#f0f921"
             ]
            ],
            "type": "contour"
           }
          ],
          "contourcarpet": [
           {
            "colorbar": {
             "outlinewidth": 0,
             "ticks": ""
            },
            "type": "contourcarpet"
           }
          ],
          "heatmap": [
           {
            "colorbar": {
             "outlinewidth": 0,
             "ticks": ""
            },
            "colorscale": [
             [
              0,
              "#0d0887"
             ],
             [
              0.1111111111111111,
              "#46039f"
             ],
             [
              0.2222222222222222,
              "#7201a8"
             ],
             [
              0.3333333333333333,
              "#9c179e"
             ],
             [
              0.4444444444444444,
              "#bd3786"
             ],
             [
              0.5555555555555556,
              "#d8576b"
             ],
             [
              0.6666666666666666,
              "#ed7953"
             ],
             [
              0.7777777777777778,
              "#fb9f3a"
             ],
             [
              0.8888888888888888,
              "#fdca26"
             ],
             [
              1,
              "#f0f921"
             ]
            ],
            "type": "heatmap"
           }
          ],
          "heatmapgl": [
           {
            "colorbar": {
             "outlinewidth": 0,
             "ticks": ""
            },
            "colorscale": [
             [
              0,
              "#0d0887"
             ],
             [
              0.1111111111111111,
              "#46039f"
             ],
             [
              0.2222222222222222,
              "#7201a8"
             ],
             [
              0.3333333333333333,
              "#9c179e"
             ],
             [
              0.4444444444444444,
              "#bd3786"
             ],
             [
              0.5555555555555556,
              "#d8576b"
             ],
             [
              0.6666666666666666,
              "#ed7953"
             ],
             [
              0.7777777777777778,
              "#fb9f3a"
             ],
             [
              0.8888888888888888,
              "#fdca26"
             ],
             [
              1,
              "#f0f921"
             ]
            ],
            "type": "heatmapgl"
           }
          ],
          "histogram": [
           {
            "marker": {
             "pattern": {
              "fillmode": "overlay",
              "size": 10,
              "solidity": 0.2
             }
            },
            "type": "histogram"
           }
          ],
          "histogram2d": [
           {
            "colorbar": {
             "outlinewidth": 0,
             "ticks": ""
            },
            "colorscale": [
             [
              0,
              "#0d0887"
             ],
             [
              0.1111111111111111,
              "#46039f"
             ],
             [
              0.2222222222222222,
              "#7201a8"
             ],
             [
              0.3333333333333333,
              "#9c179e"
             ],
             [
              0.4444444444444444,
              "#bd3786"
             ],
             [
              0.5555555555555556,
              "#d8576b"
             ],
             [
              0.6666666666666666,
              "#ed7953"
             ],
             [
              0.7777777777777778,
              "#fb9f3a"
             ],
             [
              0.8888888888888888,
              "#fdca26"
             ],
             [
              1,
              "#f0f921"
             ]
            ],
            "type": "histogram2d"
           }
          ],
          "histogram2dcontour": [
           {
            "colorbar": {
             "outlinewidth": 0,
             "ticks": ""
            },
            "colorscale": [
             [
              0,
              "#0d0887"
             ],
             [
              0.1111111111111111,
              "#46039f"
             ],
             [
              0.2222222222222222,
              "#7201a8"
             ],
             [
              0.3333333333333333,
              "#9c179e"
             ],
             [
              0.4444444444444444,
              "#bd3786"
             ],
             [
              0.5555555555555556,
              "#d8576b"
             ],
             [
              0.6666666666666666,
              "#ed7953"
             ],
             [
              0.7777777777777778,
              "#fb9f3a"
             ],
             [
              0.8888888888888888,
              "#fdca26"
             ],
             [
              1,
              "#f0f921"
             ]
            ],
            "type": "histogram2dcontour"
           }
          ],
          "mesh3d": [
           {
            "colorbar": {
             "outlinewidth": 0,
             "ticks": ""
            },
            "type": "mesh3d"
           }
          ],
          "parcoords": [
           {
            "line": {
             "colorbar": {
              "outlinewidth": 0,
              "ticks": ""
             }
            },
            "type": "parcoords"
           }
          ],
          "pie": [
           {
            "automargin": true,
            "type": "pie"
           }
          ],
          "scatter": [
           {
            "marker": {
             "colorbar": {
              "outlinewidth": 0,
              "ticks": ""
             }
            },
            "type": "scatter"
           }
          ],
          "scatter3d": [
           {
            "line": {
             "colorbar": {
              "outlinewidth": 0,
              "ticks": ""
             }
            },
            "marker": {
             "colorbar": {
              "outlinewidth": 0,
              "ticks": ""
             }
            },
            "type": "scatter3d"
           }
          ],
          "scattercarpet": [
           {
            "marker": {
             "colorbar": {
              "outlinewidth": 0,
              "ticks": ""
             }
            },
            "type": "scattercarpet"
           }
          ],
          "scattergeo": [
           {
            "marker": {
             "colorbar": {
              "outlinewidth": 0,
              "ticks": ""
             }
            },
            "type": "scattergeo"
           }
          ],
          "scattergl": [
           {
            "marker": {
             "colorbar": {
              "outlinewidth": 0,
              "ticks": ""
             }
            },
            "type": "scattergl"
           }
          ],
          "scattermapbox": [
           {
            "marker": {
             "colorbar": {
              "outlinewidth": 0,
              "ticks": ""
             }
            },
            "type": "scattermapbox"
           }
          ],
          "scatterpolar": [
           {
            "marker": {
             "colorbar": {
              "outlinewidth": 0,
              "ticks": ""
             }
            },
            "type": "scatterpolar"
           }
          ],
          "scatterpolargl": [
           {
            "marker": {
             "colorbar": {
              "outlinewidth": 0,
              "ticks": ""
             }
            },
            "type": "scatterpolargl"
           }
          ],
          "scatterternary": [
           {
            "marker": {
             "colorbar": {
              "outlinewidth": 0,
              "ticks": ""
             }
            },
            "type": "scatterternary"
           }
          ],
          "surface": [
           {
            "colorbar": {
             "outlinewidth": 0,
             "ticks": ""
            },
            "colorscale": [
             [
              0,
              "#0d0887"
             ],
             [
              0.1111111111111111,
              "#46039f"
             ],
             [
              0.2222222222222222,
              "#7201a8"
             ],
             [
              0.3333333333333333,
              "#9c179e"
             ],
             [
              0.4444444444444444,
              "#bd3786"
             ],
             [
              0.5555555555555556,
              "#d8576b"
             ],
             [
              0.6666666666666666,
              "#ed7953"
             ],
             [
              0.7777777777777778,
              "#fb9f3a"
             ],
             [
              0.8888888888888888,
              "#fdca26"
             ],
             [
              1,
              "#f0f921"
             ]
            ],
            "type": "surface"
           }
          ],
          "table": [
           {
            "cells": {
             "fill": {
              "color": "#EBF0F8"
             },
             "line": {
              "color": "white"
             }
            },
            "header": {
             "fill": {
              "color": "#C8D4E3"
             },
             "line": {
              "color": "white"
             }
            },
            "type": "table"
           }
          ]
         },
         "layout": {
          "annotationdefaults": {
           "arrowcolor": "#2a3f5f",
           "arrowhead": 0,
           "arrowwidth": 1
          },
          "autotypenumbers": "strict",
          "coloraxis": {
           "colorbar": {
            "outlinewidth": 0,
            "ticks": ""
           }
          },
          "colorscale": {
           "diverging": [
            [
             0,
             "#8e0152"
            ],
            [
             0.1,
             "#c51b7d"
            ],
            [
             0.2,
             "#de77ae"
            ],
            [
             0.3,
             "#f1b6da"
            ],
            [
             0.4,
             "#fde0ef"
            ],
            [
             0.5,
             "#f7f7f7"
            ],
            [
             0.6,
             "#e6f5d0"
            ],
            [
             0.7,
             "#b8e186"
            ],
            [
             0.8,
             "#7fbc41"
            ],
            [
             0.9,
             "#4d9221"
            ],
            [
             1,
             "#276419"
            ]
           ],
           "sequential": [
            [
             0,
             "#0d0887"
            ],
            [
             0.1111111111111111,
             "#46039f"
            ],
            [
             0.2222222222222222,
             "#7201a8"
            ],
            [
             0.3333333333333333,
             "#9c179e"
            ],
            [
             0.4444444444444444,
             "#bd3786"
            ],
            [
             0.5555555555555556,
             "#d8576b"
            ],
            [
             0.6666666666666666,
             "#ed7953"
            ],
            [
             0.7777777777777778,
             "#fb9f3a"
            ],
            [
             0.8888888888888888,
             "#fdca26"
            ],
            [
             1,
             "#f0f921"
            ]
           ],
           "sequentialminus": [
            [
             0,
             "#0d0887"
            ],
            [
             0.1111111111111111,
             "#46039f"
            ],
            [
             0.2222222222222222,
             "#7201a8"
            ],
            [
             0.3333333333333333,
             "#9c179e"
            ],
            [
             0.4444444444444444,
             "#bd3786"
            ],
            [
             0.5555555555555556,
             "#d8576b"
            ],
            [
             0.6666666666666666,
             "#ed7953"
            ],
            [
             0.7777777777777778,
             "#fb9f3a"
            ],
            [
             0.8888888888888888,
             "#fdca26"
            ],
            [
             1,
             "#f0f921"
            ]
           ]
          },
          "colorway": [
           "#636efa",
           "#EF553B",
           "#00cc96",
           "#ab63fa",
           "#FFA15A",
           "#19d3f3",
           "#FF6692",
           "#B6E880",
           "#FF97FF",
           "#FECB52"
          ],
          "font": {
           "color": "#2a3f5f"
          },
          "geo": {
           "bgcolor": "white",
           "lakecolor": "white",
           "landcolor": "#E5ECF6",
           "showlakes": true,
           "showland": true,
           "subunitcolor": "white"
          },
          "hoverlabel": {
           "align": "left"
          },
          "hovermode": "closest",
          "mapbox": {
           "style": "light"
          },
          "paper_bgcolor": "white",
          "plot_bgcolor": "#E5ECF6",
          "polar": {
           "angularaxis": {
            "gridcolor": "white",
            "linecolor": "white",
            "ticks": ""
           },
           "bgcolor": "#E5ECF6",
           "radialaxis": {
            "gridcolor": "white",
            "linecolor": "white",
            "ticks": ""
           }
          },
          "scene": {
           "xaxis": {
            "backgroundcolor": "#E5ECF6",
            "gridcolor": "white",
            "gridwidth": 2,
            "linecolor": "white",
            "showbackground": true,
            "ticks": "",
            "zerolinecolor": "white"
           },
           "yaxis": {
            "backgroundcolor": "#E5ECF6",
            "gridcolor": "white",
            "gridwidth": 2,
            "linecolor": "white",
            "showbackground": true,
            "ticks": "",
            "zerolinecolor": "white"
           },
           "zaxis": {
            "backgroundcolor": "#E5ECF6",
            "gridcolor": "white",
            "gridwidth": 2,
            "linecolor": "white",
            "showbackground": true,
            "ticks": "",
            "zerolinecolor": "white"
           }
          },
          "shapedefaults": {
           "line": {
            "color": "#2a3f5f"
           }
          },
          "ternary": {
           "aaxis": {
            "gridcolor": "white",
            "linecolor": "white",
            "ticks": ""
           },
           "baxis": {
            "gridcolor": "white",
            "linecolor": "white",
            "ticks": ""
           },
           "bgcolor": "#E5ECF6",
           "caxis": {
            "gridcolor": "white",
            "linecolor": "white",
            "ticks": ""
           }
          },
          "title": {
           "x": 0.05
          },
          "xaxis": {
           "automargin": true,
           "gridcolor": "white",
           "linecolor": "white",
           "ticks": "",
           "title": {
            "standoff": 15
           },
           "zerolinecolor": "white",
           "zerolinewidth": 2
          },
          "yaxis": {
           "automargin": true,
           "gridcolor": "white",
           "linecolor": "white",
           "ticks": "",
           "title": {
            "standoff": 15
           },
           "zerolinecolor": "white",
           "zerolinewidth": 2
          }
         }
        },
        "title": {
         "text": "B)  Davos Laret, Switzerland"
        },
        "width": 800
       }
      }
     },
     "metadata": {},
     "output_type": "display_data"
    }
   ],
   "source": [
    "# State which site we are working with \n",
    "df = opn_events.copy(deep=True)\n",
    "\n",
    "# Some constatns \n",
    "index_vals = df['count']\n",
    "index_symbols = df['TypeSymbol']\n",
    "# colorbar = 'blues'\n",
    "colorbar = 'cividis_r'\n",
    "\n",
    "fig = go.Figure()\n",
    "fig.add_trace(go.Splom(dimensions=[dict(label=nametemp, values=df['temp']),\n",
    "                                   dict(label=namewind, values=df['windspeed']),\n",
    "                                   dict(label=nameSW,   values=df['shortwave'])],\n",
    "                                   marker=dict(color=index_vals, colorscale = colorbar, symbol = index_symbols, showscale=True, line_width=2, size=12, cmin=0, cmax=12),\n",
    "                                   showlegend=False, showupperhalf=False, diagonal_visible=False))\n",
    "\n",
    "fig.update_traces(showlegend=True, legendgroup=index_symbols, selector=dict(mode='spolm'))\n",
    "\n",
    "fig.update_layout(title=namelaret, width=800, height=700, dragmode='select')\n",
    "\n",
    "fig.show()"
   ]
  },
  {
   "cell_type": "code",
   "execution_count": 86,
   "id": "7c9c369f-0e4e-467b-9a8d-d5de090c610c",
   "metadata": {},
   "outputs": [
    {
     "data": {
      "application/vnd.plotly.v1+json": {
       "config": {
        "plotlyServerURL": "https://plot.ly"
       },
       "data": [
        {
         "diagonal": {
          "visible": false
         },
         "dimensions": [
          {
           "label": "Air Temperature (C)",
           "values": [
            -0.45,
            2.4,
            -1.72,
            -6.85,
            -1.691666667,
            -6.9,
            -7.2,
            -12.45,
            -6.69,
            -11.9,
            -13.9,
            -8.9,
            -16.95,
            -2.7,
            -2.95,
            -8.764285714,
            0.608333333,
            1.983333333,
            0.4,
            -2.3,
            -1.164285714,
            -1.875,
            -1.475,
            1.708333333,
            1.45,
            -1.1,
            0.775,
            1.183333333
           ]
          },
          {
           "label": "Wind Speed (m/s)",
           "values": [
            2.11875,
            4.805325,
            1.20006,
            1.5255,
            4.9833,
            4.2714,
            3.8646,
            5.13585,
            7.94277,
            3.686625,
            3.1908375,
            2.28825,
            3.5595,
            1.635675,
            2.69505,
            4.758107143,
            5.466375,
            5.5935,
            1.46448,
            2.89845,
            3.668464286,
            4.4748,
            3.3561,
            3.771375,
            4.5765,
            3.2544,
            6.05115,
            5.7969
           ]
          },
          {
           "label": "Shortwave (W/m2)",
           "values": [
            121.4333333,
            111.825,
            1.06,
            1.1,
            0.641666667,
            2.875,
            0,
            0,
            1.16,
            6.275,
            20.5125,
            17,
            7.95,
            37.30833333,
            20.5,
            29.52857143,
            81.04166667,
            90.71666667,
            138,
            36.95,
            257.5571429,
            119.7,
            145.025,
            331.925,
            224.85,
            0.7,
            390.25,
            162.6
           ]
          }
         ],
         "marker": {
          "cmax": 12,
          "cmin": 0,
          "color": [
           3,
           2,
           5,
           1,
           6,
           2,
           1,
           1,
           5,
           2,
           4,
           1,
           1,
           6,
           1,
           7,
           6,
           3,
           5,
           1,
           7,
           8,
           2,
           6,
           1,
           1,
           2,
           3
          ],
          "colorscale": [
           [
            0,
            "#fee838"
           ],
           [
            0.1111111111111111,
            "#e1cc55"
           ],
           [
            0.2222222222222222,
            "#c3b369"
           ],
           [
            0.3333333333333333,
            "#a59c74"
           ],
           [
            0.4444444444444444,
            "#8a8678"
           ],
           [
            0.5555555555555556,
            "#707173"
           ],
           [
            0.6666666666666666,
            "#575d6d"
           ],
           [
            0.7777777777777778,
            "#3b496c"
           ],
           [
            0.8888888888888888,
            "#123570"
           ],
           [
            1,
            "#00224e"
           ]
          ],
          "line": {
           "width": 2
          },
          "showscale": true,
          "size": 12,
          "symbol": [
           102,
           2,
           102,
           102,
           102,
           102,
           102,
           102,
           102,
           102,
           102,
           102,
           102,
           102,
           102,
           102,
           102,
           102,
           102,
           102,
           102,
           102,
           102,
           2,
           2,
           102,
           2,
           2
          ]
         },
         "showlegend": false,
         "showupperhalf": false,
         "type": "splom"
        }
       ],
       "layout": {
        "dragmode": "select",
        "height": 700,
        "template": {
         "data": {
          "bar": [
           {
            "error_x": {
             "color": "#2a3f5f"
            },
            "error_y": {
             "color": "#2a3f5f"
            },
            "marker": {
             "line": {
              "color": "#E5ECF6",
              "width": 0.5
             },
             "pattern": {
              "fillmode": "overlay",
              "size": 10,
              "solidity": 0.2
             }
            },
            "type": "bar"
           }
          ],
          "barpolar": [
           {
            "marker": {
             "line": {
              "color": "#E5ECF6",
              "width": 0.5
             },
             "pattern": {
              "fillmode": "overlay",
              "size": 10,
              "solidity": 0.2
             }
            },
            "type": "barpolar"
           }
          ],
          "carpet": [
           {
            "aaxis": {
             "endlinecolor": "#2a3f5f",
             "gridcolor": "white",
             "linecolor": "white",
             "minorgridcolor": "white",
             "startlinecolor": "#2a3f5f"
            },
            "baxis": {
             "endlinecolor": "#2a3f5f",
             "gridcolor": "white",
             "linecolor": "white",
             "minorgridcolor": "white",
             "startlinecolor": "#2a3f5f"
            },
            "type": "carpet"
           }
          ],
          "choropleth": [
           {
            "colorbar": {
             "outlinewidth": 0,
             "ticks": ""
            },
            "type": "choropleth"
           }
          ],
          "contour": [
           {
            "colorbar": {
             "outlinewidth": 0,
             "ticks": ""
            },
            "colorscale": [
             [
              0,
              "#0d0887"
             ],
             [
              0.1111111111111111,
              "#46039f"
             ],
             [
              0.2222222222222222,
              "#7201a8"
             ],
             [
              0.3333333333333333,
              "#9c179e"
             ],
             [
              0.4444444444444444,
              "#bd3786"
             ],
             [
              0.5555555555555556,
              "#d8576b"
             ],
             [
              0.6666666666666666,
              "#ed7953"
             ],
             [
              0.7777777777777778,
              "#fb9f3a"
             ],
             [
              0.8888888888888888,
              "#fdca26"
             ],
             [
              1,
              "#f0f921"
             ]
            ],
            "type": "contour"
           }
          ],
          "contourcarpet": [
           {
            "colorbar": {
             "outlinewidth": 0,
             "ticks": ""
            },
            "type": "contourcarpet"
           }
          ],
          "heatmap": [
           {
            "colorbar": {
             "outlinewidth": 0,
             "ticks": ""
            },
            "colorscale": [
             [
              0,
              "#0d0887"
             ],
             [
              0.1111111111111111,
              "#46039f"
             ],
             [
              0.2222222222222222,
              "#7201a8"
             ],
             [
              0.3333333333333333,
              "#9c179e"
             ],
             [
              0.4444444444444444,
              "#bd3786"
             ],
             [
              0.5555555555555556,
              "#d8576b"
             ],
             [
              0.6666666666666666,
              "#ed7953"
             ],
             [
              0.7777777777777778,
              "#fb9f3a"
             ],
             [
              0.8888888888888888,
              "#fdca26"
             ],
             [
              1,
              "#f0f921"
             ]
            ],
            "type": "heatmap"
           }
          ],
          "heatmapgl": [
           {
            "colorbar": {
             "outlinewidth": 0,
             "ticks": ""
            },
            "colorscale": [
             [
              0,
              "#0d0887"
             ],
             [
              0.1111111111111111,
              "#46039f"
             ],
             [
              0.2222222222222222,
              "#7201a8"
             ],
             [
              0.3333333333333333,
              "#9c179e"
             ],
             [
              0.4444444444444444,
              "#bd3786"
             ],
             [
              0.5555555555555556,
              "#d8576b"
             ],
             [
              0.6666666666666666,
              "#ed7953"
             ],
             [
              0.7777777777777778,
              "#fb9f3a"
             ],
             [
              0.8888888888888888,
              "#fdca26"
             ],
             [
              1,
              "#f0f921"
             ]
            ],
            "type": "heatmapgl"
           }
          ],
          "histogram": [
           {
            "marker": {
             "pattern": {
              "fillmode": "overlay",
              "size": 10,
              "solidity": 0.2
             }
            },
            "type": "histogram"
           }
          ],
          "histogram2d": [
           {
            "colorbar": {
             "outlinewidth": 0,
             "ticks": ""
            },
            "colorscale": [
             [
              0,
              "#0d0887"
             ],
             [
              0.1111111111111111,
              "#46039f"
             ],
             [
              0.2222222222222222,
              "#7201a8"
             ],
             [
              0.3333333333333333,
              "#9c179e"
             ],
             [
              0.4444444444444444,
              "#bd3786"
             ],
             [
              0.5555555555555556,
              "#d8576b"
             ],
             [
              0.6666666666666666,
              "#ed7953"
             ],
             [
              0.7777777777777778,
              "#fb9f3a"
             ],
             [
              0.8888888888888888,
              "#fdca26"
             ],
             [
              1,
              "#f0f921"
             ]
            ],
            "type": "histogram2d"
           }
          ],
          "histogram2dcontour": [
           {
            "colorbar": {
             "outlinewidth": 0,
             "ticks": ""
            },
            "colorscale": [
             [
              0,
              "#0d0887"
             ],
             [
              0.1111111111111111,
              "#46039f"
             ],
             [
              0.2222222222222222,
              "#7201a8"
             ],
             [
              0.3333333333333333,
              "#9c179e"
             ],
             [
              0.4444444444444444,
              "#bd3786"
             ],
             [
              0.5555555555555556,
              "#d8576b"
             ],
             [
              0.6666666666666666,
              "#ed7953"
             ],
             [
              0.7777777777777778,
              "#fb9f3a"
             ],
             [
              0.8888888888888888,
              "#fdca26"
             ],
             [
              1,
              "#f0f921"
             ]
            ],
            "type": "histogram2dcontour"
           }
          ],
          "mesh3d": [
           {
            "colorbar": {
             "outlinewidth": 0,
             "ticks": ""
            },
            "type": "mesh3d"
           }
          ],
          "parcoords": [
           {
            "line": {
             "colorbar": {
              "outlinewidth": 0,
              "ticks": ""
             }
            },
            "type": "parcoords"
           }
          ],
          "pie": [
           {
            "automargin": true,
            "type": "pie"
           }
          ],
          "scatter": [
           {
            "marker": {
             "colorbar": {
              "outlinewidth": 0,
              "ticks": ""
             }
            },
            "type": "scatter"
           }
          ],
          "scatter3d": [
           {
            "line": {
             "colorbar": {
              "outlinewidth": 0,
              "ticks": ""
             }
            },
            "marker": {
             "colorbar": {
              "outlinewidth": 0,
              "ticks": ""
             }
            },
            "type": "scatter3d"
           }
          ],
          "scattercarpet": [
           {
            "marker": {
             "colorbar": {
              "outlinewidth": 0,
              "ticks": ""
             }
            },
            "type": "scattercarpet"
           }
          ],
          "scattergeo": [
           {
            "marker": {
             "colorbar": {
              "outlinewidth": 0,
              "ticks": ""
             }
            },
            "type": "scattergeo"
           }
          ],
          "scattergl": [
           {
            "marker": {
             "colorbar": {
              "outlinewidth": 0,
              "ticks": ""
             }
            },
            "type": "scattergl"
           }
          ],
          "scattermapbox": [
           {
            "marker": {
             "colorbar": {
              "outlinewidth": 0,
              "ticks": ""
             }
            },
            "type": "scattermapbox"
           }
          ],
          "scatterpolar": [
           {
            "marker": {
             "colorbar": {
              "outlinewidth": 0,
              "ticks": ""
             }
            },
            "type": "scatterpolar"
           }
          ],
          "scatterpolargl": [
           {
            "marker": {
             "colorbar": {
              "outlinewidth": 0,
              "ticks": ""
             }
            },
            "type": "scatterpolargl"
           }
          ],
          "scatterternary": [
           {
            "marker": {
             "colorbar": {
              "outlinewidth": 0,
              "ticks": ""
             }
            },
            "type": "scatterternary"
           }
          ],
          "surface": [
           {
            "colorbar": {
             "outlinewidth": 0,
             "ticks": ""
            },
            "colorscale": [
             [
              0,
              "#0d0887"
             ],
             [
              0.1111111111111111,
              "#46039f"
             ],
             [
              0.2222222222222222,
              "#7201a8"
             ],
             [
              0.3333333333333333,
              "#9c179e"
             ],
             [
              0.4444444444444444,
              "#bd3786"
             ],
             [
              0.5555555555555556,
              "#d8576b"
             ],
             [
              0.6666666666666666,
              "#ed7953"
             ],
             [
              0.7777777777777778,
              "#fb9f3a"
             ],
             [
              0.8888888888888888,
              "#fdca26"
             ],
             [
              1,
              "#f0f921"
             ]
            ],
            "type": "surface"
           }
          ],
          "table": [
           {
            "cells": {
             "fill": {
              "color": "#EBF0F8"
             },
             "line": {
              "color": "white"
             }
            },
            "header": {
             "fill": {
              "color": "#C8D4E3"
             },
             "line": {
              "color": "white"
             }
            },
            "type": "table"
           }
          ]
         },
         "layout": {
          "annotationdefaults": {
           "arrowcolor": "#2a3f5f",
           "arrowhead": 0,
           "arrowwidth": 1
          },
          "autotypenumbers": "strict",
          "coloraxis": {
           "colorbar": {
            "outlinewidth": 0,
            "ticks": ""
           }
          },
          "colorscale": {
           "diverging": [
            [
             0,
             "#8e0152"
            ],
            [
             0.1,
             "#c51b7d"
            ],
            [
             0.2,
             "#de77ae"
            ],
            [
             0.3,
             "#f1b6da"
            ],
            [
             0.4,
             "#fde0ef"
            ],
            [
             0.5,
             "#f7f7f7"
            ],
            [
             0.6,
             "#e6f5d0"
            ],
            [
             0.7,
             "#b8e186"
            ],
            [
             0.8,
             "#7fbc41"
            ],
            [
             0.9,
             "#4d9221"
            ],
            [
             1,
             "#276419"
            ]
           ],
           "sequential": [
            [
             0,
             "#0d0887"
            ],
            [
             0.1111111111111111,
             "#46039f"
            ],
            [
             0.2222222222222222,
             "#7201a8"
            ],
            [
             0.3333333333333333,
             "#9c179e"
            ],
            [
             0.4444444444444444,
             "#bd3786"
            ],
            [
             0.5555555555555556,
             "#d8576b"
            ],
            [
             0.6666666666666666,
             "#ed7953"
            ],
            [
             0.7777777777777778,
             "#fb9f3a"
            ],
            [
             0.8888888888888888,
             "#fdca26"
            ],
            [
             1,
             "#f0f921"
            ]
           ],
           "sequentialminus": [
            [
             0,
             "#0d0887"
            ],
            [
             0.1111111111111111,
             "#46039f"
            ],
            [
             0.2222222222222222,
             "#7201a8"
            ],
            [
             0.3333333333333333,
             "#9c179e"
            ],
            [
             0.4444444444444444,
             "#bd3786"
            ],
            [
             0.5555555555555556,
             "#d8576b"
            ],
            [
             0.6666666666666666,
             "#ed7953"
            ],
            [
             0.7777777777777778,
             "#fb9f3a"
            ],
            [
             0.8888888888888888,
             "#fdca26"
            ],
            [
             1,
             "#f0f921"
            ]
           ]
          },
          "colorway": [
           "#636efa",
           "#EF553B",
           "#00cc96",
           "#ab63fa",
           "#FFA15A",
           "#19d3f3",
           "#FF6692",
           "#B6E880",
           "#FF97FF",
           "#FECB52"
          ],
          "font": {
           "color": "#2a3f5f"
          },
          "geo": {
           "bgcolor": "white",
           "lakecolor": "white",
           "landcolor": "#E5ECF6",
           "showlakes": true,
           "showland": true,
           "subunitcolor": "white"
          },
          "hoverlabel": {
           "align": "left"
          },
          "hovermode": "closest",
          "mapbox": {
           "style": "light"
          },
          "paper_bgcolor": "white",
          "plot_bgcolor": "#E5ECF6",
          "polar": {
           "angularaxis": {
            "gridcolor": "white",
            "linecolor": "white",
            "ticks": ""
           },
           "bgcolor": "#E5ECF6",
           "radialaxis": {
            "gridcolor": "white",
            "linecolor": "white",
            "ticks": ""
           }
          },
          "scene": {
           "xaxis": {
            "backgroundcolor": "#E5ECF6",
            "gridcolor": "white",
            "gridwidth": 2,
            "linecolor": "white",
            "showbackground": true,
            "ticks": "",
            "zerolinecolor": "white"
           },
           "yaxis": {
            "backgroundcolor": "#E5ECF6",
            "gridcolor": "white",
            "gridwidth": 2,
            "linecolor": "white",
            "showbackground": true,
            "ticks": "",
            "zerolinecolor": "white"
           },
           "zaxis": {
            "backgroundcolor": "#E5ECF6",
            "gridcolor": "white",
            "gridwidth": 2,
            "linecolor": "white",
            "showbackground": true,
            "ticks": "",
            "zerolinecolor": "white"
           }
          },
          "shapedefaults": {
           "line": {
            "color": "#2a3f5f"
           }
          },
          "ternary": {
           "aaxis": {
            "gridcolor": "white",
            "linecolor": "white",
            "ticks": ""
           },
           "baxis": {
            "gridcolor": "white",
            "linecolor": "white",
            "ticks": ""
           },
           "bgcolor": "#E5ECF6",
           "caxis": {
            "gridcolor": "white",
            "linecolor": "white",
            "ticks": ""
           }
          },
          "title": {
           "x": 0.05
          },
          "xaxis": {
           "automargin": true,
           "gridcolor": "white",
           "linecolor": "white",
           "ticks": "",
           "title": {
            "standoff": 15
           },
           "zerolinecolor": "white",
           "zerolinewidth": 2
          },
          "yaxis": {
           "automargin": true,
           "gridcolor": "white",
           "linecolor": "white",
           "ticks": "",
           "title": {
            "standoff": 15
           },
           "zerolinecolor": "white",
           "zerolinewidth": 2
          }
         }
        },
        "title": {
         "text": "A)  Sodankyla, Finland"
        },
        "width": 800
       }
      }
     },
     "metadata": {},
     "output_type": "display_data"
    }
   ],
   "source": [
    "# State which site we are working with \n",
    "df = sod_events.copy(deep=True)\n",
    "\n",
    "# Some constatns \n",
    "index_vals = df['count']\n",
    "index_symbols = df['TypeSymbol']\n",
    "colorbar = 'cividis_r'\n",
    "\n",
    "fig = go.Figure()\n",
    "fig.add_trace(go.Splom(dimensions=[dict(label=nametemp, values=df['temp']),\n",
    "                                   dict(label=namewind, values=df['windspeed']),\n",
    "                                   dict(label=nameSW,   values=df['shortwave'])],\n",
    "                                   marker=dict(color=index_vals, colorscale = colorbar, symbol = index_symbols, showscale=True, line_width=2, size=12, cmin=0, cmax=12),\n",
    "                                   showlegend=False, showupperhalf=False, diagonal_visible=False))\n",
    "\n",
    "fig.update_traces(showlegend=True, legendgroup=index_symbols, selector=dict(mode='spolm'))\n",
    "\n",
    "fig.update_layout(title=namesodankyla, width=800, height=700, dragmode='select')\n",
    "\n",
    "fig.show()"
   ]
  },
  {
   "cell_type": "code",
   "execution_count": 87,
   "id": "559f233f-6905-4d17-98d1-6204aef3a2a0",
   "metadata": {},
   "outputs": [
    {
     "data": {
      "application/vnd.plotly.v1+json": {
       "config": {
        "plotlyServerURL": "https://plot.ly"
       },
       "data": [
        {
         "diagonal": {
          "visible": false
         },
         "dimensions": [
          {
           "label": "Air Temperature (C)",
           "values": [
            -1.5426,
            3.7175,
            -2.545,
            0.783,
            -8.328333333,
            -8.655,
            -7.8575,
            -17.62,
            -11.23833333,
            -2.53,
            -7.315,
            -4.343692308,
            -17.75875,
            -8.31,
            -6.005,
            -18.63,
            -16.625,
            -0.5085,
            -6.35125,
            -6.0925,
            1.490666667,
            3.906,
            -1.045333333,
            -3.24,
            -2.915,
            -4.235,
            -9.585,
            -13.625,
            -15.8375,
            -14.15,
            -10.44875,
            -10.62333333,
            -2.10875,
            -1.6125,
            -2.1875,
            1.0883,
            -5.42,
            -2.90875,
            1.003071429,
            -4.12,
            -7.6875,
            -5.394,
            -4.085,
            1.41,
            -1.7835,
            -1.6773,
            -3.743333333,
            -3.015,
            -3.64375,
            -9.26,
            -3.458611111,
            -2.65,
            0.68825,
            -3.586666667,
            0.78175,
            0.99875,
            -4.42,
            -4.975,
            -4.895,
            -5.0425,
            -1.041363636,
            2.596,
            1.707166667,
            -0.694714286,
            0.0165
           ]
          },
          {
           "label": "Wind Speed (m/s)",
           "values": [
            3.898,
            2.87,
            3.92,
            1.0375,
            3.178333333,
            12.7975,
            3.61,
            4.44,
            8.081666667,
            9.666,
            4.959166667,
            5.921538462,
            7.6325,
            3.835,
            4.936666667,
            2.53,
            10.7125,
            5.559166667,
            8.029375,
            5.945,
            2.938333333,
            2.255,
            6.473333333,
            6.37,
            5.775,
            9.99,
            2.745,
            2.28,
            13.255,
            11.225,
            5.35125,
            12.47833333,
            2.09875,
            2.5025,
            3.29,
            3.626,
            2.1425,
            2.12625,
            3.983571429,
            8.8,
            2.5775,
            8.3855,
            10.4,
            5.765,
            5.54875,
            2.624,
            8.143333333,
            1.895,
            7.53375,
            2.4875,
            8.665,
            3.495,
            4.045,
            2.126666667,
            1.9525,
            1.257,
            2.815,
            1.255,
            2.42,
            2.08125,
            7.459545455,
            2.3235,
            4.328333333,
            5.53,
            1.755
           ]
          },
          {
           "label": "Shortwave (W/m2)",
           "values": [
            513.968,
            683.805,
            394.135,
            333.89,
            499.7266667,
            580.7075,
            114.895,
            61.205,
            380.1366667,
            87.5626,
            133.9991667,
            82.43123077,
            109.5125,
            32.29,
            50.52833333,
            127.745,
            388.2466667,
            56.05833333,
            73.89625,
            1.61775,
            521.0416667,
            491.201,
            605.885,
            176.225,
            66.88,
            424.4416667,
            474.965,
            18.45,
            483.17,
            633.27,
            242.1325,
            713.6266667,
            493.20875,
            509.5625,
            306.925,
            714.146,
            34.3175,
            202.5825,
            840.1735714,
            908.015,
            331.55,
            733.0865,
            794.195,
            858.98,
            862.53,
            607.258,
            566.6033333,
            11.815,
            589.23875,
            254.9625,
            816.8405556,
            130.515,
            580.93,
            472.5433333,
            308.085,
            532.8125,
            43.585,
            59.34,
            190.595,
            270.35125,
            794.8963636,
            412.7705,
            767.3541667,
            836.7271429,
            381.5375
           ]
          }
         ],
         "marker": {
          "cmax": 12,
          "cmin": 0,
          "color": [
           5,
           2,
           1,
           1,
           3,
           2,
           2,
           1,
           3,
           5,
           6,
           13,
           4,
           1,
           3,
           2,
           6,
           6,
           8,
           2,
           3,
           5,
           3,
           1,
           1,
           3,
           1,
           1,
           2,
           1,
           4,
           3,
           4,
           2,
           2,
           5,
           2,
           4,
           7,
           2,
           2,
           10,
           1,
           1,
           4,
           5,
           3,
           1,
           4,
           2,
           9,
           1,
           2,
           3,
           2,
           2,
           1,
           1,
           2,
           4,
           11,
           10,
           6,
           7,
           2
          ],
          "colorscale": [
           [
            0,
            "#fee838"
           ],
           [
            0.1111111111111111,
            "#e1cc55"
           ],
           [
            0.2222222222222222,
            "#c3b369"
           ],
           [
            0.3333333333333333,
            "#a59c74"
           ],
           [
            0.4444444444444444,
            "#8a8678"
           ],
           [
            0.5555555555555556,
            "#707173"
           ],
           [
            0.6666666666666666,
            "#575d6d"
           ],
           [
            0.7777777777777778,
            "#3b496c"
           ],
           [
            0.8888888888888888,
            "#123570"
           ],
           [
            1,
            "#00224e"
           ]
          ],
          "line": {
           "width": 2
          },
          "showscale": true,
          "size": 12,
          "symbol": [
           2,
           2,
           2,
           2,
           102,
           2,
           102,
           102,
           102,
           2,
           102,
           2,
           2,
           102,
           102,
           102,
           2,
           102,
           102,
           102,
           102,
           2,
           2,
           102,
           102,
           2,
           102,
           102,
           102,
           102,
           102,
           2,
           2,
           102,
           102,
           102,
           102,
           102,
           102,
           2,
           102,
           2,
           2,
           2,
           102,
           2,
           2,
           102,
           102,
           102,
           2,
           102,
           2,
           2,
           2,
           2,
           102,
           102,
           102,
           102,
           102,
           2,
           2,
           2,
           2
          ]
         },
         "showlegend": false,
         "showupperhalf": false,
         "type": "splom"
        }
       ],
       "layout": {
        "dragmode": "select",
        "height": 700,
        "template": {
         "data": {
          "bar": [
           {
            "error_x": {
             "color": "#2a3f5f"
            },
            "error_y": {
             "color": "#2a3f5f"
            },
            "marker": {
             "line": {
              "color": "#E5ECF6",
              "width": 0.5
             },
             "pattern": {
              "fillmode": "overlay",
              "size": 10,
              "solidity": 0.2
             }
            },
            "type": "bar"
           }
          ],
          "barpolar": [
           {
            "marker": {
             "line": {
              "color": "#E5ECF6",
              "width": 0.5
             },
             "pattern": {
              "fillmode": "overlay",
              "size": 10,
              "solidity": 0.2
             }
            },
            "type": "barpolar"
           }
          ],
          "carpet": [
           {
            "aaxis": {
             "endlinecolor": "#2a3f5f",
             "gridcolor": "white",
             "linecolor": "white",
             "minorgridcolor": "white",
             "startlinecolor": "#2a3f5f"
            },
            "baxis": {
             "endlinecolor": "#2a3f5f",
             "gridcolor": "white",
             "linecolor": "white",
             "minorgridcolor": "white",
             "startlinecolor": "#2a3f5f"
            },
            "type": "carpet"
           }
          ],
          "choropleth": [
           {
            "colorbar": {
             "outlinewidth": 0,
             "ticks": ""
            },
            "type": "choropleth"
           }
          ],
          "contour": [
           {
            "colorbar": {
             "outlinewidth": 0,
             "ticks": ""
            },
            "colorscale": [
             [
              0,
              "#0d0887"
             ],
             [
              0.1111111111111111,
              "#46039f"
             ],
             [
              0.2222222222222222,
              "#7201a8"
             ],
             [
              0.3333333333333333,
              "#9c179e"
             ],
             [
              0.4444444444444444,
              "#bd3786"
             ],
             [
              0.5555555555555556,
              "#d8576b"
             ],
             [
              0.6666666666666666,
              "#ed7953"
             ],
             [
              0.7777777777777778,
              "#fb9f3a"
             ],
             [
              0.8888888888888888,
              "#fdca26"
             ],
             [
              1,
              "#f0f921"
             ]
            ],
            "type": "contour"
           }
          ],
          "contourcarpet": [
           {
            "colorbar": {
             "outlinewidth": 0,
             "ticks": ""
            },
            "type": "contourcarpet"
           }
          ],
          "heatmap": [
           {
            "colorbar": {
             "outlinewidth": 0,
             "ticks": ""
            },
            "colorscale": [
             [
              0,
              "#0d0887"
             ],
             [
              0.1111111111111111,
              "#46039f"
             ],
             [
              0.2222222222222222,
              "#7201a8"
             ],
             [
              0.3333333333333333,
              "#9c179e"
             ],
             [
              0.4444444444444444,
              "#bd3786"
             ],
             [
              0.5555555555555556,
              "#d8576b"
             ],
             [
              0.6666666666666666,
              "#ed7953"
             ],
             [
              0.7777777777777778,
              "#fb9f3a"
             ],
             [
              0.8888888888888888,
              "#fdca26"
             ],
             [
              1,
              "#f0f921"
             ]
            ],
            "type": "heatmap"
           }
          ],
          "heatmapgl": [
           {
            "colorbar": {
             "outlinewidth": 0,
             "ticks": ""
            },
            "colorscale": [
             [
              0,
              "#0d0887"
             ],
             [
              0.1111111111111111,
              "#46039f"
             ],
             [
              0.2222222222222222,
              "#7201a8"
             ],
             [
              0.3333333333333333,
              "#9c179e"
             ],
             [
              0.4444444444444444,
              "#bd3786"
             ],
             [
              0.5555555555555556,
              "#d8576b"
             ],
             [
              0.6666666666666666,
              "#ed7953"
             ],
             [
              0.7777777777777778,
              "#fb9f3a"
             ],
             [
              0.8888888888888888,
              "#fdca26"
             ],
             [
              1,
              "#f0f921"
             ]
            ],
            "type": "heatmapgl"
           }
          ],
          "histogram": [
           {
            "marker": {
             "pattern": {
              "fillmode": "overlay",
              "size": 10,
              "solidity": 0.2
             }
            },
            "type": "histogram"
           }
          ],
          "histogram2d": [
           {
            "colorbar": {
             "outlinewidth": 0,
             "ticks": ""
            },
            "colorscale": [
             [
              0,
              "#0d0887"
             ],
             [
              0.1111111111111111,
              "#46039f"
             ],
             [
              0.2222222222222222,
              "#7201a8"
             ],
             [
              0.3333333333333333,
              "#9c179e"
             ],
             [
              0.4444444444444444,
              "#bd3786"
             ],
             [
              0.5555555555555556,
              "#d8576b"
             ],
             [
              0.6666666666666666,
              "#ed7953"
             ],
             [
              0.7777777777777778,
              "#fb9f3a"
             ],
             [
              0.8888888888888888,
              "#fdca26"
             ],
             [
              1,
              "#f0f921"
             ]
            ],
            "type": "histogram2d"
           }
          ],
          "histogram2dcontour": [
           {
            "colorbar": {
             "outlinewidth": 0,
             "ticks": ""
            },
            "colorscale": [
             [
              0,
              "#0d0887"
             ],
             [
              0.1111111111111111,
              "#46039f"
             ],
             [
              0.2222222222222222,
              "#7201a8"
             ],
             [
              0.3333333333333333,
              "#9c179e"
             ],
             [
              0.4444444444444444,
              "#bd3786"
             ],
             [
              0.5555555555555556,
              "#d8576b"
             ],
             [
              0.6666666666666666,
              "#ed7953"
             ],
             [
              0.7777777777777778,
              "#fb9f3a"
             ],
             [
              0.8888888888888888,
              "#fdca26"
             ],
             [
              1,
              "#f0f921"
             ]
            ],
            "type": "histogram2dcontour"
           }
          ],
          "mesh3d": [
           {
            "colorbar": {
             "outlinewidth": 0,
             "ticks": ""
            },
            "type": "mesh3d"
           }
          ],
          "parcoords": [
           {
            "line": {
             "colorbar": {
              "outlinewidth": 0,
              "ticks": ""
             }
            },
            "type": "parcoords"
           }
          ],
          "pie": [
           {
            "automargin": true,
            "type": "pie"
           }
          ],
          "scatter": [
           {
            "marker": {
             "colorbar": {
              "outlinewidth": 0,
              "ticks": ""
             }
            },
            "type": "scatter"
           }
          ],
          "scatter3d": [
           {
            "line": {
             "colorbar": {
              "outlinewidth": 0,
              "ticks": ""
             }
            },
            "marker": {
             "colorbar": {
              "outlinewidth": 0,
              "ticks": ""
             }
            },
            "type": "scatter3d"
           }
          ],
          "scattercarpet": [
           {
            "marker": {
             "colorbar": {
              "outlinewidth": 0,
              "ticks": ""
             }
            },
            "type": "scattercarpet"
           }
          ],
          "scattergeo": [
           {
            "marker": {
             "colorbar": {
              "outlinewidth": 0,
              "ticks": ""
             }
            },
            "type": "scattergeo"
           }
          ],
          "scattergl": [
           {
            "marker": {
             "colorbar": {
              "outlinewidth": 0,
              "ticks": ""
             }
            },
            "type": "scattergl"
           }
          ],
          "scattermapbox": [
           {
            "marker": {
             "colorbar": {
              "outlinewidth": 0,
              "ticks": ""
             }
            },
            "type": "scattermapbox"
           }
          ],
          "scatterpolar": [
           {
            "marker": {
             "colorbar": {
              "outlinewidth": 0,
              "ticks": ""
             }
            },
            "type": "scatterpolar"
           }
          ],
          "scatterpolargl": [
           {
            "marker": {
             "colorbar": {
              "outlinewidth": 0,
              "ticks": ""
             }
            },
            "type": "scatterpolargl"
           }
          ],
          "scatterternary": [
           {
            "marker": {
             "colorbar": {
              "outlinewidth": 0,
              "ticks": ""
             }
            },
            "type": "scatterternary"
           }
          ],
          "surface": [
           {
            "colorbar": {
             "outlinewidth": 0,
             "ticks": ""
            },
            "colorscale": [
             [
              0,
              "#0d0887"
             ],
             [
              0.1111111111111111,
              "#46039f"
             ],
             [
              0.2222222222222222,
              "#7201a8"
             ],
             [
              0.3333333333333333,
              "#9c179e"
             ],
             [
              0.4444444444444444,
              "#bd3786"
             ],
             [
              0.5555555555555556,
              "#d8576b"
             ],
             [
              0.6666666666666666,
              "#ed7953"
             ],
             [
              0.7777777777777778,
              "#fb9f3a"
             ],
             [
              0.8888888888888888,
              "#fdca26"
             ],
             [
              1,
              "#f0f921"
             ]
            ],
            "type": "surface"
           }
          ],
          "table": [
           {
            "cells": {
             "fill": {
              "color": "#EBF0F8"
             },
             "line": {
              "color": "white"
             }
            },
            "header": {
             "fill": {
              "color": "#C8D4E3"
             },
             "line": {
              "color": "white"
             }
            },
            "type": "table"
           }
          ]
         },
         "layout": {
          "annotationdefaults": {
           "arrowcolor": "#2a3f5f",
           "arrowhead": 0,
           "arrowwidth": 1
          },
          "autotypenumbers": "strict",
          "coloraxis": {
           "colorbar": {
            "outlinewidth": 0,
            "ticks": ""
           }
          },
          "colorscale": {
           "diverging": [
            [
             0,
             "#8e0152"
            ],
            [
             0.1,
             "#c51b7d"
            ],
            [
             0.2,
             "#de77ae"
            ],
            [
             0.3,
             "#f1b6da"
            ],
            [
             0.4,
             "#fde0ef"
            ],
            [
             0.5,
             "#f7f7f7"
            ],
            [
             0.6,
             "#e6f5d0"
            ],
            [
             0.7,
             "#b8e186"
            ],
            [
             0.8,
             "#7fbc41"
            ],
            [
             0.9,
             "#4d9221"
            ],
            [
             1,
             "#276419"
            ]
           ],
           "sequential": [
            [
             0,
             "#0d0887"
            ],
            [
             0.1111111111111111,
             "#46039f"
            ],
            [
             0.2222222222222222,
             "#7201a8"
            ],
            [
             0.3333333333333333,
             "#9c179e"
            ],
            [
             0.4444444444444444,
             "#bd3786"
            ],
            [
             0.5555555555555556,
             "#d8576b"
            ],
            [
             0.6666666666666666,
             "#ed7953"
            ],
            [
             0.7777777777777778,
             "#fb9f3a"
            ],
            [
             0.8888888888888888,
             "#fdca26"
            ],
            [
             1,
             "#f0f921"
            ]
           ],
           "sequentialminus": [
            [
             0,
             "#0d0887"
            ],
            [
             0.1111111111111111,
             "#46039f"
            ],
            [
             0.2222222222222222,
             "#7201a8"
            ],
            [
             0.3333333333333333,
             "#9c179e"
            ],
            [
             0.4444444444444444,
             "#bd3786"
            ],
            [
             0.5555555555555556,
             "#d8576b"
            ],
            [
             0.6666666666666666,
             "#ed7953"
            ],
            [
             0.7777777777777778,
             "#fb9f3a"
            ],
            [
             0.8888888888888888,
             "#fdca26"
            ],
            [
             1,
             "#f0f921"
            ]
           ]
          },
          "colorway": [
           "#636efa",
           "#EF553B",
           "#00cc96",
           "#ab63fa",
           "#FFA15A",
           "#19d3f3",
           "#FF6692",
           "#B6E880",
           "#FF97FF",
           "#FECB52"
          ],
          "font": {
           "color": "#2a3f5f"
          },
          "geo": {
           "bgcolor": "white",
           "lakecolor": "white",
           "landcolor": "#E5ECF6",
           "showlakes": true,
           "showland": true,
           "subunitcolor": "white"
          },
          "hoverlabel": {
           "align": "left"
          },
          "hovermode": "closest",
          "mapbox": {
           "style": "light"
          },
          "paper_bgcolor": "white",
          "plot_bgcolor": "#E5ECF6",
          "polar": {
           "angularaxis": {
            "gridcolor": "white",
            "linecolor": "white",
            "ticks": ""
           },
           "bgcolor": "#E5ECF6",
           "radialaxis": {
            "gridcolor": "white",
            "linecolor": "white",
            "ticks": ""
           }
          },
          "scene": {
           "xaxis": {
            "backgroundcolor": "#E5ECF6",
            "gridcolor": "white",
            "gridwidth": 2,
            "linecolor": "white",
            "showbackground": true,
            "ticks": "",
            "zerolinecolor": "white"
           },
           "yaxis": {
            "backgroundcolor": "#E5ECF6",
            "gridcolor": "white",
            "gridwidth": 2,
            "linecolor": "white",
            "showbackground": true,
            "ticks": "",
            "zerolinecolor": "white"
           },
           "zaxis": {
            "backgroundcolor": "#E5ECF6",
            "gridcolor": "white",
            "gridwidth": 2,
            "linecolor": "white",
            "showbackground": true,
            "ticks": "",
            "zerolinecolor": "white"
           }
          },
          "shapedefaults": {
           "line": {
            "color": "#2a3f5f"
           }
          },
          "ternary": {
           "aaxis": {
            "gridcolor": "white",
            "linecolor": "white",
            "ticks": ""
           },
           "baxis": {
            "gridcolor": "white",
            "linecolor": "white",
            "ticks": ""
           },
           "bgcolor": "#E5ECF6",
           "caxis": {
            "gridcolor": "white",
            "linecolor": "white",
            "ticks": ""
           }
          },
          "title": {
           "x": 0.05
          },
          "xaxis": {
           "automargin": true,
           "gridcolor": "white",
           "linecolor": "white",
           "ticks": "",
           "title": {
            "standoff": 15
           },
           "zerolinecolor": "white",
           "zerolinewidth": 2
          },
          "yaxis": {
           "automargin": true,
           "gridcolor": "white",
           "linecolor": "white",
           "ticks": "",
           "title": {
            "standoff": 15
           },
           "zerolinecolor": "white",
           "zerolinewidth": 2
          }
         }
        },
        "title": {
         "text": "C)  Niwot Ridge, Colorado, USA"
        },
        "width": 800
       }
      }
     },
     "metadata": {},
     "output_type": "display_data"
    }
   ],
   "source": [
    "# State which site we are working with \n",
    "df = niw_events.copy(deep=True)\n",
    "\n",
    "# Some constatns \n",
    "index_vals = df['count']\n",
    "index_symbols = df['TypeSymbol']\n",
    "colorbar = 'cividis_r'\n",
    "\n",
    "# index_symbols = df['CD']\n",
    "\n",
    "fig = go.Figure()\n",
    "fig.add_trace(go.Splom(dimensions=[dict(label=nametemp, values=df['temp']),\n",
    "                                   dict(label=namewind, values=df['windspeed']),\n",
    "                                   dict(label=nameSW,   values=df['shortwave'])],\n",
    "                                   marker=dict(color=index_vals, colorscale = colorbar, symbol = index_symbols, showscale=True, line_width=2, size=12, cmin=0, cmax=12),\n",
    "                                   showlegend=False, showupperhalf=False, diagonal_visible=False))\n",
    "\n",
    "fig.update_traces(showlegend=True, legendgroup=index_symbols, selector=dict(mode='spolm'))\n",
    "\n",
    "fig.update_layout(title=nameniwot, width=800, height=700, dragmode='select')\n",
    "\n",
    "\n",
    "fig.show()"
   ]
  },
  {
   "cell_type": "code",
   "execution_count": 88,
   "id": "b8de19fa",
   "metadata": {},
   "outputs": [
    {
     "data": {
      "application/vnd.plotly.v1+json": {
       "config": {
        "plotlyServerURL": "https://plot.ly"
       },
       "data": [
        {
         "marker": {
          "cmax": 10,
          "cmin": 0,
          "color": [
           3,
           2,
           5,
           1,
           6,
           2,
           1,
           1,
           5,
           2,
           4,
           1,
           1,
           6,
           1,
           7,
           6,
           3,
           5,
           1,
           7,
           8,
           2,
           6,
           1,
           1,
           2,
           3
          ],
          "colorscale": [
           [
            0,
            "#fee838"
           ],
           [
            0.1111111111111111,
            "#e1cc55"
           ],
           [
            0.2222222222222222,
            "#c3b369"
           ],
           [
            0.3333333333333333,
            "#a59c74"
           ],
           [
            0.4444444444444444,
            "#8a8678"
           ],
           [
            0.5555555555555556,
            "#707173"
           ],
           [
            0.6666666666666666,
            "#575d6d"
           ],
           [
            0.7777777777777778,
            "#3b496c"
           ],
           [
            0.8888888888888888,
            "#123570"
           ],
           [
            1,
            "#00224e"
           ]
          ],
          "line": {
           "width": 2
          },
          "showscale": true,
          "size": 12,
          "symbol": [
           102,
           2,
           102,
           102,
           102,
           102,
           102,
           102,
           102,
           102,
           102,
           102,
           102,
           102,
           102,
           102,
           102,
           102,
           102,
           102,
           102,
           102,
           102,
           2,
           2,
           102,
           2,
           2
          ]
         },
         "mode": "markers",
         "type": "scatter",
         "x": [
          -0.45,
          2.4,
          -1.72,
          -6.85,
          -1.691666667,
          -6.9,
          -7.2,
          -12.45,
          -6.69,
          -11.9,
          -13.9,
          -8.9,
          -16.95,
          -2.7,
          -2.95,
          -8.764285714,
          0.608333333,
          1.983333333,
          0.4,
          -2.3,
          -1.164285714,
          -1.875,
          -1.475,
          1.708333333,
          1.45,
          -1.1,
          0.775,
          1.183333333
         ],
         "xaxis": "x",
         "y": [
          2.11875,
          4.805325,
          1.20006,
          1.5255,
          4.9833,
          4.2714,
          3.8646,
          5.13585,
          7.94277,
          3.686625,
          3.1908375,
          2.28825,
          3.5595,
          1.635675,
          2.69505,
          4.758107143,
          5.466375,
          5.5935,
          1.46448,
          2.89845,
          3.668464286,
          4.4748,
          3.3561,
          3.771375,
          4.5765,
          3.2544,
          6.05115,
          5.7969
         ],
         "yaxis": "y"
        },
        {
         "marker": {
          "cmax": 10,
          "cmin": 0,
          "color": [
           4,
           1,
           3,
           5,
           1,
           2,
           1,
           1,
           3,
           4,
           2,
           3,
           9,
           5,
           3,
           4,
           12,
           9,
           3,
           3,
           4,
           9,
           2,
           1,
           2,
           1,
           9,
           3
          ],
          "colorscale": [
           [
            0,
            "#fee838"
           ],
           [
            0.1111111111111111,
            "#e1cc55"
           ],
           [
            0.2222222222222222,
            "#c3b369"
           ],
           [
            0.3333333333333333,
            "#a59c74"
           ],
           [
            0.4444444444444444,
            "#8a8678"
           ],
           [
            0.5555555555555556,
            "#707173"
           ],
           [
            0.6666666666666666,
            "#575d6d"
           ],
           [
            0.7777777777777778,
            "#3b496c"
           ],
           [
            0.8888888888888888,
            "#123570"
           ],
           [
            1,
            "#00224e"
           ]
          ],
          "line": {
           "width": 2
          },
          "showscale": false,
          "size": 12,
          "symbol": [
           102,
           102,
           102,
           2,
           2,
           2,
           2,
           2,
           2,
           102,
           102,
           102,
           102,
           102,
           2,
           102,
           102,
           102,
           2,
           102,
           102,
           102,
           2,
           2,
           2,
           2,
           102,
           2
          ]
         },
         "mode": "markers",
         "type": "scatter",
         "x": [
          -8.245441667,
          -3.012491667,
          2.885173611,
          3.755580833,
          1.966270833,
          2.602745833,
          1.371179167,
          -0.3,
          2.386268056,
          -2.911902092,
          -3.262133333,
          -2.551411111,
          -2.928713889,
          1.80320057,
          6.098255556,
          -5.982351042,
          -7.076153472,
          0.439040741,
          4.259456944,
          -1.8793875,
          -3.758180208,
          0.095193696,
          1.045287413,
          -0.5075625,
          0.987025,
          3.20375,
          0.742500463,
          4.5117
         ],
         "xaxis": "x2",
         "y": [
          495.976875,
          548.1158333,
          362.0820833,
          231.930825,
          348.89625,
          668.059375,
          720.685,
          494.2308333,
          660.4209722,
          344.9870574,
          807.730625,
          686.5218056,
          283.5187083,
          731.0560601,
          758.5559722,
          311.9571875,
          65.25650694,
          680.2162963,
          553.8976389,
          759.1180556,
          125.3498833,
          705.9779433,
          858.0342233,
          461.5933333,
          503.2675,
          460.2133333,
          171.3137375,
          901.7844444
         ],
         "yaxis": "y2"
        },
        {
         "marker": {
          "cmax": 10,
          "cmin": 0,
          "color": [
           5,
           2,
           1,
           1,
           3,
           2,
           2,
           1,
           3,
           5,
           6,
           13,
           4,
           1,
           3,
           2,
           6,
           6,
           8,
           2,
           3,
           5,
           3,
           1,
           1,
           3,
           1,
           1,
           2,
           1,
           4,
           3,
           4,
           2,
           2,
           5,
           2,
           4,
           7,
           2,
           2,
           10,
           1,
           1,
           4,
           5,
           3,
           1,
           4,
           2,
           9,
           1,
           2,
           3,
           2,
           2,
           1,
           1,
           2,
           4,
           11,
           10,
           6,
           7,
           2
          ],
          "colorscale": [
           [
            0,
            "#fee838"
           ],
           [
            0.1111111111111111,
            "#e1cc55"
           ],
           [
            0.2222222222222222,
            "#c3b369"
           ],
           [
            0.3333333333333333,
            "#a59c74"
           ],
           [
            0.4444444444444444,
            "#8a8678"
           ],
           [
            0.5555555555555556,
            "#707173"
           ],
           [
            0.6666666666666666,
            "#575d6d"
           ],
           [
            0.7777777777777778,
            "#3b496c"
           ],
           [
            0.8888888888888888,
            "#123570"
           ],
           [
            1,
            "#00224e"
           ]
          ],
          "line": {
           "width": 2
          },
          "showscale": false,
          "size": 12,
          "symbol": [
           2,
           2,
           2,
           2,
           102,
           2,
           102,
           102,
           102,
           2,
           102,
           2,
           2,
           102,
           102,
           102,
           2,
           102,
           102,
           102,
           102,
           2,
           2,
           102,
           102,
           2,
           102,
           102,
           102,
           102,
           102,
           2,
           2,
           102,
           102,
           102,
           102,
           102,
           102,
           2,
           102,
           2,
           2,
           2,
           102,
           2,
           2,
           102,
           102,
           102,
           2,
           102,
           2,
           2,
           2,
           2,
           102,
           102,
           102,
           102,
           102,
           2,
           2,
           2,
           2
          ]
         },
         "mode": "markers",
         "type": "scatter",
         "x": [
          -1.5426,
          3.7175,
          -2.545,
          0.783,
          -8.328333333,
          -8.655,
          -7.8575,
          -17.62,
          -11.23833333,
          -2.53,
          -7.315,
          -4.343692308,
          -17.75875,
          -8.31,
          -6.005,
          -18.63,
          -16.625,
          -0.5085,
          -6.35125,
          -6.0925,
          1.490666667,
          3.906,
          -1.045333333,
          -3.24,
          -2.915,
          -4.235,
          -9.585,
          -13.625,
          -15.8375,
          -14.15,
          -10.44875,
          -10.62333333,
          -2.10875,
          -1.6125,
          -2.1875,
          1.0883,
          -5.42,
          -2.90875,
          1.003071429,
          -4.12,
          -7.6875,
          -5.394,
          -4.085,
          1.41,
          -1.7835,
          -1.6773,
          -3.743333333,
          -3.015,
          -3.64375,
          -9.26,
          -3.458611111,
          -2.65,
          0.68825,
          -3.586666667,
          0.78175,
          0.99875,
          -4.42,
          -4.975,
          -4.895,
          -5.0425,
          -1.041363636,
          2.596,
          1.707166667,
          -0.694714286,
          0.0165
         ],
         "xaxis": "x3",
         "y": [
          3.898,
          2.87,
          3.92,
          1.0375,
          3.178333333,
          12.7975,
          3.61,
          4.44,
          8.081666667,
          9.666,
          4.959166667,
          5.921538462,
          7.6325,
          3.835,
          4.936666667,
          2.53,
          10.7125,
          5.559166667,
          8.029375,
          5.945,
          2.938333333,
          2.255,
          6.473333333,
          6.37,
          5.775,
          9.99,
          2.745,
          2.28,
          13.255,
          11.225,
          5.35125,
          12.47833333,
          2.09875,
          2.5025,
          3.29,
          3.626,
          2.1425,
          2.12625,
          3.983571429,
          8.8,
          2.5775,
          8.3855,
          10.4,
          5.765,
          5.54875,
          2.624,
          8.143333333,
          1.895,
          7.53375,
          2.4875,
          8.665,
          3.495,
          4.045,
          2.126666667,
          1.9525,
          1.257,
          2.815,
          1.255,
          2.42,
          2.08125,
          7.459545455,
          2.3235,
          4.328333333,
          5.53,
          1.755
         ],
         "yaxis": "y3"
        },
        {
         "marker": {
          "cmax": 10,
          "cmin": 0,
          "color": [
           5,
           2,
           1,
           1,
           3,
           2,
           2,
           1,
           3,
           5,
           6,
           13,
           4,
           1,
           3,
           2,
           6,
           6,
           8,
           2,
           3,
           5,
           3,
           1,
           1,
           3,
           1,
           1,
           2,
           1,
           4,
           3,
           4,
           2,
           2,
           5,
           2,
           4,
           7,
           2,
           2,
           10,
           1,
           1,
           4,
           5,
           3,
           1,
           4,
           2,
           9,
           1,
           2,
           3,
           2,
           2,
           1,
           1,
           2,
           4,
           11,
           10,
           6,
           7,
           2
          ],
          "colorscale": [
           [
            0,
            "#fee838"
           ],
           [
            0.1111111111111111,
            "#e1cc55"
           ],
           [
            0.2222222222222222,
            "#c3b369"
           ],
           [
            0.3333333333333333,
            "#a59c74"
           ],
           [
            0.4444444444444444,
            "#8a8678"
           ],
           [
            0.5555555555555556,
            "#707173"
           ],
           [
            0.6666666666666666,
            "#575d6d"
           ],
           [
            0.7777777777777778,
            "#3b496c"
           ],
           [
            0.8888888888888888,
            "#123570"
           ],
           [
            1,
            "#00224e"
           ]
          ],
          "line": {
           "width": 2
          },
          "showscale": false,
          "size": 12,
          "symbol": [
           2,
           2,
           2,
           2,
           102,
           2,
           102,
           102,
           102,
           2,
           102,
           2,
           2,
           102,
           102,
           102,
           2,
           102,
           102,
           102,
           102,
           2,
           2,
           102,
           102,
           2,
           102,
           102,
           102,
           102,
           102,
           2,
           2,
           102,
           102,
           102,
           102,
           102,
           102,
           2,
           102,
           2,
           2,
           2,
           102,
           2,
           2,
           102,
           102,
           102,
           2,
           102,
           2,
           2,
           2,
           2,
           102,
           102,
           102,
           102,
           102,
           2,
           2,
           2,
           2
          ]
         },
         "mode": "markers",
         "type": "scatter",
         "x": [
          -1.5426,
          3.7175,
          -2.545,
          0.783,
          -8.328333333,
          -8.655,
          -7.8575,
          -17.62,
          -11.23833333,
          -2.53,
          -7.315,
          -4.343692308,
          -17.75875,
          -8.31,
          -6.005,
          -18.63,
          -16.625,
          -0.5085,
          -6.35125,
          -6.0925,
          1.490666667,
          3.906,
          -1.045333333,
          -3.24,
          -2.915,
          -4.235,
          -9.585,
          -13.625,
          -15.8375,
          -14.15,
          -10.44875,
          -10.62333333,
          -2.10875,
          -1.6125,
          -2.1875,
          1.0883,
          -5.42,
          -2.90875,
          1.003071429,
          -4.12,
          -7.6875,
          -5.394,
          -4.085,
          1.41,
          -1.7835,
          -1.6773,
          -3.743333333,
          -3.015,
          -3.64375,
          -9.26,
          -3.458611111,
          -2.65,
          0.68825,
          -3.586666667,
          0.78175,
          0.99875,
          -4.42,
          -4.975,
          -4.895,
          -5.0425,
          -1.041363636,
          2.596,
          1.707166667,
          -0.694714286,
          0.0165
         ],
         "xaxis": "x5",
         "y": [
          513.968,
          683.805,
          394.135,
          333.89,
          499.7266667,
          580.7075,
          114.895,
          61.205,
          380.1366667,
          87.5626,
          133.9991667,
          82.43123077,
          109.5125,
          32.29,
          50.52833333,
          127.745,
          388.2466667,
          56.05833333,
          73.89625,
          1.61775,
          521.0416667,
          491.201,
          605.885,
          176.225,
          66.88,
          424.4416667,
          474.965,
          18.45,
          483.17,
          633.27,
          242.1325,
          713.6266667,
          493.20875,
          509.5625,
          306.925,
          714.146,
          34.3175,
          202.5825,
          840.1735714,
          908.015,
          331.55,
          733.0865,
          794.195,
          858.98,
          862.53,
          607.258,
          566.6033333,
          11.815,
          589.23875,
          254.9625,
          816.8405556,
          130.515,
          580.93,
          472.5433333,
          308.085,
          532.8125,
          43.585,
          59.34,
          190.595,
          270.35125,
          794.8963636,
          412.7705,
          767.3541667,
          836.7271429,
          381.5375
         ],
         "yaxis": "y5"
        },
        {
         "marker": {
          "cmax": 10,
          "cmin": 0,
          "color": [
           5,
           2,
           1,
           1,
           3,
           2,
           2,
           1,
           3,
           5,
           6,
           13,
           4,
           1,
           3,
           2,
           6,
           6,
           8,
           2,
           3,
           5,
           3,
           1,
           1,
           3,
           1,
           1,
           2,
           1,
           4,
           3,
           4,
           2,
           2,
           5,
           2,
           4,
           7,
           2,
           2,
           10,
           1,
           1,
           4,
           5,
           3,
           1,
           4,
           2,
           9,
           1,
           2,
           3,
           2,
           2,
           1,
           1,
           2,
           4,
           11,
           10,
           6,
           7,
           2
          ],
          "colorscale": [
           [
            0,
            "#fee838"
           ],
           [
            0.1111111111111111,
            "#e1cc55"
           ],
           [
            0.2222222222222222,
            "#c3b369"
           ],
           [
            0.3333333333333333,
            "#a59c74"
           ],
           [
            0.4444444444444444,
            "#8a8678"
           ],
           [
            0.5555555555555556,
            "#707173"
           ],
           [
            0.6666666666666666,
            "#575d6d"
           ],
           [
            0.7777777777777778,
            "#3b496c"
           ],
           [
            0.8888888888888888,
            "#123570"
           ],
           [
            1,
            "#00224e"
           ]
          ],
          "line": {
           "width": 2
          },
          "showscale": false,
          "size": 12,
          "symbol": [
           2,
           2,
           2,
           2,
           102,
           2,
           102,
           102,
           102,
           2,
           102,
           2,
           2,
           102,
           102,
           102,
           2,
           102,
           102,
           102,
           102,
           2,
           2,
           102,
           102,
           2,
           102,
           102,
           102,
           102,
           102,
           2,
           2,
           102,
           102,
           102,
           102,
           102,
           102,
           2,
           102,
           2,
           2,
           2,
           102,
           2,
           2,
           102,
           102,
           102,
           2,
           102,
           2,
           2,
           2,
           2,
           102,
           102,
           102,
           102,
           102,
           2,
           2,
           2,
           2
          ]
         },
         "mode": "markers",
         "type": "scatter",
         "x": [
          3.898,
          2.87,
          3.92,
          1.0375,
          3.178333333,
          12.7975,
          3.61,
          4.44,
          8.081666667,
          9.666,
          4.959166667,
          5.921538462,
          7.6325,
          3.835,
          4.936666667,
          2.53,
          10.7125,
          5.559166667,
          8.029375,
          5.945,
          2.938333333,
          2.255,
          6.473333333,
          6.37,
          5.775,
          9.99,
          2.745,
          2.28,
          13.255,
          11.225,
          5.35125,
          12.47833333,
          2.09875,
          2.5025,
          3.29,
          3.626,
          2.1425,
          2.12625,
          3.983571429,
          8.8,
          2.5775,
          8.3855,
          10.4,
          5.765,
          5.54875,
          2.624,
          8.143333333,
          1.895,
          7.53375,
          2.4875,
          8.665,
          3.495,
          4.045,
          2.126666667,
          1.9525,
          1.257,
          2.815,
          1.255,
          2.42,
          2.08125,
          7.459545455,
          2.3235,
          4.328333333,
          5.53,
          1.755
         ],
         "xaxis": "x6",
         "y": [
          513.968,
          683.805,
          394.135,
          333.89,
          499.7266667,
          580.7075,
          114.895,
          61.205,
          380.1366667,
          87.5626,
          133.9991667,
          82.43123077,
          109.5125,
          32.29,
          50.52833333,
          127.745,
          388.2466667,
          56.05833333,
          73.89625,
          1.61775,
          521.0416667,
          491.201,
          605.885,
          176.225,
          66.88,
          424.4416667,
          474.965,
          18.45,
          483.17,
          633.27,
          242.1325,
          713.6266667,
          493.20875,
          509.5625,
          306.925,
          714.146,
          34.3175,
          202.5825,
          840.1735714,
          908.015,
          331.55,
          733.0865,
          794.195,
          858.98,
          862.53,
          607.258,
          566.6033333,
          11.815,
          589.23875,
          254.9625,
          816.8405556,
          130.515,
          580.93,
          472.5433333,
          308.085,
          532.8125,
          43.585,
          59.34,
          190.595,
          270.35125,
          794.8963636,
          412.7705,
          767.3541667,
          836.7271429,
          381.5375
         ],
         "yaxis": "y6"
        }
       ],
       "layout": {
        "annotations": [
         {
          "font": {
           "size": 16
          },
          "showarrow": false,
          "text": "A)  Sodankyla, Finland",
          "x": 0.225,
          "xanchor": "center",
          "xref": "paper",
          "y": 1,
          "yanchor": "bottom",
          "yref": "paper"
         },
         {
          "font": {
           "size": 16
          },
          "showarrow": false,
          "text": "B)  Davos Laret, Switzerland",
          "x": 0.775,
          "xanchor": "center",
          "xref": "paper",
          "y": 1,
          "yanchor": "bottom",
          "yref": "paper"
         },
         {
          "font": {
           "size": 16
          },
          "showarrow": false,
          "text": "C)  Niwot Ridge, Colorado, USA",
          "x": 0.225,
          "xanchor": "center",
          "xref": "paper",
          "y": 0.6399999999999999,
          "yanchor": "bottom",
          "yref": "paper"
         }
        ],
        "height": 1200,
        "showlegend": false,
        "template": {
         "data": {
          "bar": [
           {
            "error_x": {
             "color": "#2a3f5f"
            },
            "error_y": {
             "color": "#2a3f5f"
            },
            "marker": {
             "line": {
              "color": "#E5ECF6",
              "width": 0.5
             },
             "pattern": {
              "fillmode": "overlay",
              "size": 10,
              "solidity": 0.2
             }
            },
            "type": "bar"
           }
          ],
          "barpolar": [
           {
            "marker": {
             "line": {
              "color": "#E5ECF6",
              "width": 0.5
             },
             "pattern": {
              "fillmode": "overlay",
              "size": 10,
              "solidity": 0.2
             }
            },
            "type": "barpolar"
           }
          ],
          "carpet": [
           {
            "aaxis": {
             "endlinecolor": "#2a3f5f",
             "gridcolor": "white",
             "linecolor": "white",
             "minorgridcolor": "white",
             "startlinecolor": "#2a3f5f"
            },
            "baxis": {
             "endlinecolor": "#2a3f5f",
             "gridcolor": "white",
             "linecolor": "white",
             "minorgridcolor": "white",
             "startlinecolor": "#2a3f5f"
            },
            "type": "carpet"
           }
          ],
          "choropleth": [
           {
            "colorbar": {
             "outlinewidth": 0,
             "ticks": ""
            },
            "type": "choropleth"
           }
          ],
          "contour": [
           {
            "colorbar": {
             "outlinewidth": 0,
             "ticks": ""
            },
            "colorscale": [
             [
              0,
              "#0d0887"
             ],
             [
              0.1111111111111111,
              "#46039f"
             ],
             [
              0.2222222222222222,
              "#7201a8"
             ],
             [
              0.3333333333333333,
              "#9c179e"
             ],
             [
              0.4444444444444444,
              "#bd3786"
             ],
             [
              0.5555555555555556,
              "#d8576b"
             ],
             [
              0.6666666666666666,
              "#ed7953"
             ],
             [
              0.7777777777777778,
              "#fb9f3a"
             ],
             [
              0.8888888888888888,
              "#fdca26"
             ],
             [
              1,
              "#f0f921"
             ]
            ],
            "type": "contour"
           }
          ],
          "contourcarpet": [
           {
            "colorbar": {
             "outlinewidth": 0,
             "ticks": ""
            },
            "type": "contourcarpet"
           }
          ],
          "heatmap": [
           {
            "colorbar": {
             "outlinewidth": 0,
             "ticks": ""
            },
            "colorscale": [
             [
              0,
              "#0d0887"
             ],
             [
              0.1111111111111111,
              "#46039f"
             ],
             [
              0.2222222222222222,
              "#7201a8"
             ],
             [
              0.3333333333333333,
              "#9c179e"
             ],
             [
              0.4444444444444444,
              "#bd3786"
             ],
             [
              0.5555555555555556,
              "#d8576b"
             ],
             [
              0.6666666666666666,
              "#ed7953"
             ],
             [
              0.7777777777777778,
              "#fb9f3a"
             ],
             [
              0.8888888888888888,
              "#fdca26"
             ],
             [
              1,
              "#f0f921"
             ]
            ],
            "type": "heatmap"
           }
          ],
          "heatmapgl": [
           {
            "colorbar": {
             "outlinewidth": 0,
             "ticks": ""
            },
            "colorscale": [
             [
              0,
              "#0d0887"
             ],
             [
              0.1111111111111111,
              "#46039f"
             ],
             [
              0.2222222222222222,
              "#7201a8"
             ],
             [
              0.3333333333333333,
              "#9c179e"
             ],
             [
              0.4444444444444444,
              "#bd3786"
             ],
             [
              0.5555555555555556,
              "#d8576b"
             ],
             [
              0.6666666666666666,
              "#ed7953"
             ],
             [
              0.7777777777777778,
              "#fb9f3a"
             ],
             [
              0.8888888888888888,
              "#fdca26"
             ],
             [
              1,
              "#f0f921"
             ]
            ],
            "type": "heatmapgl"
           }
          ],
          "histogram": [
           {
            "marker": {
             "pattern": {
              "fillmode": "overlay",
              "size": 10,
              "solidity": 0.2
             }
            },
            "type": "histogram"
           }
          ],
          "histogram2d": [
           {
            "colorbar": {
             "outlinewidth": 0,
             "ticks": ""
            },
            "colorscale": [
             [
              0,
              "#0d0887"
             ],
             [
              0.1111111111111111,
              "#46039f"
             ],
             [
              0.2222222222222222,
              "#7201a8"
             ],
             [
              0.3333333333333333,
              "#9c179e"
             ],
             [
              0.4444444444444444,
              "#bd3786"
             ],
             [
              0.5555555555555556,
              "#d8576b"
             ],
             [
              0.6666666666666666,
              "#ed7953"
             ],
             [
              0.7777777777777778,
              "#fb9f3a"
             ],
             [
              0.8888888888888888,
              "#fdca26"
             ],
             [
              1,
              "#f0f921"
             ]
            ],
            "type": "histogram2d"
           }
          ],
          "histogram2dcontour": [
           {
            "colorbar": {
             "outlinewidth": 0,
             "ticks": ""
            },
            "colorscale": [
             [
              0,
              "#0d0887"
             ],
             [
              0.1111111111111111,
              "#46039f"
             ],
             [
              0.2222222222222222,
              "#7201a8"
             ],
             [
              0.3333333333333333,
              "#9c179e"
             ],
             [
              0.4444444444444444,
              "#bd3786"
             ],
             [
              0.5555555555555556,
              "#d8576b"
             ],
             [
              0.6666666666666666,
              "#ed7953"
             ],
             [
              0.7777777777777778,
              "#fb9f3a"
             ],
             [
              0.8888888888888888,
              "#fdca26"
             ],
             [
              1,
              "#f0f921"
             ]
            ],
            "type": "histogram2dcontour"
           }
          ],
          "mesh3d": [
           {
            "colorbar": {
             "outlinewidth": 0,
             "ticks": ""
            },
            "type": "mesh3d"
           }
          ],
          "parcoords": [
           {
            "line": {
             "colorbar": {
              "outlinewidth": 0,
              "ticks": ""
             }
            },
            "type": "parcoords"
           }
          ],
          "pie": [
           {
            "automargin": true,
            "type": "pie"
           }
          ],
          "scatter": [
           {
            "marker": {
             "colorbar": {
              "outlinewidth": 0,
              "ticks": ""
             }
            },
            "type": "scatter"
           }
          ],
          "scatter3d": [
           {
            "line": {
             "colorbar": {
              "outlinewidth": 0,
              "ticks": ""
             }
            },
            "marker": {
             "colorbar": {
              "outlinewidth": 0,
              "ticks": ""
             }
            },
            "type": "scatter3d"
           }
          ],
          "scattercarpet": [
           {
            "marker": {
             "colorbar": {
              "outlinewidth": 0,
              "ticks": ""
             }
            },
            "type": "scattercarpet"
           }
          ],
          "scattergeo": [
           {
            "marker": {
             "colorbar": {
              "outlinewidth": 0,
              "ticks": ""
             }
            },
            "type": "scattergeo"
           }
          ],
          "scattergl": [
           {
            "marker": {
             "colorbar": {
              "outlinewidth": 0,
              "ticks": ""
             }
            },
            "type": "scattergl"
           }
          ],
          "scattermapbox": [
           {
            "marker": {
             "colorbar": {
              "outlinewidth": 0,
              "ticks": ""
             }
            },
            "type": "scattermapbox"
           }
          ],
          "scatterpolar": [
           {
            "marker": {
             "colorbar": {
              "outlinewidth": 0,
              "ticks": ""
             }
            },
            "type": "scatterpolar"
           }
          ],
          "scatterpolargl": [
           {
            "marker": {
             "colorbar": {
              "outlinewidth": 0,
              "ticks": ""
             }
            },
            "type": "scatterpolargl"
           }
          ],
          "scatterternary": [
           {
            "marker": {
             "colorbar": {
              "outlinewidth": 0,
              "ticks": ""
             }
            },
            "type": "scatterternary"
           }
          ],
          "surface": [
           {
            "colorbar": {
             "outlinewidth": 0,
             "ticks": ""
            },
            "colorscale": [
             [
              0,
              "#0d0887"
             ],
             [
              0.1111111111111111,
              "#46039f"
             ],
             [
              0.2222222222222222,
              "#7201a8"
             ],
             [
              0.3333333333333333,
              "#9c179e"
             ],
             [
              0.4444444444444444,
              "#bd3786"
             ],
             [
              0.5555555555555556,
              "#d8576b"
             ],
             [
              0.6666666666666666,
              "#ed7953"
             ],
             [
              0.7777777777777778,
              "#fb9f3a"
             ],
             [
              0.8888888888888888,
              "#fdca26"
             ],
             [
              1,
              "#f0f921"
             ]
            ],
            "type": "surface"
           }
          ],
          "table": [
           {
            "cells": {
             "fill": {
              "color": "#EBF0F8"
             },
             "line": {
              "color": "white"
             }
            },
            "header": {
             "fill": {
              "color": "#C8D4E3"
             },
             "line": {
              "color": "white"
             }
            },
            "type": "table"
           }
          ]
         },
         "layout": {
          "annotationdefaults": {
           "arrowcolor": "#2a3f5f",
           "arrowhead": 0,
           "arrowwidth": 1
          },
          "autotypenumbers": "strict",
          "coloraxis": {
           "colorbar": {
            "outlinewidth": 0,
            "ticks": ""
           }
          },
          "colorscale": {
           "diverging": [
            [
             0,
             "#8e0152"
            ],
            [
             0.1,
             "#c51b7d"
            ],
            [
             0.2,
             "#de77ae"
            ],
            [
             0.3,
             "#f1b6da"
            ],
            [
             0.4,
             "#fde0ef"
            ],
            [
             0.5,
             "#f7f7f7"
            ],
            [
             0.6,
             "#e6f5d0"
            ],
            [
             0.7,
             "#b8e186"
            ],
            [
             0.8,
             "#7fbc41"
            ],
            [
             0.9,
             "#4d9221"
            ],
            [
             1,
             "#276419"
            ]
           ],
           "sequential": [
            [
             0,
             "#0d0887"
            ],
            [
             0.1111111111111111,
             "#46039f"
            ],
            [
             0.2222222222222222,
             "#7201a8"
            ],
            [
             0.3333333333333333,
             "#9c179e"
            ],
            [
             0.4444444444444444,
             "#bd3786"
            ],
            [
             0.5555555555555556,
             "#d8576b"
            ],
            [
             0.6666666666666666,
             "#ed7953"
            ],
            [
             0.7777777777777778,
             "#fb9f3a"
            ],
            [
             0.8888888888888888,
             "#fdca26"
            ],
            [
             1,
             "#f0f921"
            ]
           ],
           "sequentialminus": [
            [
             0,
             "#0d0887"
            ],
            [
             0.1111111111111111,
             "#46039f"
            ],
            [
             0.2222222222222222,
             "#7201a8"
            ],
            [
             0.3333333333333333,
             "#9c179e"
            ],
            [
             0.4444444444444444,
             "#bd3786"
            ],
            [
             0.5555555555555556,
             "#d8576b"
            ],
            [
             0.6666666666666666,
             "#ed7953"
            ],
            [
             0.7777777777777778,
             "#fb9f3a"
            ],
            [
             0.8888888888888888,
             "#fdca26"
            ],
            [
             1,
             "#f0f921"
            ]
           ]
          },
          "colorway": [
           "#636efa",
           "#EF553B",
           "#00cc96",
           "#ab63fa",
           "#FFA15A",
           "#19d3f3",
           "#FF6692",
           "#B6E880",
           "#FF97FF",
           "#FECB52"
          ],
          "font": {
           "color": "#2a3f5f"
          },
          "geo": {
           "bgcolor": "white",
           "lakecolor": "white",
           "landcolor": "#E5ECF6",
           "showlakes": true,
           "showland": true,
           "subunitcolor": "white"
          },
          "hoverlabel": {
           "align": "left"
          },
          "hovermode": "closest",
          "mapbox": {
           "style": "light"
          },
          "paper_bgcolor": "white",
          "plot_bgcolor": "#E5ECF6",
          "polar": {
           "angularaxis": {
            "gridcolor": "white",
            "linecolor": "white",
            "ticks": ""
           },
           "bgcolor": "#E5ECF6",
           "radialaxis": {
            "gridcolor": "white",
            "linecolor": "white",
            "ticks": ""
           }
          },
          "scene": {
           "xaxis": {
            "backgroundcolor": "#E5ECF6",
            "gridcolor": "white",
            "gridwidth": 2,
            "linecolor": "white",
            "showbackground": true,
            "ticks": "",
            "zerolinecolor": "white"
           },
           "yaxis": {
            "backgroundcolor": "#E5ECF6",
            "gridcolor": "white",
            "gridwidth": 2,
            "linecolor": "white",
            "showbackground": true,
            "ticks": "",
            "zerolinecolor": "white"
           },
           "zaxis": {
            "backgroundcolor": "#E5ECF6",
            "gridcolor": "white",
            "gridwidth": 2,
            "linecolor": "white",
            "showbackground": true,
            "ticks": "",
            "zerolinecolor": "white"
           }
          },
          "shapedefaults": {
           "line": {
            "color": "#2a3f5f"
           }
          },
          "ternary": {
           "aaxis": {
            "gridcolor": "white",
            "linecolor": "white",
            "ticks": ""
           },
           "baxis": {
            "gridcolor": "white",
            "linecolor": "white",
            "ticks": ""
           },
           "bgcolor": "#E5ECF6",
           "caxis": {
            "gridcolor": "white",
            "linecolor": "white",
            "ticks": ""
           }
          },
          "title": {
           "x": 0.05
          },
          "xaxis": {
           "automargin": true,
           "gridcolor": "white",
           "linecolor": "white",
           "ticks": "",
           "title": {
            "standoff": 15
           },
           "zerolinecolor": "white",
           "zerolinewidth": 2
          },
          "yaxis": {
           "automargin": true,
           "gridcolor": "white",
           "linecolor": "white",
           "ticks": "",
           "title": {
            "standoff": 15
           },
           "zerolinecolor": "white",
           "zerolinewidth": 2
          }
         }
        },
        "title": {
         "text": ""
        },
        "width": 1000,
        "xaxis": {
         "anchor": "y",
         "domain": [
          0,
          0.45
         ],
         "range": [
          -20,
          8
         ],
         "title": {
          "text": "Air Temperature (C)"
         }
        },
        "xaxis2": {
         "anchor": "y2",
         "domain": [
          0.55,
          1
         ],
         "range": [
          -20,
          8
         ],
         "title": {
          "text": "Air Temperature (C)"
         }
        },
        "xaxis3": {
         "anchor": "y3",
         "domain": [
          0,
          0.45
         ],
         "range": [
          -20,
          8
         ],
         "title": {
          "text": "Air Temperature (C)"
         }
        },
        "xaxis4": {
         "anchor": "y4",
         "domain": [
          0.55,
          1
         ]
        },
        "xaxis5": {
         "anchor": "y5",
         "domain": [
          0,
          0.45
         ],
         "range": [
          -20,
          8
         ],
         "title": {
          "text": "Air Temperature (C)"
         }
        },
        "xaxis6": {
         "anchor": "y6",
         "domain": [
          0.55,
          1
         ],
         "range": [
          -0.5,
          15
         ],
         "title": {
          "text": "Wind Speed (m/s)"
         }
        },
        "yaxis": {
         "anchor": "x",
         "domain": [
          0.72,
          1
         ],
         "range": [
          -0.5,
          15
         ],
         "title": {
          "text": "Wind Speed (m/s)"
         }
        },
        "yaxis2": {
         "anchor": "x2",
         "domain": [
          0.72,
          1
         ],
         "range": [
          -50,
          1200
         ],
         "title": {
          "text": "Shortwave (W/m2)"
         }
        },
        "yaxis3": {
         "anchor": "x3",
         "domain": [
          0.36,
          0.6399999999999999
         ],
         "range": [
          -0.5,
          15
         ],
         "title": {
          "text": "Wind Speed (m/s)"
         }
        },
        "yaxis4": {
         "anchor": "x4",
         "domain": [
          0.36,
          0.6399999999999999
         ]
        },
        "yaxis5": {
         "anchor": "x5",
         "domain": [
          0,
          0.27999999999999997
         ],
         "range": [
          -50,
          1200
         ],
         "title": {
          "text": "Shortwave (W/m2)"
         }
        },
        "yaxis6": {
         "anchor": "x6",
         "domain": [
          0,
          0.27999999999999997
         ],
         "range": [
          -50,
          1200
         ],
         "title": {
          "text": "Shortwave (W/m2)"
         }
        }
       }
      }
     },
     "metadata": {},
     "output_type": "display_data"
    }
   ],
   "source": [
    "fig = make_subplots(rows=3, cols=2, \n",
    "                    subplot_titles=(namesod, namelaret, nameniwot), \n",
    "                    shared_xaxes=False, shared_yaxes=False, \n",
    "                    vertical_spacing=0.08, horizontal_spacing=0.1,\n",
    ")\n",
    "\n",
    "linewidth = 2\n",
    "markersize = 12\n",
    "colorbar = 'cividis_r'\n",
    "cmin = 0 \n",
    "cmax = 10\n",
    "\n",
    "# Sodankyla (only temp x wind)\n",
    "fig.add_trace(\n",
    "    go.Scatter(\n",
    "        x = sod_events['temp'],\n",
    "        y = sod_events['windspeed'],\n",
    "        mode='markers',\n",
    "        marker=dict(\n",
    "        size=markersize,\n",
    "        color=sod_events['count'], \n",
    "        colorscale=colorbar, \n",
    "        symbol=sod_events['TypeSymbol'],\n",
    "        showscale=True,\n",
    "        cmin=cmin, cmax=cmax,\n",
    "        line=dict(width=linewidth),\n",
    "        )\n",
    "    ), row=1, col=1\n",
    ")\n",
    "\n",
    "fig.update_xaxes(title_text = nametemp, range=[-20,8], row=1, col=1) \n",
    "fig.update_yaxes(title_text = namewind, range=[-.5,15], row=1, col=1) \n",
    "\n",
    "# Davos, Laret (only temp x sw)\n",
    "fig.add_trace(\n",
    "    go.Scatter(\n",
    "        x = opn_events['temp'],\n",
    "        y = opn_events['shortwave'],\n",
    "        mode='markers',\n",
    "        marker=dict(\n",
    "        size=markersize,\n",
    "        color=opn_events['count'], \n",
    "        colorscale=colorbar, \n",
    "        symbol=opn_events['TypeSymbol'],\n",
    "        showscale=False,\n",
    "        cmin=cmin, cmax=cmax,\n",
    "        line=dict(width=linewidth),\n",
    "        )\n",
    "    ), row=1, col=2\n",
    ")\n",
    "\n",
    "fig.update_xaxes(title_text = nametemp, range=[-20,8], row=1, col=2) \n",
    "fig.update_yaxes(title_text = nameSW, range=[-50,1200], row=1, col=2)\n",
    "\n",
    "\n",
    "# Niwot, full scatter matrix \n",
    "fig.add_trace(\n",
    "    go.Scatter(\n",
    "        x = niw_events['temp'],\n",
    "        y = niw_events['windspeed'],\n",
    "        mode='markers',\n",
    "        marker=dict(\n",
    "        size=markersize,\n",
    "        color=niw_events['count'], \n",
    "        colorscale=colorbar, \n",
    "        symbol=niw_events['TypeSymbol'],\n",
    "        showscale=False,\n",
    "        cmin=cmin, cmax=cmax,\n",
    "        line=dict(width=linewidth),\n",
    "        )\n",
    "    ), row=2, col=1\n",
    ")\n",
    "\n",
    "fig.update_xaxes(title_text = nametemp, range=[-20,8], row=2, col=1) \n",
    "fig.update_yaxes(title_text = namewind, range=[-.5,15], row=2, col=1) \n",
    "\n",
    "fig.add_trace(\n",
    "    go.Scatter(\n",
    "        x = niw_events['temp'],\n",
    "        y = niw_events['shortwave'],\n",
    "        mode='markers',\n",
    "        marker=dict(\n",
    "        size=markersize,\n",
    "        color=niw_events['count'], \n",
    "        colorscale=colorbar, \n",
    "        symbol=niw_events['TypeSymbol'],\n",
    "        showscale=False,\n",
    "        cmin=cmin, cmax=cmax,\n",
    "        line=dict(width=linewidth),\n",
    "        )\n",
    "    ), row=3, col=1\n",
    ")\n",
    "\n",
    "fig.update_xaxes(title_text = nametemp, range=[-20,8], row=3, col=1) \n",
    "fig.update_yaxes(title_text = nameSW, range=[-50,1200], row=3, col=1)\n",
    "\n",
    "fig.add_trace(\n",
    "    go.Scatter(\n",
    "        x = niw_events['windspeed'],\n",
    "        y = niw_events['shortwave'],\n",
    "        mode='markers',\n",
    "        marker=dict(\n",
    "        size=markersize,\n",
    "        color=niw_events['count'], \n",
    "        colorscale=colorbar, \n",
    "        symbol=niw_events['TypeSymbol'],\n",
    "        showscale=False,\n",
    "        cmin=cmin, cmax=cmax,\n",
    "        line=dict(width=linewidth),\n",
    "        )\n",
    "    ), row=3, col=2\n",
    ")\n",
    "\n",
    "# Update labels and titles \n",
    "\n",
    "# this works but it looks weird.. so removing for now (and it somehow removes the plot titles, weird)\n",
    "# fig.update_layout(\n",
    "#     annotations=[\n",
    "#         dict(\n",
    "#             text=\"duration of unloading event (hours)\",\n",
    "#             font_size=18,\n",
    "#             font_family='arial',\n",
    "#             # font_color='black',\n",
    "#             textangle=90,\n",
    "#             showarrow=True,\n",
    "#             xref=\"paper\",\n",
    "#             yref=\"paper\",\n",
    "#             x=1.1,\n",
    "#             y=0.5,\n",
    "#         )\n",
    "#     ]\n",
    "# )\n",
    "\n",
    "fig.update_xaxes(title_text = namewind, range=[-.5,15], row=3, col=2) \n",
    "fig.update_yaxes(title_text = nameSW, range=[-50,1200], row=3, col=2)\n",
    "\n",
    "fig.update_layout(title='', width=1000, height=1200, showlegend=False)\n",
    "\n",
    "\n",
    "\n",
    "fig.show()"
   ]
  },
  {
   "cell_type": "markdown",
   "id": "50679595",
   "metadata": {},
   "source": [
    "## Put all the sites together in a single scatter plot"
   ]
  },
  {
   "cell_type": "code",
   "execution_count": 89,
   "id": "9d36147a",
   "metadata": {},
   "outputs": [],
   "source": [
    "# alldf = pd.DataFrame()\n",
    "# alldf\n",
    "\n",
    "# alldf['allcount'] = niw_events['count']\n",
    "# alldf['alltemp'] = niw_events['temp']\n",
    "# alldf['allsw'] = niw_events['shortwave']\n",
    "# alldf['allwind'] = niw_events['windspeed']\n",
    "# alldf['allsymbol'] = niw_events['TypeSymbol']\n",
    "# alldf = alldf.reset_index(drop=True)\n",
    "# alldf\n",
    "\n",
    "# don't need to do any of this, just use concat "
   ]
  },
  {
   "cell_type": "code",
   "execution_count": 90,
   "id": "aef3eace",
   "metadata": {},
   "outputs": [
    {
     "data": {
      "text/html": [
       "<div>\n",
       "<style scoped>\n",
       "    .dataframe tbody tr th:only-of-type {\n",
       "        vertical-align: middle;\n",
       "    }\n",
       "\n",
       "    .dataframe tbody tr th {\n",
       "        vertical-align: top;\n",
       "    }\n",
       "\n",
       "    .dataframe thead th {\n",
       "        text-align: right;\n",
       "    }\n",
       "</style>\n",
       "<table border=\"1\" class=\"dataframe\">\n",
       "  <thead>\n",
       "    <tr style=\"text-align: right;\">\n",
       "      <th></th>\n",
       "      <th>event</th>\n",
       "      <th>time_min</th>\n",
       "      <th>time_max</th>\n",
       "      <th>count</th>\n",
       "      <th>shortwave</th>\n",
       "      <th>temp</th>\n",
       "      <th>windspeed</th>\n",
       "      <th>CD</th>\n",
       "      <th>Type</th>\n",
       "      <th>TypeSymbol</th>\n",
       "    </tr>\n",
       "    <tr>\n",
       "      <th>datetime</th>\n",
       "      <th></th>\n",
       "      <th></th>\n",
       "      <th></th>\n",
       "      <th></th>\n",
       "      <th></th>\n",
       "      <th></th>\n",
       "      <th></th>\n",
       "      <th></th>\n",
       "      <th></th>\n",
       "      <th></th>\n",
       "    </tr>\n",
       "  </thead>\n",
       "  <tbody>\n",
       "    <tr>\n",
       "      <th>2016-10-06 15:00:00</th>\n",
       "      <td>2</td>\n",
       "      <td>10/6/2016 11:00</td>\n",
       "      <td>10/6/2016 15:00</td>\n",
       "      <td>5</td>\n",
       "      <td>513.968000</td>\n",
       "      <td>-1.542600</td>\n",
       "      <td>3.898000</td>\n",
       "      <td>0.0</td>\n",
       "      <td>2.0</td>\n",
       "      <td>2.0</td>\n",
       "    </tr>\n",
       "    <tr>\n",
       "      <th>2016-10-12 10:00:00</th>\n",
       "      <td>4</td>\n",
       "      <td>10/12/2016 9:00</td>\n",
       "      <td>10/12/2016 10:00</td>\n",
       "      <td>2</td>\n",
       "      <td>683.805000</td>\n",
       "      <td>3.717500</td>\n",
       "      <td>2.870000</td>\n",
       "      <td>0.0</td>\n",
       "      <td>2.0</td>\n",
       "      <td>2.0</td>\n",
       "    </tr>\n",
       "    <tr>\n",
       "      <th>2016-10-19 09:00:00</th>\n",
       "      <td>6</td>\n",
       "      <td>10/19/2016 9:00</td>\n",
       "      <td>10/19/2016 9:00</td>\n",
       "      <td>1</td>\n",
       "      <td>394.135000</td>\n",
       "      <td>-2.545000</td>\n",
       "      <td>3.920000</td>\n",
       "      <td>0.0</td>\n",
       "      <td>2.0</td>\n",
       "      <td>2.0</td>\n",
       "    </tr>\n",
       "    <tr>\n",
       "      <th>2016-11-02 08:00:00</th>\n",
       "      <td>8</td>\n",
       "      <td>11/2/2016 8:00</td>\n",
       "      <td>11/2/2016 8:00</td>\n",
       "      <td>1</td>\n",
       "      <td>333.890000</td>\n",
       "      <td>0.783000</td>\n",
       "      <td>1.037500</td>\n",
       "      <td>0.0</td>\n",
       "      <td>2.0</td>\n",
       "      <td>2.0</td>\n",
       "    </tr>\n",
       "    <tr>\n",
       "      <th>2016-11-18 14:00:00</th>\n",
       "      <td>10</td>\n",
       "      <td>11/18/2016 12:00</td>\n",
       "      <td>11/18/2016 14:00</td>\n",
       "      <td>3</td>\n",
       "      <td>499.726667</td>\n",
       "      <td>-8.328333</td>\n",
       "      <td>3.178333</td>\n",
       "      <td>0.0</td>\n",
       "      <td>1.0</td>\n",
       "      <td>102.0</td>\n",
       "    </tr>\n",
       "    <tr>\n",
       "      <th>...</th>\n",
       "      <td>...</td>\n",
       "      <td>...</td>\n",
       "      <td>...</td>\n",
       "      <td>...</td>\n",
       "      <td>...</td>\n",
       "      <td>...</td>\n",
       "      <td>...</td>\n",
       "      <td>...</td>\n",
       "      <td>...</td>\n",
       "      <td>...</td>\n",
       "    </tr>\n",
       "    <tr>\n",
       "      <th>2021-04-18 09:00:00</th>\n",
       "      <td>57</td>\n",
       "      <td>4/18/2021 9:00</td>\n",
       "      <td>4/18/2021 9:00</td>\n",
       "      <td>1</td>\n",
       "      <td>461.593333</td>\n",
       "      <td>-0.507563</td>\n",
       "      <td>1.624342</td>\n",
       "      <td>0.0</td>\n",
       "      <td>2.0</td>\n",
       "      <td>2.0</td>\n",
       "    </tr>\n",
       "    <tr>\n",
       "      <th>2021-04-19 11:00:00</th>\n",
       "      <td>59</td>\n",
       "      <td>4/19/2021 10:00</td>\n",
       "      <td>4/19/2021 11:00</td>\n",
       "      <td>2</td>\n",
       "      <td>503.267500</td>\n",
       "      <td>0.987025</td>\n",
       "      <td>2.005967</td>\n",
       "      <td>0.0</td>\n",
       "      <td>2.0</td>\n",
       "      <td>2.0</td>\n",
       "    </tr>\n",
       "    <tr>\n",
       "      <th>2021-04-22 08:00:00</th>\n",
       "      <td>61</td>\n",
       "      <td>4/22/2021 8:00</td>\n",
       "      <td>4/22/2021 8:00</td>\n",
       "      <td>1</td>\n",
       "      <td>460.213333</td>\n",
       "      <td>3.203750</td>\n",
       "      <td>1.560375</td>\n",
       "      <td>0.0</td>\n",
       "      <td>2.0</td>\n",
       "      <td>2.0</td>\n",
       "    </tr>\n",
       "    <tr>\n",
       "      <th>2021-05-02 19:00:00</th>\n",
       "      <td>63</td>\n",
       "      <td>5/2/2021 11:00</td>\n",
       "      <td>5/2/2021 19:00</td>\n",
       "      <td>9</td>\n",
       "      <td>171.313738</td>\n",
       "      <td>0.742500</td>\n",
       "      <td>1.618489</td>\n",
       "      <td>0.0</td>\n",
       "      <td>1.0</td>\n",
       "      <td>102.0</td>\n",
       "    </tr>\n",
       "    <tr>\n",
       "      <th>2021-05-03 11:00:00</th>\n",
       "      <td>65</td>\n",
       "      <td>5/3/2021 9:00</td>\n",
       "      <td>5/3/2021 11:00</td>\n",
       "      <td>3</td>\n",
       "      <td>901.784444</td>\n",
       "      <td>4.511700</td>\n",
       "      <td>1.598276</td>\n",
       "      <td>0.0</td>\n",
       "      <td>2.0</td>\n",
       "      <td>2.0</td>\n",
       "    </tr>\n",
       "  </tbody>\n",
       "</table>\n",
       "<p>121 rows × 10 columns</p>\n",
       "</div>"
      ],
      "text/plain": [
       "                     event          time_min          time_max  count  \\\n",
       "datetime                                                                \n",
       "2016-10-06 15:00:00      2   10/6/2016 11:00   10/6/2016 15:00      5   \n",
       "2016-10-12 10:00:00      4   10/12/2016 9:00  10/12/2016 10:00      2   \n",
       "2016-10-19 09:00:00      6   10/19/2016 9:00   10/19/2016 9:00      1   \n",
       "2016-11-02 08:00:00      8    11/2/2016 8:00    11/2/2016 8:00      1   \n",
       "2016-11-18 14:00:00     10  11/18/2016 12:00  11/18/2016 14:00      3   \n",
       "...                    ...               ...               ...    ...   \n",
       "2021-04-18 09:00:00     57    4/18/2021 9:00    4/18/2021 9:00      1   \n",
       "2021-04-19 11:00:00     59   4/19/2021 10:00   4/19/2021 11:00      2   \n",
       "2021-04-22 08:00:00     61    4/22/2021 8:00    4/22/2021 8:00      1   \n",
       "2021-05-02 19:00:00     63    5/2/2021 11:00    5/2/2021 19:00      9   \n",
       "2021-05-03 11:00:00     65     5/3/2021 9:00    5/3/2021 11:00      3   \n",
       "\n",
       "                      shortwave      temp  windspeed   CD  Type  TypeSymbol  \n",
       "datetime                                                                     \n",
       "2016-10-06 15:00:00  513.968000 -1.542600   3.898000  0.0   2.0         2.0  \n",
       "2016-10-12 10:00:00  683.805000  3.717500   2.870000  0.0   2.0         2.0  \n",
       "2016-10-19 09:00:00  394.135000 -2.545000   3.920000  0.0   2.0         2.0  \n",
       "2016-11-02 08:00:00  333.890000  0.783000   1.037500  0.0   2.0         2.0  \n",
       "2016-11-18 14:00:00  499.726667 -8.328333   3.178333  0.0   1.0       102.0  \n",
       "...                         ...       ...        ...  ...   ...         ...  \n",
       "2021-04-18 09:00:00  461.593333 -0.507563   1.624342  0.0   2.0         2.0  \n",
       "2021-04-19 11:00:00  503.267500  0.987025   2.005967  0.0   2.0         2.0  \n",
       "2021-04-22 08:00:00  460.213333  3.203750   1.560375  0.0   2.0         2.0  \n",
       "2021-05-02 19:00:00  171.313738  0.742500   1.618489  0.0   1.0       102.0  \n",
       "2021-05-03 11:00:00  901.784444  4.511700   1.598276  0.0   2.0         2.0  \n",
       "\n",
       "[121 rows x 10 columns]"
      ]
     },
     "execution_count": 90,
     "metadata": {},
     "output_type": "execute_result"
    }
   ],
   "source": [
    "df_all = pd.concat([niw_events, sod_events, opn_events])\n",
    "df_all"
   ]
  },
  {
   "cell_type": "code",
   "execution_count": 91,
   "id": "5a58f3d5",
   "metadata": {},
   "outputs": [
    {
     "data": {
      "application/vnd.plotly.v1+json": {
       "config": {
        "plotlyServerURL": "https://plot.ly"
       },
       "data": [
        {
         "diagonal": {
          "visible": false
         },
         "dimensions": [
          {
           "label": "Air Temperature (C)",
           "values": [
            -1.5426,
            3.7175,
            -2.545,
            0.783,
            -8.328333333,
            -8.655,
            -7.8575,
            -17.62,
            -11.23833333,
            -2.53,
            -7.315,
            -4.343692308,
            -17.75875,
            -8.31,
            -6.005,
            -18.63,
            -16.625,
            -0.5085,
            -6.35125,
            -6.0925,
            1.490666667,
            3.906,
            -1.045333333,
            -3.24,
            -2.915,
            -4.235,
            -9.585,
            -13.625,
            -15.8375,
            -14.15,
            -10.44875,
            -10.62333333,
            -2.10875,
            -1.6125,
            -2.1875,
            1.0883,
            -5.42,
            -2.90875,
            1.003071429,
            -4.12,
            -7.6875,
            -5.394,
            -4.085,
            1.41,
            -1.7835,
            -1.6773,
            -3.743333333,
            -3.015,
            -3.64375,
            -9.26,
            -3.458611111,
            -2.65,
            0.68825,
            -3.586666667,
            0.78175,
            0.99875,
            -4.42,
            -4.975,
            -4.895,
            -5.0425,
            -1.041363636,
            2.596,
            1.707166667,
            -0.694714286,
            0.0165,
            -0.45,
            2.4,
            -1.72,
            -6.85,
            -1.691666667,
            -6.9,
            -7.2,
            -12.45,
            -6.69,
            -11.9,
            -13.9,
            -8.9,
            -16.95,
            -2.7,
            -2.95,
            -8.764285714,
            0.608333333,
            1.983333333,
            0.4,
            -2.3,
            -1.164285714,
            -1.875,
            -1.475,
            1.708333333,
            1.45,
            -1.1,
            0.775,
            1.183333333,
            -8.245441667,
            -3.012491667,
            2.885173611,
            3.755580833,
            1.966270833,
            2.602745833,
            1.371179167,
            -0.3,
            2.386268056,
            -2.911902092,
            -3.262133333,
            -2.551411111,
            -2.928713889,
            1.80320057,
            6.098255556,
            -5.982351042,
            -7.076153472,
            0.439040741,
            4.259456944,
            -1.8793875,
            -3.758180208,
            0.095193696,
            1.045287413,
            -0.5075625,
            0.987025,
            3.20375,
            0.742500463,
            4.5117
           ]
          },
          {
           "label": "Wind Speed (m/s)",
           "values": [
            3.898,
            2.87,
            3.92,
            1.0375,
            3.178333333,
            12.7975,
            3.61,
            4.44,
            8.081666667,
            9.666,
            4.959166667,
            5.921538462,
            7.6325,
            3.835,
            4.936666667,
            2.53,
            10.7125,
            5.559166667,
            8.029375,
            5.945,
            2.938333333,
            2.255,
            6.473333333,
            6.37,
            5.775,
            9.99,
            2.745,
            2.28,
            13.255,
            11.225,
            5.35125,
            12.47833333,
            2.09875,
            2.5025,
            3.29,
            3.626,
            2.1425,
            2.12625,
            3.983571429,
            8.8,
            2.5775,
            8.3855,
            10.4,
            5.765,
            5.54875,
            2.624,
            8.143333333,
            1.895,
            7.53375,
            2.4875,
            8.665,
            3.495,
            4.045,
            2.126666667,
            1.9525,
            1.257,
            2.815,
            1.255,
            2.42,
            2.08125,
            7.459545455,
            2.3235,
            4.328333333,
            5.53,
            1.755,
            2.11875,
            4.805325,
            1.20006,
            1.5255,
            4.9833,
            4.2714,
            3.8646,
            5.13585,
            7.94277,
            3.686625,
            3.1908375,
            2.28825,
            3.5595,
            1.635675,
            2.69505,
            4.758107143,
            5.466375,
            5.5935,
            1.46448,
            2.89845,
            3.668464286,
            4.4748,
            3.3561,
            3.771375,
            4.5765,
            3.2544,
            6.05115,
            5.7969,
            2.843723958,
            1.548304167,
            1.2982875,
            1.672135,
            1.629116667,
            1.292145833,
            2.497654167,
            1.980245833,
            2.390784722,
            2.492476234,
            2.676545833,
            2.280898611,
            2.6998875,
            2.125788935,
            2.046325,
            1.994790625,
            1.885221528,
            1.799315741,
            2.772544444,
            2.835897222,
            2.128888542,
            2.10706777,
            2.590837823,
            1.624341667,
            2.005966667,
            1.560375,
            1.618489352,
            1.598276389
           ]
          },
          {
           "label": "Shortwave (W/m2)",
           "values": [
            513.968,
            683.805,
            394.135,
            333.89,
            499.7266667,
            580.7075,
            114.895,
            61.205,
            380.1366667,
            87.5626,
            133.9991667,
            82.43123077,
            109.5125,
            32.29,
            50.52833333,
            127.745,
            388.2466667,
            56.05833333,
            73.89625,
            1.61775,
            521.0416667,
            491.201,
            605.885,
            176.225,
            66.88,
            424.4416667,
            474.965,
            18.45,
            483.17,
            633.27,
            242.1325,
            713.6266667,
            493.20875,
            509.5625,
            306.925,
            714.146,
            34.3175,
            202.5825,
            840.1735714,
            908.015,
            331.55,
            733.0865,
            794.195,
            858.98,
            862.53,
            607.258,
            566.6033333,
            11.815,
            589.23875,
            254.9625,
            816.8405556,
            130.515,
            580.93,
            472.5433333,
            308.085,
            532.8125,
            43.585,
            59.34,
            190.595,
            270.35125,
            794.8963636,
            412.7705,
            767.3541667,
            836.7271429,
            381.5375,
            121.4333333,
            111.825,
            1.06,
            1.1,
            0.641666667,
            2.875,
            0,
            0,
            1.16,
            6.275,
            20.5125,
            17,
            7.95,
            37.30833333,
            20.5,
            29.52857143,
            81.04166667,
            90.71666667,
            138,
            36.95,
            257.5571429,
            119.7,
            145.025,
            331.925,
            224.85,
            0.7,
            390.25,
            162.6,
            495.976875,
            548.1158333,
            362.0820833,
            231.930825,
            348.89625,
            668.059375,
            720.685,
            494.2308333,
            660.4209722,
            344.9870574,
            807.730625,
            686.5218056,
            283.5187083,
            731.0560601,
            758.5559722,
            311.9571875,
            65.25650694,
            680.2162963,
            553.8976389,
            759.1180556,
            125.3498833,
            705.9779433,
            858.0342233,
            461.5933333,
            503.2675,
            460.2133333,
            171.3137375,
            901.7844444
           ]
          }
         ],
         "marker": {
          "cmax": 12,
          "cmin": 0,
          "color": [
           5,
           2,
           1,
           1,
           3,
           2,
           2,
           1,
           3,
           5,
           6,
           13,
           4,
           1,
           3,
           2,
           6,
           6,
           8,
           2,
           3,
           5,
           3,
           1,
           1,
           3,
           1,
           1,
           2,
           1,
           4,
           3,
           4,
           2,
           2,
           5,
           2,
           4,
           7,
           2,
           2,
           10,
           1,
           1,
           4,
           5,
           3,
           1,
           4,
           2,
           9,
           1,
           2,
           3,
           2,
           2,
           1,
           1,
           2,
           4,
           11,
           10,
           6,
           7,
           2,
           3,
           2,
           5,
           1,
           6,
           2,
           1,
           1,
           5,
           2,
           4,
           1,
           1,
           6,
           1,
           7,
           6,
           3,
           5,
           1,
           7,
           8,
           2,
           6,
           1,
           1,
           2,
           3,
           4,
           1,
           3,
           5,
           1,
           2,
           1,
           1,
           3,
           4,
           2,
           3,
           9,
           5,
           3,
           4,
           12,
           9,
           3,
           3,
           4,
           9,
           2,
           1,
           2,
           1,
           9,
           3
          ],
          "colorscale": [
           [
            0,
            "#fee838"
           ],
           [
            0.1111111111111111,
            "#e1cc55"
           ],
           [
            0.2222222222222222,
            "#c3b369"
           ],
           [
            0.3333333333333333,
            "#a59c74"
           ],
           [
            0.4444444444444444,
            "#8a8678"
           ],
           [
            0.5555555555555556,
            "#707173"
           ],
           [
            0.6666666666666666,
            "#575d6d"
           ],
           [
            0.7777777777777778,
            "#3b496c"
           ],
           [
            0.8888888888888888,
            "#123570"
           ],
           [
            1,
            "#00224e"
           ]
          ],
          "line": {
           "width": 1
          },
          "showscale": true,
          "size": 9,
          "symbol": [
           2,
           2,
           2,
           2,
           102,
           2,
           102,
           102,
           102,
           2,
           102,
           2,
           2,
           102,
           102,
           102,
           2,
           102,
           102,
           102,
           102,
           2,
           2,
           102,
           102,
           2,
           102,
           102,
           102,
           102,
           102,
           2,
           2,
           102,
           102,
           102,
           102,
           102,
           102,
           2,
           102,
           2,
           2,
           2,
           102,
           2,
           2,
           102,
           102,
           102,
           2,
           102,
           2,
           2,
           2,
           2,
           102,
           102,
           102,
           102,
           102,
           2,
           2,
           2,
           2,
           102,
           2,
           102,
           102,
           102,
           102,
           102,
           102,
           102,
           102,
           102,
           102,
           102,
           102,
           102,
           102,
           102,
           102,
           102,
           102,
           102,
           102,
           102,
           2,
           2,
           102,
           2,
           2,
           102,
           102,
           102,
           2,
           2,
           2,
           2,
           2,
           2,
           102,
           102,
           102,
           102,
           102,
           2,
           102,
           102,
           102,
           2,
           102,
           102,
           102,
           2,
           2,
           2,
           2,
           102,
           2
          ]
         },
         "showlegend": false,
         "showupperhalf": false,
         "type": "splom"
        }
       ],
       "layout": {
        "dragmode": "select",
        "height": 700,
        "template": {
         "data": {
          "bar": [
           {
            "error_x": {
             "color": "#2a3f5f"
            },
            "error_y": {
             "color": "#2a3f5f"
            },
            "marker": {
             "line": {
              "color": "#E5ECF6",
              "width": 0.5
             },
             "pattern": {
              "fillmode": "overlay",
              "size": 10,
              "solidity": 0.2
             }
            },
            "type": "bar"
           }
          ],
          "barpolar": [
           {
            "marker": {
             "line": {
              "color": "#E5ECF6",
              "width": 0.5
             },
             "pattern": {
              "fillmode": "overlay",
              "size": 10,
              "solidity": 0.2
             }
            },
            "type": "barpolar"
           }
          ],
          "carpet": [
           {
            "aaxis": {
             "endlinecolor": "#2a3f5f",
             "gridcolor": "white",
             "linecolor": "white",
             "minorgridcolor": "white",
             "startlinecolor": "#2a3f5f"
            },
            "baxis": {
             "endlinecolor": "#2a3f5f",
             "gridcolor": "white",
             "linecolor": "white",
             "minorgridcolor": "white",
             "startlinecolor": "#2a3f5f"
            },
            "type": "carpet"
           }
          ],
          "choropleth": [
           {
            "colorbar": {
             "outlinewidth": 0,
             "ticks": ""
            },
            "type": "choropleth"
           }
          ],
          "contour": [
           {
            "colorbar": {
             "outlinewidth": 0,
             "ticks": ""
            },
            "colorscale": [
             [
              0,
              "#0d0887"
             ],
             [
              0.1111111111111111,
              "#46039f"
             ],
             [
              0.2222222222222222,
              "#7201a8"
             ],
             [
              0.3333333333333333,
              "#9c179e"
             ],
             [
              0.4444444444444444,
              "#bd3786"
             ],
             [
              0.5555555555555556,
              "#d8576b"
             ],
             [
              0.6666666666666666,
              "#ed7953"
             ],
             [
              0.7777777777777778,
              "#fb9f3a"
             ],
             [
              0.8888888888888888,
              "#fdca26"
             ],
             [
              1,
              "#f0f921"
             ]
            ],
            "type": "contour"
           }
          ],
          "contourcarpet": [
           {
            "colorbar": {
             "outlinewidth": 0,
             "ticks": ""
            },
            "type": "contourcarpet"
           }
          ],
          "heatmap": [
           {
            "colorbar": {
             "outlinewidth": 0,
             "ticks": ""
            },
            "colorscale": [
             [
              0,
              "#0d0887"
             ],
             [
              0.1111111111111111,
              "#46039f"
             ],
             [
              0.2222222222222222,
              "#7201a8"
             ],
             [
              0.3333333333333333,
              "#9c179e"
             ],
             [
              0.4444444444444444,
              "#bd3786"
             ],
             [
              0.5555555555555556,
              "#d8576b"
             ],
             [
              0.6666666666666666,
              "#ed7953"
             ],
             [
              0.7777777777777778,
              "#fb9f3a"
             ],
             [
              0.8888888888888888,
              "#fdca26"
             ],
             [
              1,
              "#f0f921"
             ]
            ],
            "type": "heatmap"
           }
          ],
          "heatmapgl": [
           {
            "colorbar": {
             "outlinewidth": 0,
             "ticks": ""
            },
            "colorscale": [
             [
              0,
              "#0d0887"
             ],
             [
              0.1111111111111111,
              "#46039f"
             ],
             [
              0.2222222222222222,
              "#7201a8"
             ],
             [
              0.3333333333333333,
              "#9c179e"
             ],
             [
              0.4444444444444444,
              "#bd3786"
             ],
             [
              0.5555555555555556,
              "#d8576b"
             ],
             [
              0.6666666666666666,
              "#ed7953"
             ],
             [
              0.7777777777777778,
              "#fb9f3a"
             ],
             [
              0.8888888888888888,
              "#fdca26"
             ],
             [
              1,
              "#f0f921"
             ]
            ],
            "type": "heatmapgl"
           }
          ],
          "histogram": [
           {
            "marker": {
             "pattern": {
              "fillmode": "overlay",
              "size": 10,
              "solidity": 0.2
             }
            },
            "type": "histogram"
           }
          ],
          "histogram2d": [
           {
            "colorbar": {
             "outlinewidth": 0,
             "ticks": ""
            },
            "colorscale": [
             [
              0,
              "#0d0887"
             ],
             [
              0.1111111111111111,
              "#46039f"
             ],
             [
              0.2222222222222222,
              "#7201a8"
             ],
             [
              0.3333333333333333,
              "#9c179e"
             ],
             [
              0.4444444444444444,
              "#bd3786"
             ],
             [
              0.5555555555555556,
              "#d8576b"
             ],
             [
              0.6666666666666666,
              "#ed7953"
             ],
             [
              0.7777777777777778,
              "#fb9f3a"
             ],
             [
              0.8888888888888888,
              "#fdca26"
             ],
             [
              1,
              "#f0f921"
             ]
            ],
            "type": "histogram2d"
           }
          ],
          "histogram2dcontour": [
           {
            "colorbar": {
             "outlinewidth": 0,
             "ticks": ""
            },
            "colorscale": [
             [
              0,
              "#0d0887"
             ],
             [
              0.1111111111111111,
              "#46039f"
             ],
             [
              0.2222222222222222,
              "#7201a8"
             ],
             [
              0.3333333333333333,
              "#9c179e"
             ],
             [
              0.4444444444444444,
              "#bd3786"
             ],
             [
              0.5555555555555556,
              "#d8576b"
             ],
             [
              0.6666666666666666,
              "#ed7953"
             ],
             [
              0.7777777777777778,
              "#fb9f3a"
             ],
             [
              0.8888888888888888,
              "#fdca26"
             ],
             [
              1,
              "#f0f921"
             ]
            ],
            "type": "histogram2dcontour"
           }
          ],
          "mesh3d": [
           {
            "colorbar": {
             "outlinewidth": 0,
             "ticks": ""
            },
            "type": "mesh3d"
           }
          ],
          "parcoords": [
           {
            "line": {
             "colorbar": {
              "outlinewidth": 0,
              "ticks": ""
             }
            },
            "type": "parcoords"
           }
          ],
          "pie": [
           {
            "automargin": true,
            "type": "pie"
           }
          ],
          "scatter": [
           {
            "marker": {
             "colorbar": {
              "outlinewidth": 0,
              "ticks": ""
             }
            },
            "type": "scatter"
           }
          ],
          "scatter3d": [
           {
            "line": {
             "colorbar": {
              "outlinewidth": 0,
              "ticks": ""
             }
            },
            "marker": {
             "colorbar": {
              "outlinewidth": 0,
              "ticks": ""
             }
            },
            "type": "scatter3d"
           }
          ],
          "scattercarpet": [
           {
            "marker": {
             "colorbar": {
              "outlinewidth": 0,
              "ticks": ""
             }
            },
            "type": "scattercarpet"
           }
          ],
          "scattergeo": [
           {
            "marker": {
             "colorbar": {
              "outlinewidth": 0,
              "ticks": ""
             }
            },
            "type": "scattergeo"
           }
          ],
          "scattergl": [
           {
            "marker": {
             "colorbar": {
              "outlinewidth": 0,
              "ticks": ""
             }
            },
            "type": "scattergl"
           }
          ],
          "scattermapbox": [
           {
            "marker": {
             "colorbar": {
              "outlinewidth": 0,
              "ticks": ""
             }
            },
            "type": "scattermapbox"
           }
          ],
          "scatterpolar": [
           {
            "marker": {
             "colorbar": {
              "outlinewidth": 0,
              "ticks": ""
             }
            },
            "type": "scatterpolar"
           }
          ],
          "scatterpolargl": [
           {
            "marker": {
             "colorbar": {
              "outlinewidth": 0,
              "ticks": ""
             }
            },
            "type": "scatterpolargl"
           }
          ],
          "scatterternary": [
           {
            "marker": {
             "colorbar": {
              "outlinewidth": 0,
              "ticks": ""
             }
            },
            "type": "scatterternary"
           }
          ],
          "surface": [
           {
            "colorbar": {
             "outlinewidth": 0,
             "ticks": ""
            },
            "colorscale": [
             [
              0,
              "#0d0887"
             ],
             [
              0.1111111111111111,
              "#46039f"
             ],
             [
              0.2222222222222222,
              "#7201a8"
             ],
             [
              0.3333333333333333,
              "#9c179e"
             ],
             [
              0.4444444444444444,
              "#bd3786"
             ],
             [
              0.5555555555555556,
              "#d8576b"
             ],
             [
              0.6666666666666666,
              "#ed7953"
             ],
             [
              0.7777777777777778,
              "#fb9f3a"
             ],
             [
              0.8888888888888888,
              "#fdca26"
             ],
             [
              1,
              "#f0f921"
             ]
            ],
            "type": "surface"
           }
          ],
          "table": [
           {
            "cells": {
             "fill": {
              "color": "#EBF0F8"
             },
             "line": {
              "color": "white"
             }
            },
            "header": {
             "fill": {
              "color": "#C8D4E3"
             },
             "line": {
              "color": "white"
             }
            },
            "type": "table"
           }
          ]
         },
         "layout": {
          "annotationdefaults": {
           "arrowcolor": "#2a3f5f",
           "arrowhead": 0,
           "arrowwidth": 1
          },
          "autotypenumbers": "strict",
          "coloraxis": {
           "colorbar": {
            "outlinewidth": 0,
            "ticks": ""
           }
          },
          "colorscale": {
           "diverging": [
            [
             0,
             "#8e0152"
            ],
            [
             0.1,
             "#c51b7d"
            ],
            [
             0.2,
             "#de77ae"
            ],
            [
             0.3,
             "#f1b6da"
            ],
            [
             0.4,
             "#fde0ef"
            ],
            [
             0.5,
             "#f7f7f7"
            ],
            [
             0.6,
             "#e6f5d0"
            ],
            [
             0.7,
             "#b8e186"
            ],
            [
             0.8,
             "#7fbc41"
            ],
            [
             0.9,
             "#4d9221"
            ],
            [
             1,
             "#276419"
            ]
           ],
           "sequential": [
            [
             0,
             "#0d0887"
            ],
            [
             0.1111111111111111,
             "#46039f"
            ],
            [
             0.2222222222222222,
             "#7201a8"
            ],
            [
             0.3333333333333333,
             "#9c179e"
            ],
            [
             0.4444444444444444,
             "#bd3786"
            ],
            [
             0.5555555555555556,
             "#d8576b"
            ],
            [
             0.6666666666666666,
             "#ed7953"
            ],
            [
             0.7777777777777778,
             "#fb9f3a"
            ],
            [
             0.8888888888888888,
             "#fdca26"
            ],
            [
             1,
             "#f0f921"
            ]
           ],
           "sequentialminus": [
            [
             0,
             "#0d0887"
            ],
            [
             0.1111111111111111,
             "#46039f"
            ],
            [
             0.2222222222222222,
             "#7201a8"
            ],
            [
             0.3333333333333333,
             "#9c179e"
            ],
            [
             0.4444444444444444,
             "#bd3786"
            ],
            [
             0.5555555555555556,
             "#d8576b"
            ],
            [
             0.6666666666666666,
             "#ed7953"
            ],
            [
             0.7777777777777778,
             "#fb9f3a"
            ],
            [
             0.8888888888888888,
             "#fdca26"
            ],
            [
             1,
             "#f0f921"
            ]
           ]
          },
          "colorway": [
           "#636efa",
           "#EF553B",
           "#00cc96",
           "#ab63fa",
           "#FFA15A",
           "#19d3f3",
           "#FF6692",
           "#B6E880",
           "#FF97FF",
           "#FECB52"
          ],
          "font": {
           "color": "#2a3f5f"
          },
          "geo": {
           "bgcolor": "white",
           "lakecolor": "white",
           "landcolor": "#E5ECF6",
           "showlakes": true,
           "showland": true,
           "subunitcolor": "white"
          },
          "hoverlabel": {
           "align": "left"
          },
          "hovermode": "closest",
          "mapbox": {
           "style": "light"
          },
          "paper_bgcolor": "white",
          "plot_bgcolor": "#E5ECF6",
          "polar": {
           "angularaxis": {
            "gridcolor": "white",
            "linecolor": "white",
            "ticks": ""
           },
           "bgcolor": "#E5ECF6",
           "radialaxis": {
            "gridcolor": "white",
            "linecolor": "white",
            "ticks": ""
           }
          },
          "scene": {
           "xaxis": {
            "backgroundcolor": "#E5ECF6",
            "gridcolor": "white",
            "gridwidth": 2,
            "linecolor": "white",
            "showbackground": true,
            "ticks": "",
            "zerolinecolor": "white"
           },
           "yaxis": {
            "backgroundcolor": "#E5ECF6",
            "gridcolor": "white",
            "gridwidth": 2,
            "linecolor": "white",
            "showbackground": true,
            "ticks": "",
            "zerolinecolor": "white"
           },
           "zaxis": {
            "backgroundcolor": "#E5ECF6",
            "gridcolor": "white",
            "gridwidth": 2,
            "linecolor": "white",
            "showbackground": true,
            "ticks": "",
            "zerolinecolor": "white"
           }
          },
          "shapedefaults": {
           "line": {
            "color": "#2a3f5f"
           }
          },
          "ternary": {
           "aaxis": {
            "gridcolor": "white",
            "linecolor": "white",
            "ticks": ""
           },
           "baxis": {
            "gridcolor": "white",
            "linecolor": "white",
            "ticks": ""
           },
           "bgcolor": "#E5ECF6",
           "caxis": {
            "gridcolor": "white",
            "linecolor": "white",
            "ticks": ""
           }
          },
          "title": {
           "x": 0.05
          },
          "xaxis": {
           "automargin": true,
           "gridcolor": "white",
           "linecolor": "white",
           "ticks": "",
           "title": {
            "standoff": 15
           },
           "zerolinecolor": "white",
           "zerolinewidth": 2
          },
          "yaxis": {
           "automargin": true,
           "gridcolor": "white",
           "linecolor": "white",
           "ticks": "",
           "title": {
            "standoff": 15
           },
           "zerolinecolor": "white",
           "zerolinewidth": 2
          }
         }
        },
        "title": {
         "text": "Duration of Unloading Events for All Sites"
        },
        "width": 800
       }
      }
     },
     "metadata": {},
     "output_type": "display_data"
    }
   ],
   "source": [
    "# State which site we are working with \n",
    "\n",
    "# Some constatns \n",
    "index_vals = df_all['count']\n",
    "index_symbols = df_all['TypeSymbol']\n",
    "colorbar = 'cividis_r'\n",
    "\n",
    "fig = go.Figure()\n",
    "fig.add_trace(go.Splom(dimensions=[dict(label=nametemp, values=df_all['temp']),\n",
    "                                   dict(label=namewind, values=df_all['windspeed']),\n",
    "                                   dict(label=nameSW,   values=df_all['shortwave'])],\n",
    "                                   marker=dict(color=index_vals, colorscale = colorbar, symbol = index_symbols, showscale=True, line_width=1, size=9, cmin=0, cmax=12),\n",
    "                                   showlegend=False, showupperhalf=False, diagonal_visible=False))\n",
    "\n",
    "fig.update_traces(showlegend=True, legendgroup=index_symbols, selector=dict(mode='spolm'))\n",
    "\n",
    "fig.update_layout(title=\"Duration of Unloading Events for All Sites\", width=800, height=700, dragmode='select')\n",
    "\n",
    "\n",
    "fig.show()"
   ]
  },
  {
   "cell_type": "code",
   "execution_count": 92,
   "id": "ec792caa",
   "metadata": {},
   "outputs": [],
   "source": [
    "# Colors\n",
    "colornosnow = '#D2B48C' # nice tan\n",
    "colorsnow = '#7dcfd4' # slightly desaturated cyan\n",
    "colorsnowunload = '#1F15D5' # bright, deep blue \n",
    "colorsunny = '#E4E44A' # trying a little less bright \n",
    "unloadcolors = [colorsnow, colorsnowunload]\n",
    "colorscaled = [[0., colorsnowunload], [1, colorsnow]]"
   ]
  },
  {
   "cell_type": "code",
   "execution_count": 93,
   "id": "c39cedd1",
   "metadata": {},
   "outputs": [
    {
     "data": {
      "application/vnd.plotly.v1+json": {
       "config": {
        "plotlyServerURL": "https://plot.ly"
       },
       "data": [
        {
         "marker": {
          "color": [
           0,
           0,
           0,
           0,
           0,
           0,
           0,
           0,
           0,
           0,
           0,
           0,
           0,
           0,
           0,
           0,
           0,
           0,
           0,
           0,
           0,
           0,
           0,
           0,
           0,
           0,
           0,
           0,
           0,
           0,
           0,
           0,
           0,
           0,
           0,
           0,
           0,
           0,
           0,
           0,
           0,
           0,
           0,
           0,
           0,
           0,
           0,
           0,
           0,
           0,
           0,
           0,
           0,
           0,
           0,
           0,
           0,
           0,
           0,
           0,
           0,
           0,
           0,
           0,
           0,
           0,
           0,
           0,
           0,
           0,
           0,
           0,
           0,
           0,
           0,
           0,
           0,
           0,
           0,
           0,
           0,
           0,
           0,
           0,
           0,
           0,
           0,
           0,
           0,
           0,
           0,
           0,
           0,
           0,
           0,
           0,
           0,
           0,
           0,
           0,
           0,
           0,
           0,
           0,
           0,
           0,
           0,
           0,
           0,
           0,
           0,
           0,
           0,
           0,
           0,
           0,
           0,
           0,
           0,
           0,
           0
          ],
          "colorscale": [
           [
            0,
            "#1F15D5"
           ],
           [
            1,
            "#7dcfd4"
           ]
          ],
          "showscale": false,
          "size": 8,
          "symbol": [
           2,
           2,
           2,
           2,
           102,
           2,
           102,
           102,
           102,
           2,
           102,
           2,
           2,
           102,
           102,
           102,
           2,
           102,
           102,
           102,
           102,
           2,
           2,
           102,
           102,
           2,
           102,
           102,
           102,
           102,
           102,
           2,
           2,
           102,
           102,
           102,
           102,
           102,
           102,
           2,
           102,
           2,
           2,
           2,
           102,
           2,
           2,
           102,
           102,
           102,
           2,
           102,
           2,
           2,
           2,
           2,
           102,
           102,
           102,
           102,
           102,
           2,
           2,
           2,
           2,
           102,
           2,
           102,
           102,
           102,
           102,
           102,
           102,
           102,
           102,
           102,
           102,
           102,
           102,
           102,
           102,
           102,
           102,
           102,
           102,
           102,
           102,
           102,
           2,
           2,
           102,
           2,
           2,
           102,
           102,
           102,
           2,
           2,
           2,
           2,
           2,
           2,
           102,
           102,
           102,
           102,
           102,
           2,
           102,
           102,
           102,
           2,
           102,
           102,
           102,
           2,
           2,
           2,
           2,
           102,
           2
          ]
         },
         "mode": "markers",
         "type": "scatter",
         "x": [
          5,
          2,
          1,
          1,
          3,
          2,
          2,
          1,
          3,
          5,
          6,
          13,
          4,
          1,
          3,
          2,
          6,
          6,
          8,
          2,
          3,
          5,
          3,
          1,
          1,
          3,
          1,
          1,
          2,
          1,
          4,
          3,
          4,
          2,
          2,
          5,
          2,
          4,
          7,
          2,
          2,
          10,
          1,
          1,
          4,
          5,
          3,
          1,
          4,
          2,
          9,
          1,
          2,
          3,
          2,
          2,
          1,
          1,
          2,
          4,
          11,
          10,
          6,
          7,
          2,
          3,
          2,
          5,
          1,
          6,
          2,
          1,
          1,
          5,
          2,
          4,
          1,
          1,
          6,
          1,
          7,
          6,
          3,
          5,
          1,
          7,
          8,
          2,
          6,
          1,
          1,
          2,
          3,
          4,
          1,
          3,
          5,
          1,
          2,
          1,
          1,
          3,
          4,
          2,
          3,
          9,
          5,
          3,
          4,
          12,
          9,
          3,
          3,
          4,
          9,
          2,
          1,
          2,
          1,
          9,
          3
         ],
         "xaxis": "x",
         "y": [
          -1.5426,
          3.7175,
          -2.545,
          0.783,
          -8.328333333,
          -8.655,
          -7.8575,
          -17.62,
          -11.23833333,
          -2.53,
          -7.315,
          -4.343692308,
          -17.75875,
          -8.31,
          -6.005,
          -18.63,
          -16.625,
          -0.5085,
          -6.35125,
          -6.0925,
          1.490666667,
          3.906,
          -1.045333333,
          -3.24,
          -2.915,
          -4.235,
          -9.585,
          -13.625,
          -15.8375,
          -14.15,
          -10.44875,
          -10.62333333,
          -2.10875,
          -1.6125,
          -2.1875,
          1.0883,
          -5.42,
          -2.90875,
          1.003071429,
          -4.12,
          -7.6875,
          -5.394,
          -4.085,
          1.41,
          -1.7835,
          -1.6773,
          -3.743333333,
          -3.015,
          -3.64375,
          -9.26,
          -3.458611111,
          -2.65,
          0.68825,
          -3.586666667,
          0.78175,
          0.99875,
          -4.42,
          -4.975,
          -4.895,
          -5.0425,
          -1.041363636,
          2.596,
          1.707166667,
          -0.694714286,
          0.0165,
          -0.45,
          2.4,
          -1.72,
          -6.85,
          -1.691666667,
          -6.9,
          -7.2,
          -12.45,
          -6.69,
          -11.9,
          -13.9,
          -8.9,
          -16.95,
          -2.7,
          -2.95,
          -8.764285714,
          0.608333333,
          1.983333333,
          0.4,
          -2.3,
          -1.164285714,
          -1.875,
          -1.475,
          1.708333333,
          1.45,
          -1.1,
          0.775,
          1.183333333,
          -8.245441667,
          -3.012491667,
          2.885173611,
          3.755580833,
          1.966270833,
          2.602745833,
          1.371179167,
          -0.3,
          2.386268056,
          -2.911902092,
          -3.262133333,
          -2.551411111,
          -2.928713889,
          1.80320057,
          6.098255556,
          -5.982351042,
          -7.076153472,
          0.439040741,
          4.259456944,
          -1.8793875,
          -3.758180208,
          0.095193696,
          1.045287413,
          -0.5075625,
          0.987025,
          3.20375,
          0.742500463,
          4.5117
         ],
         "yaxis": "y"
        }
       ],
       "layout": {
        "height": 500,
        "showlegend": false,
        "template": {
         "data": {
          "bar": [
           {
            "error_x": {
             "color": "#2a3f5f"
            },
            "error_y": {
             "color": "#2a3f5f"
            },
            "marker": {
             "line": {
              "color": "#E5ECF6",
              "width": 0.5
             },
             "pattern": {
              "fillmode": "overlay",
              "size": 10,
              "solidity": 0.2
             }
            },
            "type": "bar"
           }
          ],
          "barpolar": [
           {
            "marker": {
             "line": {
              "color": "#E5ECF6",
              "width": 0.5
             },
             "pattern": {
              "fillmode": "overlay",
              "size": 10,
              "solidity": 0.2
             }
            },
            "type": "barpolar"
           }
          ],
          "carpet": [
           {
            "aaxis": {
             "endlinecolor": "#2a3f5f",
             "gridcolor": "white",
             "linecolor": "white",
             "minorgridcolor": "white",
             "startlinecolor": "#2a3f5f"
            },
            "baxis": {
             "endlinecolor": "#2a3f5f",
             "gridcolor": "white",
             "linecolor": "white",
             "minorgridcolor": "white",
             "startlinecolor": "#2a3f5f"
            },
            "type": "carpet"
           }
          ],
          "choropleth": [
           {
            "colorbar": {
             "outlinewidth": 0,
             "ticks": ""
            },
            "type": "choropleth"
           }
          ],
          "contour": [
           {
            "colorbar": {
             "outlinewidth": 0,
             "ticks": ""
            },
            "colorscale": [
             [
              0,
              "#0d0887"
             ],
             [
              0.1111111111111111,
              "#46039f"
             ],
             [
              0.2222222222222222,
              "#7201a8"
             ],
             [
              0.3333333333333333,
              "#9c179e"
             ],
             [
              0.4444444444444444,
              "#bd3786"
             ],
             [
              0.5555555555555556,
              "#d8576b"
             ],
             [
              0.6666666666666666,
              "#ed7953"
             ],
             [
              0.7777777777777778,
              "#fb9f3a"
             ],
             [
              0.8888888888888888,
              "#fdca26"
             ],
             [
              1,
              "#f0f921"
             ]
            ],
            "type": "contour"
           }
          ],
          "contourcarpet": [
           {
            "colorbar": {
             "outlinewidth": 0,
             "ticks": ""
            },
            "type": "contourcarpet"
           }
          ],
          "heatmap": [
           {
            "colorbar": {
             "outlinewidth": 0,
             "ticks": ""
            },
            "colorscale": [
             [
              0,
              "#0d0887"
             ],
             [
              0.1111111111111111,
              "#46039f"
             ],
             [
              0.2222222222222222,
              "#7201a8"
             ],
             [
              0.3333333333333333,
              "#9c179e"
             ],
             [
              0.4444444444444444,
              "#bd3786"
             ],
             [
              0.5555555555555556,
              "#d8576b"
             ],
             [
              0.6666666666666666,
              "#ed7953"
             ],
             [
              0.7777777777777778,
              "#fb9f3a"
             ],
             [
              0.8888888888888888,
              "#fdca26"
             ],
             [
              1,
              "#f0f921"
             ]
            ],
            "type": "heatmap"
           }
          ],
          "heatmapgl": [
           {
            "colorbar": {
             "outlinewidth": 0,
             "ticks": ""
            },
            "colorscale": [
             [
              0,
              "#0d0887"
             ],
             [
              0.1111111111111111,
              "#46039f"
             ],
             [
              0.2222222222222222,
              "#7201a8"
             ],
             [
              0.3333333333333333,
              "#9c179e"
             ],
             [
              0.4444444444444444,
              "#bd3786"
             ],
             [
              0.5555555555555556,
              "#d8576b"
             ],
             [
              0.6666666666666666,
              "#ed7953"
             ],
             [
              0.7777777777777778,
              "#fb9f3a"
             ],
             [
              0.8888888888888888,
              "#fdca26"
             ],
             [
              1,
              "#f0f921"
             ]
            ],
            "type": "heatmapgl"
           }
          ],
          "histogram": [
           {
            "marker": {
             "pattern": {
              "fillmode": "overlay",
              "size": 10,
              "solidity": 0.2
             }
            },
            "type": "histogram"
           }
          ],
          "histogram2d": [
           {
            "colorbar": {
             "outlinewidth": 0,
             "ticks": ""
            },
            "colorscale": [
             [
              0,
              "#0d0887"
             ],
             [
              0.1111111111111111,
              "#46039f"
             ],
             [
              0.2222222222222222,
              "#7201a8"
             ],
             [
              0.3333333333333333,
              "#9c179e"
             ],
             [
              0.4444444444444444,
              "#bd3786"
             ],
             [
              0.5555555555555556,
              "#d8576b"
             ],
             [
              0.6666666666666666,
              "#ed7953"
             ],
             [
              0.7777777777777778,
              "#fb9f3a"
             ],
             [
              0.8888888888888888,
              "#fdca26"
             ],
             [
              1,
              "#f0f921"
             ]
            ],
            "type": "histogram2d"
           }
          ],
          "histogram2dcontour": [
           {
            "colorbar": {
             "outlinewidth": 0,
             "ticks": ""
            },
            "colorscale": [
             [
              0,
              "#0d0887"
             ],
             [
              0.1111111111111111,
              "#46039f"
             ],
             [
              0.2222222222222222,
              "#7201a8"
             ],
             [
              0.3333333333333333,
              "#9c179e"
             ],
             [
              0.4444444444444444,
              "#bd3786"
             ],
             [
              0.5555555555555556,
              "#d8576b"
             ],
             [
              0.6666666666666666,
              "#ed7953"
             ],
             [
              0.7777777777777778,
              "#fb9f3a"
             ],
             [
              0.8888888888888888,
              "#fdca26"
             ],
             [
              1,
              "#f0f921"
             ]
            ],
            "type": "histogram2dcontour"
           }
          ],
          "mesh3d": [
           {
            "colorbar": {
             "outlinewidth": 0,
             "ticks": ""
            },
            "type": "mesh3d"
           }
          ],
          "parcoords": [
           {
            "line": {
             "colorbar": {
              "outlinewidth": 0,
              "ticks": ""
             }
            },
            "type": "parcoords"
           }
          ],
          "pie": [
           {
            "automargin": true,
            "type": "pie"
           }
          ],
          "scatter": [
           {
            "marker": {
             "colorbar": {
              "outlinewidth": 0,
              "ticks": ""
             }
            },
            "type": "scatter"
           }
          ],
          "scatter3d": [
           {
            "line": {
             "colorbar": {
              "outlinewidth": 0,
              "ticks": ""
             }
            },
            "marker": {
             "colorbar": {
              "outlinewidth": 0,
              "ticks": ""
             }
            },
            "type": "scatter3d"
           }
          ],
          "scattercarpet": [
           {
            "marker": {
             "colorbar": {
              "outlinewidth": 0,
              "ticks": ""
             }
            },
            "type": "scattercarpet"
           }
          ],
          "scattergeo": [
           {
            "marker": {
             "colorbar": {
              "outlinewidth": 0,
              "ticks": ""
             }
            },
            "type": "scattergeo"
           }
          ],
          "scattergl": [
           {
            "marker": {
             "colorbar": {
              "outlinewidth": 0,
              "ticks": ""
             }
            },
            "type": "scattergl"
           }
          ],
          "scattermapbox": [
           {
            "marker": {
             "colorbar": {
              "outlinewidth": 0,
              "ticks": ""
             }
            },
            "type": "scattermapbox"
           }
          ],
          "scatterpolar": [
           {
            "marker": {
             "colorbar": {
              "outlinewidth": 0,
              "ticks": ""
             }
            },
            "type": "scatterpolar"
           }
          ],
          "scatterpolargl": [
           {
            "marker": {
             "colorbar": {
              "outlinewidth": 0,
              "ticks": ""
             }
            },
            "type": "scatterpolargl"
           }
          ],
          "scatterternary": [
           {
            "marker": {
             "colorbar": {
              "outlinewidth": 0,
              "ticks": ""
             }
            },
            "type": "scatterternary"
           }
          ],
          "surface": [
           {
            "colorbar": {
             "outlinewidth": 0,
             "ticks": ""
            },
            "colorscale": [
             [
              0,
              "#0d0887"
             ],
             [
              0.1111111111111111,
              "#46039f"
             ],
             [
              0.2222222222222222,
              "#7201a8"
             ],
             [
              0.3333333333333333,
              "#9c179e"
             ],
             [
              0.4444444444444444,
              "#bd3786"
             ],
             [
              0.5555555555555556,
              "#d8576b"
             ],
             [
              0.6666666666666666,
              "#ed7953"
             ],
             [
              0.7777777777777778,
              "#fb9f3a"
             ],
             [
              0.8888888888888888,
              "#fdca26"
             ],
             [
              1,
              "#f0f921"
             ]
            ],
            "type": "surface"
           }
          ],
          "table": [
           {
            "cells": {
             "fill": {
              "color": "#EBF0F8"
             },
             "line": {
              "color": "white"
             }
            },
            "header": {
             "fill": {
              "color": "#C8D4E3"
             },
             "line": {
              "color": "white"
             }
            },
            "type": "table"
           }
          ]
         },
         "layout": {
          "annotationdefaults": {
           "arrowcolor": "#2a3f5f",
           "arrowhead": 0,
           "arrowwidth": 1
          },
          "autotypenumbers": "strict",
          "coloraxis": {
           "colorbar": {
            "outlinewidth": 0,
            "ticks": ""
           }
          },
          "colorscale": {
           "diverging": [
            [
             0,
             "#8e0152"
            ],
            [
             0.1,
             "#c51b7d"
            ],
            [
             0.2,
             "#de77ae"
            ],
            [
             0.3,
             "#f1b6da"
            ],
            [
             0.4,
             "#fde0ef"
            ],
            [
             0.5,
             "#f7f7f7"
            ],
            [
             0.6,
             "#e6f5d0"
            ],
            [
             0.7,
             "#b8e186"
            ],
            [
             0.8,
             "#7fbc41"
            ],
            [
             0.9,
             "#4d9221"
            ],
            [
             1,
             "#276419"
            ]
           ],
           "sequential": [
            [
             0,
             "#0d0887"
            ],
            [
             0.1111111111111111,
             "#46039f"
            ],
            [
             0.2222222222222222,
             "#7201a8"
            ],
            [
             0.3333333333333333,
             "#9c179e"
            ],
            [
             0.4444444444444444,
             "#bd3786"
            ],
            [
             0.5555555555555556,
             "#d8576b"
            ],
            [
             0.6666666666666666,
             "#ed7953"
            ],
            [
             0.7777777777777778,
             "#fb9f3a"
            ],
            [
             0.8888888888888888,
             "#fdca26"
            ],
            [
             1,
             "#f0f921"
            ]
           ],
           "sequentialminus": [
            [
             0,
             "#0d0887"
            ],
            [
             0.1111111111111111,
             "#46039f"
            ],
            [
             0.2222222222222222,
             "#7201a8"
            ],
            [
             0.3333333333333333,
             "#9c179e"
            ],
            [
             0.4444444444444444,
             "#bd3786"
            ],
            [
             0.5555555555555556,
             "#d8576b"
            ],
            [
             0.6666666666666666,
             "#ed7953"
            ],
            [
             0.7777777777777778,
             "#fb9f3a"
            ],
            [
             0.8888888888888888,
             "#fdca26"
            ],
            [
             1,
             "#f0f921"
            ]
           ]
          },
          "colorway": [
           "#636efa",
           "#EF553B",
           "#00cc96",
           "#ab63fa",
           "#FFA15A",
           "#19d3f3",
           "#FF6692",
           "#B6E880",
           "#FF97FF",
           "#FECB52"
          ],
          "font": {
           "color": "#2a3f5f"
          },
          "geo": {
           "bgcolor": "white",
           "lakecolor": "white",
           "landcolor": "#E5ECF6",
           "showlakes": true,
           "showland": true,
           "subunitcolor": "white"
          },
          "hoverlabel": {
           "align": "left"
          },
          "hovermode": "closest",
          "mapbox": {
           "style": "light"
          },
          "paper_bgcolor": "white",
          "plot_bgcolor": "#E5ECF6",
          "polar": {
           "angularaxis": {
            "gridcolor": "white",
            "linecolor": "white",
            "ticks": ""
           },
           "bgcolor": "#E5ECF6",
           "radialaxis": {
            "gridcolor": "white",
            "linecolor": "white",
            "ticks": ""
           }
          },
          "scene": {
           "xaxis": {
            "backgroundcolor": "#E5ECF6",
            "gridcolor": "white",
            "gridwidth": 2,
            "linecolor": "white",
            "showbackground": true,
            "ticks": "",
            "zerolinecolor": "white"
           },
           "yaxis": {
            "backgroundcolor": "#E5ECF6",
            "gridcolor": "white",
            "gridwidth": 2,
            "linecolor": "white",
            "showbackground": true,
            "ticks": "",
            "zerolinecolor": "white"
           },
           "zaxis": {
            "backgroundcolor": "#E5ECF6",
            "gridcolor": "white",
            "gridwidth": 2,
            "linecolor": "white",
            "showbackground": true,
            "ticks": "",
            "zerolinecolor": "white"
           }
          },
          "shapedefaults": {
           "line": {
            "color": "#2a3f5f"
           }
          },
          "ternary": {
           "aaxis": {
            "gridcolor": "white",
            "linecolor": "white",
            "ticks": ""
           },
           "baxis": {
            "gridcolor": "white",
            "linecolor": "white",
            "ticks": ""
           },
           "bgcolor": "#E5ECF6",
           "caxis": {
            "gridcolor": "white",
            "linecolor": "white",
            "ticks": ""
           }
          },
          "title": {
           "x": 0.05
          },
          "xaxis": {
           "automargin": true,
           "gridcolor": "white",
           "linecolor": "white",
           "ticks": "",
           "title": {
            "standoff": 15
           },
           "zerolinecolor": "white",
           "zerolinewidth": 2
          },
          "yaxis": {
           "automargin": true,
           "gridcolor": "white",
           "linecolor": "white",
           "ticks": "",
           "title": {
            "standoff": 15
           },
           "zerolinecolor": "white",
           "zerolinewidth": 2
          }
         }
        },
        "title": {
         "text": "All Sites"
        },
        "width": 1000,
        "xaxis": {
         "anchor": "y",
         "domain": [
          0,
          0.4
         ]
        },
        "xaxis2": {
         "anchor": "y2",
         "domain": [
          0.6000000000000001,
          1
         ]
        },
        "yaxis": {
         "anchor": "x",
         "domain": [
          0,
          1
         ]
        },
        "yaxis2": {
         "anchor": "x2",
         "domain": [
          0,
          1
         ]
        }
       }
      }
     },
     "metadata": {},
     "output_type": "display_data"
    }
   ],
   "source": [
    "fig = make_subplots(rows=1, cols=2, \n",
    "                    # subplot_titles=(\"All Wind Speeds\", \"Wind Speeds < 5 m/s\"), \n",
    "                    shared_xaxes=False, shared_yaxes=False, \n",
    "                    vertical_spacing=0.02, horizontal_spacing=0.2,\n",
    ")\n",
    "\n",
    "markersize = 8\n",
    "\n",
    "# All sites with temperature\n",
    "fig.add_trace(\n",
    "    go.Scatter(\n",
    "        x = df_all['count'],\n",
    "        y = df_all['temp'],\n",
    "        mode='markers',\n",
    "        marker=dict(\n",
    "        size=markersize,\n",
    "        color=df_all['CD'], \n",
    "        colorscale=colorscaled, \n",
    "        symbol=df_all['TypeSymbol'],\n",
    "        showscale=False\n",
    "        )\n",
    "    ), row=1, col=1\n",
    ")\n",
    "\n",
    "# fig.update_xaxes(title_text = nametemp, range=[-35,8],   row=1, col=1) \n",
    "# fig.update_yaxes(title_text = nameSW,   range=[-50,1200], row=1, col=1)\n",
    "\n",
    "fig.update_layout(title='All Sites', width=1000, height=500, showlegend=False)\n",
    "fig.show()"
   ]
  },
  {
   "cell_type": "code",
   "execution_count": 94,
   "id": "990b2f43",
   "metadata": {},
   "outputs": [
    {
     "data": {
      "application/vnd.plotly.v1+json": {
       "config": {
        "plotlyServerURL": "https://plot.ly"
       },
       "data": [
        {
         "marker": {
          "color": "#1F15D5",
          "showscale": false,
          "size": 8,
          "symbol": [
           2,
           2,
           2,
           2,
           102,
           2,
           102,
           102,
           102,
           2,
           102,
           2,
           2,
           102,
           102,
           102,
           2,
           102,
           102,
           102,
           102,
           2,
           2,
           102,
           102,
           2,
           102,
           102,
           102,
           102,
           102,
           2,
           2,
           102,
           102,
           102,
           102,
           102,
           102,
           2,
           102,
           2,
           2,
           2,
           102,
           2,
           2,
           102,
           102,
           102,
           2,
           102,
           2,
           2,
           2,
           2,
           102,
           102,
           102,
           102,
           102,
           2,
           2,
           2,
           2,
           102,
           2,
           102,
           102,
           102,
           102,
           102,
           102,
           102,
           102,
           102,
           102,
           102,
           102,
           102,
           102,
           102,
           102,
           102,
           102,
           102,
           102,
           102,
           2,
           2,
           102,
           2,
           2,
           102,
           102,
           102,
           2,
           2,
           2,
           2,
           2,
           2,
           102,
           102,
           102,
           102,
           102,
           2,
           102,
           102,
           102,
           2,
           102,
           102,
           102,
           2,
           2,
           2,
           2,
           102,
           2
          ]
         },
         "mode": "markers",
         "type": "scatter",
         "x": [
          -1.5426,
          3.7175,
          -2.545,
          0.783,
          -8.328333333,
          -8.655,
          -7.8575,
          -17.62,
          -11.23833333,
          -2.53,
          -7.315,
          -4.343692308,
          -17.75875,
          -8.31,
          -6.005,
          -18.63,
          -16.625,
          -0.5085,
          -6.35125,
          -6.0925,
          1.490666667,
          3.906,
          -1.045333333,
          -3.24,
          -2.915,
          -4.235,
          -9.585,
          -13.625,
          -15.8375,
          -14.15,
          -10.44875,
          -10.62333333,
          -2.10875,
          -1.6125,
          -2.1875,
          1.0883,
          -5.42,
          -2.90875,
          1.003071429,
          -4.12,
          -7.6875,
          -5.394,
          -4.085,
          1.41,
          -1.7835,
          -1.6773,
          -3.743333333,
          -3.015,
          -3.64375,
          -9.26,
          -3.458611111,
          -2.65,
          0.68825,
          -3.586666667,
          0.78175,
          0.99875,
          -4.42,
          -4.975,
          -4.895,
          -5.0425,
          -1.041363636,
          2.596,
          1.707166667,
          -0.694714286,
          0.0165,
          -0.45,
          2.4,
          -1.72,
          -6.85,
          -1.691666667,
          -6.9,
          -7.2,
          -12.45,
          -6.69,
          -11.9,
          -13.9,
          -8.9,
          -16.95,
          -2.7,
          -2.95,
          -8.764285714,
          0.608333333,
          1.983333333,
          0.4,
          -2.3,
          -1.164285714,
          -1.875,
          -1.475,
          1.708333333,
          1.45,
          -1.1,
          0.775,
          1.183333333,
          -8.245441667,
          -3.012491667,
          2.885173611,
          3.755580833,
          1.966270833,
          2.602745833,
          1.371179167,
          -0.3,
          2.386268056,
          -2.911902092,
          -3.262133333,
          -2.551411111,
          -2.928713889,
          1.80320057,
          6.098255556,
          -5.982351042,
          -7.076153472,
          0.439040741,
          4.259456944,
          -1.8793875,
          -3.758180208,
          0.095193696,
          1.045287413,
          -0.5075625,
          0.987025,
          3.20375,
          0.742500463,
          4.5117
         ],
         "xaxis": "x",
         "y": [
          5,
          2,
          1,
          1,
          3,
          2,
          2,
          1,
          3,
          5,
          6,
          13,
          4,
          1,
          3,
          2,
          6,
          6,
          8,
          2,
          3,
          5,
          3,
          1,
          1,
          3,
          1,
          1,
          2,
          1,
          4,
          3,
          4,
          2,
          2,
          5,
          2,
          4,
          7,
          2,
          2,
          10,
          1,
          1,
          4,
          5,
          3,
          1,
          4,
          2,
          9,
          1,
          2,
          3,
          2,
          2,
          1,
          1,
          2,
          4,
          11,
          10,
          6,
          7,
          2,
          3,
          2,
          5,
          1,
          6,
          2,
          1,
          1,
          5,
          2,
          4,
          1,
          1,
          6,
          1,
          7,
          6,
          3,
          5,
          1,
          7,
          8,
          2,
          6,
          1,
          1,
          2,
          3,
          4,
          1,
          3,
          5,
          1,
          2,
          1,
          1,
          3,
          4,
          2,
          3,
          9,
          5,
          3,
          4,
          12,
          9,
          3,
          3,
          4,
          9,
          2,
          1,
          2,
          1,
          9,
          3
         ],
         "yaxis": "y"
        },
        {
         "marker": {
          "color": "#1F15D5",
          "showscale": false,
          "size": 8,
          "symbol": [
           2,
           2,
           2,
           2,
           102,
           2,
           102,
           102,
           102,
           2,
           102,
           2,
           2,
           102,
           102,
           102,
           2,
           102,
           102,
           102,
           102,
           2,
           2,
           102,
           102,
           2,
           102,
           102,
           102,
           102,
           102,
           2,
           2,
           102,
           102,
           102,
           102,
           102,
           102,
           2,
           102,
           2,
           2,
           2,
           102,
           2,
           2,
           102,
           102,
           102,
           2,
           102,
           2,
           2,
           2,
           2,
           102,
           102,
           102,
           102,
           102,
           2,
           2,
           2,
           2,
           102,
           2,
           102,
           102,
           102,
           102,
           102,
           102,
           102,
           102,
           102,
           102,
           102,
           102,
           102,
           102,
           102,
           102,
           102,
           102,
           102,
           102,
           102,
           2,
           2,
           102,
           2,
           2,
           102,
           102,
           102,
           2,
           2,
           2,
           2,
           2,
           2,
           102,
           102,
           102,
           102,
           102,
           2,
           102,
           102,
           102,
           2,
           102,
           102,
           102,
           2,
           2,
           2,
           2,
           102,
           2
          ]
         },
         "mode": "markers",
         "type": "scatter",
         "x": [
          513.968,
          683.805,
          394.135,
          333.89,
          499.7266667,
          580.7075,
          114.895,
          61.205,
          380.1366667,
          87.5626,
          133.9991667,
          82.43123077,
          109.5125,
          32.29,
          50.52833333,
          127.745,
          388.2466667,
          56.05833333,
          73.89625,
          1.61775,
          521.0416667,
          491.201,
          605.885,
          176.225,
          66.88,
          424.4416667,
          474.965,
          18.45,
          483.17,
          633.27,
          242.1325,
          713.6266667,
          493.20875,
          509.5625,
          306.925,
          714.146,
          34.3175,
          202.5825,
          840.1735714,
          908.015,
          331.55,
          733.0865,
          794.195,
          858.98,
          862.53,
          607.258,
          566.6033333,
          11.815,
          589.23875,
          254.9625,
          816.8405556,
          130.515,
          580.93,
          472.5433333,
          308.085,
          532.8125,
          43.585,
          59.34,
          190.595,
          270.35125,
          794.8963636,
          412.7705,
          767.3541667,
          836.7271429,
          381.5375,
          121.4333333,
          111.825,
          1.06,
          1.1,
          0.641666667,
          2.875,
          0,
          0,
          1.16,
          6.275,
          20.5125,
          17,
          7.95,
          37.30833333,
          20.5,
          29.52857143,
          81.04166667,
          90.71666667,
          138,
          36.95,
          257.5571429,
          119.7,
          145.025,
          331.925,
          224.85,
          0.7,
          390.25,
          162.6,
          495.976875,
          548.1158333,
          362.0820833,
          231.930825,
          348.89625,
          668.059375,
          720.685,
          494.2308333,
          660.4209722,
          344.9870574,
          807.730625,
          686.5218056,
          283.5187083,
          731.0560601,
          758.5559722,
          311.9571875,
          65.25650694,
          680.2162963,
          553.8976389,
          759.1180556,
          125.3498833,
          705.9779433,
          858.0342233,
          461.5933333,
          503.2675,
          460.2133333,
          171.3137375,
          901.7844444
         ],
         "xaxis": "x2",
         "y": [
          5,
          2,
          1,
          1,
          3,
          2,
          2,
          1,
          3,
          5,
          6,
          13,
          4,
          1,
          3,
          2,
          6,
          6,
          8,
          2,
          3,
          5,
          3,
          1,
          1,
          3,
          1,
          1,
          2,
          1,
          4,
          3,
          4,
          2,
          2,
          5,
          2,
          4,
          7,
          2,
          2,
          10,
          1,
          1,
          4,
          5,
          3,
          1,
          4,
          2,
          9,
          1,
          2,
          3,
          2,
          2,
          1,
          1,
          2,
          4,
          11,
          10,
          6,
          7,
          2,
          3,
          2,
          5,
          1,
          6,
          2,
          1,
          1,
          5,
          2,
          4,
          1,
          1,
          6,
          1,
          7,
          6,
          3,
          5,
          1,
          7,
          8,
          2,
          6,
          1,
          1,
          2,
          3,
          4,
          1,
          3,
          5,
          1,
          2,
          1,
          1,
          3,
          4,
          2,
          3,
          9,
          5,
          3,
          4,
          12,
          9,
          3,
          3,
          4,
          9,
          2,
          1,
          2,
          1,
          9,
          3
         ],
         "yaxis": "y2"
        },
        {
         "marker": {
          "color": "#1F15D5",
          "showscale": false,
          "size": 8,
          "symbol": [
           2,
           2,
           2,
           2,
           102,
           2,
           102,
           102,
           102,
           2,
           102,
           2,
           2,
           102,
           102,
           102,
           2,
           102,
           102,
           102,
           102,
           2,
           2,
           102,
           102,
           2,
           102,
           102,
           102,
           102,
           102,
           2,
           2,
           102,
           102,
           102,
           102,
           102,
           102,
           2,
           102,
           2,
           2,
           2,
           102,
           2,
           2,
           102,
           102,
           102,
           2,
           102,
           2,
           2,
           2,
           2,
           102,
           102,
           102,
           102,
           102,
           2,
           2,
           2,
           2,
           102,
           2,
           102,
           102,
           102,
           102,
           102,
           102,
           102,
           102,
           102,
           102,
           102,
           102,
           102,
           102,
           102,
           102,
           102,
           102,
           102,
           102,
           102,
           2,
           2,
           102,
           2,
           2,
           102,
           102,
           102,
           2,
           2,
           2,
           2,
           2,
           2,
           102,
           102,
           102,
           102,
           102,
           2,
           102,
           102,
           102,
           2,
           102,
           102,
           102,
           2,
           2,
           2,
           2,
           102,
           2
          ]
         },
         "mode": "markers",
         "type": "scatter",
         "x": [
          3.898,
          2.87,
          3.92,
          1.0375,
          3.178333333,
          12.7975,
          3.61,
          4.44,
          8.081666667,
          9.666,
          4.959166667,
          5.921538462,
          7.6325,
          3.835,
          4.936666667,
          2.53,
          10.7125,
          5.559166667,
          8.029375,
          5.945,
          2.938333333,
          2.255,
          6.473333333,
          6.37,
          5.775,
          9.99,
          2.745,
          2.28,
          13.255,
          11.225,
          5.35125,
          12.47833333,
          2.09875,
          2.5025,
          3.29,
          3.626,
          2.1425,
          2.12625,
          3.983571429,
          8.8,
          2.5775,
          8.3855,
          10.4,
          5.765,
          5.54875,
          2.624,
          8.143333333,
          1.895,
          7.53375,
          2.4875,
          8.665,
          3.495,
          4.045,
          2.126666667,
          1.9525,
          1.257,
          2.815,
          1.255,
          2.42,
          2.08125,
          7.459545455,
          2.3235,
          4.328333333,
          5.53,
          1.755,
          2.11875,
          4.805325,
          1.20006,
          1.5255,
          4.9833,
          4.2714,
          3.8646,
          5.13585,
          7.94277,
          3.686625,
          3.1908375,
          2.28825,
          3.5595,
          1.635675,
          2.69505,
          4.758107143,
          5.466375,
          5.5935,
          1.46448,
          2.89845,
          3.668464286,
          4.4748,
          3.3561,
          3.771375,
          4.5765,
          3.2544,
          6.05115,
          5.7969,
          2.843723958,
          1.548304167,
          1.2982875,
          1.672135,
          1.629116667,
          1.292145833,
          2.497654167,
          1.980245833,
          2.390784722,
          2.492476234,
          2.676545833,
          2.280898611,
          2.6998875,
          2.125788935,
          2.046325,
          1.994790625,
          1.885221528,
          1.799315741,
          2.772544444,
          2.835897222,
          2.128888542,
          2.10706777,
          2.590837823,
          1.624341667,
          2.005966667,
          1.560375,
          1.618489352,
          1.598276389
         ],
         "xaxis": "x3",
         "y": [
          5,
          2,
          1,
          1,
          3,
          2,
          2,
          1,
          3,
          5,
          6,
          13,
          4,
          1,
          3,
          2,
          6,
          6,
          8,
          2,
          3,
          5,
          3,
          1,
          1,
          3,
          1,
          1,
          2,
          1,
          4,
          3,
          4,
          2,
          2,
          5,
          2,
          4,
          7,
          2,
          2,
          10,
          1,
          1,
          4,
          5,
          3,
          1,
          4,
          2,
          9,
          1,
          2,
          3,
          2,
          2,
          1,
          1,
          2,
          4,
          11,
          10,
          6,
          7,
          2,
          3,
          2,
          5,
          1,
          6,
          2,
          1,
          1,
          5,
          2,
          4,
          1,
          1,
          6,
          1,
          7,
          6,
          3,
          5,
          1,
          7,
          8,
          2,
          6,
          1,
          1,
          2,
          3,
          4,
          1,
          3,
          5,
          1,
          2,
          1,
          1,
          3,
          4,
          2,
          3,
          9,
          5,
          3,
          4,
          12,
          9,
          3,
          3,
          4,
          9,
          2,
          1,
          2,
          1,
          9,
          3
         ],
         "yaxis": "y3"
        }
       ],
       "layout": {
        "height": 800,
        "showlegend": false,
        "template": {
         "data": {
          "bar": [
           {
            "error_x": {
             "color": "#2a3f5f"
            },
            "error_y": {
             "color": "#2a3f5f"
            },
            "marker": {
             "line": {
              "color": "#E5ECF6",
              "width": 0.5
             },
             "pattern": {
              "fillmode": "overlay",
              "size": 10,
              "solidity": 0.2
             }
            },
            "type": "bar"
           }
          ],
          "barpolar": [
           {
            "marker": {
             "line": {
              "color": "#E5ECF6",
              "width": 0.5
             },
             "pattern": {
              "fillmode": "overlay",
              "size": 10,
              "solidity": 0.2
             }
            },
            "type": "barpolar"
           }
          ],
          "carpet": [
           {
            "aaxis": {
             "endlinecolor": "#2a3f5f",
             "gridcolor": "white",
             "linecolor": "white",
             "minorgridcolor": "white",
             "startlinecolor": "#2a3f5f"
            },
            "baxis": {
             "endlinecolor": "#2a3f5f",
             "gridcolor": "white",
             "linecolor": "white",
             "minorgridcolor": "white",
             "startlinecolor": "#2a3f5f"
            },
            "type": "carpet"
           }
          ],
          "choropleth": [
           {
            "colorbar": {
             "outlinewidth": 0,
             "ticks": ""
            },
            "type": "choropleth"
           }
          ],
          "contour": [
           {
            "colorbar": {
             "outlinewidth": 0,
             "ticks": ""
            },
            "colorscale": [
             [
              0,
              "#0d0887"
             ],
             [
              0.1111111111111111,
              "#46039f"
             ],
             [
              0.2222222222222222,
              "#7201a8"
             ],
             [
              0.3333333333333333,
              "#9c179e"
             ],
             [
              0.4444444444444444,
              "#bd3786"
             ],
             [
              0.5555555555555556,
              "#d8576b"
             ],
             [
              0.6666666666666666,
              "#ed7953"
             ],
             [
              0.7777777777777778,
              "#fb9f3a"
             ],
             [
              0.8888888888888888,
              "#fdca26"
             ],
             [
              1,
              "#f0f921"
             ]
            ],
            "type": "contour"
           }
          ],
          "contourcarpet": [
           {
            "colorbar": {
             "outlinewidth": 0,
             "ticks": ""
            },
            "type": "contourcarpet"
           }
          ],
          "heatmap": [
           {
            "colorbar": {
             "outlinewidth": 0,
             "ticks": ""
            },
            "colorscale": [
             [
              0,
              "#0d0887"
             ],
             [
              0.1111111111111111,
              "#46039f"
             ],
             [
              0.2222222222222222,
              "#7201a8"
             ],
             [
              0.3333333333333333,
              "#9c179e"
             ],
             [
              0.4444444444444444,
              "#bd3786"
             ],
             [
              0.5555555555555556,
              "#d8576b"
             ],
             [
              0.6666666666666666,
              "#ed7953"
             ],
             [
              0.7777777777777778,
              "#fb9f3a"
             ],
             [
              0.8888888888888888,
              "#fdca26"
             ],
             [
              1,
              "#f0f921"
             ]
            ],
            "type": "heatmap"
           }
          ],
          "heatmapgl": [
           {
            "colorbar": {
             "outlinewidth": 0,
             "ticks": ""
            },
            "colorscale": [
             [
              0,
              "#0d0887"
             ],
             [
              0.1111111111111111,
              "#46039f"
             ],
             [
              0.2222222222222222,
              "#7201a8"
             ],
             [
              0.3333333333333333,
              "#9c179e"
             ],
             [
              0.4444444444444444,
              "#bd3786"
             ],
             [
              0.5555555555555556,
              "#d8576b"
             ],
             [
              0.6666666666666666,
              "#ed7953"
             ],
             [
              0.7777777777777778,
              "#fb9f3a"
             ],
             [
              0.8888888888888888,
              "#fdca26"
             ],
             [
              1,
              "#f0f921"
             ]
            ],
            "type": "heatmapgl"
           }
          ],
          "histogram": [
           {
            "marker": {
             "pattern": {
              "fillmode": "overlay",
              "size": 10,
              "solidity": 0.2
             }
            },
            "type": "histogram"
           }
          ],
          "histogram2d": [
           {
            "colorbar": {
             "outlinewidth": 0,
             "ticks": ""
            },
            "colorscale": [
             [
              0,
              "#0d0887"
             ],
             [
              0.1111111111111111,
              "#46039f"
             ],
             [
              0.2222222222222222,
              "#7201a8"
             ],
             [
              0.3333333333333333,
              "#9c179e"
             ],
             [
              0.4444444444444444,
              "#bd3786"
             ],
             [
              0.5555555555555556,
              "#d8576b"
             ],
             [
              0.6666666666666666,
              "#ed7953"
             ],
             [
              0.7777777777777778,
              "#fb9f3a"
             ],
             [
              0.8888888888888888,
              "#fdca26"
             ],
             [
              1,
              "#f0f921"
             ]
            ],
            "type": "histogram2d"
           }
          ],
          "histogram2dcontour": [
           {
            "colorbar": {
             "outlinewidth": 0,
             "ticks": ""
            },
            "colorscale": [
             [
              0,
              "#0d0887"
             ],
             [
              0.1111111111111111,
              "#46039f"
             ],
             [
              0.2222222222222222,
              "#7201a8"
             ],
             [
              0.3333333333333333,
              "#9c179e"
             ],
             [
              0.4444444444444444,
              "#bd3786"
             ],
             [
              0.5555555555555556,
              "#d8576b"
             ],
             [
              0.6666666666666666,
              "#ed7953"
             ],
             [
              0.7777777777777778,
              "#fb9f3a"
             ],
             [
              0.8888888888888888,
              "#fdca26"
             ],
             [
              1,
              "#f0f921"
             ]
            ],
            "type": "histogram2dcontour"
           }
          ],
          "mesh3d": [
           {
            "colorbar": {
             "outlinewidth": 0,
             "ticks": ""
            },
            "type": "mesh3d"
           }
          ],
          "parcoords": [
           {
            "line": {
             "colorbar": {
              "outlinewidth": 0,
              "ticks": ""
             }
            },
            "type": "parcoords"
           }
          ],
          "pie": [
           {
            "automargin": true,
            "type": "pie"
           }
          ],
          "scatter": [
           {
            "marker": {
             "colorbar": {
              "outlinewidth": 0,
              "ticks": ""
             }
            },
            "type": "scatter"
           }
          ],
          "scatter3d": [
           {
            "line": {
             "colorbar": {
              "outlinewidth": 0,
              "ticks": ""
             }
            },
            "marker": {
             "colorbar": {
              "outlinewidth": 0,
              "ticks": ""
             }
            },
            "type": "scatter3d"
           }
          ],
          "scattercarpet": [
           {
            "marker": {
             "colorbar": {
              "outlinewidth": 0,
              "ticks": ""
             }
            },
            "type": "scattercarpet"
           }
          ],
          "scattergeo": [
           {
            "marker": {
             "colorbar": {
              "outlinewidth": 0,
              "ticks": ""
             }
            },
            "type": "scattergeo"
           }
          ],
          "scattergl": [
           {
            "marker": {
             "colorbar": {
              "outlinewidth": 0,
              "ticks": ""
             }
            },
            "type": "scattergl"
           }
          ],
          "scattermapbox": [
           {
            "marker": {
             "colorbar": {
              "outlinewidth": 0,
              "ticks": ""
             }
            },
            "type": "scattermapbox"
           }
          ],
          "scatterpolar": [
           {
            "marker": {
             "colorbar": {
              "outlinewidth": 0,
              "ticks": ""
             }
            },
            "type": "scatterpolar"
           }
          ],
          "scatterpolargl": [
           {
            "marker": {
             "colorbar": {
              "outlinewidth": 0,
              "ticks": ""
             }
            },
            "type": "scatterpolargl"
           }
          ],
          "scatterternary": [
           {
            "marker": {
             "colorbar": {
              "outlinewidth": 0,
              "ticks": ""
             }
            },
            "type": "scatterternary"
           }
          ],
          "surface": [
           {
            "colorbar": {
             "outlinewidth": 0,
             "ticks": ""
            },
            "colorscale": [
             [
              0,
              "#0d0887"
             ],
             [
              0.1111111111111111,
              "#46039f"
             ],
             [
              0.2222222222222222,
              "#7201a8"
             ],
             [
              0.3333333333333333,
              "#9c179e"
             ],
             [
              0.4444444444444444,
              "#bd3786"
             ],
             [
              0.5555555555555556,
              "#d8576b"
             ],
             [
              0.6666666666666666,
              "#ed7953"
             ],
             [
              0.7777777777777778,
              "#fb9f3a"
             ],
             [
              0.8888888888888888,
              "#fdca26"
             ],
             [
              1,
              "#f0f921"
             ]
            ],
            "type": "surface"
           }
          ],
          "table": [
           {
            "cells": {
             "fill": {
              "color": "#EBF0F8"
             },
             "line": {
              "color": "white"
             }
            },
            "header": {
             "fill": {
              "color": "#C8D4E3"
             },
             "line": {
              "color": "white"
             }
            },
            "type": "table"
           }
          ]
         },
         "layout": {
          "annotationdefaults": {
           "arrowcolor": "#2a3f5f",
           "arrowhead": 0,
           "arrowwidth": 1
          },
          "autotypenumbers": "strict",
          "coloraxis": {
           "colorbar": {
            "outlinewidth": 0,
            "ticks": ""
           }
          },
          "colorscale": {
           "diverging": [
            [
             0,
             "#8e0152"
            ],
            [
             0.1,
             "#c51b7d"
            ],
            [
             0.2,
             "#de77ae"
            ],
            [
             0.3,
             "#f1b6da"
            ],
            [
             0.4,
             "#fde0ef"
            ],
            [
             0.5,
             "#f7f7f7"
            ],
            [
             0.6,
             "#e6f5d0"
            ],
            [
             0.7,
             "#b8e186"
            ],
            [
             0.8,
             "#7fbc41"
            ],
            [
             0.9,
             "#4d9221"
            ],
            [
             1,
             "#276419"
            ]
           ],
           "sequential": [
            [
             0,
             "#0d0887"
            ],
            [
             0.1111111111111111,
             "#46039f"
            ],
            [
             0.2222222222222222,
             "#7201a8"
            ],
            [
             0.3333333333333333,
             "#9c179e"
            ],
            [
             0.4444444444444444,
             "#bd3786"
            ],
            [
             0.5555555555555556,
             "#d8576b"
            ],
            [
             0.6666666666666666,
             "#ed7953"
            ],
            [
             0.7777777777777778,
             "#fb9f3a"
            ],
            [
             0.8888888888888888,
             "#fdca26"
            ],
            [
             1,
             "#f0f921"
            ]
           ],
           "sequentialminus": [
            [
             0,
             "#0d0887"
            ],
            [
             0.1111111111111111,
             "#46039f"
            ],
            [
             0.2222222222222222,
             "#7201a8"
            ],
            [
             0.3333333333333333,
             "#9c179e"
            ],
            [
             0.4444444444444444,
             "#bd3786"
            ],
            [
             0.5555555555555556,
             "#d8576b"
            ],
            [
             0.6666666666666666,
             "#ed7953"
            ],
            [
             0.7777777777777778,
             "#fb9f3a"
            ],
            [
             0.8888888888888888,
             "#fdca26"
            ],
            [
             1,
             "#f0f921"
            ]
           ]
          },
          "colorway": [
           "#636efa",
           "#EF553B",
           "#00cc96",
           "#ab63fa",
           "#FFA15A",
           "#19d3f3",
           "#FF6692",
           "#B6E880",
           "#FF97FF",
           "#FECB52"
          ],
          "font": {
           "color": "#2a3f5f"
          },
          "geo": {
           "bgcolor": "white",
           "lakecolor": "white",
           "landcolor": "#E5ECF6",
           "showlakes": true,
           "showland": true,
           "subunitcolor": "white"
          },
          "hoverlabel": {
           "align": "left"
          },
          "hovermode": "closest",
          "mapbox": {
           "style": "light"
          },
          "paper_bgcolor": "white",
          "plot_bgcolor": "#E5ECF6",
          "polar": {
           "angularaxis": {
            "gridcolor": "white",
            "linecolor": "white",
            "ticks": ""
           },
           "bgcolor": "#E5ECF6",
           "radialaxis": {
            "gridcolor": "white",
            "linecolor": "white",
            "ticks": ""
           }
          },
          "scene": {
           "xaxis": {
            "backgroundcolor": "#E5ECF6",
            "gridcolor": "white",
            "gridwidth": 2,
            "linecolor": "white",
            "showbackground": true,
            "ticks": "",
            "zerolinecolor": "white"
           },
           "yaxis": {
            "backgroundcolor": "#E5ECF6",
            "gridcolor": "white",
            "gridwidth": 2,
            "linecolor": "white",
            "showbackground": true,
            "ticks": "",
            "zerolinecolor": "white"
           },
           "zaxis": {
            "backgroundcolor": "#E5ECF6",
            "gridcolor": "white",
            "gridwidth": 2,
            "linecolor": "white",
            "showbackground": true,
            "ticks": "",
            "zerolinecolor": "white"
           }
          },
          "shapedefaults": {
           "line": {
            "color": "#2a3f5f"
           }
          },
          "ternary": {
           "aaxis": {
            "gridcolor": "white",
            "linecolor": "white",
            "ticks": ""
           },
           "baxis": {
            "gridcolor": "white",
            "linecolor": "white",
            "ticks": ""
           },
           "bgcolor": "#E5ECF6",
           "caxis": {
            "gridcolor": "white",
            "linecolor": "white",
            "ticks": ""
           }
          },
          "title": {
           "x": 0.05
          },
          "xaxis": {
           "automargin": true,
           "gridcolor": "white",
           "linecolor": "white",
           "ticks": "",
           "title": {
            "standoff": 15
           },
           "zerolinecolor": "white",
           "zerolinewidth": 2
          },
          "yaxis": {
           "automargin": true,
           "gridcolor": "white",
           "linecolor": "white",
           "ticks": "",
           "title": {
            "standoff": 15
           },
           "zerolinecolor": "white",
           "zerolinewidth": 2
          }
         }
        },
        "title": {
         "text": "Duration of Unloading Event for All Sites"
        },
        "width": 1000,
        "xaxis": {
         "anchor": "y",
         "domain": [
          0,
          1
         ],
         "range": [
          -35,
          8
         ],
         "title": {
          "text": "Air Temperature (C)"
         }
        },
        "xaxis2": {
         "anchor": "y2",
         "domain": [
          0,
          1
         ],
         "range": [
          -50,
          1200
         ],
         "title": {
          "text": "Shortwave (W/m2)"
         }
        },
        "xaxis3": {
         "anchor": "y3",
         "domain": [
          0,
          1
         ],
         "range": [
          -0.5,
          15
         ],
         "title": {
          "text": "Wind Speed (m/s)"
         }
        },
        "yaxis": {
         "anchor": "x",
         "domain": [
          0.72,
          1
         ],
         "range": [
          -0.5,
          12.55
         ],
         "title": {
          "text": ""
         }
        },
        "yaxis2": {
         "anchor": "x2",
         "domain": [
          0.36,
          0.6399999999999999
         ],
         "range": [
          -0.5,
          12.55
         ],
         "title": {
          "text": "duration of unloading event (hours)"
         }
        },
        "yaxis3": {
         "anchor": "x3",
         "domain": [
          0,
          0.27999999999999997
         ],
         "range": [
          -0.5,
          12.55
         ],
         "title": {
          "text": ""
         }
        }
       }
      }
     },
     "metadata": {},
     "output_type": "display_data"
    }
   ],
   "source": [
    "fig = make_subplots(rows=3, cols=1, \n",
    "                    # subplot_titles=(\"All Wind Speeds\", \"Wind Speeds < 5 m/s\"), \n",
    "                    shared_xaxes=False, shared_yaxes=True, \n",
    "                    vertical_spacing=0.08, horizontal_spacing=0.2,\n",
    ")\n",
    "\n",
    "markersize = 8\n",
    "\n",
    "# All sites with temperature\n",
    "fig.add_trace(\n",
    "    go.Scatter(\n",
    "        x = df_all['temp'],\n",
    "        y = df_all['count'],\n",
    "        mode='markers',\n",
    "        marker=dict(\n",
    "        size=markersize,\n",
    "        color=colorsnowunload, \n",
    "        # colorscale=colorscaled, \n",
    "        symbol=df_all['TypeSymbol'],\n",
    "        showscale=False\n",
    "        )\n",
    "    ), row=1, col=1\n",
    ")\n",
    "\n",
    "# All sites with shortwave\n",
    "fig.add_trace(\n",
    "    go.Scatter(\n",
    "        x = df_all['shortwave'],\n",
    "        y = df_all['count'],\n",
    "        mode='markers',\n",
    "        marker=dict(\n",
    "        size=markersize,\n",
    "        color=colorsnowunload, \n",
    "        # colorscale=colorscaled, \n",
    "        symbol=df_all['TypeSymbol'],\n",
    "        showscale=False\n",
    "        )\n",
    "    ), row=2, col=1\n",
    ")\n",
    "\n",
    "# All sites with wind speed\n",
    "fig.add_trace(\n",
    "    go.Scatter(\n",
    "        x = df_all['windspeed'],\n",
    "        y = df_all['count'],\n",
    "        mode='markers',\n",
    "        marker=dict(\n",
    "        size=markersize,\n",
    "        color=colorsnowunload, \n",
    "        # colorscale=colorscaled, \n",
    "        symbol=df_all['TypeSymbol'],\n",
    "        showscale=False\n",
    "        )\n",
    "    ), row=3, col=1\n",
    ")\n",
    "\n",
    "fig.update_yaxes(title_text = \"\", range=[-0.5,12.55],  row=1, col=1) \n",
    "fig.update_yaxes(title_text = \"duration of unloading event (hours)\", range=[-0.5,12.55],  row=2, col=1) \n",
    "fig.update_yaxes(title_text = \"\", range=[-0.5,12.55],  row=3, col=1) \n",
    "\n",
    "fig.update_xaxes(title_text = nametemp, range=[-35,8],    row=1, col=1) \n",
    "fig.update_xaxes(title_text = nameSW,   range=[-50,1200], row=2, col=1)\n",
    "fig.update_xaxes(title_text = namewind, range=[-.5,15],  row=3, col=1)\n",
    "\n",
    "fig.update_layout(title='Duration of Unloading Event for All Sites', width=1000, height=800, showlegend=False)\n",
    "fig.show()"
   ]
  },
  {
   "cell_type": "code",
   "execution_count": 95,
   "id": "79d290d0",
   "metadata": {},
   "outputs": [
    {
     "data": {
      "text/html": [
       "<div>\n",
       "<style scoped>\n",
       "    .dataframe tbody tr th:only-of-type {\n",
       "        vertical-align: middle;\n",
       "    }\n",
       "\n",
       "    .dataframe tbody tr th {\n",
       "        vertical-align: top;\n",
       "    }\n",
       "\n",
       "    .dataframe thead th {\n",
       "        text-align: right;\n",
       "    }\n",
       "</style>\n",
       "<table border=\"1\" class=\"dataframe\">\n",
       "  <thead>\n",
       "    <tr style=\"text-align: right;\">\n",
       "      <th></th>\n",
       "      <th>event</th>\n",
       "      <th>time_min</th>\n",
       "      <th>time_max</th>\n",
       "      <th>count</th>\n",
       "      <th>shortwave</th>\n",
       "      <th>temp</th>\n",
       "      <th>windspeed</th>\n",
       "      <th>CD</th>\n",
       "      <th>Type</th>\n",
       "      <th>TypeSymbol</th>\n",
       "    </tr>\n",
       "    <tr>\n",
       "      <th>datetime</th>\n",
       "      <th></th>\n",
       "      <th></th>\n",
       "      <th></th>\n",
       "      <th></th>\n",
       "      <th></th>\n",
       "      <th></th>\n",
       "      <th></th>\n",
       "      <th></th>\n",
       "      <th></th>\n",
       "      <th></th>\n",
       "    </tr>\n",
       "  </thead>\n",
       "  <tbody>\n",
       "    <tr>\n",
       "      <th>2016-10-06 15:00:00</th>\n",
       "      <td>2</td>\n",
       "      <td>10/6/2016 11:00</td>\n",
       "      <td>10/6/2016 15:00</td>\n",
       "      <td>5</td>\n",
       "      <td>513.968000</td>\n",
       "      <td>-1.542600</td>\n",
       "      <td>3.898000</td>\n",
       "      <td>0.0</td>\n",
       "      <td>2.0</td>\n",
       "      <td>2.0</td>\n",
       "    </tr>\n",
       "    <tr>\n",
       "      <th>2016-10-12 10:00:00</th>\n",
       "      <td>4</td>\n",
       "      <td>10/12/2016 9:00</td>\n",
       "      <td>10/12/2016 10:00</td>\n",
       "      <td>2</td>\n",
       "      <td>683.805000</td>\n",
       "      <td>3.717500</td>\n",
       "      <td>2.870000</td>\n",
       "      <td>0.0</td>\n",
       "      <td>2.0</td>\n",
       "      <td>2.0</td>\n",
       "    </tr>\n",
       "    <tr>\n",
       "      <th>2016-10-19 09:00:00</th>\n",
       "      <td>6</td>\n",
       "      <td>10/19/2016 9:00</td>\n",
       "      <td>10/19/2016 9:00</td>\n",
       "      <td>1</td>\n",
       "      <td>394.135000</td>\n",
       "      <td>-2.545000</td>\n",
       "      <td>3.920000</td>\n",
       "      <td>0.0</td>\n",
       "      <td>2.0</td>\n",
       "      <td>2.0</td>\n",
       "    </tr>\n",
       "    <tr>\n",
       "      <th>2016-11-02 08:00:00</th>\n",
       "      <td>8</td>\n",
       "      <td>11/2/2016 8:00</td>\n",
       "      <td>11/2/2016 8:00</td>\n",
       "      <td>1</td>\n",
       "      <td>333.890000</td>\n",
       "      <td>0.783000</td>\n",
       "      <td>1.037500</td>\n",
       "      <td>0.0</td>\n",
       "      <td>2.0</td>\n",
       "      <td>2.0</td>\n",
       "    </tr>\n",
       "    <tr>\n",
       "      <th>2016-11-18 14:00:00</th>\n",
       "      <td>10</td>\n",
       "      <td>11/18/2016 12:00</td>\n",
       "      <td>11/18/2016 14:00</td>\n",
       "      <td>3</td>\n",
       "      <td>499.726667</td>\n",
       "      <td>-8.328333</td>\n",
       "      <td>3.178333</td>\n",
       "      <td>0.0</td>\n",
       "      <td>1.0</td>\n",
       "      <td>102.0</td>\n",
       "    </tr>\n",
       "  </tbody>\n",
       "</table>\n",
       "</div>"
      ],
      "text/plain": [
       "                     event          time_min          time_max  count  \\\n",
       "datetime                                                                \n",
       "2016-10-06 15:00:00      2   10/6/2016 11:00   10/6/2016 15:00      5   \n",
       "2016-10-12 10:00:00      4   10/12/2016 9:00  10/12/2016 10:00      2   \n",
       "2016-10-19 09:00:00      6   10/19/2016 9:00   10/19/2016 9:00      1   \n",
       "2016-11-02 08:00:00      8    11/2/2016 8:00    11/2/2016 8:00      1   \n",
       "2016-11-18 14:00:00     10  11/18/2016 12:00  11/18/2016 14:00      3   \n",
       "\n",
       "                      shortwave      temp  windspeed   CD  Type  TypeSymbol  \n",
       "datetime                                                                     \n",
       "2016-10-06 15:00:00  513.968000 -1.542600   3.898000  0.0   2.0         2.0  \n",
       "2016-10-12 10:00:00  683.805000  3.717500   2.870000  0.0   2.0         2.0  \n",
       "2016-10-19 09:00:00  394.135000 -2.545000   3.920000  0.0   2.0         2.0  \n",
       "2016-11-02 08:00:00  333.890000  0.783000   1.037500  0.0   2.0         2.0  \n",
       "2016-11-18 14:00:00  499.726667 -8.328333   3.178333  0.0   1.0       102.0  "
      ]
     },
     "execution_count": 95,
     "metadata": {},
     "output_type": "execute_result"
    }
   ],
   "source": [
    "df_all.head()"
   ]
  },
  {
   "cell_type": "code",
   "execution_count": 96,
   "id": "401b5631",
   "metadata": {},
   "outputs": [],
   "source": [
    "# niwot_df_unload_negative = niwot_df_unload.where(niwot_df_unload.temp < 0).dropna(axis=0, how='any', subset=['CD']) # threshold right at 0\n",
    "df_all_negative = df_all.where(df_all.temp < -1).dropna(axis=0, how='any', subset=['CD']) # threshold at -1, negative only\n",
    "df_all_positive = df_all.where(df_all.temp > 0).dropna(axis=0, how='any', subset=['CD']) # threshold at 0, positive only\n",
    "\n",
    "df_all_negative_full = df_all.where((df_all.temp < -1) & (df_all.Type == 2)).dropna(axis=0, how='any', subset=['CD']) # threshold at -1, negative only full unloading\n",
    "df_all_negative_part = df_all.where((df_all.temp < -1) & (df_all.Type == 1)).dropna(axis=0, how='any', subset=['CD']) # threshold at -1, negative only part unloading\n",
    "\n",
    "df_all_positive_full = df_all.where((df_all.temp > 0) & (df_all.Type == 2)).dropna(axis=0, how='any', subset=['CD']) # threshold at 0, positive only full unloading\n",
    "df_all_positive_part = df_all.where((df_all.temp > 0) & (df_all.Type == 1)).dropna(axis=0, how='any', subset=['CD']) # threshold at 0, positive only part unloading\n",
    "\n",
    "# niwot_df_unload_windlow = niwot_df_unload.where(niwot_df_unload.windspeed < 5).dropna(axis=0, how='any', subset=['CD'])\n",
    "# niwot_df_unload_windhigh = niwot_df_unload.where(niwot_df_unload.windspeed >= 5).dropna(axis=0, how='any', subset=['CD'])"
   ]
  },
  {
   "cell_type": "code",
   "execution_count": 97,
   "id": "4f16f79c",
   "metadata": {},
   "outputs": [
    {
     "data": {
      "application/vnd.plotly.v1+json": {
       "config": {
        "plotlyServerURL": "https://plot.ly"
       },
       "data": [
        {
         "marker": {
          "color": "#1F15D5",
          "showscale": false,
          "size": 8,
          "symbol": [
           2,
           2,
           102,
           2,
           102,
           102,
           102,
           2,
           102,
           2,
           2,
           102,
           102,
           102,
           2,
           102,
           102,
           2,
           102,
           102,
           2,
           102,
           102,
           102,
           102,
           102,
           2,
           2,
           102,
           102,
           102,
           102,
           2,
           102,
           2,
           2,
           102,
           2,
           2,
           102,
           102,
           102,
           2,
           102,
           2,
           102,
           102,
           102,
           102,
           102,
           102,
           102,
           102,
           102,
           102,
           102,
           102,
           102,
           102,
           102,
           102,
           102,
           102,
           102,
           102,
           102,
           102,
           102,
           102,
           102,
           102,
           102,
           102,
           102,
           102,
           102,
           102,
           102,
           102
          ]
         },
         "mode": "markers",
         "type": "scatter",
         "x": [
          -1.5426,
          -2.545,
          -8.328333333,
          -8.655,
          -7.8575,
          -17.62,
          -11.23833333,
          -2.53,
          -7.315,
          -4.343692308,
          -17.75875,
          -8.31,
          -6.005,
          -18.63,
          -16.625,
          -6.35125,
          -6.0925,
          -1.045333333,
          -3.24,
          -2.915,
          -4.235,
          -9.585,
          -13.625,
          -15.8375,
          -14.15,
          -10.44875,
          -10.62333333,
          -2.10875,
          -1.6125,
          -2.1875,
          -5.42,
          -2.90875,
          -4.12,
          -7.6875,
          -5.394,
          -4.085,
          -1.7835,
          -1.6773,
          -3.743333333,
          -3.015,
          -3.64375,
          -9.26,
          -3.458611111,
          -2.65,
          -3.586666667,
          -4.42,
          -4.975,
          -4.895,
          -5.0425,
          -1.041363636,
          -1.72,
          -6.85,
          -1.691666667,
          -6.9,
          -7.2,
          -12.45,
          -6.69,
          -11.9,
          -13.9,
          -8.9,
          -16.95,
          -2.7,
          -2.95,
          -8.764285714,
          -2.3,
          -1.164285714,
          -1.875,
          -1.475,
          -1.1,
          -8.245441667,
          -3.012491667,
          -2.911902092,
          -3.262133333,
          -2.551411111,
          -2.928713889,
          -5.982351042,
          -7.076153472,
          -1.8793875,
          -3.758180208
         ],
         "xaxis": "x",
         "y": [
          5,
          1,
          3,
          2,
          2,
          1,
          3,
          5,
          6,
          13,
          4,
          1,
          3,
          2,
          6,
          8,
          2,
          3,
          1,
          1,
          3,
          1,
          1,
          2,
          1,
          4,
          3,
          4,
          2,
          2,
          2,
          4,
          2,
          2,
          10,
          1,
          4,
          5,
          3,
          1,
          4,
          2,
          9,
          1,
          3,
          1,
          1,
          2,
          4,
          11,
          5,
          1,
          6,
          2,
          1,
          1,
          5,
          2,
          4,
          1,
          1,
          6,
          1,
          7,
          1,
          7,
          8,
          2,
          1,
          4,
          1,
          4,
          2,
          3,
          9,
          4,
          12,
          3,
          4
         ],
         "yaxis": "y"
        },
        {
         "marker": {
          "color": "#1F15D5",
          "showscale": false,
          "size": 8,
          "symbol": [
           2,
           2,
           102,
           2,
           102,
           102,
           102,
           2,
           102,
           2,
           2,
           102,
           102,
           102,
           2,
           102,
           102,
           2,
           102,
           102,
           2,
           102,
           102,
           102,
           102,
           102,
           2,
           2,
           102,
           102,
           102,
           102,
           2,
           102,
           2,
           2,
           102,
           2,
           2,
           102,
           102,
           102,
           2,
           102,
           2,
           102,
           102,
           102,
           102,
           102,
           102,
           102,
           102,
           102,
           102,
           102,
           102,
           102,
           102,
           102,
           102,
           102,
           102,
           102,
           102,
           102,
           102,
           102,
           102,
           102,
           102,
           102,
           102,
           102,
           102,
           102,
           102,
           102,
           102
          ]
         },
         "mode": "markers",
         "type": "scatter",
         "x": [
          513.968,
          394.135,
          499.7266667,
          580.7075,
          114.895,
          61.205,
          380.1366667,
          87.5626,
          133.9991667,
          82.43123077,
          109.5125,
          32.29,
          50.52833333,
          127.745,
          388.2466667,
          73.89625,
          1.61775,
          605.885,
          176.225,
          66.88,
          424.4416667,
          474.965,
          18.45,
          483.17,
          633.27,
          242.1325,
          713.6266667,
          493.20875,
          509.5625,
          306.925,
          34.3175,
          202.5825,
          908.015,
          331.55,
          733.0865,
          794.195,
          862.53,
          607.258,
          566.6033333,
          11.815,
          589.23875,
          254.9625,
          816.8405556,
          130.515,
          472.5433333,
          43.585,
          59.34,
          190.595,
          270.35125,
          794.8963636,
          1.06,
          1.1,
          0.641666667,
          2.875,
          0,
          0,
          1.16,
          6.275,
          20.5125,
          17,
          7.95,
          37.30833333,
          20.5,
          29.52857143,
          36.95,
          257.5571429,
          119.7,
          145.025,
          0.7,
          495.976875,
          548.1158333,
          344.9870574,
          807.730625,
          686.5218056,
          283.5187083,
          311.9571875,
          65.25650694,
          759.1180556,
          125.3498833
         ],
         "xaxis": "x3",
         "y": [
          5,
          1,
          3,
          2,
          2,
          1,
          3,
          5,
          6,
          13,
          4,
          1,
          3,
          2,
          6,
          8,
          2,
          3,
          1,
          1,
          3,
          1,
          1,
          2,
          1,
          4,
          3,
          4,
          2,
          2,
          2,
          4,
          2,
          2,
          10,
          1,
          4,
          5,
          3,
          1,
          4,
          2,
          9,
          1,
          3,
          1,
          1,
          2,
          4,
          11,
          5,
          1,
          6,
          2,
          1,
          1,
          5,
          2,
          4,
          1,
          1,
          6,
          1,
          7,
          1,
          7,
          8,
          2,
          1,
          4,
          1,
          4,
          2,
          3,
          9,
          4,
          12,
          3,
          4
         ],
         "yaxis": "y3"
        },
        {
         "marker": {
          "color": "#1F15D5",
          "showscale": false,
          "size": 8,
          "symbol": [
           2,
           2,
           102,
           2,
           102,
           102,
           102,
           2,
           102,
           2,
           2,
           102,
           102,
           102,
           2,
           102,
           102,
           2,
           102,
           102,
           2,
           102,
           102,
           102,
           102,
           102,
           2,
           2,
           102,
           102,
           102,
           102,
           2,
           102,
           2,
           2,
           102,
           2,
           2,
           102,
           102,
           102,
           2,
           102,
           2,
           102,
           102,
           102,
           102,
           102,
           102,
           102,
           102,
           102,
           102,
           102,
           102,
           102,
           102,
           102,
           102,
           102,
           102,
           102,
           102,
           102,
           102,
           102,
           102,
           102,
           102,
           102,
           102,
           102,
           102,
           102,
           102,
           102,
           102
          ]
         },
         "mode": "markers",
         "type": "scatter",
         "x": [
          3.898,
          3.92,
          3.178333333,
          12.7975,
          3.61,
          4.44,
          8.081666667,
          9.666,
          4.959166667,
          5.921538462,
          7.6325,
          3.835,
          4.936666667,
          2.53,
          10.7125,
          8.029375,
          5.945,
          6.473333333,
          6.37,
          5.775,
          9.99,
          2.745,
          2.28,
          13.255,
          11.225,
          5.35125,
          12.47833333,
          2.09875,
          2.5025,
          3.29,
          2.1425,
          2.12625,
          8.8,
          2.5775,
          8.3855,
          10.4,
          5.54875,
          2.624,
          8.143333333,
          1.895,
          7.53375,
          2.4875,
          8.665,
          3.495,
          2.126666667,
          2.815,
          1.255,
          2.42,
          2.08125,
          7.459545455,
          1.20006,
          1.5255,
          4.9833,
          4.2714,
          3.8646,
          5.13585,
          7.94277,
          3.686625,
          3.1908375,
          2.28825,
          3.5595,
          1.635675,
          2.69505,
          4.758107143,
          2.89845,
          3.668464286,
          4.4748,
          3.3561,
          3.2544,
          2.843723958,
          1.548304167,
          2.492476234,
          2.676545833,
          2.280898611,
          2.6998875,
          1.994790625,
          1.885221528,
          2.835897222,
          2.128888542
         ],
         "xaxis": "x5",
         "y": [
          5,
          1,
          3,
          2,
          2,
          1,
          3,
          5,
          6,
          13,
          4,
          1,
          3,
          2,
          6,
          8,
          2,
          3,
          1,
          1,
          3,
          1,
          1,
          2,
          1,
          4,
          3,
          4,
          2,
          2,
          2,
          4,
          2,
          2,
          10,
          1,
          4,
          5,
          3,
          1,
          4,
          2,
          9,
          1,
          3,
          1,
          1,
          2,
          4,
          11,
          5,
          1,
          6,
          2,
          1,
          1,
          5,
          2,
          4,
          1,
          1,
          6,
          1,
          7,
          1,
          7,
          8,
          2,
          1,
          4,
          1,
          4,
          2,
          3,
          9,
          4,
          12,
          3,
          4
         ],
         "yaxis": "y5"
        },
        {
         "marker": {
          "color": "#1F15D5",
          "showscale": false,
          "size": 8,
          "symbol": [
           2,
           2,
           102,
           2,
           102,
           102,
           2,
           2,
           2,
           2,
           2,
           2,
           2,
           2,
           102,
           102,
           102,
           2,
           2,
           2,
           2,
           102,
           2,
           2,
           2,
           2,
           2,
           102,
           2,
           102,
           2,
           102,
           2,
           2,
           2,
           102,
           2
          ]
         },
         "mode": "markers",
         "type": "scatter",
         "x": [
          3.7175,
          0.783,
          1.490666667,
          3.906,
          1.0883,
          1.003071429,
          1.41,
          0.68825,
          0.78175,
          0.99875,
          2.596,
          1.707166667,
          0.0165,
          2.4,
          0.608333333,
          1.983333333,
          0.4,
          1.708333333,
          1.45,
          0.775,
          1.183333333,
          2.885173611,
          3.755580833,
          1.966270833,
          2.602745833,
          1.371179167,
          2.386268056,
          1.80320057,
          6.098255556,
          0.439040741,
          4.259456944,
          0.095193696,
          1.045287413,
          0.987025,
          3.20375,
          0.742500463,
          4.5117
         ],
         "xaxis": "x2",
         "y": [
          2,
          1,
          3,
          5,
          5,
          7,
          1,
          2,
          2,
          2,
          10,
          6,
          2,
          2,
          6,
          3,
          5,
          6,
          1,
          2,
          3,
          3,
          5,
          1,
          2,
          1,
          3,
          5,
          3,
          9,
          3,
          9,
          2,
          2,
          1,
          9,
          3
         ],
         "yaxis": "y2"
        },
        {
         "marker": {
          "color": "#1F15D5",
          "showscale": false,
          "size": 8,
          "symbol": [
           2,
           2,
           102,
           2,
           102,
           102,
           2,
           2,
           2,
           2,
           2,
           2,
           2,
           2,
           102,
           102,
           102,
           2,
           2,
           2,
           2,
           102,
           2,
           2,
           2,
           2,
           2,
           102,
           2,
           102,
           2,
           102,
           2,
           2,
           2,
           102,
           2
          ]
         },
         "mode": "markers",
         "type": "scatter",
         "x": [
          683.805,
          333.89,
          521.0416667,
          491.201,
          714.146,
          840.1735714,
          858.98,
          580.93,
          308.085,
          532.8125,
          412.7705,
          767.3541667,
          381.5375,
          111.825,
          81.04166667,
          90.71666667,
          138,
          331.925,
          224.85,
          390.25,
          162.6,
          362.0820833,
          231.930825,
          348.89625,
          668.059375,
          720.685,
          660.4209722,
          731.0560601,
          758.5559722,
          680.2162963,
          553.8976389,
          705.9779433,
          858.0342233,
          503.2675,
          460.2133333,
          171.3137375,
          901.7844444
         ],
         "xaxis": "x4",
         "y": [
          2,
          1,
          3,
          5,
          5,
          7,
          1,
          2,
          2,
          2,
          10,
          6,
          2,
          2,
          6,
          3,
          5,
          6,
          1,
          2,
          3,
          3,
          5,
          1,
          2,
          1,
          3,
          5,
          3,
          9,
          3,
          9,
          2,
          2,
          1,
          9,
          3
         ],
         "yaxis": "y4"
        },
        {
         "marker": {
          "color": "#1F15D5",
          "showscale": false,
          "size": 8,
          "symbol": [
           2,
           2,
           102,
           2,
           102,
           102,
           2,
           2,
           2,
           2,
           2,
           2,
           2,
           2,
           102,
           102,
           102,
           2,
           2,
           2,
           2,
           102,
           2,
           2,
           2,
           2,
           2,
           102,
           2,
           102,
           2,
           102,
           2,
           2,
           2,
           102,
           2
          ]
         },
         "mode": "markers",
         "type": "scatter",
         "x": [
          2.87,
          1.0375,
          2.938333333,
          2.255,
          3.626,
          3.983571429,
          5.765,
          4.045,
          1.9525,
          1.257,
          2.3235,
          4.328333333,
          1.755,
          4.805325,
          5.466375,
          5.5935,
          1.46448,
          3.771375,
          4.5765,
          6.05115,
          5.7969,
          1.2982875,
          1.672135,
          1.629116667,
          1.292145833,
          2.497654167,
          2.390784722,
          2.125788935,
          2.046325,
          1.799315741,
          2.772544444,
          2.10706777,
          2.590837823,
          2.005966667,
          1.560375,
          1.618489352,
          1.598276389
         ],
         "xaxis": "x6",
         "y": [
          2,
          1,
          3,
          5,
          5,
          7,
          1,
          2,
          2,
          2,
          10,
          6,
          2,
          2,
          6,
          3,
          5,
          6,
          1,
          2,
          3,
          3,
          5,
          1,
          2,
          1,
          3,
          5,
          3,
          9,
          3,
          9,
          2,
          2,
          1,
          9,
          3
         ],
         "yaxis": "y6"
        }
       ],
       "layout": {
        "annotations": [
         {
          "font": {
           "size": 16
          },
          "showarrow": false,
          "text": "Negative Temperatures (T < 0 C)",
          "x": 0.245,
          "xanchor": "center",
          "xref": "paper",
          "y": 1.0000000000000002,
          "yanchor": "bottom",
          "yref": "paper"
         },
         {
          "font": {
           "size": 16
          },
          "showarrow": false,
          "text": "Positive Temperatures (T > 0 C)",
          "x": 0.755,
          "xanchor": "center",
          "xref": "paper",
          "y": 1.0000000000000002,
          "yanchor": "bottom",
          "yref": "paper"
         }
        ],
        "height": 800,
        "showlegend": false,
        "template": {
         "data": {
          "bar": [
           {
            "error_x": {
             "color": "#2a3f5f"
            },
            "error_y": {
             "color": "#2a3f5f"
            },
            "marker": {
             "line": {
              "color": "#E5ECF6",
              "width": 0.5
             },
             "pattern": {
              "fillmode": "overlay",
              "size": 10,
              "solidity": 0.2
             }
            },
            "type": "bar"
           }
          ],
          "barpolar": [
           {
            "marker": {
             "line": {
              "color": "#E5ECF6",
              "width": 0.5
             },
             "pattern": {
              "fillmode": "overlay",
              "size": 10,
              "solidity": 0.2
             }
            },
            "type": "barpolar"
           }
          ],
          "carpet": [
           {
            "aaxis": {
             "endlinecolor": "#2a3f5f",
             "gridcolor": "white",
             "linecolor": "white",
             "minorgridcolor": "white",
             "startlinecolor": "#2a3f5f"
            },
            "baxis": {
             "endlinecolor": "#2a3f5f",
             "gridcolor": "white",
             "linecolor": "white",
             "minorgridcolor": "white",
             "startlinecolor": "#2a3f5f"
            },
            "type": "carpet"
           }
          ],
          "choropleth": [
           {
            "colorbar": {
             "outlinewidth": 0,
             "ticks": ""
            },
            "type": "choropleth"
           }
          ],
          "contour": [
           {
            "colorbar": {
             "outlinewidth": 0,
             "ticks": ""
            },
            "colorscale": [
             [
              0,
              "#0d0887"
             ],
             [
              0.1111111111111111,
              "#46039f"
             ],
             [
              0.2222222222222222,
              "#7201a8"
             ],
             [
              0.3333333333333333,
              "#9c179e"
             ],
             [
              0.4444444444444444,
              "#bd3786"
             ],
             [
              0.5555555555555556,
              "#d8576b"
             ],
             [
              0.6666666666666666,
              "#ed7953"
             ],
             [
              0.7777777777777778,
              "#fb9f3a"
             ],
             [
              0.8888888888888888,
              "#fdca26"
             ],
             [
              1,
              "#f0f921"
             ]
            ],
            "type": "contour"
           }
          ],
          "contourcarpet": [
           {
            "colorbar": {
             "outlinewidth": 0,
             "ticks": ""
            },
            "type": "contourcarpet"
           }
          ],
          "heatmap": [
           {
            "colorbar": {
             "outlinewidth": 0,
             "ticks": ""
            },
            "colorscale": [
             [
              0,
              "#0d0887"
             ],
             [
              0.1111111111111111,
              "#46039f"
             ],
             [
              0.2222222222222222,
              "#7201a8"
             ],
             [
              0.3333333333333333,
              "#9c179e"
             ],
             [
              0.4444444444444444,
              "#bd3786"
             ],
             [
              0.5555555555555556,
              "#d8576b"
             ],
             [
              0.6666666666666666,
              "#ed7953"
             ],
             [
              0.7777777777777778,
              "#fb9f3a"
             ],
             [
              0.8888888888888888,
              "#fdca26"
             ],
             [
              1,
              "#f0f921"
             ]
            ],
            "type": "heatmap"
           }
          ],
          "heatmapgl": [
           {
            "colorbar": {
             "outlinewidth": 0,
             "ticks": ""
            },
            "colorscale": [
             [
              0,
              "#0d0887"
             ],
             [
              0.1111111111111111,
              "#46039f"
             ],
             [
              0.2222222222222222,
              "#7201a8"
             ],
             [
              0.3333333333333333,
              "#9c179e"
             ],
             [
              0.4444444444444444,
              "#bd3786"
             ],
             [
              0.5555555555555556,
              "#d8576b"
             ],
             [
              0.6666666666666666,
              "#ed7953"
             ],
             [
              0.7777777777777778,
              "#fb9f3a"
             ],
             [
              0.8888888888888888,
              "#fdca26"
             ],
             [
              1,
              "#f0f921"
             ]
            ],
            "type": "heatmapgl"
           }
          ],
          "histogram": [
           {
            "marker": {
             "pattern": {
              "fillmode": "overlay",
              "size": 10,
              "solidity": 0.2
             }
            },
            "type": "histogram"
           }
          ],
          "histogram2d": [
           {
            "colorbar": {
             "outlinewidth": 0,
             "ticks": ""
            },
            "colorscale": [
             [
              0,
              "#0d0887"
             ],
             [
              0.1111111111111111,
              "#46039f"
             ],
             [
              0.2222222222222222,
              "#7201a8"
             ],
             [
              0.3333333333333333,
              "#9c179e"
             ],
             [
              0.4444444444444444,
              "#bd3786"
             ],
             [
              0.5555555555555556,
              "#d8576b"
             ],
             [
              0.6666666666666666,
              "#ed7953"
             ],
             [
              0.7777777777777778,
              "#fb9f3a"
             ],
             [
              0.8888888888888888,
              "#fdca26"
             ],
             [
              1,
              "#f0f921"
             ]
            ],
            "type": "histogram2d"
           }
          ],
          "histogram2dcontour": [
           {
            "colorbar": {
             "outlinewidth": 0,
             "ticks": ""
            },
            "colorscale": [
             [
              0,
              "#0d0887"
             ],
             [
              0.1111111111111111,
              "#46039f"
             ],
             [
              0.2222222222222222,
              "#7201a8"
             ],
             [
              0.3333333333333333,
              "#9c179e"
             ],
             [
              0.4444444444444444,
              "#bd3786"
             ],
             [
              0.5555555555555556,
              "#d8576b"
             ],
             [
              0.6666666666666666,
              "#ed7953"
             ],
             [
              0.7777777777777778,
              "#fb9f3a"
             ],
             [
              0.8888888888888888,
              "#fdca26"
             ],
             [
              1,
              "#f0f921"
             ]
            ],
            "type": "histogram2dcontour"
           }
          ],
          "mesh3d": [
           {
            "colorbar": {
             "outlinewidth": 0,
             "ticks": ""
            },
            "type": "mesh3d"
           }
          ],
          "parcoords": [
           {
            "line": {
             "colorbar": {
              "outlinewidth": 0,
              "ticks": ""
             }
            },
            "type": "parcoords"
           }
          ],
          "pie": [
           {
            "automargin": true,
            "type": "pie"
           }
          ],
          "scatter": [
           {
            "marker": {
             "colorbar": {
              "outlinewidth": 0,
              "ticks": ""
             }
            },
            "type": "scatter"
           }
          ],
          "scatter3d": [
           {
            "line": {
             "colorbar": {
              "outlinewidth": 0,
              "ticks": ""
             }
            },
            "marker": {
             "colorbar": {
              "outlinewidth": 0,
              "ticks": ""
             }
            },
            "type": "scatter3d"
           }
          ],
          "scattercarpet": [
           {
            "marker": {
             "colorbar": {
              "outlinewidth": 0,
              "ticks": ""
             }
            },
            "type": "scattercarpet"
           }
          ],
          "scattergeo": [
           {
            "marker": {
             "colorbar": {
              "outlinewidth": 0,
              "ticks": ""
             }
            },
            "type": "scattergeo"
           }
          ],
          "scattergl": [
           {
            "marker": {
             "colorbar": {
              "outlinewidth": 0,
              "ticks": ""
             }
            },
            "type": "scattergl"
           }
          ],
          "scattermapbox": [
           {
            "marker": {
             "colorbar": {
              "outlinewidth": 0,
              "ticks": ""
             }
            },
            "type": "scattermapbox"
           }
          ],
          "scatterpolar": [
           {
            "marker": {
             "colorbar": {
              "outlinewidth": 0,
              "ticks": ""
             }
            },
            "type": "scatterpolar"
           }
          ],
          "scatterpolargl": [
           {
            "marker": {
             "colorbar": {
              "outlinewidth": 0,
              "ticks": ""
             }
            },
            "type": "scatterpolargl"
           }
          ],
          "scatterternary": [
           {
            "marker": {
             "colorbar": {
              "outlinewidth": 0,
              "ticks": ""
             }
            },
            "type": "scatterternary"
           }
          ],
          "surface": [
           {
            "colorbar": {
             "outlinewidth": 0,
             "ticks": ""
            },
            "colorscale": [
             [
              0,
              "#0d0887"
             ],
             [
              0.1111111111111111,
              "#46039f"
             ],
             [
              0.2222222222222222,
              "#7201a8"
             ],
             [
              0.3333333333333333,
              "#9c179e"
             ],
             [
              0.4444444444444444,
              "#bd3786"
             ],
             [
              0.5555555555555556,
              "#d8576b"
             ],
             [
              0.6666666666666666,
              "#ed7953"
             ],
             [
              0.7777777777777778,
              "#fb9f3a"
             ],
             [
              0.8888888888888888,
              "#fdca26"
             ],
             [
              1,
              "#f0f921"
             ]
            ],
            "type": "surface"
           }
          ],
          "table": [
           {
            "cells": {
             "fill": {
              "color": "#EBF0F8"
             },
             "line": {
              "color": "white"
             }
            },
            "header": {
             "fill": {
              "color": "#C8D4E3"
             },
             "line": {
              "color": "white"
             }
            },
            "type": "table"
           }
          ]
         },
         "layout": {
          "annotationdefaults": {
           "arrowcolor": "#2a3f5f",
           "arrowhead": 0,
           "arrowwidth": 1
          },
          "autotypenumbers": "strict",
          "coloraxis": {
           "colorbar": {
            "outlinewidth": 0,
            "ticks": ""
           }
          },
          "colorscale": {
           "diverging": [
            [
             0,
             "#8e0152"
            ],
            [
             0.1,
             "#c51b7d"
            ],
            [
             0.2,
             "#de77ae"
            ],
            [
             0.3,
             "#f1b6da"
            ],
            [
             0.4,
             "#fde0ef"
            ],
            [
             0.5,
             "#f7f7f7"
            ],
            [
             0.6,
             "#e6f5d0"
            ],
            [
             0.7,
             "#b8e186"
            ],
            [
             0.8,
             "#7fbc41"
            ],
            [
             0.9,
             "#4d9221"
            ],
            [
             1,
             "#276419"
            ]
           ],
           "sequential": [
            [
             0,
             "#0d0887"
            ],
            [
             0.1111111111111111,
             "#46039f"
            ],
            [
             0.2222222222222222,
             "#7201a8"
            ],
            [
             0.3333333333333333,
             "#9c179e"
            ],
            [
             0.4444444444444444,
             "#bd3786"
            ],
            [
             0.5555555555555556,
             "#d8576b"
            ],
            [
             0.6666666666666666,
             "#ed7953"
            ],
            [
             0.7777777777777778,
             "#fb9f3a"
            ],
            [
             0.8888888888888888,
             "#fdca26"
            ],
            [
             1,
             "#f0f921"
            ]
           ],
           "sequentialminus": [
            [
             0,
             "#0d0887"
            ],
            [
             0.1111111111111111,
             "#46039f"
            ],
            [
             0.2222222222222222,
             "#7201a8"
            ],
            [
             0.3333333333333333,
             "#9c179e"
            ],
            [
             0.4444444444444444,
             "#bd3786"
            ],
            [
             0.5555555555555556,
             "#d8576b"
            ],
            [
             0.6666666666666666,
             "#ed7953"
            ],
            [
             0.7777777777777778,
             "#fb9f3a"
            ],
            [
             0.8888888888888888,
             "#fdca26"
            ],
            [
             1,
             "#f0f921"
            ]
           ]
          },
          "colorway": [
           "#636efa",
           "#EF553B",
           "#00cc96",
           "#ab63fa",
           "#FFA15A",
           "#19d3f3",
           "#FF6692",
           "#B6E880",
           "#FF97FF",
           "#FECB52"
          ],
          "font": {
           "color": "#2a3f5f"
          },
          "geo": {
           "bgcolor": "white",
           "lakecolor": "white",
           "landcolor": "#E5ECF6",
           "showlakes": true,
           "showland": true,
           "subunitcolor": "white"
          },
          "hoverlabel": {
           "align": "left"
          },
          "hovermode": "closest",
          "mapbox": {
           "style": "light"
          },
          "paper_bgcolor": "white",
          "plot_bgcolor": "#E5ECF6",
          "polar": {
           "angularaxis": {
            "gridcolor": "white",
            "linecolor": "white",
            "ticks": ""
           },
           "bgcolor": "#E5ECF6",
           "radialaxis": {
            "gridcolor": "white",
            "linecolor": "white",
            "ticks": ""
           }
          },
          "scene": {
           "xaxis": {
            "backgroundcolor": "#E5ECF6",
            "gridcolor": "white",
            "gridwidth": 2,
            "linecolor": "white",
            "showbackground": true,
            "ticks": "",
            "zerolinecolor": "white"
           },
           "yaxis": {
            "backgroundcolor": "#E5ECF6",
            "gridcolor": "white",
            "gridwidth": 2,
            "linecolor": "white",
            "showbackground": true,
            "ticks": "",
            "zerolinecolor": "white"
           },
           "zaxis": {
            "backgroundcolor": "#E5ECF6",
            "gridcolor": "white",
            "gridwidth": 2,
            "linecolor": "white",
            "showbackground": true,
            "ticks": "",
            "zerolinecolor": "white"
           }
          },
          "shapedefaults": {
           "line": {
            "color": "#2a3f5f"
           }
          },
          "ternary": {
           "aaxis": {
            "gridcolor": "white",
            "linecolor": "white",
            "ticks": ""
           },
           "baxis": {
            "gridcolor": "white",
            "linecolor": "white",
            "ticks": ""
           },
           "bgcolor": "#E5ECF6",
           "caxis": {
            "gridcolor": "white",
            "linecolor": "white",
            "ticks": ""
           }
          },
          "title": {
           "x": 0.05
          },
          "xaxis": {
           "automargin": true,
           "gridcolor": "white",
           "linecolor": "white",
           "ticks": "",
           "title": {
            "standoff": 15
           },
           "zerolinecolor": "white",
           "zerolinewidth": 2
          },
          "yaxis": {
           "automargin": true,
           "gridcolor": "white",
           "linecolor": "white",
           "ticks": "",
           "title": {
            "standoff": 15
           },
           "zerolinecolor": "white",
           "zerolinewidth": 2
          }
         }
        },
        "title": {
         "text": "Duration of Unloading Event for All Sites"
        },
        "width": 1000,
        "xaxis": {
         "anchor": "y",
         "domain": [
          0,
          0.49
         ],
         "range": [
          -20,
          0.1
         ],
         "title": {
          "text": "Air Temperature (C)"
         }
        },
        "xaxis2": {
         "anchor": "y2",
         "domain": [
          0.51,
          1
         ],
         "range": [
          -0.04,
          8
         ],
         "title": {
          "text": "Air Temperature (C)"
         }
        },
        "xaxis3": {
         "anchor": "y3",
         "domain": [
          0,
          0.49
         ],
         "range": [
          -50,
          1200
         ],
         "title": {
          "text": "Shortwave (W/m2)"
         }
        },
        "xaxis4": {
         "anchor": "y4",
         "domain": [
          0.51,
          1
         ],
         "range": [
          -50,
          1200
         ],
         "title": {
          "text": "Shortwave (W/m2)"
         }
        },
        "xaxis5": {
         "anchor": "y5",
         "domain": [
          0,
          0.49
         ],
         "range": [
          -0.5,
          15
         ],
         "title": {
          "text": "Wind Speed (m/s)"
         }
        },
        "xaxis6": {
         "anchor": "y6",
         "domain": [
          0.51,
          1
         ],
         "range": [
          -0.5,
          15
         ],
         "title": {
          "text": "Wind Speed (m/s)"
         }
        },
        "yaxis": {
         "anchor": "x",
         "domain": [
          0.7266666666666668,
          1
         ],
         "range": [
          -0.5,
          12.55
         ],
         "title": {
          "text": ""
         }
        },
        "yaxis2": {
         "anchor": "x2",
         "domain": [
          0.7266666666666668,
          1
         ],
         "matches": "y",
         "showticklabels": false
        },
        "yaxis3": {
         "anchor": "x3",
         "domain": [
          0.3633333333333334,
          0.6366666666666667
         ],
         "range": [
          -0.5,
          12.55
         ],
         "title": {
          "text": "duration of unloading event (hours)"
         }
        },
        "yaxis4": {
         "anchor": "x4",
         "domain": [
          0.3633333333333334,
          0.6366666666666667
         ],
         "matches": "y3",
         "showticklabels": false
        },
        "yaxis5": {
         "anchor": "x5",
         "domain": [
          0,
          0.2733333333333334
         ],
         "range": [
          -0.5,
          12.55
         ],
         "title": {
          "text": ""
         }
        },
        "yaxis6": {
         "anchor": "x6",
         "domain": [
          0,
          0.2733333333333334
         ],
         "matches": "y5",
         "showticklabels": false
        }
       }
      }
     },
     "metadata": {},
     "output_type": "display_data"
    }
   ],
   "source": [
    "fig = make_subplots(rows=3, cols=2, \n",
    "                    subplot_titles=(\"Negative Temperatures (T < 0 C)\", \"Positive Temperatures (T > 0 C)\"), \n",
    "                    shared_xaxes=False, shared_yaxes=True, \n",
    "                    vertical_spacing=0.09, horizontal_spacing=0.02,\n",
    ")\n",
    "\n",
    "markersize = 8\n",
    "\n",
    "# COLUMN 1 \n",
    "# All sites with temperature\n",
    "fig.add_trace(\n",
    "    go.Scatter(\n",
    "        x = df_all_negative['temp'],\n",
    "        y = df_all_negative['count'],\n",
    "        mode='markers',\n",
    "        marker=dict(\n",
    "        size=markersize,\n",
    "        color=colorsnowunload, \n",
    "        # colorscale=colorscaled, \n",
    "        symbol=df_all_negative['TypeSymbol'],\n",
    "        showscale=False\n",
    "        )\n",
    "    ), row=1, col=1\n",
    ")\n",
    "\n",
    "# All sites with shortwave\n",
    "fig.add_trace(\n",
    "    go.Scatter(\n",
    "        x = df_all_negative['shortwave'],\n",
    "        y = df_all_negative['count'],\n",
    "        mode='markers',\n",
    "        marker=dict(\n",
    "        size=markersize,\n",
    "        color=colorsnowunload, \n",
    "        # colorscale=colorscaled, \n",
    "        symbol=df_all_negative['TypeSymbol'],\n",
    "        showscale=False\n",
    "        )\n",
    "    ), row=2, col=1\n",
    ")\n",
    "\n",
    "# All sites with wind speed\n",
    "fig.add_trace(\n",
    "    go.Scatter(\n",
    "        x = df_all_negative['windspeed'],\n",
    "        y = df_all_negative['count'],\n",
    "        mode='markers',\n",
    "        marker=dict(\n",
    "        size=markersize,\n",
    "        color=colorsnowunload, \n",
    "        # colorscale=colorscaled, \n",
    "        symbol=df_all_negative['TypeSymbol'],\n",
    "        showscale=False\n",
    "        )\n",
    "    ), row=3, col=1\n",
    ")\n",
    "\n",
    "# COLUMN 2 \n",
    "# All sites with temperature\n",
    "fig.add_trace(\n",
    "    go.Scatter(\n",
    "        x = df_all_positive['temp'],\n",
    "        y = df_all_positive['count'],\n",
    "        mode='markers',\n",
    "        marker=dict(\n",
    "        size=markersize,\n",
    "        color=colorsnowunload, \n",
    "        # colorscale=colorscaled, \n",
    "        symbol=df_all_positive['TypeSymbol'],\n",
    "        showscale=False\n",
    "        )\n",
    "    ), row=1, col=2\n",
    ")\n",
    "\n",
    "# All sites with shortwave\n",
    "fig.add_trace(\n",
    "    go.Scatter(\n",
    "        x = df_all_positive['shortwave'],\n",
    "        y = df_all_positive['count'],\n",
    "        mode='markers',\n",
    "        marker=dict(\n",
    "        size=markersize,\n",
    "        color=colorsnowunload, \n",
    "        # colorscale=colorscaled, \n",
    "        symbol=df_all_positive['TypeSymbol'],\n",
    "        showscale=False\n",
    "        )\n",
    "    ), row=2, col=2\n",
    ")\n",
    "\n",
    "# All sites with wind speed\n",
    "fig.add_trace(\n",
    "    go.Scatter(\n",
    "        x = df_all_positive['windspeed'],\n",
    "        y = df_all_positive['count'],\n",
    "        mode='markers',\n",
    "        marker=dict(\n",
    "        size=markersize,\n",
    "        color=colorsnowunload, \n",
    "        # colorscale=colorscaled, \n",
    "        symbol=df_all_positive['TypeSymbol'],\n",
    "        showscale=False\n",
    "        )\n",
    "    ), row=3, col=2\n",
    ")\n",
    "\n",
    "fig.update_yaxes(title_text = \"\", range=[-0.5,12.55],  row=1, col=1) \n",
    "fig.update_yaxes(title_text = \"duration of unloading event (hours)\", range=[-0.5,12.55],  row=2, col=1) \n",
    "fig.update_yaxes(title_text = \"\", range=[-0.5,12.55],  row=3, col=1) \n",
    "\n",
    "# fig.update_xaxes(title_text = nametemp, range=[-35,8],    row=1, col=1) \n",
    "fig.update_xaxes(title_text = nametemp, range=[-20,0.1],    row=1, col=1) \n",
    "\n",
    "fig.update_xaxes(title_text = nameSW,   range=[-50,1200], row=2, col=1)\n",
    "fig.update_xaxes(title_text = namewind, range=[-.5,15],  row=3, col=1)\n",
    "\n",
    "# fig.update_xaxes(title_text = nametemp, range=[-35,8],    row=1, col=2) \n",
    "fig.update_xaxes(title_text = nametemp, range=[-0.04,8],    row=1, col=2) \n",
    "\n",
    "fig.update_xaxes(title_text = nameSW,   range=[-50,1200], row=2, col=2)\n",
    "fig.update_xaxes(title_text = namewind, range=[-.5,15],  row=3, col=2)\n",
    "\n",
    "fig.update_layout(title='Duration of Unloading Event for All Sites', width=1000, height=800, showlegend=False)\n",
    "fig.show()"
   ]
  },
  {
   "cell_type": "code",
   "execution_count": 98,
   "metadata": {},
   "outputs": [],
   "source": [
    "df_all_neg_sticky = df_all.where((df_all.temp < 0) & (df_all.temp >= -3)).dropna(axis=0, how='any', subset=['CD']) # sticky snow between 0 and -3 \n",
    "df_all_neg_coldhs = df_all.where((df_all.temp < -3)).dropna(axis=0, how='any', subset=['CD']) # cold snow, below -3 "
   ]
  },
  {
   "cell_type": "code",
   "execution_count": 99,
   "id": "1f250ae1",
   "metadata": {},
   "outputs": [
    {
     "data": {
      "application/vnd.plotly.v1+json": {
       "config": {
        "plotlyServerURL": "https://plot.ly"
       },
       "data": [
        {
         "marker": {
          "color": "#1F15D5",
          "showscale": false,
          "size": 8,
          "symbol": [
           102,
           2,
           102,
           102,
           102,
           102,
           2,
           2,
           102,
           102,
           102,
           2,
           102,
           102,
           102,
           2,
           102,
           102,
           102,
           102,
           102,
           2,
           102,
           2,
           102,
           2,
           2,
           2,
           102,
           102,
           102,
           2,
           2,
           102,
           102,
           102,
           102,
           102,
           102,
           102,
           102,
           102,
           102,
           102,
           102,
           102,
           102,
           102,
           102,
           102,
           102,
           102,
           102
          ]
         },
         "mode": "markers",
         "type": "scatter",
         "x": [
          -8.328333333,
          -8.655,
          -7.8575,
          -17.62,
          -11.23833333,
          -7.315,
          -4.343692308,
          -17.75875,
          -8.31,
          -6.005,
          -18.63,
          -16.625,
          -6.35125,
          -6.0925,
          -3.24,
          -4.235,
          -9.585,
          -13.625,
          -15.8375,
          -14.15,
          -10.44875,
          -10.62333333,
          -5.42,
          -4.12,
          -7.6875,
          -5.394,
          -4.085,
          -3.743333333,
          -3.015,
          -3.64375,
          -9.26,
          -3.458611111,
          -3.586666667,
          -4.42,
          -4.975,
          -4.895,
          -5.0425,
          -6.85,
          -6.9,
          -7.2,
          -12.45,
          -6.69,
          -11.9,
          -13.9,
          -8.9,
          -16.95,
          -8.764285714,
          -8.245441667,
          -3.012491667,
          -3.262133333,
          -5.982351042,
          -7.076153472,
          -3.758180208
         ],
         "xaxis": "x",
         "y": [
          3,
          2,
          2,
          1,
          3,
          6,
          13,
          4,
          1,
          3,
          2,
          6,
          8,
          2,
          1,
          3,
          1,
          1,
          2,
          1,
          4,
          3,
          2,
          2,
          2,
          10,
          1,
          3,
          1,
          4,
          2,
          9,
          3,
          1,
          1,
          2,
          4,
          1,
          2,
          1,
          1,
          5,
          2,
          4,
          1,
          1,
          7,
          4,
          1,
          2,
          4,
          12,
          4
         ],
         "yaxis": "y"
        },
        {
         "marker": {
          "color": "#1F15D5",
          "showscale": false,
          "size": 8,
          "symbol": [
           102,
           2,
           102,
           102,
           102,
           102,
           2,
           2,
           102,
           102,
           102,
           2,
           102,
           102,
           102,
           2,
           102,
           102,
           102,
           102,
           102,
           2,
           102,
           2,
           102,
           2,
           2,
           2,
           102,
           102,
           102,
           2,
           2,
           102,
           102,
           102,
           102,
           102,
           102,
           102,
           102,
           102,
           102,
           102,
           102,
           102,
           102,
           102,
           102,
           102,
           102,
           102,
           102
          ]
         },
         "mode": "markers",
         "type": "scatter",
         "x": [
          499.7266667,
          580.7075,
          114.895,
          61.205,
          380.1366667,
          133.9991667,
          82.43123077,
          109.5125,
          32.29,
          50.52833333,
          127.745,
          388.2466667,
          73.89625,
          1.61775,
          176.225,
          424.4416667,
          474.965,
          18.45,
          483.17,
          633.27,
          242.1325,
          713.6266667,
          34.3175,
          908.015,
          331.55,
          733.0865,
          794.195,
          566.6033333,
          11.815,
          589.23875,
          254.9625,
          816.8405556,
          472.5433333,
          43.585,
          59.34,
          190.595,
          270.35125,
          1.1,
          2.875,
          0,
          0,
          1.16,
          6.275,
          20.5125,
          17,
          7.95,
          29.52857143,
          495.976875,
          548.1158333,
          807.730625,
          311.9571875,
          65.25650694,
          125.3498833
         ],
         "xaxis": "x3",
         "y": [
          3,
          2,
          2,
          1,
          3,
          6,
          13,
          4,
          1,
          3,
          2,
          6,
          8,
          2,
          1,
          3,
          1,
          1,
          2,
          1,
          4,
          3,
          2,
          2,
          2,
          10,
          1,
          3,
          1,
          4,
          2,
          9,
          3,
          1,
          1,
          2,
          4,
          1,
          2,
          1,
          1,
          5,
          2,
          4,
          1,
          1,
          7,
          4,
          1,
          2,
          4,
          12,
          4
         ],
         "yaxis": "y3"
        },
        {
         "marker": {
          "color": "#1F15D5",
          "showscale": false,
          "size": 8,
          "symbol": [
           102,
           2,
           102,
           102,
           102,
           102,
           2,
           2,
           102,
           102,
           102,
           2,
           102,
           102,
           102,
           2,
           102,
           102,
           102,
           102,
           102,
           2,
           102,
           2,
           102,
           2,
           2,
           2,
           102,
           102,
           102,
           2,
           2,
           102,
           102,
           102,
           102,
           102,
           102,
           102,
           102,
           102,
           102,
           102,
           102,
           102,
           102,
           102,
           102,
           102,
           102,
           102,
           102
          ]
         },
         "mode": "markers",
         "type": "scatter",
         "x": [
          3.178333333,
          12.7975,
          3.61,
          4.44,
          8.081666667,
          4.959166667,
          5.921538462,
          7.6325,
          3.835,
          4.936666667,
          2.53,
          10.7125,
          8.029375,
          5.945,
          6.37,
          9.99,
          2.745,
          2.28,
          13.255,
          11.225,
          5.35125,
          12.47833333,
          2.1425,
          8.8,
          2.5775,
          8.3855,
          10.4,
          8.143333333,
          1.895,
          7.53375,
          2.4875,
          8.665,
          2.126666667,
          2.815,
          1.255,
          2.42,
          2.08125,
          1.5255,
          4.2714,
          3.8646,
          5.13585,
          7.94277,
          3.686625,
          3.1908375,
          2.28825,
          3.5595,
          4.758107143,
          2.843723958,
          1.548304167,
          2.676545833,
          1.994790625,
          1.885221528,
          2.128888542
         ],
         "xaxis": "x5",
         "y": [
          3,
          2,
          2,
          1,
          3,
          6,
          13,
          4,
          1,
          3,
          2,
          6,
          8,
          2,
          1,
          3,
          1,
          1,
          2,
          1,
          4,
          3,
          2,
          2,
          2,
          10,
          1,
          3,
          1,
          4,
          2,
          9,
          3,
          1,
          1,
          2,
          4,
          1,
          2,
          1,
          1,
          5,
          2,
          4,
          1,
          1,
          7,
          4,
          1,
          2,
          4,
          12,
          4
         ],
         "yaxis": "y5"
        },
        {
         "marker": {
          "color": "#1F15D5",
          "showscale": false,
          "size": 8,
          "symbol": [
           2,
           2,
           2,
           102,
           2,
           102,
           2,
           102,
           102,
           102,
           102,
           2,
           102,
           102,
           2,
           102,
           102,
           102,
           102,
           102,
           102,
           102,
           102,
           102,
           102,
           2,
           102,
           102,
           102,
           102,
           2
          ]
         },
         "mode": "markers",
         "type": "scatter",
         "x": [
          -1.5426,
          -2.545,
          -2.53,
          -0.5085,
          -1.045333333,
          -2.915,
          -2.10875,
          -1.6125,
          -2.1875,
          -2.90875,
          -1.7835,
          -1.6773,
          -2.65,
          -1.041363636,
          -0.694714286,
          -0.45,
          -1.72,
          -1.691666667,
          -2.7,
          -2.95,
          -2.3,
          -1.164285714,
          -1.875,
          -1.475,
          -1.1,
          -0.3,
          -2.911902092,
          -2.551411111,
          -2.928713889,
          -1.8793875,
          -0.5075625
         ],
         "xaxis": "x2",
         "y": [
          5,
          1,
          5,
          6,
          3,
          1,
          4,
          2,
          2,
          4,
          4,
          5,
          1,
          11,
          7,
          3,
          5,
          6,
          6,
          1,
          1,
          7,
          8,
          2,
          1,
          1,
          4,
          3,
          9,
          3,
          1
         ],
         "yaxis": "y2"
        },
        {
         "marker": {
          "color": "#1F15D5",
          "showscale": false,
          "size": 8,
          "symbol": [
           2,
           2,
           2,
           102,
           2,
           102,
           2,
           102,
           102,
           102,
           102,
           2,
           102,
           102,
           2,
           102,
           102,
           102,
           102,
           102,
           102,
           102,
           102,
           102,
           102,
           2,
           102,
           102,
           102,
           102,
           2
          ]
         },
         "mode": "markers",
         "type": "scatter",
         "x": [
          513.968,
          394.135,
          87.5626,
          56.05833333,
          605.885,
          66.88,
          493.20875,
          509.5625,
          306.925,
          202.5825,
          862.53,
          607.258,
          130.515,
          794.8963636,
          836.7271429,
          121.4333333,
          1.06,
          0.641666667,
          37.30833333,
          20.5,
          36.95,
          257.5571429,
          119.7,
          145.025,
          0.7,
          494.2308333,
          344.9870574,
          686.5218056,
          283.5187083,
          759.1180556,
          461.5933333
         ],
         "xaxis": "x4",
         "y": [
          5,
          1,
          5,
          6,
          3,
          1,
          4,
          2,
          2,
          4,
          4,
          5,
          1,
          11,
          7,
          3,
          5,
          6,
          6,
          1,
          1,
          7,
          8,
          2,
          1,
          1,
          4,
          3,
          9,
          3,
          1
         ],
         "yaxis": "y4"
        },
        {
         "marker": {
          "color": "#1F15D5",
          "showscale": false,
          "size": 8,
          "symbol": [
           2,
           2,
           2,
           102,
           2,
           102,
           2,
           102,
           102,
           102,
           102,
           2,
           102,
           102,
           2,
           102,
           102,
           102,
           102,
           102,
           102,
           102,
           102,
           102,
           102,
           2,
           102,
           102,
           102,
           102,
           2
          ]
         },
         "mode": "markers",
         "type": "scatter",
         "x": [
          3.898,
          3.92,
          9.666,
          5.559166667,
          6.473333333,
          5.775,
          2.09875,
          2.5025,
          3.29,
          2.12625,
          5.54875,
          2.624,
          3.495,
          7.459545455,
          5.53,
          2.11875,
          1.20006,
          4.9833,
          1.635675,
          2.69505,
          2.89845,
          3.668464286,
          4.4748,
          3.3561,
          3.2544,
          1.980245833,
          2.492476234,
          2.280898611,
          2.6998875,
          2.835897222,
          1.624341667
         ],
         "xaxis": "x6",
         "y": [
          5,
          1,
          5,
          6,
          3,
          1,
          4,
          2,
          2,
          4,
          4,
          5,
          1,
          11,
          7,
          3,
          5,
          6,
          6,
          1,
          1,
          7,
          8,
          2,
          1,
          1,
          4,
          3,
          9,
          3,
          1
         ],
         "yaxis": "y6"
        }
       ],
       "layout": {
        "annotations": [
         {
          "font": {
           "size": 16
          },
          "showarrow": false,
          "text": "Cold Snow (T < -3 C)",
          "x": 0.245,
          "xanchor": "center",
          "xref": "paper",
          "y": 1.0000000000000002,
          "yanchor": "bottom",
          "yref": "paper"
         },
         {
          "font": {
           "size": 16
          },
          "showarrow": false,
          "text": "Sticky Snow (-3 < T < 0 C)",
          "x": 0.755,
          "xanchor": "center",
          "xref": "paper",
          "y": 1.0000000000000002,
          "yanchor": "bottom",
          "yref": "paper"
         }
        ],
        "height": 800,
        "showlegend": false,
        "template": {
         "data": {
          "bar": [
           {
            "error_x": {
             "color": "#2a3f5f"
            },
            "error_y": {
             "color": "#2a3f5f"
            },
            "marker": {
             "line": {
              "color": "#E5ECF6",
              "width": 0.5
             },
             "pattern": {
              "fillmode": "overlay",
              "size": 10,
              "solidity": 0.2
             }
            },
            "type": "bar"
           }
          ],
          "barpolar": [
           {
            "marker": {
             "line": {
              "color": "#E5ECF6",
              "width": 0.5
             },
             "pattern": {
              "fillmode": "overlay",
              "size": 10,
              "solidity": 0.2
             }
            },
            "type": "barpolar"
           }
          ],
          "carpet": [
           {
            "aaxis": {
             "endlinecolor": "#2a3f5f",
             "gridcolor": "white",
             "linecolor": "white",
             "minorgridcolor": "white",
             "startlinecolor": "#2a3f5f"
            },
            "baxis": {
             "endlinecolor": "#2a3f5f",
             "gridcolor": "white",
             "linecolor": "white",
             "minorgridcolor": "white",
             "startlinecolor": "#2a3f5f"
            },
            "type": "carpet"
           }
          ],
          "choropleth": [
           {
            "colorbar": {
             "outlinewidth": 0,
             "ticks": ""
            },
            "type": "choropleth"
           }
          ],
          "contour": [
           {
            "colorbar": {
             "outlinewidth": 0,
             "ticks": ""
            },
            "colorscale": [
             [
              0,
              "#0d0887"
             ],
             [
              0.1111111111111111,
              "#46039f"
             ],
             [
              0.2222222222222222,
              "#7201a8"
             ],
             [
              0.3333333333333333,
              "#9c179e"
             ],
             [
              0.4444444444444444,
              "#bd3786"
             ],
             [
              0.5555555555555556,
              "#d8576b"
             ],
             [
              0.6666666666666666,
              "#ed7953"
             ],
             [
              0.7777777777777778,
              "#fb9f3a"
             ],
             [
              0.8888888888888888,
              "#fdca26"
             ],
             [
              1,
              "#f0f921"
             ]
            ],
            "type": "contour"
           }
          ],
          "contourcarpet": [
           {
            "colorbar": {
             "outlinewidth": 0,
             "ticks": ""
            },
            "type": "contourcarpet"
           }
          ],
          "heatmap": [
           {
            "colorbar": {
             "outlinewidth": 0,
             "ticks": ""
            },
            "colorscale": [
             [
              0,
              "#0d0887"
             ],
             [
              0.1111111111111111,
              "#46039f"
             ],
             [
              0.2222222222222222,
              "#7201a8"
             ],
             [
              0.3333333333333333,
              "#9c179e"
             ],
             [
              0.4444444444444444,
              "#bd3786"
             ],
             [
              0.5555555555555556,
              "#d8576b"
             ],
             [
              0.6666666666666666,
              "#ed7953"
             ],
             [
              0.7777777777777778,
              "#fb9f3a"
             ],
             [
              0.8888888888888888,
              "#fdca26"
             ],
             [
              1,
              "#f0f921"
             ]
            ],
            "type": "heatmap"
           }
          ],
          "heatmapgl": [
           {
            "colorbar": {
             "outlinewidth": 0,
             "ticks": ""
            },
            "colorscale": [
             [
              0,
              "#0d0887"
             ],
             [
              0.1111111111111111,
              "#46039f"
             ],
             [
              0.2222222222222222,
              "#7201a8"
             ],
             [
              0.3333333333333333,
              "#9c179e"
             ],
             [
              0.4444444444444444,
              "#bd3786"
             ],
             [
              0.5555555555555556,
              "#d8576b"
             ],
             [
              0.6666666666666666,
              "#ed7953"
             ],
             [
              0.7777777777777778,
              "#fb9f3a"
             ],
             [
              0.8888888888888888,
              "#fdca26"
             ],
             [
              1,
              "#f0f921"
             ]
            ],
            "type": "heatmapgl"
           }
          ],
          "histogram": [
           {
            "marker": {
             "pattern": {
              "fillmode": "overlay",
              "size": 10,
              "solidity": 0.2
             }
            },
            "type": "histogram"
           }
          ],
          "histogram2d": [
           {
            "colorbar": {
             "outlinewidth": 0,
             "ticks": ""
            },
            "colorscale": [
             [
              0,
              "#0d0887"
             ],
             [
              0.1111111111111111,
              "#46039f"
             ],
             [
              0.2222222222222222,
              "#7201a8"
             ],
             [
              0.3333333333333333,
              "#9c179e"
             ],
             [
              0.4444444444444444,
              "#bd3786"
             ],
             [
              0.5555555555555556,
              "#d8576b"
             ],
             [
              0.6666666666666666,
              "#ed7953"
             ],
             [
              0.7777777777777778,
              "#fb9f3a"
             ],
             [
              0.8888888888888888,
              "#fdca26"
             ],
             [
              1,
              "#f0f921"
             ]
            ],
            "type": "histogram2d"
           }
          ],
          "histogram2dcontour": [
           {
            "colorbar": {
             "outlinewidth": 0,
             "ticks": ""
            },
            "colorscale": [
             [
              0,
              "#0d0887"
             ],
             [
              0.1111111111111111,
              "#46039f"
             ],
             [
              0.2222222222222222,
              "#7201a8"
             ],
             [
              0.3333333333333333,
              "#9c179e"
             ],
             [
              0.4444444444444444,
              "#bd3786"
             ],
             [
              0.5555555555555556,
              "#d8576b"
             ],
             [
              0.6666666666666666,
              "#ed7953"
             ],
             [
              0.7777777777777778,
              "#fb9f3a"
             ],
             [
              0.8888888888888888,
              "#fdca26"
             ],
             [
              1,
              "#f0f921"
             ]
            ],
            "type": "histogram2dcontour"
           }
          ],
          "mesh3d": [
           {
            "colorbar": {
             "outlinewidth": 0,
             "ticks": ""
            },
            "type": "mesh3d"
           }
          ],
          "parcoords": [
           {
            "line": {
             "colorbar": {
              "outlinewidth": 0,
              "ticks": ""
             }
            },
            "type": "parcoords"
           }
          ],
          "pie": [
           {
            "automargin": true,
            "type": "pie"
           }
          ],
          "scatter": [
           {
            "marker": {
             "colorbar": {
              "outlinewidth": 0,
              "ticks": ""
             }
            },
            "type": "scatter"
           }
          ],
          "scatter3d": [
           {
            "line": {
             "colorbar": {
              "outlinewidth": 0,
              "ticks": ""
             }
            },
            "marker": {
             "colorbar": {
              "outlinewidth": 0,
              "ticks": ""
             }
            },
            "type": "scatter3d"
           }
          ],
          "scattercarpet": [
           {
            "marker": {
             "colorbar": {
              "outlinewidth": 0,
              "ticks": ""
             }
            },
            "type": "scattercarpet"
           }
          ],
          "scattergeo": [
           {
            "marker": {
             "colorbar": {
              "outlinewidth": 0,
              "ticks": ""
             }
            },
            "type": "scattergeo"
           }
          ],
          "scattergl": [
           {
            "marker": {
             "colorbar": {
              "outlinewidth": 0,
              "ticks": ""
             }
            },
            "type": "scattergl"
           }
          ],
          "scattermapbox": [
           {
            "marker": {
             "colorbar": {
              "outlinewidth": 0,
              "ticks": ""
             }
            },
            "type": "scattermapbox"
           }
          ],
          "scatterpolar": [
           {
            "marker": {
             "colorbar": {
              "outlinewidth": 0,
              "ticks": ""
             }
            },
            "type": "scatterpolar"
           }
          ],
          "scatterpolargl": [
           {
            "marker": {
             "colorbar": {
              "outlinewidth": 0,
              "ticks": ""
             }
            },
            "type": "scatterpolargl"
           }
          ],
          "scatterternary": [
           {
            "marker": {
             "colorbar": {
              "outlinewidth": 0,
              "ticks": ""
             }
            },
            "type": "scatterternary"
           }
          ],
          "surface": [
           {
            "colorbar": {
             "outlinewidth": 0,
             "ticks": ""
            },
            "colorscale": [
             [
              0,
              "#0d0887"
             ],
             [
              0.1111111111111111,
              "#46039f"
             ],
             [
              0.2222222222222222,
              "#7201a8"
             ],
             [
              0.3333333333333333,
              "#9c179e"
             ],
             [
              0.4444444444444444,
              "#bd3786"
             ],
             [
              0.5555555555555556,
              "#d8576b"
             ],
             [
              0.6666666666666666,
              "#ed7953"
             ],
             [
              0.7777777777777778,
              "#fb9f3a"
             ],
             [
              0.8888888888888888,
              "#fdca26"
             ],
             [
              1,
              "#f0f921"
             ]
            ],
            "type": "surface"
           }
          ],
          "table": [
           {
            "cells": {
             "fill": {
              "color": "#EBF0F8"
             },
             "line": {
              "color": "white"
             }
            },
            "header": {
             "fill": {
              "color": "#C8D4E3"
             },
             "line": {
              "color": "white"
             }
            },
            "type": "table"
           }
          ]
         },
         "layout": {
          "annotationdefaults": {
           "arrowcolor": "#2a3f5f",
           "arrowhead": 0,
           "arrowwidth": 1
          },
          "autotypenumbers": "strict",
          "coloraxis": {
           "colorbar": {
            "outlinewidth": 0,
            "ticks": ""
           }
          },
          "colorscale": {
           "diverging": [
            [
             0,
             "#8e0152"
            ],
            [
             0.1,
             "#c51b7d"
            ],
            [
             0.2,
             "#de77ae"
            ],
            [
             0.3,
             "#f1b6da"
            ],
            [
             0.4,
             "#fde0ef"
            ],
            [
             0.5,
             "#f7f7f7"
            ],
            [
             0.6,
             "#e6f5d0"
            ],
            [
             0.7,
             "#b8e186"
            ],
            [
             0.8,
             "#7fbc41"
            ],
            [
             0.9,
             "#4d9221"
            ],
            [
             1,
             "#276419"
            ]
           ],
           "sequential": [
            [
             0,
             "#0d0887"
            ],
            [
             0.1111111111111111,
             "#46039f"
            ],
            [
             0.2222222222222222,
             "#7201a8"
            ],
            [
             0.3333333333333333,
             "#9c179e"
            ],
            [
             0.4444444444444444,
             "#bd3786"
            ],
            [
             0.5555555555555556,
             "#d8576b"
            ],
            [
             0.6666666666666666,
             "#ed7953"
            ],
            [
             0.7777777777777778,
             "#fb9f3a"
            ],
            [
             0.8888888888888888,
             "#fdca26"
            ],
            [
             1,
             "#f0f921"
            ]
           ],
           "sequentialminus": [
            [
             0,
             "#0d0887"
            ],
            [
             0.1111111111111111,
             "#46039f"
            ],
            [
             0.2222222222222222,
             "#7201a8"
            ],
            [
             0.3333333333333333,
             "#9c179e"
            ],
            [
             0.4444444444444444,
             "#bd3786"
            ],
            [
             0.5555555555555556,
             "#d8576b"
            ],
            [
             0.6666666666666666,
             "#ed7953"
            ],
            [
             0.7777777777777778,
             "#fb9f3a"
            ],
            [
             0.8888888888888888,
             "#fdca26"
            ],
            [
             1,
             "#f0f921"
            ]
           ]
          },
          "colorway": [
           "#636efa",
           "#EF553B",
           "#00cc96",
           "#ab63fa",
           "#FFA15A",
           "#19d3f3",
           "#FF6692",
           "#B6E880",
           "#FF97FF",
           "#FECB52"
          ],
          "font": {
           "color": "#2a3f5f"
          },
          "geo": {
           "bgcolor": "white",
           "lakecolor": "white",
           "landcolor": "#E5ECF6",
           "showlakes": true,
           "showland": true,
           "subunitcolor": "white"
          },
          "hoverlabel": {
           "align": "left"
          },
          "hovermode": "closest",
          "mapbox": {
           "style": "light"
          },
          "paper_bgcolor": "white",
          "plot_bgcolor": "#E5ECF6",
          "polar": {
           "angularaxis": {
            "gridcolor": "white",
            "linecolor": "white",
            "ticks": ""
           },
           "bgcolor": "#E5ECF6",
           "radialaxis": {
            "gridcolor": "white",
            "linecolor": "white",
            "ticks": ""
           }
          },
          "scene": {
           "xaxis": {
            "backgroundcolor": "#E5ECF6",
            "gridcolor": "white",
            "gridwidth": 2,
            "linecolor": "white",
            "showbackground": true,
            "ticks": "",
            "zerolinecolor": "white"
           },
           "yaxis": {
            "backgroundcolor": "#E5ECF6",
            "gridcolor": "white",
            "gridwidth": 2,
            "linecolor": "white",
            "showbackground": true,
            "ticks": "",
            "zerolinecolor": "white"
           },
           "zaxis": {
            "backgroundcolor": "#E5ECF6",
            "gridcolor": "white",
            "gridwidth": 2,
            "linecolor": "white",
            "showbackground": true,
            "ticks": "",
            "zerolinecolor": "white"
           }
          },
          "shapedefaults": {
           "line": {
            "color": "#2a3f5f"
           }
          },
          "ternary": {
           "aaxis": {
            "gridcolor": "white",
            "linecolor": "white",
            "ticks": ""
           },
           "baxis": {
            "gridcolor": "white",
            "linecolor": "white",
            "ticks": ""
           },
           "bgcolor": "#E5ECF6",
           "caxis": {
            "gridcolor": "white",
            "linecolor": "white",
            "ticks": ""
           }
          },
          "title": {
           "x": 0.05
          },
          "xaxis": {
           "automargin": true,
           "gridcolor": "white",
           "linecolor": "white",
           "ticks": "",
           "title": {
            "standoff": 15
           },
           "zerolinecolor": "white",
           "zerolinewidth": 2
          },
          "yaxis": {
           "automargin": true,
           "gridcolor": "white",
           "linecolor": "white",
           "ticks": "",
           "title": {
            "standoff": 15
           },
           "zerolinecolor": "white",
           "zerolinewidth": 2
          }
         }
        },
        "title": {
         "text": "Duration of Unloading Event for All Sites: Negative Temperatures"
        },
        "width": 1000,
        "xaxis": {
         "anchor": "y",
         "domain": [
          0,
          0.49
         ]
        },
        "xaxis2": {
         "anchor": "y2",
         "domain": [
          0.51,
          1
         ]
        },
        "xaxis3": {
         "anchor": "y3",
         "domain": [
          0,
          0.49
         ],
         "range": [
          -50,
          1200
         ],
         "title": {
          "text": "Shortwave (W/m2)"
         }
        },
        "xaxis4": {
         "anchor": "y4",
         "domain": [
          0.51,
          1
         ],
         "range": [
          -50,
          1200
         ],
         "title": {
          "text": "Shortwave (W/m2)"
         }
        },
        "xaxis5": {
         "anchor": "y5",
         "domain": [
          0,
          0.49
         ],
         "range": [
          -0.5,
          15
         ],
         "title": {
          "text": "Wind Speed (m/s)"
         }
        },
        "xaxis6": {
         "anchor": "y6",
         "domain": [
          0.51,
          1
         ],
         "range": [
          -0.5,
          15
         ],
         "title": {
          "text": "Wind Speed (m/s)"
         }
        },
        "yaxis": {
         "anchor": "x",
         "domain": [
          0.7266666666666668,
          1
         ],
         "range": [
          -0.5,
          12.55
         ],
         "title": {
          "text": ""
         }
        },
        "yaxis2": {
         "anchor": "x2",
         "domain": [
          0.7266666666666668,
          1
         ],
         "matches": "y",
         "showticklabels": false
        },
        "yaxis3": {
         "anchor": "x3",
         "domain": [
          0.3633333333333334,
          0.6366666666666667
         ],
         "range": [
          -0.5,
          12.55
         ],
         "title": {
          "text": "duration of unloading event (hours)"
         }
        },
        "yaxis4": {
         "anchor": "x4",
         "domain": [
          0.3633333333333334,
          0.6366666666666667
         ],
         "matches": "y3",
         "showticklabels": false
        },
        "yaxis5": {
         "anchor": "x5",
         "domain": [
          0,
          0.2733333333333334
         ],
         "range": [
          -0.5,
          12.55
         ],
         "title": {
          "text": ""
         }
        },
        "yaxis6": {
         "anchor": "x6",
         "domain": [
          0,
          0.2733333333333334
         ],
         "matches": "y5",
         "showticklabels": false
        }
       }
      }
     },
     "metadata": {},
     "output_type": "display_data"
    }
   ],
   "source": [
    "fig = make_subplots(rows=3, cols=2, \n",
    "                    subplot_titles=(\"Cold Snow (T < -3 C)\", \"Sticky Snow (-3 < T < 0 C)\"), \n",
    "                    shared_xaxes=False, shared_yaxes=True, \n",
    "                    vertical_spacing=0.09, horizontal_spacing=0.02,\n",
    ")\n",
    "\n",
    "markersize = 8\n",
    "\n",
    "# COLUMN 1 \n",
    "# All sites with temperature\n",
    "fig.add_trace(\n",
    "    go.Scatter(\n",
    "        x = df_all_neg_coldhs['temp'],\n",
    "        y = df_all_neg_coldhs['count'],\n",
    "        mode='markers',\n",
    "        marker=dict(\n",
    "        size=markersize,\n",
    "        color=colorsnowunload, \n",
    "        # colorscale=colorscaled, \n",
    "        symbol=df_all_neg_coldhs['TypeSymbol'],\n",
    "        showscale=False\n",
    "        )\n",
    "    ), row=1, col=1\n",
    ")\n",
    "\n",
    "# All sites with shortwave\n",
    "fig.add_trace(\n",
    "    go.Scatter(\n",
    "        x = df_all_neg_coldhs['shortwave'],\n",
    "        y = df_all_neg_coldhs['count'],\n",
    "        mode='markers',\n",
    "        marker=dict(\n",
    "        size=markersize,\n",
    "        color=colorsnowunload, \n",
    "        # colorscale=colorscaled, \n",
    "        symbol=df_all_neg_coldhs['TypeSymbol'],\n",
    "        showscale=False\n",
    "        )\n",
    "    ), row=2, col=1\n",
    ")\n",
    "\n",
    "# All sites with wind speed\n",
    "fig.add_trace(\n",
    "    go.Scatter(\n",
    "        x = df_all_neg_coldhs['windspeed'],\n",
    "        y = df_all_neg_coldhs['count'],\n",
    "        mode='markers',\n",
    "        marker=dict(\n",
    "        size=markersize,\n",
    "        color=colorsnowunload, \n",
    "        # colorscale=colorscaled, \n",
    "        symbol=df_all_neg_coldhs['TypeSymbol'],\n",
    "        showscale=False\n",
    "        )\n",
    "    ), row=3, col=1\n",
    ")\n",
    "\n",
    "# COLUMN 2 \n",
    "# All sites with temperature\n",
    "fig.add_trace(\n",
    "    go.Scatter(\n",
    "        x = df_all_neg_sticky['temp'],\n",
    "        y = df_all_neg_sticky['count'],\n",
    "        mode='markers',\n",
    "        marker=dict(\n",
    "        size=markersize,\n",
    "        color=colorsnowunload, \n",
    "        # colorscale=colorscaled, \n",
    "        symbol=df_all_neg_sticky['TypeSymbol'],\n",
    "        showscale=False\n",
    "        )\n",
    "    ), row=1, col=2\n",
    ")\n",
    "\n",
    "# All sites with shortwave\n",
    "fig.add_trace(\n",
    "    go.Scatter(\n",
    "        x = df_all_neg_sticky['shortwave'],\n",
    "        y = df_all_neg_sticky['count'],\n",
    "        mode='markers',\n",
    "        marker=dict(\n",
    "        size=markersize,\n",
    "        color=colorsnowunload, \n",
    "        # colorscale=colorscaled, \n",
    "        symbol=df_all_neg_sticky['TypeSymbol'],\n",
    "        showscale=False\n",
    "        )\n",
    "    ), row=2, col=2\n",
    ")\n",
    "\n",
    "# All sites with wind speed\n",
    "fig.add_trace(\n",
    "    go.Scatter(\n",
    "        x = df_all_neg_sticky['windspeed'],\n",
    "        y = df_all_neg_sticky['count'],\n",
    "        mode='markers',\n",
    "        marker=dict(\n",
    "        size=markersize,\n",
    "        color=colorsnowunload, \n",
    "        # colorscale=colorscaled, \n",
    "        symbol=df_all_neg_sticky['TypeSymbol'],\n",
    "        showscale=False\n",
    "        )\n",
    "    ), row=3, col=2\n",
    ")\n",
    "\n",
    "fig.update_yaxes(title_text = \"\", range=[-0.5,12.55],  row=1, col=1) \n",
    "fig.update_yaxes(title_text = \"duration of unloading event (hours)\", range=[-0.5,12.55],  row=2, col=1) \n",
    "fig.update_yaxes(title_text = \"\", range=[-0.5,12.55],  row=3, col=1) \n",
    "\n",
    "# fig.update_xaxes(title_text = nametemp, range=[-35,8],    row=1, col=1) \n",
    "# fig.update_xaxes(title_text = nametemp, range=[-20,0.1],    row=1, col=1) \n",
    "\n",
    "fig.update_xaxes(title_text = nameSW,   range=[-50,1200], row=2, col=1)\n",
    "fig.update_xaxes(title_text = namewind, range=[-.5,15],  row=3, col=1)\n",
    "\n",
    "# fig.update_xaxes(title_text = nametemp, range=[-35,8],    row=1, col=2) \n",
    "# fig.update_xaxes(title_text = nametemp, range=[-0.04,8],    row=1, col=2) \n",
    "\n",
    "fig.update_xaxes(title_text = nameSW,   range=[-50,1200], row=2, col=2)\n",
    "fig.update_xaxes(title_text = namewind, range=[-.5,15],  row=3, col=2)\n",
    "\n",
    "fig.update_layout(title='Duration of Unloading Event for All Sites: Negative Temperatures', width=1000, height=800, showlegend=False)\n",
    "fig.show()"
   ]
  },
  {
   "cell_type": "code",
   "execution_count": 100,
   "id": "8946758f",
   "metadata": {},
   "outputs": [
    {
     "name": "stdout",
     "output_type": "stream",
     "text": [
      "Mean duration of unloading for positive temps 3.7027027027027026\n",
      "Mean duration of unloading for negative temps 3.481012658227848\n",
      "Mean duration of unloading for sticky snow:  3.935483870967742\n",
      "Mean duration of unloading for cold   snow:  3.2264150943396226\n"
     ]
    }
   ],
   "source": [
    "positive = df_all_positive['count'].mean()\n",
    "negative = df_all_negative['count'].mean()\n",
    "\n",
    "sticky = df_all_neg_sticky['count'].mean()\n",
    "coldhs = df_all_neg_coldhs['count'].mean()\n",
    "\n",
    "print(\"Mean duration of unloading for positive temps\", positive)\n",
    "print(\"Mean duration of unloading for negative temps\", negative)\n",
    "print(\"Mean duration of unloading for sticky snow: \", sticky)\n",
    "print(\"Mean duration of unloading for cold   snow: \", coldhs)"
   ]
  },
  {
   "cell_type": "code",
   "execution_count": 101,
   "id": "1b5020e9",
   "metadata": {},
   "outputs": [
    {
     "name": "stdout",
     "output_type": "stream",
     "text": [
      "Mean duration of unloading for positive temps part unloading 5.818181818181818\n",
      "Mean duration of unloading for positive temps full unloading 2.8076923076923075\n",
      "Mean duration of unloading for negative temps part unloading 3.1639344262295084\n",
      "Mean duration of unloading for negative temps full unloading 4.555555555555555\n"
     ]
    }
   ],
   "source": [
    "negative_full = df_all_negative_full['count'].mean()\n",
    "negative_part = df_all_negative_part['count'].mean()\n",
    "\n",
    "positive_full = df_all_positive_full['count'].mean()\n",
    "positive_part = df_all_positive_part['count'].mean()\n",
    "\n",
    "print(\"Mean duration of unloading for positive temps part unloading\", positive_part)\n",
    "print(\"Mean duration of unloading for positive temps full unloading\", positive_full)\n",
    "\n",
    "print(\"Mean duration of unloading for negative temps part unloading\", negative_part)\n",
    "print(\"Mean duration of unloading for negative temps full unloading\", negative_full)"
   ]
  },
  {
   "cell_type": "code",
   "execution_count": 102,
   "id": "ff2cf305",
   "metadata": {},
   "outputs": [
    {
     "data": {
      "text/html": [
       "<div>\n",
       "<style scoped>\n",
       "    .dataframe tbody tr th:only-of-type {\n",
       "        vertical-align: middle;\n",
       "    }\n",
       "\n",
       "    .dataframe tbody tr th {\n",
       "        vertical-align: top;\n",
       "    }\n",
       "\n",
       "    .dataframe thead th {\n",
       "        text-align: right;\n",
       "    }\n",
       "</style>\n",
       "<table border=\"1\" class=\"dataframe\">\n",
       "  <thead>\n",
       "    <tr style=\"text-align: right;\">\n",
       "      <th></th>\n",
       "      <th>neg_part</th>\n",
       "      <th>neg_full</th>\n",
       "      <th>pos_part</th>\n",
       "      <th>pos_full</th>\n",
       "    </tr>\n",
       "  </thead>\n",
       "  <tbody>\n",
       "    <tr>\n",
       "      <th>0</th>\n",
       "      <td>3.0</td>\n",
       "      <td>5.0</td>\n",
       "      <td>3.0</td>\n",
       "      <td>2.0</td>\n",
       "    </tr>\n",
       "    <tr>\n",
       "      <th>1</th>\n",
       "      <td>2.0</td>\n",
       "      <td>1.0</td>\n",
       "      <td>5.0</td>\n",
       "      <td>1.0</td>\n",
       "    </tr>\n",
       "    <tr>\n",
       "      <th>2</th>\n",
       "      <td>1.0</td>\n",
       "      <td>2.0</td>\n",
       "      <td>7.0</td>\n",
       "      <td>5.0</td>\n",
       "    </tr>\n",
       "    <tr>\n",
       "      <th>3</th>\n",
       "      <td>3.0</td>\n",
       "      <td>5.0</td>\n",
       "      <td>6.0</td>\n",
       "      <td>1.0</td>\n",
       "    </tr>\n",
       "    <tr>\n",
       "      <th>4</th>\n",
       "      <td>6.0</td>\n",
       "      <td>13.0</td>\n",
       "      <td>3.0</td>\n",
       "      <td>2.0</td>\n",
       "    </tr>\n",
       "    <tr>\n",
       "      <th>...</th>\n",
       "      <td>...</td>\n",
       "      <td>...</td>\n",
       "      <td>...</td>\n",
       "      <td>...</td>\n",
       "    </tr>\n",
       "    <tr>\n",
       "      <th>56</th>\n",
       "      <td>9.0</td>\n",
       "      <td>NaN</td>\n",
       "      <td>NaN</td>\n",
       "      <td>NaN</td>\n",
       "    </tr>\n",
       "    <tr>\n",
       "      <th>57</th>\n",
       "      <td>4.0</td>\n",
       "      <td>NaN</td>\n",
       "      <td>NaN</td>\n",
       "      <td>NaN</td>\n",
       "    </tr>\n",
       "    <tr>\n",
       "      <th>58</th>\n",
       "      <td>12.0</td>\n",
       "      <td>NaN</td>\n",
       "      <td>NaN</td>\n",
       "      <td>NaN</td>\n",
       "    </tr>\n",
       "    <tr>\n",
       "      <th>59</th>\n",
       "      <td>3.0</td>\n",
       "      <td>NaN</td>\n",
       "      <td>NaN</td>\n",
       "      <td>NaN</td>\n",
       "    </tr>\n",
       "    <tr>\n",
       "      <th>60</th>\n",
       "      <td>4.0</td>\n",
       "      <td>NaN</td>\n",
       "      <td>NaN</td>\n",
       "      <td>NaN</td>\n",
       "    </tr>\n",
       "  </tbody>\n",
       "</table>\n",
       "<p>61 rows × 4 columns</p>\n",
       "</div>"
      ],
      "text/plain": [
       "    neg_part  neg_full  pos_part  pos_full\n",
       "0        3.0       5.0       3.0       2.0\n",
       "1        2.0       1.0       5.0       1.0\n",
       "2        1.0       2.0       7.0       5.0\n",
       "3        3.0       5.0       6.0       1.0\n",
       "4        6.0      13.0       3.0       2.0\n",
       "..       ...       ...       ...       ...\n",
       "56       9.0       NaN       NaN       NaN\n",
       "57       4.0       NaN       NaN       NaN\n",
       "58      12.0       NaN       NaN       NaN\n",
       "59       3.0       NaN       NaN       NaN\n",
       "60       4.0       NaN       NaN       NaN\n",
       "\n",
       "[61 rows x 4 columns]"
      ]
     },
     "execution_count": 102,
     "metadata": {},
     "output_type": "execute_result"
    }
   ],
   "source": [
    "d = {\"neg_part\": df_all_negative_part['count'].reset_index(drop=True),  \n",
    "     \"neg_full\": df_all_negative_full['count'].reset_index(drop=True), \n",
    "     \"pos_part\": df_all_positive_part['count'].reset_index(drop=True),\n",
    "     \"pos_full\": df_all_positive_full['count'].reset_index(drop=True), \n",
    "     }\n",
    "\n",
    "df_count = pd.DataFrame(d)\n",
    "df_count"
   ]
  },
  {
   "cell_type": "code",
   "execution_count": 103,
   "id": "4d084a36",
   "metadata": {},
   "outputs": [],
   "source": [
    "plt.close()\n",
    "# sns.boxplot(data=df_count)"
   ]
  },
  {
   "cell_type": "code",
   "execution_count": 104,
   "id": "16df1695",
   "metadata": {},
   "outputs": [
    {
     "data": {
      "text/plain": [
       "<AxesSubplot:>"
      ]
     },
     "execution_count": 104,
     "metadata": {},
     "output_type": "execute_result"
    },
    {
     "data": {
      "application/vnd.jupyter.widget-view+json": {
       "model_id": "4a269337019a452a8e9259ed1695ffcc",
       "version_major": 2,
       "version_minor": 0
      },
      "image/png": "[encoded data removed]",
      "text/html": [
       "\n",
       "            <div style=\"display: inline-block;\">\n",
       "                <div class=\"jupyter-widgets widget-label\" style=\"text-align: center;\">\n",
       "                    Figure\n",
       "                </div>\n",
       "                <img src='data:image/png;base64,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' width=640.0/>\n",
       "            </div>\n",
       "        "
      ],
      "text/plain": [
       "Canvas(toolbar=Toolbar(toolitems=[('Home', 'Reset original view', 'home', 'home'), ('Back', 'Back to previous …"
      ]
     },
     "metadata": {},
     "output_type": "display_data"
    }
   ],
   "source": [
    "sns.boxplot(\n",
    "    data=df_count,\n",
    "    notch=True, showcaps=False,\n",
    "    flierprops={\"marker\": \"x\"},\n",
    "    boxprops={\"facecolor\": (.4, .6, .8, .5)},\n",
    "    medianprops={\"color\": \"coral\"},\n",
    ")"
   ]
  },
  {
   "cell_type": "code",
   "execution_count": 169,
   "id": "740cc3f0",
   "metadata": {},
   "outputs": [
    {
     "data": {
      "text/html": [
       "<div>\n",
       "<style scoped>\n",
       "    .dataframe tbody tr th:only-of-type {\n",
       "        vertical-align: middle;\n",
       "    }\n",
       "\n",
       "    .dataframe tbody tr th {\n",
       "        vertical-align: top;\n",
       "    }\n",
       "\n",
       "    .dataframe thead th {\n",
       "        text-align: right;\n",
       "    }\n",
       "</style>\n",
       "<table border=\"1\" class=\"dataframe\">\n",
       "  <thead>\n",
       "    <tr style=\"text-align: right;\">\n",
       "      <th></th>\n",
       "      <th>event</th>\n",
       "      <th>time_min</th>\n",
       "      <th>time_max</th>\n",
       "      <th>count</th>\n",
       "      <th>shortwave</th>\n",
       "      <th>temp</th>\n",
       "      <th>windspeed</th>\n",
       "      <th>CD</th>\n",
       "      <th>Type</th>\n",
       "      <th>TypeSymbol</th>\n",
       "      <th>isNegative</th>\n",
       "      <th>Temperature</th>\n",
       "      <th>Classification</th>\n",
       "      <th>temperature</th>\n",
       "      <th>classification</th>\n",
       "      <th>temperature_string</th>\n",
       "    </tr>\n",
       "    <tr>\n",
       "      <th>datetime</th>\n",
       "      <th></th>\n",
       "      <th></th>\n",
       "      <th></th>\n",
       "      <th></th>\n",
       "      <th></th>\n",
       "      <th></th>\n",
       "      <th></th>\n",
       "      <th></th>\n",
       "      <th></th>\n",
       "      <th></th>\n",
       "      <th></th>\n",
       "      <th></th>\n",
       "      <th></th>\n",
       "      <th></th>\n",
       "      <th></th>\n",
       "      <th></th>\n",
       "    </tr>\n",
       "  </thead>\n",
       "  <tbody>\n",
       "    <tr>\n",
       "      <th>2016-10-06 15:00:00</th>\n",
       "      <td>2</td>\n",
       "      <td>10/6/2016 11:00</td>\n",
       "      <td>10/6/2016 15:00</td>\n",
       "      <td>5</td>\n",
       "      <td>513.968000</td>\n",
       "      <td>-1.542600</td>\n",
       "      <td>3.898000</td>\n",
       "      <td>0.0</td>\n",
       "      <td>2.0</td>\n",
       "      <td>2.0</td>\n",
       "      <td>negative</td>\n",
       "      <td>negative</td>\n",
       "      <td>full unloading</td>\n",
       "      <td>negative</td>\n",
       "      <td>full unloading</td>\n",
       "      <td>negative</td>\n",
       "    </tr>\n",
       "    <tr>\n",
       "      <th>2016-10-12 10:00:00</th>\n",
       "      <td>4</td>\n",
       "      <td>10/12/2016 9:00</td>\n",
       "      <td>10/12/2016 10:00</td>\n",
       "      <td>2</td>\n",
       "      <td>683.805000</td>\n",
       "      <td>3.717500</td>\n",
       "      <td>2.870000</td>\n",
       "      <td>0.0</td>\n",
       "      <td>2.0</td>\n",
       "      <td>2.0</td>\n",
       "      <td>positive</td>\n",
       "      <td>positive</td>\n",
       "      <td>full unloading</td>\n",
       "      <td>positive</td>\n",
       "      <td>full unloading</td>\n",
       "      <td>positive</td>\n",
       "    </tr>\n",
       "    <tr>\n",
       "      <th>2016-10-19 09:00:00</th>\n",
       "      <td>6</td>\n",
       "      <td>10/19/2016 9:00</td>\n",
       "      <td>10/19/2016 9:00</td>\n",
       "      <td>1</td>\n",
       "      <td>394.135000</td>\n",
       "      <td>-2.545000</td>\n",
       "      <td>3.920000</td>\n",
       "      <td>0.0</td>\n",
       "      <td>2.0</td>\n",
       "      <td>2.0</td>\n",
       "      <td>negative</td>\n",
       "      <td>negative</td>\n",
       "      <td>full unloading</td>\n",
       "      <td>negative</td>\n",
       "      <td>full unloading</td>\n",
       "      <td>negative</td>\n",
       "    </tr>\n",
       "    <tr>\n",
       "      <th>2016-11-02 08:00:00</th>\n",
       "      <td>8</td>\n",
       "      <td>11/2/2016 8:00</td>\n",
       "      <td>11/2/2016 8:00</td>\n",
       "      <td>1</td>\n",
       "      <td>333.890000</td>\n",
       "      <td>0.783000</td>\n",
       "      <td>1.037500</td>\n",
       "      <td>0.0</td>\n",
       "      <td>2.0</td>\n",
       "      <td>2.0</td>\n",
       "      <td>positive</td>\n",
       "      <td>positive</td>\n",
       "      <td>full unloading</td>\n",
       "      <td>positive</td>\n",
       "      <td>full unloading</td>\n",
       "      <td>positive</td>\n",
       "    </tr>\n",
       "    <tr>\n",
       "      <th>2016-11-18 14:00:00</th>\n",
       "      <td>10</td>\n",
       "      <td>11/18/2016 12:00</td>\n",
       "      <td>11/18/2016 14:00</td>\n",
       "      <td>3</td>\n",
       "      <td>499.726667</td>\n",
       "      <td>-8.328333</td>\n",
       "      <td>3.178333</td>\n",
       "      <td>0.0</td>\n",
       "      <td>1.0</td>\n",
       "      <td>102.0</td>\n",
       "      <td>negative</td>\n",
       "      <td>negative</td>\n",
       "      <td>partial unloading</td>\n",
       "      <td>negative</td>\n",
       "      <td>partial unloading</td>\n",
       "      <td>negative</td>\n",
       "    </tr>\n",
       "  </tbody>\n",
       "</table>\n",
       "</div>"
      ],
      "text/plain": [
       "                     event          time_min          time_max  count  \\\n",
       "datetime                                                                \n",
       "2016-10-06 15:00:00      2   10/6/2016 11:00   10/6/2016 15:00      5   \n",
       "2016-10-12 10:00:00      4   10/12/2016 9:00  10/12/2016 10:00      2   \n",
       "2016-10-19 09:00:00      6   10/19/2016 9:00   10/19/2016 9:00      1   \n",
       "2016-11-02 08:00:00      8    11/2/2016 8:00    11/2/2016 8:00      1   \n",
       "2016-11-18 14:00:00     10  11/18/2016 12:00  11/18/2016 14:00      3   \n",
       "\n",
       "                      shortwave      temp  windspeed   CD  Type  TypeSymbol  \\\n",
       "datetime                                                                      \n",
       "2016-10-06 15:00:00  513.968000 -1.542600   3.898000  0.0   2.0         2.0   \n",
       "2016-10-12 10:00:00  683.805000  3.717500   2.870000  0.0   2.0         2.0   \n",
       "2016-10-19 09:00:00  394.135000 -2.545000   3.920000  0.0   2.0         2.0   \n",
       "2016-11-02 08:00:00  333.890000  0.783000   1.037500  0.0   2.0         2.0   \n",
       "2016-11-18 14:00:00  499.726667 -8.328333   3.178333  0.0   1.0       102.0   \n",
       "\n",
       "                    isNegative Temperature     Classification temperature  \\\n",
       "datetime                                                                    \n",
       "2016-10-06 15:00:00   negative    negative     full unloading    negative   \n",
       "2016-10-12 10:00:00   positive    positive     full unloading    positive   \n",
       "2016-10-19 09:00:00   negative    negative     full unloading    negative   \n",
       "2016-11-02 08:00:00   positive    positive     full unloading    positive   \n",
       "2016-11-18 14:00:00   negative    negative  partial unloading    negative   \n",
       "\n",
       "                        classification temperature_string  \n",
       "datetime                                                   \n",
       "2016-10-06 15:00:00     full unloading           negative  \n",
       "2016-10-12 10:00:00     full unloading           positive  \n",
       "2016-10-19 09:00:00     full unloading           negative  \n",
       "2016-11-02 08:00:00     full unloading           positive  \n",
       "2016-11-18 14:00:00  partial unloading           negative  "
      ]
     },
     "execution_count": 169,
     "metadata": {},
     "output_type": "execute_result"
    }
   ],
   "source": [
    "df_all['temperature_string']    = np.nan\n",
    "df_all['classification'] = np.nan\n",
    "\n",
    "df_all['temperature_string'].where(df_all.temp >= 0, \"negative\", inplace=True)\n",
    "df_all['temperature_string'].where(df_all.temp <  0, \"positive\", inplace=True)\n",
    "df_all['classification'].where(df_all.Type ==1, \"full unloading\", inplace=True)\n",
    "df_all['classification'].where(df_all.Type ==2, \"partial unloading\", inplace=True)\n",
    "df_all.head()"
   ]
  },
  {
   "cell_type": "code",
   "execution_count": 171,
   "id": "791fc091",
   "metadata": {},
   "outputs": [
    {
     "data": {
      "application/vnd.plotly.v1+json": {
       "config": {
        "plotlyServerURL": "https://plot.ly"
       },
       "data": [
        {
         "alignmentgroup": "True",
         "hovertemplate": "classification=full unloading<br>count=%{x}<br>temperature_string=%{y}<extra></extra>",
         "legendgroup": "full unloading",
         "marker": {
          "color": "blue"
         },
         "name": "full unloading",
         "notched": true,
         "offsetgroup": "full unloading",
         "orientation": "h",
         "showlegend": true,
         "type": "box",
         "x": [
          5,
          2,
          1,
          1,
          2,
          5,
          13,
          4,
          6,
          5,
          3,
          3,
          3,
          4,
          2,
          10,
          1,
          1,
          5,
          3,
          9,
          2,
          3,
          2,
          2,
          10,
          6,
          7,
          2,
          2,
          6,
          1,
          2,
          3,
          5,
          1,
          2,
          1,
          1,
          3,
          3,
          3,
          2,
          1,
          2,
          1,
          3
         ],
         "x0": " ",
         "xaxis": "x",
         "y": [
          "negative",
          "positive",
          "negative",
          "positive",
          "negative",
          "negative",
          "negative",
          "negative",
          "negative",
          "positive",
          "negative",
          "negative",
          "negative",
          "negative",
          "negative",
          "negative",
          "negative",
          "positive",
          "negative",
          "negative",
          "negative",
          "positive",
          "negative",
          "positive",
          "positive",
          "positive",
          "positive",
          "negative",
          "positive",
          "positive",
          "positive",
          "positive",
          "positive",
          "positive",
          "positive",
          "positive",
          "positive",
          "positive",
          "negative",
          "positive",
          "positive",
          "positive",
          "positive",
          "negative",
          "positive",
          "positive",
          "positive"
         ],
         "y0": " ",
         "yaxis": "y"
        },
        {
         "alignmentgroup": "True",
         "hovertemplate": "classification=partial unloading<br>count=%{x}<br>temperature_string=%{y}<extra></extra>",
         "legendgroup": "partial unloading",
         "marker": {
          "color": "darkorange"
         },
         "name": "partial unloading",
         "notched": true,
         "offsetgroup": "partial unloading",
         "orientation": "h",
         "showlegend": true,
         "type": "box",
         "x": [
          3,
          2,
          1,
          3,
          6,
          1,
          3,
          2,
          6,
          8,
          2,
          3,
          1,
          1,
          1,
          1,
          2,
          1,
          4,
          2,
          2,
          5,
          2,
          4,
          7,
          2,
          4,
          1,
          4,
          2,
          1,
          1,
          1,
          2,
          4,
          11,
          3,
          5,
          1,
          6,
          2,
          1,
          1,
          5,
          2,
          4,
          1,
          1,
          6,
          1,
          7,
          6,
          3,
          5,
          1,
          7,
          8,
          2,
          1,
          4,
          1,
          3,
          4,
          2,
          3,
          9,
          5,
          4,
          12,
          9,
          3,
          4,
          9,
          9
         ],
         "x0": " ",
         "xaxis": "x",
         "y": [
          "negative",
          "negative",
          "negative",
          "negative",
          "negative",
          "negative",
          "negative",
          "negative",
          "negative",
          "negative",
          "negative",
          "positive",
          "negative",
          "negative",
          "negative",
          "negative",
          "negative",
          "negative",
          "negative",
          "negative",
          "negative",
          "positive",
          "negative",
          "negative",
          "positive",
          "negative",
          "negative",
          "negative",
          "negative",
          "negative",
          "negative",
          "negative",
          "negative",
          "negative",
          "negative",
          "negative",
          "negative",
          "negative",
          "negative",
          "negative",
          "negative",
          "negative",
          "negative",
          "negative",
          "negative",
          "negative",
          "negative",
          "negative",
          "negative",
          "negative",
          "negative",
          "positive",
          "positive",
          "positive",
          "negative",
          "negative",
          "negative",
          "negative",
          "negative",
          "negative",
          "negative",
          "positive",
          "negative",
          "negative",
          "negative",
          "negative",
          "positive",
          "negative",
          "negative",
          "positive",
          "negative",
          "negative",
          "positive",
          "positive"
         ],
         "y0": " ",
         "yaxis": "y"
        }
       ],
       "layout": {
        "boxmode": "group",
        "legend": {
         "title": {
          "text": "classification"
         },
         "tracegroupgap": 0,
         "traceorder": "reversed"
        },
        "margin": {
         "t": 60
        },
        "template": {
         "data": {
          "bar": [
           {
            "error_x": {
             "color": "#2a3f5f"
            },
            "error_y": {
             "color": "#2a3f5f"
            },
            "marker": {
             "line": {
              "color": "#E5ECF6",
              "width": 0.5
             },
             "pattern": {
              "fillmode": "overlay",
              "size": 10,
              "solidity": 0.2
             }
            },
            "type": "bar"
           }
          ],
          "barpolar": [
           {
            "marker": {
             "line": {
              "color": "#E5ECF6",
              "width": 0.5
             },
             "pattern": {
              "fillmode": "overlay",
              "size": 10,
              "solidity": 0.2
             }
            },
            "type": "barpolar"
           }
          ],
          "carpet": [
           {
            "aaxis": {
             "endlinecolor": "#2a3f5f",
             "gridcolor": "white",
             "linecolor": "white",
             "minorgridcolor": "white",
             "startlinecolor": "#2a3f5f"
            },
            "baxis": {
             "endlinecolor": "#2a3f5f",
             "gridcolor": "white",
             "linecolor": "white",
             "minorgridcolor": "white",
             "startlinecolor": "#2a3f5f"
            },
            "type": "carpet"
           }
          ],
          "choropleth": [
           {
            "colorbar": {
             "outlinewidth": 0,
             "ticks": ""
            },
            "type": "choropleth"
           }
          ],
          "contour": [
           {
            "colorbar": {
             "outlinewidth": 0,
             "ticks": ""
            },
            "colorscale": [
             [
              0,
              "#0d0887"
             ],
             [
              0.1111111111111111,
              "#46039f"
             ],
             [
              0.2222222222222222,
              "#7201a8"
             ],
             [
              0.3333333333333333,
              "#9c179e"
             ],
             [
              0.4444444444444444,
              "#bd3786"
             ],
             [
              0.5555555555555556,
              "#d8576b"
             ],
             [
              0.6666666666666666,
              "#ed7953"
             ],
             [
              0.7777777777777778,
              "#fb9f3a"
             ],
             [
              0.8888888888888888,
              "#fdca26"
             ],
             [
              1,
              "#f0f921"
             ]
            ],
            "type": "contour"
           }
          ],
          "contourcarpet": [
           {
            "colorbar": {
             "outlinewidth": 0,
             "ticks": ""
            },
            "type": "contourcarpet"
           }
          ],
          "heatmap": [
           {
            "colorbar": {
             "outlinewidth": 0,
             "ticks": ""
            },
            "colorscale": [
             [
              0,
              "#0d0887"
             ],
             [
              0.1111111111111111,
              "#46039f"
             ],
             [
              0.2222222222222222,
              "#7201a8"
             ],
             [
              0.3333333333333333,
              "#9c179e"
             ],
             [
              0.4444444444444444,
              "#bd3786"
             ],
             [
              0.5555555555555556,
              "#d8576b"
             ],
             [
              0.6666666666666666,
              "#ed7953"
             ],
             [
              0.7777777777777778,
              "#fb9f3a"
             ],
             [
              0.8888888888888888,
              "#fdca26"
             ],
             [
              1,
              "#f0f921"
             ]
            ],
            "type": "heatmap"
           }
          ],
          "heatmapgl": [
           {
            "colorbar": {
             "outlinewidth": 0,
             "ticks": ""
            },
            "colorscale": [
             [
              0,
              "#0d0887"
             ],
             [
              0.1111111111111111,
              "#46039f"
             ],
             [
              0.2222222222222222,
              "#7201a8"
             ],
             [
              0.3333333333333333,
              "#9c179e"
             ],
             [
              0.4444444444444444,
              "#bd3786"
             ],
             [
              0.5555555555555556,
              "#d8576b"
             ],
             [
              0.6666666666666666,
              "#ed7953"
             ],
             [
              0.7777777777777778,
              "#fb9f3a"
             ],
             [
              0.8888888888888888,
              "#fdca26"
             ],
             [
              1,
              "#f0f921"
             ]
            ],
            "type": "heatmapgl"
           }
          ],
          "histogram": [
           {
            "marker": {
             "pattern": {
              "fillmode": "overlay",
              "size": 10,
              "solidity": 0.2
             }
            },
            "type": "histogram"
           }
          ],
          "histogram2d": [
           {
            "colorbar": {
             "outlinewidth": 0,
             "ticks": ""
            },
            "colorscale": [
             [
              0,
              "#0d0887"
             ],
             [
              0.1111111111111111,
              "#46039f"
             ],
             [
              0.2222222222222222,
              "#7201a8"
             ],
             [
              0.3333333333333333,
              "#9c179e"
             ],
             [
              0.4444444444444444,
              "#bd3786"
             ],
             [
              0.5555555555555556,
              "#d8576b"
             ],
             [
              0.6666666666666666,
              "#ed7953"
             ],
             [
              0.7777777777777778,
              "#fb9f3a"
             ],
             [
              0.8888888888888888,
              "#fdca26"
             ],
             [
              1,
              "#f0f921"
             ]
            ],
            "type": "histogram2d"
           }
          ],
          "histogram2dcontour": [
           {
            "colorbar": {
             "outlinewidth": 0,
             "ticks": ""
            },
            "colorscale": [
             [
              0,
              "#0d0887"
             ],
             [
              0.1111111111111111,
              "#46039f"
             ],
             [
              0.2222222222222222,
              "#7201a8"
             ],
             [
              0.3333333333333333,
              "#9c179e"
             ],
             [
              0.4444444444444444,
              "#bd3786"
             ],
             [
              0.5555555555555556,
              "#d8576b"
             ],
             [
              0.6666666666666666,
              "#ed7953"
             ],
             [
              0.7777777777777778,
              "#fb9f3a"
             ],
             [
              0.8888888888888888,
              "#fdca26"
             ],
             [
              1,
              "#f0f921"
             ]
            ],
            "type": "histogram2dcontour"
           }
          ],
          "mesh3d": [
           {
            "colorbar": {
             "outlinewidth": 0,
             "ticks": ""
            },
            "type": "mesh3d"
           }
          ],
          "parcoords": [
           {
            "line": {
             "colorbar": {
              "outlinewidth": 0,
              "ticks": ""
             }
            },
            "type": "parcoords"
           }
          ],
          "pie": [
           {
            "automargin": true,
            "type": "pie"
           }
          ],
          "scatter": [
           {
            "marker": {
             "colorbar": {
              "outlinewidth": 0,
              "ticks": ""
             }
            },
            "type": "scatter"
           }
          ],
          "scatter3d": [
           {
            "line": {
             "colorbar": {
              "outlinewidth": 0,
              "ticks": ""
             }
            },
            "marker": {
             "colorbar": {
              "outlinewidth": 0,
              "ticks": ""
             }
            },
            "type": "scatter3d"
           }
          ],
          "scattercarpet": [
           {
            "marker": {
             "colorbar": {
              "outlinewidth": 0,
              "ticks": ""
             }
            },
            "type": "scattercarpet"
           }
          ],
          "scattergeo": [
           {
            "marker": {
             "colorbar": {
              "outlinewidth": 0,
              "ticks": ""
             }
            },
            "type": "scattergeo"
           }
          ],
          "scattergl": [
           {
            "marker": {
             "colorbar": {
              "outlinewidth": 0,
              "ticks": ""
             }
            },
            "type": "scattergl"
           }
          ],
          "scattermapbox": [
           {
            "marker": {
             "colorbar": {
              "outlinewidth": 0,
              "ticks": ""
             }
            },
            "type": "scattermapbox"
           }
          ],
          "scatterpolar": [
           {
            "marker": {
             "colorbar": {
              "outlinewidth": 0,
              "ticks": ""
             }
            },
            "type": "scatterpolar"
           }
          ],
          "scatterpolargl": [
           {
            "marker": {
             "colorbar": {
              "outlinewidth": 0,
              "ticks": ""
             }
            },
            "type": "scatterpolargl"
           }
          ],
          "scatterternary": [
           {
            "marker": {
             "colorbar": {
              "outlinewidth": 0,
              "ticks": ""
             }
            },
            "type": "scatterternary"
           }
          ],
          "surface": [
           {
            "colorbar": {
             "outlinewidth": 0,
             "ticks": ""
            },
            "colorscale": [
             [
              0,
              "#0d0887"
             ],
             [
              0.1111111111111111,
              "#46039f"
             ],
             [
              0.2222222222222222,
              "#7201a8"
             ],
             [
              0.3333333333333333,
              "#9c179e"
             ],
             [
              0.4444444444444444,
              "#bd3786"
             ],
             [
              0.5555555555555556,
              "#d8576b"
             ],
             [
              0.6666666666666666,
              "#ed7953"
             ],
             [
              0.7777777777777778,
              "#fb9f3a"
             ],
             [
              0.8888888888888888,
              "#fdca26"
             ],
             [
              1,
              "#f0f921"
             ]
            ],
            "type": "surface"
           }
          ],
          "table": [
           {
            "cells": {
             "fill": {
              "color": "#EBF0F8"
             },
             "line": {
              "color": "white"
             }
            },
            "header": {
             "fill": {
              "color": "#C8D4E3"
             },
             "line": {
              "color": "white"
             }
            },
            "type": "table"
           }
          ]
         },
         "layout": {
          "annotationdefaults": {
           "arrowcolor": "#2a3f5f",
           "arrowhead": 0,
           "arrowwidth": 1
          },
          "autotypenumbers": "strict",
          "coloraxis": {
           "colorbar": {
            "outlinewidth": 0,
            "ticks": ""
           }
          },
          "colorscale": {
           "diverging": [
            [
             0,
             "#8e0152"
            ],
            [
             0.1,
             "#c51b7d"
            ],
            [
             0.2,
             "#de77ae"
            ],
            [
             0.3,
             "#f1b6da"
            ],
            [
             0.4,
             "#fde0ef"
            ],
            [
             0.5,
             "#f7f7f7"
            ],
            [
             0.6,
             "#e6f5d0"
            ],
            [
             0.7,
             "#b8e186"
            ],
            [
             0.8,
             "#7fbc41"
            ],
            [
             0.9,
             "#4d9221"
            ],
            [
             1,
             "#276419"
            ]
           ],
           "sequential": [
            [
             0,
             "#0d0887"
            ],
            [
             0.1111111111111111,
             "#46039f"
            ],
            [
             0.2222222222222222,
             "#7201a8"
            ],
            [
             0.3333333333333333,
             "#9c179e"
            ],
            [
             0.4444444444444444,
             "#bd3786"
            ],
            [
             0.5555555555555556,
             "#d8576b"
            ],
            [
             0.6666666666666666,
             "#ed7953"
            ],
            [
             0.7777777777777778,
             "#fb9f3a"
            ],
            [
             0.8888888888888888,
             "#fdca26"
            ],
            [
             1,
             "#f0f921"
            ]
           ],
           "sequentialminus": [
            [
             0,
             "#0d0887"
            ],
            [
             0.1111111111111111,
             "#46039f"
            ],
            [
             0.2222222222222222,
             "#7201a8"
            ],
            [
             0.3333333333333333,
             "#9c179e"
            ],
            [
             0.4444444444444444,
             "#bd3786"
            ],
            [
             0.5555555555555556,
             "#d8576b"
            ],
            [
             0.6666666666666666,
             "#ed7953"
            ],
            [
             0.7777777777777778,
             "#fb9f3a"
            ],
            [
             0.8888888888888888,
             "#fdca26"
            ],
            [
             1,
             "#f0f921"
            ]
           ]
          },
          "colorway": [
           "#636efa",
           "#EF553B",
           "#00cc96",
           "#ab63fa",
           "#FFA15A",
           "#19d3f3",
           "#FF6692",
           "#B6E880",
           "#FF97FF",
           "#FECB52"
          ],
          "font": {
           "color": "#2a3f5f"
          },
          "geo": {
           "bgcolor": "white",
           "lakecolor": "white",
           "landcolor": "#E5ECF6",
           "showlakes": true,
           "showland": true,
           "subunitcolor": "white"
          },
          "hoverlabel": {
           "align": "left"
          },
          "hovermode": "closest",
          "mapbox": {
           "style": "light"
          },
          "paper_bgcolor": "white",
          "plot_bgcolor": "#E5ECF6",
          "polar": {
           "angularaxis": {
            "gridcolor": "white",
            "linecolor": "white",
            "ticks": ""
           },
           "bgcolor": "#E5ECF6",
           "radialaxis": {
            "gridcolor": "white",
            "linecolor": "white",
            "ticks": ""
           }
          },
          "scene": {
           "xaxis": {
            "backgroundcolor": "#E5ECF6",
            "gridcolor": "white",
            "gridwidth": 2,
            "linecolor": "white",
            "showbackground": true,
            "ticks": "",
            "zerolinecolor": "white"
           },
           "yaxis": {
            "backgroundcolor": "#E5ECF6",
            "gridcolor": "white",
            "gridwidth": 2,
            "linecolor": "white",
            "showbackground": true,
            "ticks": "",
            "zerolinecolor": "white"
           },
           "zaxis": {
            "backgroundcolor": "#E5ECF6",
            "gridcolor": "white",
            "gridwidth": 2,
            "linecolor": "white",
            "showbackground": true,
            "ticks": "",
            "zerolinecolor": "white"
           }
          },
          "shapedefaults": {
           "line": {
            "color": "#2a3f5f"
           }
          },
          "ternary": {
           "aaxis": {
            "gridcolor": "white",
            "linecolor": "white",
            "ticks": ""
           },
           "baxis": {
            "gridcolor": "white",
            "linecolor": "white",
            "ticks": ""
           },
           "bgcolor": "#E5ECF6",
           "caxis": {
            "gridcolor": "white",
            "linecolor": "white",
            "ticks": ""
           }
          },
          "title": {
           "x": 0.05
          },
          "xaxis": {
           "automargin": true,
           "gridcolor": "white",
           "linecolor": "white",
           "ticks": "",
           "title": {
            "standoff": 15
           },
           "zerolinecolor": "white",
           "zerolinewidth": 2
          },
          "yaxis": {
           "automargin": true,
           "gridcolor": "white",
           "linecolor": "white",
           "ticks": "",
           "title": {
            "standoff": 15
           },
           "zerolinecolor": "white",
           "zerolinewidth": 2
          }
         }
        },
        "title": {
         "text": "Duration of unloading events for all sites"
        },
        "xaxis": {
         "anchor": "y",
         "domain": [
          0,
          1
         ],
         "title": {
          "text": "duration of unloading (hours)"
         }
        },
        "yaxis": {
         "anchor": "x",
         "domain": [
          0,
          1
         ],
         "title": {
          "text": "temperature"
         }
        }
       }
      }
     },
     "metadata": {},
     "output_type": "display_data"
    }
   ],
   "source": [
    "fig = px.box(df_all, y=\"temperature_string\", x=\"count\", color=\"classification\", notched=True, color_discrete_sequence=['blue', 'darkorange'])\n",
    "\n",
    "fig.update_layout(title='Duration of unloading events for all sites', \n",
    "    xaxis=dict(title='duration of unloading (hours)'),\n",
    "    yaxis=dict(title='temperature') \n",
    "    # legend=dict(yanchor='top', y=0.985, xanchor='right', x=0.995)\n",
    "    )\n",
    "fig.update_layout(legend_traceorder=\"reversed\")\n",
    "fig.show()"
   ]
  },
  {
   "cell_type": "markdown",
   "id": "db88ec76",
   "metadata": {},
   "source": [
    "Now, look at wind and shortwave for negative temperatures only"
   ]
  },
  {
   "cell_type": "code",
   "execution_count": 178,
   "id": "32f3d7a6",
   "metadata": {},
   "outputs": [
    {
     "data": {
      "text/html": [
       "<div>\n",
       "<style scoped>\n",
       "    .dataframe tbody tr th:only-of-type {\n",
       "        vertical-align: middle;\n",
       "    }\n",
       "\n",
       "    .dataframe tbody tr th {\n",
       "        vertical-align: top;\n",
       "    }\n",
       "\n",
       "    .dataframe thead th {\n",
       "        text-align: right;\n",
       "    }\n",
       "</style>\n",
       "<table border=\"1\" class=\"dataframe\">\n",
       "  <thead>\n",
       "    <tr style=\"text-align: right;\">\n",
       "      <th></th>\n",
       "      <th>event</th>\n",
       "      <th>time_min</th>\n",
       "      <th>time_max</th>\n",
       "      <th>count</th>\n",
       "      <th>shortwave</th>\n",
       "      <th>temp</th>\n",
       "      <th>windspeed</th>\n",
       "      <th>CD</th>\n",
       "      <th>Type</th>\n",
       "      <th>TypeSymbol</th>\n",
       "      <th>windspeed_string</th>\n",
       "      <th>classification</th>\n",
       "      <th>shortwave_string</th>\n",
       "    </tr>\n",
       "    <tr>\n",
       "      <th>datetime</th>\n",
       "      <th></th>\n",
       "      <th></th>\n",
       "      <th></th>\n",
       "      <th></th>\n",
       "      <th></th>\n",
       "      <th></th>\n",
       "      <th></th>\n",
       "      <th></th>\n",
       "      <th></th>\n",
       "      <th></th>\n",
       "      <th></th>\n",
       "      <th></th>\n",
       "      <th></th>\n",
       "    </tr>\n",
       "  </thead>\n",
       "  <tbody>\n",
       "    <tr>\n",
       "      <th>2016-10-06 15:00:00</th>\n",
       "      <td>2.0</td>\n",
       "      <td>10/6/2016 11:00</td>\n",
       "      <td>10/6/2016 15:00</td>\n",
       "      <td>5.0</td>\n",
       "      <td>513.968000</td>\n",
       "      <td>-1.542600</td>\n",
       "      <td>3.898000</td>\n",
       "      <td>0.0</td>\n",
       "      <td>2.0</td>\n",
       "      <td>2.0</td>\n",
       "      <td>low</td>\n",
       "      <td>full unloading</td>\n",
       "      <td>high</td>\n",
       "    </tr>\n",
       "    <tr>\n",
       "      <th>2016-10-19 09:00:00</th>\n",
       "      <td>6.0</td>\n",
       "      <td>10/19/2016 9:00</td>\n",
       "      <td>10/19/2016 9:00</td>\n",
       "      <td>1.0</td>\n",
       "      <td>394.135000</td>\n",
       "      <td>-2.545000</td>\n",
       "      <td>3.920000</td>\n",
       "      <td>0.0</td>\n",
       "      <td>2.0</td>\n",
       "      <td>2.0</td>\n",
       "      <td>low</td>\n",
       "      <td>full unloading</td>\n",
       "      <td>low</td>\n",
       "    </tr>\n",
       "    <tr>\n",
       "      <th>2016-11-18 14:00:00</th>\n",
       "      <td>10.0</td>\n",
       "      <td>11/18/2016 12:00</td>\n",
       "      <td>11/18/2016 14:00</td>\n",
       "      <td>3.0</td>\n",
       "      <td>499.726667</td>\n",
       "      <td>-8.328333</td>\n",
       "      <td>3.178333</td>\n",
       "      <td>0.0</td>\n",
       "      <td>1.0</td>\n",
       "      <td>102.0</td>\n",
       "      <td>low</td>\n",
       "      <td>partial unloading</td>\n",
       "      <td>low</td>\n",
       "    </tr>\n",
       "    <tr>\n",
       "      <th>2016-11-24 11:00:00</th>\n",
       "      <td>12.0</td>\n",
       "      <td>11/24/2016 10:00</td>\n",
       "      <td>11/24/2016 11:00</td>\n",
       "      <td>2.0</td>\n",
       "      <td>580.707500</td>\n",
       "      <td>-8.655000</td>\n",
       "      <td>12.797500</td>\n",
       "      <td>0.0</td>\n",
       "      <td>2.0</td>\n",
       "      <td>2.0</td>\n",
       "      <td>high</td>\n",
       "      <td>full unloading</td>\n",
       "      <td>high</td>\n",
       "    </tr>\n",
       "    <tr>\n",
       "      <th>2016-12-05 13:00:00</th>\n",
       "      <td>14.0</td>\n",
       "      <td>12/5/2016 12:00</td>\n",
       "      <td>12/5/2016 13:00</td>\n",
       "      <td>2.0</td>\n",
       "      <td>114.895000</td>\n",
       "      <td>-7.857500</td>\n",
       "      <td>3.610000</td>\n",
       "      <td>0.0</td>\n",
       "      <td>1.0</td>\n",
       "      <td>102.0</td>\n",
       "      <td>low</td>\n",
       "      <td>partial unloading</td>\n",
       "      <td>low</td>\n",
       "    </tr>\n",
       "  </tbody>\n",
       "</table>\n",
       "</div>"
      ],
      "text/plain": [
       "                     event          time_min          time_max  count  \\\n",
       "datetime                                                                \n",
       "2016-10-06 15:00:00    2.0   10/6/2016 11:00   10/6/2016 15:00    5.0   \n",
       "2016-10-19 09:00:00    6.0   10/19/2016 9:00   10/19/2016 9:00    1.0   \n",
       "2016-11-18 14:00:00   10.0  11/18/2016 12:00  11/18/2016 14:00    3.0   \n",
       "2016-11-24 11:00:00   12.0  11/24/2016 10:00  11/24/2016 11:00    2.0   \n",
       "2016-12-05 13:00:00   14.0   12/5/2016 12:00   12/5/2016 13:00    2.0   \n",
       "\n",
       "                      shortwave      temp  windspeed   CD  Type  TypeSymbol  \\\n",
       "datetime                                                                      \n",
       "2016-10-06 15:00:00  513.968000 -1.542600   3.898000  0.0   2.0         2.0   \n",
       "2016-10-19 09:00:00  394.135000 -2.545000   3.920000  0.0   2.0         2.0   \n",
       "2016-11-18 14:00:00  499.726667 -8.328333   3.178333  0.0   1.0       102.0   \n",
       "2016-11-24 11:00:00  580.707500 -8.655000  12.797500  0.0   2.0         2.0   \n",
       "2016-12-05 13:00:00  114.895000 -7.857500   3.610000  0.0   1.0       102.0   \n",
       "\n",
       "                    windspeed_string     classification shortwave_string  \n",
       "datetime                                                                  \n",
       "2016-10-06 15:00:00              low     full unloading             high  \n",
       "2016-10-19 09:00:00              low     full unloading              low  \n",
       "2016-11-18 14:00:00              low  partial unloading              low  \n",
       "2016-11-24 11:00:00             high     full unloading             high  \n",
       "2016-12-05 13:00:00              low  partial unloading              low  "
      ]
     },
     "execution_count": 178,
     "metadata": {},
     "output_type": "execute_result"
    }
   ],
   "source": [
    "df_all_negative['windspeed_string']    = np.nan\n",
    "df_all_negative['shortwave_string']    = np.nan\n",
    "df_all_negative['classification']      = np.nan\n",
    "\n",
    "df_all_negative['windspeed_string'].where(df_all_negative.windspeed >= 5, \"low\", inplace=True)\n",
    "df_all_negative['windspeed_string'].where(df_all_negative.windspeed <  5, \"high\", inplace=True)\n",
    "df_all_negative['shortwave_string'].where(df_all_negative.shortwave >= 500, \"low\", inplace=True)\n",
    "df_all_negative['shortwave_string'].where(df_all_negative.shortwave <  500, \"high\", inplace=True)\n",
    "df_all_negative['classification'].where(df_all_negative.Type ==1, \"full unloading\", inplace=True)\n",
    "df_all_negative['classification'].where(df_all_negative.Type ==2, \"partial unloading\", inplace=True)\n",
    "\n",
    "df_all_negative.head()"
   ]
  },
  {
   "cell_type": "code",
   "execution_count": 177,
   "id": "c612f253",
   "metadata": {},
   "outputs": [
    {
     "data": {
      "application/vnd.plotly.v1+json": {
       "config": {
        "plotlyServerURL": "https://plot.ly"
       },
       "data": [
        {
         "alignmentgroup": "True",
         "hovertemplate": "classification=full unloading<br>count=%{x}<br>windspeed_string=%{y}<extra></extra>",
         "legendgroup": "full unloading",
         "marker": {
          "color": "blue"
         },
         "name": "full unloading",
         "notched": true,
         "offsetgroup": "full unloading",
         "orientation": "h",
         "showlegend": true,
         "type": "box",
         "x": [
          5,
          1,
          2,
          5,
          13,
          4,
          6,
          3,
          3,
          3,
          4,
          2,
          10,
          1,
          5,
          3,
          9,
          3
         ],
         "x0": " ",
         "xaxis": "x",
         "y": [
          "low",
          "low",
          "high",
          "high",
          "high",
          "high",
          "high",
          "high",
          "high",
          "high",
          "low",
          "high",
          "high",
          "high",
          "low",
          "high",
          "high",
          "low"
         ],
         "y0": " ",
         "yaxis": "y"
        },
        {
         "alignmentgroup": "True",
         "hovertemplate": "classification=partial unloading<br>count=%{x}<br>windspeed_string=%{y}<extra></extra>",
         "legendgroup": "partial unloading",
         "marker": {
          "color": "darkorange"
         },
         "name": "partial unloading",
         "notched": true,
         "offsetgroup": "partial unloading",
         "orientation": "h",
         "showlegend": true,
         "type": "box",
         "x": [
          3,
          2,
          1,
          3,
          6,
          1,
          3,
          2,
          8,
          2,
          1,
          1,
          1,
          1,
          2,
          1,
          4,
          2,
          2,
          2,
          4,
          2,
          4,
          1,
          4,
          2,
          1,
          1,
          1,
          2,
          4,
          11,
          5,
          1,
          6,
          2,
          1,
          1,
          5,
          2,
          4,
          1,
          1,
          6,
          1,
          7,
          1,
          7,
          8,
          2,
          1,
          4,
          1,
          4,
          2,
          3,
          9,
          4,
          12,
          3,
          4
         ],
         "x0": " ",
         "xaxis": "x",
         "y": [
          "low",
          "low",
          "low",
          "high",
          "low",
          "low",
          "low",
          "low",
          "high",
          "high",
          "high",
          "high",
          "low",
          "low",
          "high",
          "high",
          "high",
          "low",
          "low",
          "low",
          "low",
          "low",
          "high",
          "low",
          "high",
          "low",
          "low",
          "low",
          "low",
          "low",
          "low",
          "high",
          "low",
          "low",
          "low",
          "low",
          "low",
          "high",
          "high",
          "low",
          "low",
          "low",
          "low",
          "low",
          "low",
          "low",
          "low",
          "low",
          "low",
          "low",
          "low",
          "low",
          "low",
          "low",
          "low",
          "low",
          "low",
          "low",
          "low",
          "low",
          "low"
         ],
         "y0": " ",
         "yaxis": "y"
        }
       ],
       "layout": {
        "boxmode": "group",
        "legend": {
         "title": {
          "text": "classification"
         },
         "tracegroupgap": 0,
         "traceorder": "reversed"
        },
        "margin": {
         "t": 60
        },
        "template": {
         "data": {
          "bar": [
           {
            "error_x": {
             "color": "#2a3f5f"
            },
            "error_y": {
             "color": "#2a3f5f"
            },
            "marker": {
             "line": {
              "color": "#E5ECF6",
              "width": 0.5
             },
             "pattern": {
              "fillmode": "overlay",
              "size": 10,
              "solidity": 0.2
             }
            },
            "type": "bar"
           }
          ],
          "barpolar": [
           {
            "marker": {
             "line": {
              "color": "#E5ECF6",
              "width": 0.5
             },
             "pattern": {
              "fillmode": "overlay",
              "size": 10,
              "solidity": 0.2
             }
            },
            "type": "barpolar"
           }
          ],
          "carpet": [
           {
            "aaxis": {
             "endlinecolor": "#2a3f5f",
             "gridcolor": "white",
             "linecolor": "white",
             "minorgridcolor": "white",
             "startlinecolor": "#2a3f5f"
            },
            "baxis": {
             "endlinecolor": "#2a3f5f",
             "gridcolor": "white",
             "linecolor": "white",
             "minorgridcolor": "white",
             "startlinecolor": "#2a3f5f"
            },
            "type": "carpet"
           }
          ],
          "choropleth": [
           {
            "colorbar": {
             "outlinewidth": 0,
             "ticks": ""
            },
            "type": "choropleth"
           }
          ],
          "contour": [
           {
            "colorbar": {
             "outlinewidth": 0,
             "ticks": ""
            },
            "colorscale": [
             [
              0,
              "#0d0887"
             ],
             [
              0.1111111111111111,
              "#46039f"
             ],
             [
              0.2222222222222222,
              "#7201a8"
             ],
             [
              0.3333333333333333,
              "#9c179e"
             ],
             [
              0.4444444444444444,
              "#bd3786"
             ],
             [
              0.5555555555555556,
              "#d8576b"
             ],
             [
              0.6666666666666666,
              "#ed7953"
             ],
             [
              0.7777777777777778,
              "#fb9f3a"
             ],
             [
              0.8888888888888888,
              "#fdca26"
             ],
             [
              1,
              "#f0f921"
             ]
            ],
            "type": "contour"
           }
          ],
          "contourcarpet": [
           {
            "colorbar": {
             "outlinewidth": 0,
             "ticks": ""
            },
            "type": "contourcarpet"
           }
          ],
          "heatmap": [
           {
            "colorbar": {
             "outlinewidth": 0,
             "ticks": ""
            },
            "colorscale": [
             [
              0,
              "#0d0887"
             ],
             [
              0.1111111111111111,
              "#46039f"
             ],
             [
              0.2222222222222222,
              "#7201a8"
             ],
             [
              0.3333333333333333,
              "#9c179e"
             ],
             [
              0.4444444444444444,
              "#bd3786"
             ],
             [
              0.5555555555555556,
              "#d8576b"
             ],
             [
              0.6666666666666666,
              "#ed7953"
             ],
             [
              0.7777777777777778,
              "#fb9f3a"
             ],
             [
              0.8888888888888888,
              "#fdca26"
             ],
             [
              1,
              "#f0f921"
             ]
            ],
            "type": "heatmap"
           }
          ],
          "heatmapgl": [
           {
            "colorbar": {
             "outlinewidth": 0,
             "ticks": ""
            },
            "colorscale": [
             [
              0,
              "#0d0887"
             ],
             [
              0.1111111111111111,
              "#46039f"
             ],
             [
              0.2222222222222222,
              "#7201a8"
             ],
             [
              0.3333333333333333,
              "#9c179e"
             ],
             [
              0.4444444444444444,
              "#bd3786"
             ],
             [
              0.5555555555555556,
              "#d8576b"
             ],
             [
              0.6666666666666666,
              "#ed7953"
             ],
             [
              0.7777777777777778,
              "#fb9f3a"
             ],
             [
              0.8888888888888888,
              "#fdca26"
             ],
             [
              1,
              "#f0f921"
             ]
            ],
            "type": "heatmapgl"
           }
          ],
          "histogram": [
           {
            "marker": {
             "pattern": {
              "fillmode": "overlay",
              "size": 10,
              "solidity": 0.2
             }
            },
            "type": "histogram"
           }
          ],
          "histogram2d": [
           {
            "colorbar": {
             "outlinewidth": 0,
             "ticks": ""
            },
            "colorscale": [
             [
              0,
              "#0d0887"
             ],
             [
              0.1111111111111111,
              "#46039f"
             ],
             [
              0.2222222222222222,
              "#7201a8"
             ],
             [
              0.3333333333333333,
              "#9c179e"
             ],
             [
              0.4444444444444444,
              "#bd3786"
             ],
             [
              0.5555555555555556,
              "#d8576b"
             ],
             [
              0.6666666666666666,
              "#ed7953"
             ],
             [
              0.7777777777777778,
              "#fb9f3a"
             ],
             [
              0.8888888888888888,
              "#fdca26"
             ],
             [
              1,
              "#f0f921"
             ]
            ],
            "type": "histogram2d"
           }
          ],
          "histogram2dcontour": [
           {
            "colorbar": {
             "outlinewidth": 0,
             "ticks": ""
            },
            "colorscale": [
             [
              0,
              "#0d0887"
             ],
             [
              0.1111111111111111,
              "#46039f"
             ],
             [
              0.2222222222222222,
              "#7201a8"
             ],
             [
              0.3333333333333333,
              "#9c179e"
             ],
             [
              0.4444444444444444,
              "#bd3786"
             ],
             [
              0.5555555555555556,
              "#d8576b"
             ],
             [
              0.6666666666666666,
              "#ed7953"
             ],
             [
              0.7777777777777778,
              "#fb9f3a"
             ],
             [
              0.8888888888888888,
              "#fdca26"
             ],
             [
              1,
              "#f0f921"
             ]
            ],
            "type": "histogram2dcontour"
           }
          ],
          "mesh3d": [
           {
            "colorbar": {
             "outlinewidth": 0,
             "ticks": ""
            },
            "type": "mesh3d"
           }
          ],
          "parcoords": [
           {
            "line": {
             "colorbar": {
              "outlinewidth": 0,
              "ticks": ""
             }
            },
            "type": "parcoords"
           }
          ],
          "pie": [
           {
            "automargin": true,
            "type": "pie"
           }
          ],
          "scatter": [
           {
            "marker": {
             "colorbar": {
              "outlinewidth": 0,
              "ticks": ""
             }
            },
            "type": "scatter"
           }
          ],
          "scatter3d": [
           {
            "line": {
             "colorbar": {
              "outlinewidth": 0,
              "ticks": ""
             }
            },
            "marker": {
             "colorbar": {
              "outlinewidth": 0,
              "ticks": ""
             }
            },
            "type": "scatter3d"
           }
          ],
          "scattercarpet": [
           {
            "marker": {
             "colorbar": {
              "outlinewidth": 0,
              "ticks": ""
             }
            },
            "type": "scattercarpet"
           }
          ],
          "scattergeo": [
           {
            "marker": {
             "colorbar": {
              "outlinewidth": 0,
              "ticks": ""
             }
            },
            "type": "scattergeo"
           }
          ],
          "scattergl": [
           {
            "marker": {
             "colorbar": {
              "outlinewidth": 0,
              "ticks": ""
             }
            },
            "type": "scattergl"
           }
          ],
          "scattermapbox": [
           {
            "marker": {
             "colorbar": {
              "outlinewidth": 0,
              "ticks": ""
             }
            },
            "type": "scattermapbox"
           }
          ],
          "scatterpolar": [
           {
            "marker": {
             "colorbar": {
              "outlinewidth": 0,
              "ticks": ""
             }
            },
            "type": "scatterpolar"
           }
          ],
          "scatterpolargl": [
           {
            "marker": {
             "colorbar": {
              "outlinewidth": 0,
              "ticks": ""
             }
            },
            "type": "scatterpolargl"
           }
          ],
          "scatterternary": [
           {
            "marker": {
             "colorbar": {
              "outlinewidth": 0,
              "ticks": ""
             }
            },
            "type": "scatterternary"
           }
          ],
          "surface": [
           {
            "colorbar": {
             "outlinewidth": 0,
             "ticks": ""
            },
            "colorscale": [
             [
              0,
              "#0d0887"
             ],
             [
              0.1111111111111111,
              "#46039f"
             ],
             [
              0.2222222222222222,
              "#7201a8"
             ],
             [
              0.3333333333333333,
              "#9c179e"
             ],
             [
              0.4444444444444444,
              "#bd3786"
             ],
             [
              0.5555555555555556,
              "#d8576b"
             ],
             [
              0.6666666666666666,
              "#ed7953"
             ],
             [
              0.7777777777777778,
              "#fb9f3a"
             ],
             [
              0.8888888888888888,
              "#fdca26"
             ],
             [
              1,
              "#f0f921"
             ]
            ],
            "type": "surface"
           }
          ],
          "table": [
           {
            "cells": {
             "fill": {
              "color": "#EBF0F8"
             },
             "line": {
              "color": "white"
             }
            },
            "header": {
             "fill": {
              "color": "#C8D4E3"
             },
             "line": {
              "color": "white"
             }
            },
            "type": "table"
           }
          ]
         },
         "layout": {
          "annotationdefaults": {
           "arrowcolor": "#2a3f5f",
           "arrowhead": 0,
           "arrowwidth": 1
          },
          "autotypenumbers": "strict",
          "coloraxis": {
           "colorbar": {
            "outlinewidth": 0,
            "ticks": ""
           }
          },
          "colorscale": {
           "diverging": [
            [
             0,
             "#8e0152"
            ],
            [
             0.1,
             "#c51b7d"
            ],
            [
             0.2,
             "#de77ae"
            ],
            [
             0.3,
             "#f1b6da"
            ],
            [
             0.4,
             "#fde0ef"
            ],
            [
             0.5,
             "#f7f7f7"
            ],
            [
             0.6,
             "#e6f5d0"
            ],
            [
             0.7,
             "#b8e186"
            ],
            [
             0.8,
             "#7fbc41"
            ],
            [
             0.9,
             "#4d9221"
            ],
            [
             1,
             "#276419"
            ]
           ],
           "sequential": [
            [
             0,
             "#0d0887"
            ],
            [
             0.1111111111111111,
             "#46039f"
            ],
            [
             0.2222222222222222,
             "#7201a8"
            ],
            [
             0.3333333333333333,
             "#9c179e"
            ],
            [
             0.4444444444444444,
             "#bd3786"
            ],
            [
             0.5555555555555556,
             "#d8576b"
            ],
            [
             0.6666666666666666,
             "#ed7953"
            ],
            [
             0.7777777777777778,
             "#fb9f3a"
            ],
            [
             0.8888888888888888,
             "#fdca26"
            ],
            [
             1,
             "#f0f921"
            ]
           ],
           "sequentialminus": [
            [
             0,
             "#0d0887"
            ],
            [
             0.1111111111111111,
             "#46039f"
            ],
            [
             0.2222222222222222,
             "#7201a8"
            ],
            [
             0.3333333333333333,
             "#9c179e"
            ],
            [
             0.4444444444444444,
             "#bd3786"
            ],
            [
             0.5555555555555556,
             "#d8576b"
            ],
            [
             0.6666666666666666,
             "#ed7953"
            ],
            [
             0.7777777777777778,
             "#fb9f3a"
            ],
            [
             0.8888888888888888,
             "#fdca26"
            ],
            [
             1,
             "#f0f921"
            ]
           ]
          },
          "colorway": [
           "#636efa",
           "#EF553B",
           "#00cc96",
           "#ab63fa",
           "#FFA15A",
           "#19d3f3",
           "#FF6692",
           "#B6E880",
           "#FF97FF",
           "#FECB52"
          ],
          "font": {
           "color": "#2a3f5f"
          },
          "geo": {
           "bgcolor": "white",
           "lakecolor": "white",
           "landcolor": "#E5ECF6",
           "showlakes": true,
           "showland": true,
           "subunitcolor": "white"
          },
          "hoverlabel": {
           "align": "left"
          },
          "hovermode": "closest",
          "mapbox": {
           "style": "light"
          },
          "paper_bgcolor": "white",
          "plot_bgcolor": "#E5ECF6",
          "polar": {
           "angularaxis": {
            "gridcolor": "white",
            "linecolor": "white",
            "ticks": ""
           },
           "bgcolor": "#E5ECF6",
           "radialaxis": {
            "gridcolor": "white",
            "linecolor": "white",
            "ticks": ""
           }
          },
          "scene": {
           "xaxis": {
            "backgroundcolor": "#E5ECF6",
            "gridcolor": "white",
            "gridwidth": 2,
            "linecolor": "white",
            "showbackground": true,
            "ticks": "",
            "zerolinecolor": "white"
           },
           "yaxis": {
            "backgroundcolor": "#E5ECF6",
            "gridcolor": "white",
            "gridwidth": 2,
            "linecolor": "white",
            "showbackground": true,
            "ticks": "",
            "zerolinecolor": "white"
           },
           "zaxis": {
            "backgroundcolor": "#E5ECF6",
            "gridcolor": "white",
            "gridwidth": 2,
            "linecolor": "white",
            "showbackground": true,
            "ticks": "",
            "zerolinecolor": "white"
           }
          },
          "shapedefaults": {
           "line": {
            "color": "#2a3f5f"
           }
          },
          "ternary": {
           "aaxis": {
            "gridcolor": "white",
            "linecolor": "white",
            "ticks": ""
           },
           "baxis": {
            "gridcolor": "white",
            "linecolor": "white",
            "ticks": ""
           },
           "bgcolor": "#E5ECF6",
           "caxis": {
            "gridcolor": "white",
            "linecolor": "white",
            "ticks": ""
           }
          },
          "title": {
           "x": 0.05
          },
          "xaxis": {
           "automargin": true,
           "gridcolor": "white",
           "linecolor": "white",
           "ticks": "",
           "title": {
            "standoff": 15
           },
           "zerolinecolor": "white",
           "zerolinewidth": 2
          },
          "yaxis": {
           "automargin": true,
           "gridcolor": "white",
           "linecolor": "white",
           "ticks": "",
           "title": {
            "standoff": 15
           },
           "zerolinecolor": "white",
           "zerolinewidth": 2
          }
         }
        },
        "title": {
         "text": "Duration of unloading events for all sites"
        },
        "xaxis": {
         "anchor": "y",
         "domain": [
          0,
          1
         ],
         "title": {
          "text": "duration of unloading (hours)"
         }
        },
        "yaxis": {
         "anchor": "x",
         "domain": [
          0,
          1
         ],
         "title": {
          "text": "wind speed"
         }
        }
       }
      }
     },
     "metadata": {},
     "output_type": "display_data"
    }
   ],
   "source": [
    "fig = px.box(df_all_negative, y=\"windspeed_string\", x=\"count\", color=\"classification\", notched=True, color_discrete_sequence=['blue', 'darkorange'])\n",
    "\n",
    "fig.update_layout(title='Duration of unloading events for all sites', \n",
    "    xaxis=dict(title='duration of unloading (hours)'),\n",
    "    yaxis=dict(title='wind speed') \n",
    "    # legend=dict(yanchor='top', y=0.985, xanchor='right', x=0.995)\n",
    "    )\n",
    "fig.update_layout(legend_traceorder=\"reversed\")\n",
    "fig.show()"
   ]
  },
  {
   "cell_type": "code",
   "execution_count": 179,
   "id": "e08eccd3",
   "metadata": {},
   "outputs": [
    {
     "data": {
      "application/vnd.plotly.v1+json": {
       "config": {
        "plotlyServerURL": "https://plot.ly"
       },
       "data": [
        {
         "alignmentgroup": "True",
         "hovertemplate": "classification=full unloading<br>count=%{x}<br>shortwave_string=%{y}<extra></extra>",
         "legendgroup": "full unloading",
         "marker": {
          "color": "blue"
         },
         "name": "full unloading",
         "notched": true,
         "offsetgroup": "full unloading",
         "orientation": "h",
         "showlegend": true,
         "type": "box",
         "x": [
          5,
          1,
          2,
          5,
          13,
          4,
          6,
          3,
          3,
          3,
          4,
          2,
          10,
          1,
          5,
          3,
          9,
          3
         ],
         "x0": " ",
         "xaxis": "x",
         "y": [
          "high",
          "low",
          "high",
          "low",
          "low",
          "low",
          "low",
          "high",
          "low",
          "high",
          "low",
          "high",
          "high",
          "high",
          "high",
          "high",
          "high",
          "low"
         ],
         "y0": " ",
         "yaxis": "y"
        },
        {
         "alignmentgroup": "True",
         "hovertemplate": "classification=partial unloading<br>count=%{x}<br>shortwave_string=%{y}<extra></extra>",
         "legendgroup": "partial unloading",
         "marker": {
          "color": "darkorange"
         },
         "name": "partial unloading",
         "notched": true,
         "offsetgroup": "partial unloading",
         "orientation": "h",
         "showlegend": true,
         "type": "box",
         "x": [
          3,
          2,
          1,
          3,
          6,
          1,
          3,
          2,
          8,
          2,
          1,
          1,
          1,
          1,
          2,
          1,
          4,
          2,
          2,
          2,
          4,
          2,
          4,
          1,
          4,
          2,
          1,
          1,
          1,
          2,
          4,
          11,
          5,
          1,
          6,
          2,
          1,
          1,
          5,
          2,
          4,
          1,
          1,
          6,
          1,
          7,
          1,
          7,
          8,
          2,
          1,
          4,
          1,
          4,
          2,
          3,
          9,
          4,
          12,
          3,
          4
         ],
         "x0": " ",
         "xaxis": "x",
         "y": [
          "low",
          "low",
          "low",
          "low",
          "low",
          "low",
          "low",
          "low",
          "low",
          "low",
          "low",
          "low",
          "low",
          "low",
          "low",
          "high",
          "low",
          "high",
          "low",
          "low",
          "low",
          "low",
          "high",
          "low",
          "high",
          "low",
          "low",
          "low",
          "low",
          "low",
          "low",
          "high",
          "low",
          "low",
          "low",
          "low",
          "low",
          "low",
          "low",
          "low",
          "low",
          "low",
          "low",
          "low",
          "low",
          "low",
          "low",
          "low",
          "low",
          "low",
          "low",
          "low",
          "high",
          "low",
          "high",
          "high",
          "low",
          "low",
          "low",
          "high",
          "low"
         ],
         "y0": " ",
         "yaxis": "y"
        }
       ],
       "layout": {
        "boxmode": "group",
        "legend": {
         "title": {
          "text": "classification"
         },
         "tracegroupgap": 0,
         "traceorder": "reversed"
        },
        "margin": {
         "t": 60
        },
        "template": {
         "data": {
          "bar": [
           {
            "error_x": {
             "color": "#2a3f5f"
            },
            "error_y": {
             "color": "#2a3f5f"
            },
            "marker": {
             "line": {
              "color": "#E5ECF6",
              "width": 0.5
             },
             "pattern": {
              "fillmode": "overlay",
              "size": 10,
              "solidity": 0.2
             }
            },
            "type": "bar"
           }
          ],
          "barpolar": [
           {
            "marker": {
             "line": {
              "color": "#E5ECF6",
              "width": 0.5
             },
             "pattern": {
              "fillmode": "overlay",
              "size": 10,
              "solidity": 0.2
             }
            },
            "type": "barpolar"
           }
          ],
          "carpet": [
           {
            "aaxis": {
             "endlinecolor": "#2a3f5f",
             "gridcolor": "white",
             "linecolor": "white",
             "minorgridcolor": "white",
             "startlinecolor": "#2a3f5f"
            },
            "baxis": {
             "endlinecolor": "#2a3f5f",
             "gridcolor": "white",
             "linecolor": "white",
             "minorgridcolor": "white",
             "startlinecolor": "#2a3f5f"
            },
            "type": "carpet"
           }
          ],
          "choropleth": [
           {
            "colorbar": {
             "outlinewidth": 0,
             "ticks": ""
            },
            "type": "choropleth"
           }
          ],
          "contour": [
           {
            "colorbar": {
             "outlinewidth": 0,
             "ticks": ""
            },
            "colorscale": [
             [
              0,
              "#0d0887"
             ],
             [
              0.1111111111111111,
              "#46039f"
             ],
             [
              0.2222222222222222,
              "#7201a8"
             ],
             [
              0.3333333333333333,
              "#9c179e"
             ],
             [
              0.4444444444444444,
              "#bd3786"
             ],
             [
              0.5555555555555556,
              "#d8576b"
             ],
             [
              0.6666666666666666,
              "#ed7953"
             ],
             [
              0.7777777777777778,
              "#fb9f3a"
             ],
             [
              0.8888888888888888,
              "#fdca26"
             ],
             [
              1,
              "#f0f921"
             ]
            ],
            "type": "contour"
           }
          ],
          "contourcarpet": [
           {
            "colorbar": {
             "outlinewidth": 0,
             "ticks": ""
            },
            "type": "contourcarpet"
           }
          ],
          "heatmap": [
           {
            "colorbar": {
             "outlinewidth": 0,
             "ticks": ""
            },
            "colorscale": [
             [
              0,
              "#0d0887"
             ],
             [
              0.1111111111111111,
              "#46039f"
             ],
             [
              0.2222222222222222,
              "#7201a8"
             ],
             [
              0.3333333333333333,
              "#9c179e"
             ],
             [
              0.4444444444444444,
              "#bd3786"
             ],
             [
              0.5555555555555556,
              "#d8576b"
             ],
             [
              0.6666666666666666,
              "#ed7953"
             ],
             [
              0.7777777777777778,
              "#fb9f3a"
             ],
             [
              0.8888888888888888,
              "#fdca26"
             ],
             [
              1,
              "#f0f921"
             ]
            ],
            "type": "heatmap"
           }
          ],
          "heatmapgl": [
           {
            "colorbar": {
             "outlinewidth": 0,
             "ticks": ""
            },
            "colorscale": [
             [
              0,
              "#0d0887"
             ],
             [
              0.1111111111111111,
              "#46039f"
             ],
             [
              0.2222222222222222,
              "#7201a8"
             ],
             [
              0.3333333333333333,
              "#9c179e"
             ],
             [
              0.4444444444444444,
              "#bd3786"
             ],
             [
              0.5555555555555556,
              "#d8576b"
             ],
             [
              0.6666666666666666,
              "#ed7953"
             ],
             [
              0.7777777777777778,
              "#fb9f3a"
             ],
             [
              0.8888888888888888,
              "#fdca26"
             ],
             [
              1,
              "#f0f921"
             ]
            ],
            "type": "heatmapgl"
           }
          ],
          "histogram": [
           {
            "marker": {
             "pattern": {
              "fillmode": "overlay",
              "size": 10,
              "solidity": 0.2
             }
            },
            "type": "histogram"
           }
          ],
          "histogram2d": [
           {
            "colorbar": {
             "outlinewidth": 0,
             "ticks": ""
            },
            "colorscale": [
             [
              0,
              "#0d0887"
             ],
             [
              0.1111111111111111,
              "#46039f"
             ],
             [
              0.2222222222222222,
              "#7201a8"
             ],
             [
              0.3333333333333333,
              "#9c179e"
             ],
             [
              0.4444444444444444,
              "#bd3786"
             ],
             [
              0.5555555555555556,
              "#d8576b"
             ],
             [
              0.6666666666666666,
              "#ed7953"
             ],
             [
              0.7777777777777778,
              "#fb9f3a"
             ],
             [
              0.8888888888888888,
              "#fdca26"
             ],
             [
              1,
              "#f0f921"
             ]
            ],
            "type": "histogram2d"
           }
          ],
          "histogram2dcontour": [
           {
            "colorbar": {
             "outlinewidth": 0,
             "ticks": ""
            },
            "colorscale": [
             [
              0,
              "#0d0887"
             ],
             [
              0.1111111111111111,
              "#46039f"
             ],
             [
              0.2222222222222222,
              "#7201a8"
             ],
             [
              0.3333333333333333,
              "#9c179e"
             ],
             [
              0.4444444444444444,
              "#bd3786"
             ],
             [
              0.5555555555555556,
              "#d8576b"
             ],
             [
              0.6666666666666666,
              "#ed7953"
             ],
             [
              0.7777777777777778,
              "#fb9f3a"
             ],
             [
              0.8888888888888888,
              "#fdca26"
             ],
             [
              1,
              "#f0f921"
             ]
            ],
            "type": "histogram2dcontour"
           }
          ],
          "mesh3d": [
           {
            "colorbar": {
             "outlinewidth": 0,
             "ticks": ""
            },
            "type": "mesh3d"
           }
          ],
          "parcoords": [
           {
            "line": {
             "colorbar": {
              "outlinewidth": 0,
              "ticks": ""
             }
            },
            "type": "parcoords"
           }
          ],
          "pie": [
           {
            "automargin": true,
            "type": "pie"
           }
          ],
          "scatter": [
           {
            "marker": {
             "colorbar": {
              "outlinewidth": 0,
              "ticks": ""
             }
            },
            "type": "scatter"
           }
          ],
          "scatter3d": [
           {
            "line": {
             "colorbar": {
              "outlinewidth": 0,
              "ticks": ""
             }
            },
            "marker": {
             "colorbar": {
              "outlinewidth": 0,
              "ticks": ""
             }
            },
            "type": "scatter3d"
           }
          ],
          "scattercarpet": [
           {
            "marker": {
             "colorbar": {
              "outlinewidth": 0,
              "ticks": ""
             }
            },
            "type": "scattercarpet"
           }
          ],
          "scattergeo": [
           {
            "marker": {
             "colorbar": {
              "outlinewidth": 0,
              "ticks": ""
             }
            },
            "type": "scattergeo"
           }
          ],
          "scattergl": [
           {
            "marker": {
             "colorbar": {
              "outlinewidth": 0,
              "ticks": ""
             }
            },
            "type": "scattergl"
           }
          ],
          "scattermapbox": [
           {
            "marker": {
             "colorbar": {
              "outlinewidth": 0,
              "ticks": ""
             }
            },
            "type": "scattermapbox"
           }
          ],
          "scatterpolar": [
           {
            "marker": {
             "colorbar": {
              "outlinewidth": 0,
              "ticks": ""
             }
            },
            "type": "scatterpolar"
           }
          ],
          "scatterpolargl": [
           {
            "marker": {
             "colorbar": {
              "outlinewidth": 0,
              "ticks": ""
             }
            },
            "type": "scatterpolargl"
           }
          ],
          "scatterternary": [
           {
            "marker": {
             "colorbar": {
              "outlinewidth": 0,
              "ticks": ""
             }
            },
            "type": "scatterternary"
           }
          ],
          "surface": [
           {
            "colorbar": {
             "outlinewidth": 0,
             "ticks": ""
            },
            "colorscale": [
             [
              0,
              "#0d0887"
             ],
             [
              0.1111111111111111,
              "#46039f"
             ],
             [
              0.2222222222222222,
              "#7201a8"
             ],
             [
              0.3333333333333333,
              "#9c179e"
             ],
             [
              0.4444444444444444,
              "#bd3786"
             ],
             [
              0.5555555555555556,
              "#d8576b"
             ],
             [
              0.6666666666666666,
              "#ed7953"
             ],
             [
              0.7777777777777778,
              "#fb9f3a"
             ],
             [
              0.8888888888888888,
              "#fdca26"
             ],
             [
              1,
              "#f0f921"
             ]
            ],
            "type": "surface"
           }
          ],
          "table": [
           {
            "cells": {
             "fill": {
              "color": "#EBF0F8"
             },
             "line": {
              "color": "white"
             }
            },
            "header": {
             "fill": {
              "color": "#C8D4E3"
             },
             "line": {
              "color": "white"
             }
            },
            "type": "table"
           }
          ]
         },
         "layout": {
          "annotationdefaults": {
           "arrowcolor": "#2a3f5f",
           "arrowhead": 0,
           "arrowwidth": 1
          },
          "autotypenumbers": "strict",
          "coloraxis": {
           "colorbar": {
            "outlinewidth": 0,
            "ticks": ""
           }
          },
          "colorscale": {
           "diverging": [
            [
             0,
             "#8e0152"
            ],
            [
             0.1,
             "#c51b7d"
            ],
            [
             0.2,
             "#de77ae"
            ],
            [
             0.3,
             "#f1b6da"
            ],
            [
             0.4,
             "#fde0ef"
            ],
            [
             0.5,
             "#f7f7f7"
            ],
            [
             0.6,
             "#e6f5d0"
            ],
            [
             0.7,
             "#b8e186"
            ],
            [
             0.8,
             "#7fbc41"
            ],
            [
             0.9,
             "#4d9221"
            ],
            [
             1,
             "#276419"
            ]
           ],
           "sequential": [
            [
             0,
             "#0d0887"
            ],
            [
             0.1111111111111111,
             "#46039f"
            ],
            [
             0.2222222222222222,
             "#7201a8"
            ],
            [
             0.3333333333333333,
             "#9c179e"
            ],
            [
             0.4444444444444444,
             "#bd3786"
            ],
            [
             0.5555555555555556,
             "#d8576b"
            ],
            [
             0.6666666666666666,
             "#ed7953"
            ],
            [
             0.7777777777777778,
             "#fb9f3a"
            ],
            [
             0.8888888888888888,
             "#fdca26"
            ],
            [
             1,
             "#f0f921"
            ]
           ],
           "sequentialminus": [
            [
             0,
             "#0d0887"
            ],
            [
             0.1111111111111111,
             "#46039f"
            ],
            [
             0.2222222222222222,
             "#7201a8"
            ],
            [
             0.3333333333333333,
             "#9c179e"
            ],
            [
             0.4444444444444444,
             "#bd3786"
            ],
            [
             0.5555555555555556,
             "#d8576b"
            ],
            [
             0.6666666666666666,
             "#ed7953"
            ],
            [
             0.7777777777777778,
             "#fb9f3a"
            ],
            [
             0.8888888888888888,
             "#fdca26"
            ],
            [
             1,
             "#f0f921"
            ]
           ]
          },
          "colorway": [
           "#636efa",
           "#EF553B",
           "#00cc96",
           "#ab63fa",
           "#FFA15A",
           "#19d3f3",
           "#FF6692",
           "#B6E880",
           "#FF97FF",
           "#FECB52"
          ],
          "font": {
           "color": "#2a3f5f"
          },
          "geo": {
           "bgcolor": "white",
           "lakecolor": "white",
           "landcolor": "#E5ECF6",
           "showlakes": true,
           "showland": true,
           "subunitcolor": "white"
          },
          "hoverlabel": {
           "align": "left"
          },
          "hovermode": "closest",
          "mapbox": {
           "style": "light"
          },
          "paper_bgcolor": "white",
          "plot_bgcolor": "#E5ECF6",
          "polar": {
           "angularaxis": {
            "gridcolor": "white",
            "linecolor": "white",
            "ticks": ""
           },
           "bgcolor": "#E5ECF6",
           "radialaxis": {
            "gridcolor": "white",
            "linecolor": "white",
            "ticks": ""
           }
          },
          "scene": {
           "xaxis": {
            "backgroundcolor": "#E5ECF6",
            "gridcolor": "white",
            "gridwidth": 2,
            "linecolor": "white",
            "showbackground": true,
            "ticks": "",
            "zerolinecolor": "white"
           },
           "yaxis": {
            "backgroundcolor": "#E5ECF6",
            "gridcolor": "white",
            "gridwidth": 2,
            "linecolor": "white",
            "showbackground": true,
            "ticks": "",
            "zerolinecolor": "white"
           },
           "zaxis": {
            "backgroundcolor": "#E5ECF6",
            "gridcolor": "white",
            "gridwidth": 2,
            "linecolor": "white",
            "showbackground": true,
            "ticks": "",
            "zerolinecolor": "white"
           }
          },
          "shapedefaults": {
           "line": {
            "color": "#2a3f5f"
           }
          },
          "ternary": {
           "aaxis": {
            "gridcolor": "white",
            "linecolor": "white",
            "ticks": ""
           },
           "baxis": {
            "gridcolor": "white",
            "linecolor": "white",
            "ticks": ""
           },
           "bgcolor": "#E5ECF6",
           "caxis": {
            "gridcolor": "white",
            "linecolor": "white",
            "ticks": ""
           }
          },
          "title": {
           "x": 0.05
          },
          "xaxis": {
           "automargin": true,
           "gridcolor": "white",
           "linecolor": "white",
           "ticks": "",
           "title": {
            "standoff": 15
           },
           "zerolinecolor": "white",
           "zerolinewidth": 2
          },
          "yaxis": {
           "automargin": true,
           "gridcolor": "white",
           "linecolor": "white",
           "ticks": "",
           "title": {
            "standoff": 15
           },
           "zerolinecolor": "white",
           "zerolinewidth": 2
          }
         }
        },
        "title": {
         "text": "Duration of unloading events for all sites"
        },
        "xaxis": {
         "anchor": "y",
         "domain": [
          0,
          1
         ],
         "title": {
          "text": "duration of unloading (hours)"
         }
        },
        "yaxis": {
         "anchor": "x",
         "domain": [
          0,
          1
         ],
         "title": {
          "text": "shortwave"
         }
        }
       }
      }
     },
     "metadata": {},
     "output_type": "display_data"
    }
   ],
   "source": [
    "fig = px.box(df_all_negative, y=\"shortwave_string\", x=\"count\", color=\"classification\", notched=True, color_discrete_sequence=['blue', 'darkorange'])\n",
    "\n",
    "fig.update_layout(title='Duration of unloading events for all sites', \n",
    "    xaxis=dict(title='duration of unloading (hours)'),\n",
    "    yaxis=dict(title='shortwave') \n",
    "    # legend=dict(yanchor='top', y=0.985, xanchor='right', x=0.995)\n",
    "    )\n",
    "fig.update_layout(legend_traceorder=\"reversed\")\n",
    "fig.show()"
   ]
  },
  {
   "cell_type": "code",
   "execution_count": 54,
   "id": "04df98ab",
   "metadata": {},
   "outputs": [
    {
     "data": {
      "application/vnd.plotly.v1+json": {
       "config": {
        "plotlyServerURL": "https://plot.ly"
       },
       "data": [
        {
         "marker": {
          "color": "#1F15D5",
          "showscale": false,
          "size": 8,
          "symbol": [
           2,
           2,
           2,
           2,
           102,
           2,
           102,
           102,
           102,
           128,
           102,
           128,
           2,
           102,
           102,
           102,
           2,
           102,
           102,
           102,
           102,
           2,
           2,
           102,
           102,
           2,
           102,
           102,
           102,
           102,
           102,
           2,
           2,
           102,
           102,
           102,
           102,
           102,
           102,
           2,
           102,
           2,
           2,
           2,
           102,
           2,
           2,
           102,
           102,
           102,
           2,
           102,
           2,
           2,
           2,
           2,
           102,
           102,
           102,
           102,
           102,
           2,
           2,
           2,
           2,
           102,
           2,
           102,
           102,
           102,
           102,
           102,
           102,
           102,
           102,
           102,
           102,
           102,
           102,
           102,
           102,
           102,
           102,
           102,
           102,
           102,
           102,
           102,
           2,
           2,
           102,
           2,
           2,
           102,
           102,
           102,
           2,
           2,
           2,
           2,
           2,
           2,
           102,
           102,
           102,
           102,
           102,
           2,
           102,
           102,
           102,
           2,
           102,
           102,
           102,
           2,
           2,
           2,
           2,
           102,
           2
          ]
         },
         "mode": "markers",
         "type": "scatter",
         "x": [
          5,
          2,
          1,
          1,
          3,
          2,
          2,
          1,
          3,
          5,
          6,
          13,
          4,
          1,
          3,
          2,
          6,
          6,
          8,
          2,
          3,
          5,
          3,
          1,
          1,
          3,
          1,
          1,
          2,
          1,
          4,
          3,
          4,
          2,
          2,
          5,
          2,
          4,
          7,
          2,
          2,
          10,
          1,
          1,
          4,
          5,
          3,
          1,
          4,
          2,
          9,
          1,
          2,
          3,
          2,
          2,
          1,
          1,
          2,
          4,
          11,
          10,
          6,
          7,
          2,
          3,
          2,
          5,
          1,
          6,
          2,
          1,
          1,
          5,
          2,
          4,
          1,
          1,
          6,
          1,
          7,
          6,
          3,
          5,
          1,
          7,
          8,
          2,
          6,
          1,
          1,
          2,
          3,
          4,
          1,
          3,
          5,
          1,
          2,
          1,
          1,
          3,
          4,
          2,
          3,
          9,
          5,
          3,
          4,
          12,
          9,
          3,
          3,
          4,
          9,
          2,
          1,
          2,
          1,
          9,
          3
         ],
         "xaxis": "x",
         "y": [
          -1.5426,
          3.7175,
          -2.545,
          0.783,
          -8.328333333,
          -8.655,
          -7.8575,
          -17.62,
          -11.23833333,
          -2.53,
          -7.315,
          -4.343692308,
          -17.75875,
          -8.31,
          -6.005,
          -18.63,
          -16.625,
          -0.5085,
          -6.35125,
          -6.0925,
          1.490666667,
          3.906,
          -1.045333333,
          -3.24,
          -2.915,
          -4.235,
          -9.585,
          -13.625,
          -15.8375,
          -14.15,
          -10.44875,
          -10.62333333,
          -2.10875,
          -1.6125,
          -2.1875,
          1.0883,
          -5.42,
          -2.90875,
          1.003071429,
          -4.12,
          -7.6875,
          -5.394,
          -4.085,
          1.41,
          -1.7835,
          -1.6773,
          -3.743333333,
          -3.015,
          -3.64375,
          -9.26,
          -3.458611111,
          -2.65,
          0.68825,
          -3.586666667,
          0.78175,
          0.99875,
          -4.42,
          -4.975,
          -4.895,
          -5.0425,
          -1.041363636,
          2.596,
          1.707166667,
          -0.694714286,
          0.0165,
          -0.45,
          2.4,
          -1.72,
          -6.85,
          -1.691666667,
          -6.9,
          -7.2,
          -12.45,
          -6.69,
          -11.9,
          -13.9,
          -8.9,
          -16.95,
          -2.7,
          -2.95,
          -8.764285714,
          0.608333333,
          1.983333333,
          0.4,
          -2.3,
          -1.164285714,
          -1.875,
          -1.475,
          1.708333333,
          1.45,
          -1.1,
          0.775,
          1.183333333,
          -8.245441667,
          -3.012491667,
          2.885173611,
          3.755580833,
          1.966270833,
          2.602745833,
          1.371179167,
          -0.3,
          2.386268056,
          -2.911902092,
          -3.262133333,
          -2.551411111,
          -2.928713889,
          1.80320057,
          6.098255556,
          -5.982351042,
          -7.076153472,
          0.439040741,
          4.259456944,
          -1.8793875,
          -3.758180208,
          0.095193696,
          1.045287413,
          -0.5075625,
          0.987025,
          3.20375,
          0.742500463,
          4.5117
         ],
         "yaxis": "y"
        },
        {
         "marker": {
          "color": "#1F15D5",
          "showscale": false,
          "size": 8,
          "symbol": [
           2,
           2,
           2,
           2,
           102,
           2,
           102,
           102,
           102,
           128,
           102,
           128,
           2,
           102,
           102,
           102,
           2,
           102,
           102,
           102,
           102,
           2,
           2,
           102,
           102,
           2,
           102,
           102,
           102,
           102,
           102,
           2,
           2,
           102,
           102,
           102,
           102,
           102,
           102,
           2,
           102,
           2,
           2,
           2,
           102,
           2,
           2,
           102,
           102,
           102,
           2,
           102,
           2,
           2,
           2,
           2,
           102,
           102,
           102,
           102,
           102,
           2,
           2,
           2,
           2,
           102,
           2,
           102,
           102,
           102,
           102,
           102,
           102,
           102,
           102,
           102,
           102,
           102,
           102,
           102,
           102,
           102,
           102,
           102,
           102,
           102,
           102,
           102,
           2,
           2,
           102,
           2,
           2,
           102,
           102,
           102,
           2,
           2,
           2,
           2,
           2,
           2,
           102,
           102,
           102,
           102,
           102,
           2,
           102,
           102,
           102,
           2,
           102,
           102,
           102,
           2,
           2,
           2,
           2,
           102,
           2
          ]
         },
         "mode": "markers",
         "type": "scatter",
         "x": [
          5,
          2,
          1,
          1,
          3,
          2,
          2,
          1,
          3,
          5,
          6,
          13,
          4,
          1,
          3,
          2,
          6,
          6,
          8,
          2,
          3,
          5,
          3,
          1,
          1,
          3,
          1,
          1,
          2,
          1,
          4,
          3,
          4,
          2,
          2,
          5,
          2,
          4,
          7,
          2,
          2,
          10,
          1,
          1,
          4,
          5,
          3,
          1,
          4,
          2,
          9,
          1,
          2,
          3,
          2,
          2,
          1,
          1,
          2,
          4,
          11,
          10,
          6,
          7,
          2,
          3,
          2,
          5,
          1,
          6,
          2,
          1,
          1,
          5,
          2,
          4,
          1,
          1,
          6,
          1,
          7,
          6,
          3,
          5,
          1,
          7,
          8,
          2,
          6,
          1,
          1,
          2,
          3,
          4,
          1,
          3,
          5,
          1,
          2,
          1,
          1,
          3,
          4,
          2,
          3,
          9,
          5,
          3,
          4,
          12,
          9,
          3,
          3,
          4,
          9,
          2,
          1,
          2,
          1,
          9,
          3
         ],
         "xaxis": "x2",
         "y": [
          513.968,
          683.805,
          394.135,
          333.89,
          499.7266667,
          580.7075,
          114.895,
          61.205,
          380.1366667,
          87.5626,
          133.9991667,
          82.43123077,
          109.5125,
          32.29,
          50.52833333,
          127.745,
          388.2466667,
          56.05833333,
          73.89625,
          1.61775,
          521.0416667,
          491.201,
          605.885,
          176.225,
          66.88,
          424.4416667,
          474.965,
          18.45,
          483.17,
          633.27,
          242.1325,
          713.6266667,
          493.20875,
          509.5625,
          306.925,
          714.146,
          34.3175,
          202.5825,
          840.1735714,
          908.015,
          331.55,
          733.0865,
          794.195,
          858.98,
          862.53,
          607.258,
          566.6033333,
          11.815,
          589.23875,
          254.9625,
          816.8405556,
          130.515,
          580.93,
          472.5433333,
          308.085,
          532.8125,
          43.585,
          59.34,
          190.595,
          270.35125,
          794.8963636,
          412.7705,
          767.3541667,
          836.7271429,
          381.5375,
          121.4333333,
          111.825,
          1.06,
          1.1,
          0.641666667,
          2.875,
          0,
          0,
          1.16,
          6.275,
          20.5125,
          17,
          7.95,
          37.30833333,
          20.5,
          29.52857143,
          81.04166667,
          90.71666667,
          138,
          36.95,
          257.5571429,
          119.7,
          145.025,
          331.925,
          224.85,
          0.7,
          390.25,
          162.6,
          495.976875,
          548.1158333,
          362.0820833,
          231.930825,
          348.89625,
          668.059375,
          720.685,
          494.2308333,
          660.4209722,
          344.9870574,
          807.730625,
          686.5218056,
          283.5187083,
          731.0560601,
          758.5559722,
          311.9571875,
          65.25650694,
          680.2162963,
          553.8976389,
          759.1180556,
          125.3498833,
          705.9779433,
          858.0342233,
          461.5933333,
          503.2675,
          460.2133333,
          171.3137375,
          901.7844444
         ],
         "yaxis": "y2"
        },
        {
         "marker": {
          "color": "#1F15D5",
          "showscale": false,
          "size": 8,
          "symbol": [
           2,
           2,
           2,
           2,
           102,
           2,
           102,
           102,
           102,
           128,
           102,
           128,
           2,
           102,
           102,
           102,
           2,
           102,
           102,
           102,
           102,
           2,
           2,
           102,
           102,
           2,
           102,
           102,
           102,
           102,
           102,
           2,
           2,
           102,
           102,
           102,
           102,
           102,
           102,
           2,
           102,
           2,
           2,
           2,
           102,
           2,
           2,
           102,
           102,
           102,
           2,
           102,
           2,
           2,
           2,
           2,
           102,
           102,
           102,
           102,
           102,
           2,
           2,
           2,
           2,
           102,
           2,
           102,
           102,
           102,
           102,
           102,
           102,
           102,
           102,
           102,
           102,
           102,
           102,
           102,
           102,
           102,
           102,
           102,
           102,
           102,
           102,
           102,
           2,
           2,
           102,
           2,
           2,
           102,
           102,
           102,
           2,
           2,
           2,
           2,
           2,
           2,
           102,
           102,
           102,
           102,
           102,
           2,
           102,
           102,
           102,
           2,
           102,
           102,
           102,
           2,
           2,
           2,
           2,
           102,
           2
          ]
         },
         "mode": "markers",
         "type": "scatter",
         "x": [
          5,
          2,
          1,
          1,
          3,
          2,
          2,
          1,
          3,
          5,
          6,
          13,
          4,
          1,
          3,
          2,
          6,
          6,
          8,
          2,
          3,
          5,
          3,
          1,
          1,
          3,
          1,
          1,
          2,
          1,
          4,
          3,
          4,
          2,
          2,
          5,
          2,
          4,
          7,
          2,
          2,
          10,
          1,
          1,
          4,
          5,
          3,
          1,
          4,
          2,
          9,
          1,
          2,
          3,
          2,
          2,
          1,
          1,
          2,
          4,
          11,
          10,
          6,
          7,
          2,
          3,
          2,
          5,
          1,
          6,
          2,
          1,
          1,
          5,
          2,
          4,
          1,
          1,
          6,
          1,
          7,
          6,
          3,
          5,
          1,
          7,
          8,
          2,
          6,
          1,
          1,
          2,
          3,
          4,
          1,
          3,
          5,
          1,
          2,
          1,
          1,
          3,
          4,
          2,
          3,
          9,
          5,
          3,
          4,
          12,
          9,
          3,
          3,
          4,
          9,
          2,
          1,
          2,
          1,
          9,
          3
         ],
         "xaxis": "x3",
         "y": [
          3.898,
          2.87,
          3.92,
          1.0375,
          3.178333333,
          12.7975,
          3.61,
          4.44,
          8.081666667,
          9.666,
          4.959166667,
          5.921538462,
          7.6325,
          3.835,
          4.936666667,
          2.53,
          10.7125,
          5.559166667,
          8.029375,
          5.945,
          2.938333333,
          2.255,
          6.473333333,
          6.37,
          5.775,
          9.99,
          2.745,
          2.28,
          13.255,
          11.225,
          5.35125,
          12.47833333,
          2.09875,
          2.5025,
          3.29,
          3.626,
          2.1425,
          2.12625,
          3.983571429,
          8.8,
          2.5775,
          8.3855,
          10.4,
          5.765,
          5.54875,
          2.624,
          8.143333333,
          1.895,
          7.53375,
          2.4875,
          8.665,
          3.495,
          4.045,
          2.126666667,
          1.9525,
          1.257,
          2.815,
          1.255,
          2.42,
          2.08125,
          7.459545455,
          2.3235,
          4.328333333,
          5.53,
          1.755,
          2.11875,
          4.805325,
          1.20006,
          1.5255,
          4.9833,
          4.2714,
          3.8646,
          5.13585,
          7.94277,
          3.686625,
          3.1908375,
          2.28825,
          3.5595,
          1.635675,
          2.69505,
          4.758107143,
          5.466375,
          5.5935,
          1.46448,
          2.89845,
          3.668464286,
          4.4748,
          3.3561,
          3.771375,
          4.5765,
          3.2544,
          6.05115,
          5.7969,
          2.843723958,
          1.548304167,
          1.2982875,
          1.672135,
          1.629116667,
          1.292145833,
          2.497654167,
          1.980245833,
          2.390784722,
          2.492476234,
          2.676545833,
          2.280898611,
          2.6998875,
          2.125788935,
          2.046325,
          1.994790625,
          1.885221528,
          1.799315741,
          2.772544444,
          2.835897222,
          2.128888542,
          2.10706777,
          2.590837823,
          1.624341667,
          2.005966667,
          1.560375,
          1.618489352,
          1.598276389
         ],
         "yaxis": "y3"
        }
       ],
       "layout": {
        "height": 700,
        "showlegend": false,
        "template": {
         "data": {
          "bar": [
           {
            "error_x": {
             "color": "#2a3f5f"
            },
            "error_y": {
             "color": "#2a3f5f"
            },
            "marker": {
             "line": {
              "color": "#E5ECF6",
              "width": 0.5
             },
             "pattern": {
              "fillmode": "overlay",
              "size": 10,
              "solidity": 0.2
             }
            },
            "type": "bar"
           }
          ],
          "barpolar": [
           {
            "marker": {
             "line": {
              "color": "#E5ECF6",
              "width": 0.5
             },
             "pattern": {
              "fillmode": "overlay",
              "size": 10,
              "solidity": 0.2
             }
            },
            "type": "barpolar"
           }
          ],
          "carpet": [
           {
            "aaxis": {
             "endlinecolor": "#2a3f5f",
             "gridcolor": "white",
             "linecolor": "white",
             "minorgridcolor": "white",
             "startlinecolor": "#2a3f5f"
            },
            "baxis": {
             "endlinecolor": "#2a3f5f",
             "gridcolor": "white",
             "linecolor": "white",
             "minorgridcolor": "white",
             "startlinecolor": "#2a3f5f"
            },
            "type": "carpet"
           }
          ],
          "choropleth": [
           {
            "colorbar": {
             "outlinewidth": 0,
             "ticks": ""
            },
            "type": "choropleth"
           }
          ],
          "contour": [
           {
            "colorbar": {
             "outlinewidth": 0,
             "ticks": ""
            },
            "colorscale": [
             [
              0,
              "#0d0887"
             ],
             [
              0.1111111111111111,
              "#46039f"
             ],
             [
              0.2222222222222222,
              "#7201a8"
             ],
             [
              0.3333333333333333,
              "#9c179e"
             ],
             [
              0.4444444444444444,
              "#bd3786"
             ],
             [
              0.5555555555555556,
              "#d8576b"
             ],
             [
              0.6666666666666666,
              "#ed7953"
             ],
             [
              0.7777777777777778,
              "#fb9f3a"
             ],
             [
              0.8888888888888888,
              "#fdca26"
             ],
             [
              1,
              "#f0f921"
             ]
            ],
            "type": "contour"
           }
          ],
          "contourcarpet": [
           {
            "colorbar": {
             "outlinewidth": 0,
             "ticks": ""
            },
            "type": "contourcarpet"
           }
          ],
          "heatmap": [
           {
            "colorbar": {
             "outlinewidth": 0,
             "ticks": ""
            },
            "colorscale": [
             [
              0,
              "#0d0887"
             ],
             [
              0.1111111111111111,
              "#46039f"
             ],
             [
              0.2222222222222222,
              "#7201a8"
             ],
             [
              0.3333333333333333,
              "#9c179e"
             ],
             [
              0.4444444444444444,
              "#bd3786"
             ],
             [
              0.5555555555555556,
              "#d8576b"
             ],
             [
              0.6666666666666666,
              "#ed7953"
             ],
             [
              0.7777777777777778,
              "#fb9f3a"
             ],
             [
              0.8888888888888888,
              "#fdca26"
             ],
             [
              1,
              "#f0f921"
             ]
            ],
            "type": "heatmap"
           }
          ],
          "heatmapgl": [
           {
            "colorbar": {
             "outlinewidth": 0,
             "ticks": ""
            },
            "colorscale": [
             [
              0,
              "#0d0887"
             ],
             [
              0.1111111111111111,
              "#46039f"
             ],
             [
              0.2222222222222222,
              "#7201a8"
             ],
             [
              0.3333333333333333,
              "#9c179e"
             ],
             [
              0.4444444444444444,
              "#bd3786"
             ],
             [
              0.5555555555555556,
              "#d8576b"
             ],
             [
              0.6666666666666666,
              "#ed7953"
             ],
             [
              0.7777777777777778,
              "#fb9f3a"
             ],
             [
              0.8888888888888888,
              "#fdca26"
             ],
             [
              1,
              "#f0f921"
             ]
            ],
            "type": "heatmapgl"
           }
          ],
          "histogram": [
           {
            "marker": {
             "pattern": {
              "fillmode": "overlay",
              "size": 10,
              "solidity": 0.2
             }
            },
            "type": "histogram"
           }
          ],
          "histogram2d": [
           {
            "colorbar": {
             "outlinewidth": 0,
             "ticks": ""
            },
            "colorscale": [
             [
              0,
              "#0d0887"
             ],
             [
              0.1111111111111111,
              "#46039f"
             ],
             [
              0.2222222222222222,
              "#7201a8"
             ],
             [
              0.3333333333333333,
              "#9c179e"
             ],
             [
              0.4444444444444444,
              "#bd3786"
             ],
             [
              0.5555555555555556,
              "#d8576b"
             ],
             [
              0.6666666666666666,
              "#ed7953"
             ],
             [
              0.7777777777777778,
              "#fb9f3a"
             ],
             [
              0.8888888888888888,
              "#fdca26"
             ],
             [
              1,
              "#f0f921"
             ]
            ],
            "type": "histogram2d"
           }
          ],
          "histogram2dcontour": [
           {
            "colorbar": {
             "outlinewidth": 0,
             "ticks": ""
            },
            "colorscale": [
             [
              0,
              "#0d0887"
             ],
             [
              0.1111111111111111,
              "#46039f"
             ],
             [
              0.2222222222222222,
              "#7201a8"
             ],
             [
              0.3333333333333333,
              "#9c179e"
             ],
             [
              0.4444444444444444,
              "#bd3786"
             ],
             [
              0.5555555555555556,
              "#d8576b"
             ],
             [
              0.6666666666666666,
              "#ed7953"
             ],
             [
              0.7777777777777778,
              "#fb9f3a"
             ],
             [
              0.8888888888888888,
              "#fdca26"
             ],
             [
              1,
              "#f0f921"
             ]
            ],
            "type": "histogram2dcontour"
           }
          ],
          "mesh3d": [
           {
            "colorbar": {
             "outlinewidth": 0,
             "ticks": ""
            },
            "type": "mesh3d"
           }
          ],
          "parcoords": [
           {
            "line": {
             "colorbar": {
              "outlinewidth": 0,
              "ticks": ""
             }
            },
            "type": "parcoords"
           }
          ],
          "pie": [
           {
            "automargin": true,
            "type": "pie"
           }
          ],
          "scatter": [
           {
            "marker": {
             "colorbar": {
              "outlinewidth": 0,
              "ticks": ""
             }
            },
            "type": "scatter"
           }
          ],
          "scatter3d": [
           {
            "line": {
             "colorbar": {
              "outlinewidth": 0,
              "ticks": ""
             }
            },
            "marker": {
             "colorbar": {
              "outlinewidth": 0,
              "ticks": ""
             }
            },
            "type": "scatter3d"
           }
          ],
          "scattercarpet": [
           {
            "marker": {
             "colorbar": {
              "outlinewidth": 0,
              "ticks": ""
             }
            },
            "type": "scattercarpet"
           }
          ],
          "scattergeo": [
           {
            "marker": {
             "colorbar": {
              "outlinewidth": 0,
              "ticks": ""
             }
            },
            "type": "scattergeo"
           }
          ],
          "scattergl": [
           {
            "marker": {
             "colorbar": {
              "outlinewidth": 0,
              "ticks": ""
             }
            },
            "type": "scattergl"
           }
          ],
          "scattermapbox": [
           {
            "marker": {
             "colorbar": {
              "outlinewidth": 0,
              "ticks": ""
             }
            },
            "type": "scattermapbox"
           }
          ],
          "scatterpolar": [
           {
            "marker": {
             "colorbar": {
              "outlinewidth": 0,
              "ticks": ""
             }
            },
            "type": "scatterpolar"
           }
          ],
          "scatterpolargl": [
           {
            "marker": {
             "colorbar": {
              "outlinewidth": 0,
              "ticks": ""
             }
            },
            "type": "scatterpolargl"
           }
          ],
          "scatterternary": [
           {
            "marker": {
             "colorbar": {
              "outlinewidth": 0,
              "ticks": ""
             }
            },
            "type": "scatterternary"
           }
          ],
          "surface": [
           {
            "colorbar": {
             "outlinewidth": 0,
             "ticks": ""
            },
            "colorscale": [
             [
              0,
              "#0d0887"
             ],
             [
              0.1111111111111111,
              "#46039f"
             ],
             [
              0.2222222222222222,
              "#7201a8"
             ],
             [
              0.3333333333333333,
              "#9c179e"
             ],
             [
              0.4444444444444444,
              "#bd3786"
             ],
             [
              0.5555555555555556,
              "#d8576b"
             ],
             [
              0.6666666666666666,
              "#ed7953"
             ],
             [
              0.7777777777777778,
              "#fb9f3a"
             ],
             [
              0.8888888888888888,
              "#fdca26"
             ],
             [
              1,
              "#f0f921"
             ]
            ],
            "type": "surface"
           }
          ],
          "table": [
           {
            "cells": {
             "fill": {
              "color": "#EBF0F8"
             },
             "line": {
              "color": "white"
             }
            },
            "header": {
             "fill": {
              "color": "#C8D4E3"
             },
             "line": {
              "color": "white"
             }
            },
            "type": "table"
           }
          ]
         },
         "layout": {
          "annotationdefaults": {
           "arrowcolor": "#2a3f5f",
           "arrowhead": 0,
           "arrowwidth": 1
          },
          "autotypenumbers": "strict",
          "coloraxis": {
           "colorbar": {
            "outlinewidth": 0,
            "ticks": ""
           }
          },
          "colorscale": {
           "diverging": [
            [
             0,
             "#8e0152"
            ],
            [
             0.1,
             "#c51b7d"
            ],
            [
             0.2,
             "#de77ae"
            ],
            [
             0.3,
             "#f1b6da"
            ],
            [
             0.4,
             "#fde0ef"
            ],
            [
             0.5,
             "#f7f7f7"
            ],
            [
             0.6,
             "#e6f5d0"
            ],
            [
             0.7,
             "#b8e186"
            ],
            [
             0.8,
             "#7fbc41"
            ],
            [
             0.9,
             "#4d9221"
            ],
            [
             1,
             "#276419"
            ]
           ],
           "sequential": [
            [
             0,
             "#0d0887"
            ],
            [
             0.1111111111111111,
             "#46039f"
            ],
            [
             0.2222222222222222,
             "#7201a8"
            ],
            [
             0.3333333333333333,
             "#9c179e"
            ],
            [
             0.4444444444444444,
             "#bd3786"
            ],
            [
             0.5555555555555556,
             "#d8576b"
            ],
            [
             0.6666666666666666,
             "#ed7953"
            ],
            [
             0.7777777777777778,
             "#fb9f3a"
            ],
            [
             0.8888888888888888,
             "#fdca26"
            ],
            [
             1,
             "#f0f921"
            ]
           ],
           "sequentialminus": [
            [
             0,
             "#0d0887"
            ],
            [
             0.1111111111111111,
             "#46039f"
            ],
            [
             0.2222222222222222,
             "#7201a8"
            ],
            [
             0.3333333333333333,
             "#9c179e"
            ],
            [
             0.4444444444444444,
             "#bd3786"
            ],
            [
             0.5555555555555556,
             "#d8576b"
            ],
            [
             0.6666666666666666,
             "#ed7953"
            ],
            [
             0.7777777777777778,
             "#fb9f3a"
            ],
            [
             0.8888888888888888,
             "#fdca26"
            ],
            [
             1,
             "#f0f921"
            ]
           ]
          },
          "colorway": [
           "#636efa",
           "#EF553B",
           "#00cc96",
           "#ab63fa",
           "#FFA15A",
           "#19d3f3",
           "#FF6692",
           "#B6E880",
           "#FF97FF",
           "#FECB52"
          ],
          "font": {
           "color": "#2a3f5f"
          },
          "geo": {
           "bgcolor": "white",
           "lakecolor": "white",
           "landcolor": "#E5ECF6",
           "showlakes": true,
           "showland": true,
           "subunitcolor": "white"
          },
          "hoverlabel": {
           "align": "left"
          },
          "hovermode": "closest",
          "mapbox": {
           "style": "light"
          },
          "paper_bgcolor": "white",
          "plot_bgcolor": "#E5ECF6",
          "polar": {
           "angularaxis": {
            "gridcolor": "white",
            "linecolor": "white",
            "ticks": ""
           },
           "bgcolor": "#E5ECF6",
           "radialaxis": {
            "gridcolor": "white",
            "linecolor": "white",
            "ticks": ""
           }
          },
          "scene": {
           "xaxis": {
            "backgroundcolor": "#E5ECF6",
            "gridcolor": "white",
            "gridwidth": 2,
            "linecolor": "white",
            "showbackground": true,
            "ticks": "",
            "zerolinecolor": "white"
           },
           "yaxis": {
            "backgroundcolor": "#E5ECF6",
            "gridcolor": "white",
            "gridwidth": 2,
            "linecolor": "white",
            "showbackground": true,
            "ticks": "",
            "zerolinecolor": "white"
           },
           "zaxis": {
            "backgroundcolor": "#E5ECF6",
            "gridcolor": "white",
            "gridwidth": 2,
            "linecolor": "white",
            "showbackground": true,
            "ticks": "",
            "zerolinecolor": "white"
           }
          },
          "shapedefaults": {
           "line": {
            "color": "#2a3f5f"
           }
          },
          "ternary": {
           "aaxis": {
            "gridcolor": "white",
            "linecolor": "white",
            "ticks": ""
           },
           "baxis": {
            "gridcolor": "white",
            "linecolor": "white",
            "ticks": ""
           },
           "bgcolor": "#E5ECF6",
           "caxis": {
            "gridcolor": "white",
            "linecolor": "white",
            "ticks": ""
           }
          },
          "title": {
           "x": 0.05
          },
          "xaxis": {
           "automargin": true,
           "gridcolor": "white",
           "linecolor": "white",
           "ticks": "",
           "title": {
            "standoff": 15
           },
           "zerolinecolor": "white",
           "zerolinewidth": 2
          },
          "yaxis": {
           "automargin": true,
           "gridcolor": "white",
           "linecolor": "white",
           "ticks": "",
           "title": {
            "standoff": 15
           },
           "zerolinecolor": "white",
           "zerolinewidth": 2
          }
         }
        },
        "title": {
         "text": "Duration of Unloading Event for All Sites"
        },
        "width": 1000,
        "xaxis": {
         "anchor": "y",
         "domain": [
          0,
          1
         ],
         "matches": "x3",
         "range": [
          -0.5,
          12.55
         ],
         "showticklabels": false,
         "title": {
          "text": ""
         }
        },
        "xaxis2": {
         "anchor": "y2",
         "domain": [
          0,
          1
         ],
         "matches": "x3",
         "range": [
          -0.5,
          12.55
         ],
         "showticklabels": false,
         "title": {
          "text": ""
         }
        },
        "xaxis3": {
         "anchor": "y3",
         "domain": [
          0,
          1
         ],
         "range": [
          -0.5,
          12.55
         ],
         "title": {
          "text": "duration of unloading event (hours)"
         }
        },
        "yaxis": {
         "anchor": "x",
         "domain": [
          0.68,
          1
         ],
         "range": [
          -35,
          8
         ],
         "title": {
          "text": "Air Temperature (C)"
         }
        },
        "yaxis2": {
         "anchor": "x2",
         "domain": [
          0.34,
          0.66
         ],
         "range": [
          -50,
          1200
         ],
         "title": {
          "text": "Shortwave (W/m2)"
         }
        },
        "yaxis3": {
         "anchor": "x3",
         "domain": [
          0,
          0.32
         ],
         "range": [
          -0.5,
          15
         ],
         "title": {
          "text": "Wind Speed (m/s)"
         }
        }
       }
      }
     },
     "metadata": {},
     "output_type": "display_data"
    }
   ],
   "source": [
    "fig = make_subplots(rows=3, cols=1, \n",
    "                    # subplot_titles=(\"All Wind Speeds\", \"Wind Speeds < 5 m/s\"), \n",
    "                    shared_xaxes=True, shared_yaxes=False, \n",
    "                    vertical_spacing=0.02, horizontal_spacing=0.2,\n",
    ")\n",
    "\n",
    "markersize = 8\n",
    "\n",
    "# All sites with temperature\n",
    "fig.add_trace(\n",
    "    go.Scatter(\n",
    "        y = df_all['temp'],\n",
    "        x = df_all['count'],\n",
    "        mode='markers',\n",
    "        marker=dict(\n",
    "        size=markersize,\n",
    "        color=colorsnowunload, \n",
    "        # colorscale=colorscaled, \n",
    "        symbol=df_all['TypeSymbol'],\n",
    "        showscale=False\n",
    "        )\n",
    "    ), row=1, col=1\n",
    ")\n",
    "\n",
    "# All sites with shortwave\n",
    "fig.add_trace(\n",
    "    go.Scatter(\n",
    "        y = df_all['shortwave'],\n",
    "        x = df_all['count'],\n",
    "        mode='markers',\n",
    "        marker=dict(\n",
    "        size=markersize,\n",
    "        color=colorsnowunload, \n",
    "        # colorscale=colorscaled, \n",
    "        symbol=df_all['TypeSymbol'],\n",
    "        showscale=False\n",
    "        )\n",
    "    ), row=2, col=1\n",
    ")\n",
    "\n",
    "# All sites with wind speed\n",
    "fig.add_trace(\n",
    "    go.Scatter(\n",
    "        y = df_all['windspeed'],\n",
    "        x = df_all['count'],\n",
    "        mode='markers',\n",
    "        marker=dict(\n",
    "        size=markersize,\n",
    "        color=colorsnowunload, \n",
    "        # colorscale=colorscaled, \n",
    "        symbol=df_all['TypeSymbol'],\n",
    "        showscale=False\n",
    "        )\n",
    "    ), row=3, col=1\n",
    ")\n",
    "\n",
    "fig.update_xaxes(title_text = \"\", range=[-0.5,12.55],  row=1, col=1) \n",
    "fig.update_xaxes(title_text = \"duration of unloading event (hours)\", range=[-0.5,12.55],  row=3, col=1) \n",
    "fig.update_xaxes(title_text = \"\", range=[-0.5,12.55],  row=2, col=1) \n",
    "\n",
    "fig.update_yaxes(title_text = nametemp, range=[-35,8],    row=1, col=1) \n",
    "fig.update_yaxes(title_text = nameSW,   range=[-50,1200], row=2, col=1)\n",
    "fig.update_yaxes(title_text = namewind, range=[-.5,15],  row=3, col=1)\n",
    "\n",
    "fig.update_layout(title='Duration of Unloading Event for All Sites', width=1000, height=700, showlegend=False)\n",
    "fig.show()"
   ]
  },
  {
   "cell_type": "markdown",
   "id": "3d18a5b2-cf33-4e65-a6ed-3d919eb5b20b",
   "metadata": {},
   "source": [
    "# Only full unloading events"
   ]
  },
  {
   "cell_type": "code",
   "execution_count": 15,
   "id": "89c6be86-8ff6-484c-8ff8-71babfc64d3c",
   "metadata": {},
   "outputs": [],
   "source": [
    "# Only full unloading events \n",
    "opn_events.Type = opn_events.Type.where(opn_events.Type == 2).dropna()\n",
    "opn_events.dropna(inplace=True)\n",
    "\n",
    "sod_events.Type = sod_events.Type.where(sod_events.Type == 2).dropna()\n",
    "sod_events.dropna(inplace=True)\n",
    "\n",
    "niw_events.Type = niw_events.Type.where(niw_events.Type == 2).dropna()\n",
    "niw_events.dropna(inplace=True)"
   ]
  },
  {
   "cell_type": "code",
   "execution_count": 97,
   "id": "0d742fce-06ef-4986-af55-280c53aae7e7",
   "metadata": {},
   "outputs": [
    {
     "data": {
      "application/vnd.plotly.v1+json": {
       "config": {
        "plotlyServerURL": "https://plot.ly"
       },
       "data": [
        {
         "diagonal": {
          "visible": false
         },
         "dimensions": [
          {
           "label": "Air Temperature (C)",
           "values": [
            3.755580833,
            1.966270833,
            2.602745833,
            1.371179167,
            -0.3,
            2.386268056,
            6.098255556,
            4.259456944,
            1.045287413,
            -0.5075625,
            0.987025,
            3.20375,
            4.5117
           ]
          },
          {
           "label": "Wind Speed (m/s)",
           "values": [
            1.672135,
            1.629116667,
            1.292145833,
            2.497654167,
            1.980245833,
            2.390784722,
            2.046325,
            2.772544444,
            2.590837823,
            1.624341667,
            2.005966667,
            1.560375,
            1.598276389
           ]
          },
          {
           "label": "Shortwave (W/m2)",
           "values": [
            231.930825,
            348.89625,
            668.059375,
            720.685,
            494.2308333,
            660.4209722,
            758.5559722,
            553.8976389,
            858.0342233,
            461.5933333,
            503.2675,
            460.2133333,
            901.7844444
           ]
          }
         ],
         "marker": {
          "color": [
           5,
           1,
           2,
           1,
           1,
           3,
           3,
           3,
           2,
           1,
           2,
           1,
           3
          ],
          "colorscale": [
           [
            0,
            "#fde725"
           ],
           [
            0.1111111111111111,
            "#b5de2b"
           ],
           [
            0.2222222222222222,
            "#6ece58"
           ],
           [
            0.3333333333333333,
            "#35b779"
           ],
           [
            0.4444444444444444,
            "#1f9e89"
           ],
           [
            0.5555555555555556,
            "#26828e"
           ],
           [
            0.6666666666666666,
            "#31688e"
           ],
           [
            0.7777777777777778,
            "#3e4989"
           ],
           [
            0.8888888888888888,
            "#482878"
           ],
           [
            1,
            "#440154"
           ]
          ],
          "line": {
           "width": 2
          },
          "showscale": true,
          "size": 12,
          "symbol": [
           2,
           2,
           2,
           2,
           2,
           2,
           2,
           2,
           2,
           2,
           2,
           2,
           2
          ]
         },
         "showlegend": false,
         "showupperhalf": false,
         "type": "splom"
        }
       ],
       "layout": {
        "dragmode": "select",
        "height": 700,
        "template": {
         "data": {
          "bar": [
           {
            "error_x": {
             "color": "#2a3f5f"
            },
            "error_y": {
             "color": "#2a3f5f"
            },
            "marker": {
             "line": {
              "color": "#E5ECF6",
              "width": 0.5
             },
             "pattern": {
              "fillmode": "overlay",
              "size": 10,
              "solidity": 0.2
             }
            },
            "type": "bar"
           }
          ],
          "barpolar": [
           {
            "marker": {
             "line": {
              "color": "#E5ECF6",
              "width": 0.5
             },
             "pattern": {
              "fillmode": "overlay",
              "size": 10,
              "solidity": 0.2
             }
            },
            "type": "barpolar"
           }
          ],
          "carpet": [
           {
            "aaxis": {
             "endlinecolor": "#2a3f5f",
             "gridcolor": "white",
             "linecolor": "white",
             "minorgridcolor": "white",
             "startlinecolor": "#2a3f5f"
            },
            "baxis": {
             "endlinecolor": "#2a3f5f",
             "gridcolor": "white",
             "linecolor": "white",
             "minorgridcolor": "white",
             "startlinecolor": "#2a3f5f"
            },
            "type": "carpet"
           }
          ],
          "choropleth": [
           {
            "colorbar": {
             "outlinewidth": 0,
             "ticks": ""
            },
            "type": "choropleth"
           }
          ],
          "contour": [
           {
            "colorbar": {
             "outlinewidth": 0,
             "ticks": ""
            },
            "colorscale": [
             [
              0,
              "#0d0887"
             ],
             [
              0.1111111111111111,
              "#46039f"
             ],
             [
              0.2222222222222222,
              "#7201a8"
             ],
             [
              0.3333333333333333,
              "#9c179e"
             ],
             [
              0.4444444444444444,
              "#bd3786"
             ],
             [
              0.5555555555555556,
              "#d8576b"
             ],
             [
              0.6666666666666666,
              "#ed7953"
             ],
             [
              0.7777777777777778,
              "#fb9f3a"
             ],
             [
              0.8888888888888888,
              "#fdca26"
             ],
             [
              1,
              "#f0f921"
             ]
            ],
            "type": "contour"
           }
          ],
          "contourcarpet": [
           {
            "colorbar": {
             "outlinewidth": 0,
             "ticks": ""
            },
            "type": "contourcarpet"
           }
          ],
          "heatmap": [
           {
            "colorbar": {
             "outlinewidth": 0,
             "ticks": ""
            },
            "colorscale": [
             [
              0,
              "#0d0887"
             ],
             [
              0.1111111111111111,
              "#46039f"
             ],
             [
              0.2222222222222222,
              "#7201a8"
             ],
             [
              0.3333333333333333,
              "#9c179e"
             ],
             [
              0.4444444444444444,
              "#bd3786"
             ],
             [
              0.5555555555555556,
              "#d8576b"
             ],
             [
              0.6666666666666666,
              "#ed7953"
             ],
             [
              0.7777777777777778,
              "#fb9f3a"
             ],
             [
              0.8888888888888888,
              "#fdca26"
             ],
             [
              1,
              "#f0f921"
             ]
            ],
            "type": "heatmap"
           }
          ],
          "heatmapgl": [
           {
            "colorbar": {
             "outlinewidth": 0,
             "ticks": ""
            },
            "colorscale": [
             [
              0,
              "#0d0887"
             ],
             [
              0.1111111111111111,
              "#46039f"
             ],
             [
              0.2222222222222222,
              "#7201a8"
             ],
             [
              0.3333333333333333,
              "#9c179e"
             ],
             [
              0.4444444444444444,
              "#bd3786"
             ],
             [
              0.5555555555555556,
              "#d8576b"
             ],
             [
              0.6666666666666666,
              "#ed7953"
             ],
             [
              0.7777777777777778,
              "#fb9f3a"
             ],
             [
              0.8888888888888888,
              "#fdca26"
             ],
             [
              1,
              "#f0f921"
             ]
            ],
            "type": "heatmapgl"
           }
          ],
          "histogram": [
           {
            "marker": {
             "pattern": {
              "fillmode": "overlay",
              "size": 10,
              "solidity": 0.2
             }
            },
            "type": "histogram"
           }
          ],
          "histogram2d": [
           {
            "colorbar": {
             "outlinewidth": 0,
             "ticks": ""
            },
            "colorscale": [
             [
              0,
              "#0d0887"
             ],
             [
              0.1111111111111111,
              "#46039f"
             ],
             [
              0.2222222222222222,
              "#7201a8"
             ],
             [
              0.3333333333333333,
              "#9c179e"
             ],
             [
              0.4444444444444444,
              "#bd3786"
             ],
             [
              0.5555555555555556,
              "#d8576b"
             ],
             [
              0.6666666666666666,
              "#ed7953"
             ],
             [
              0.7777777777777778,
              "#fb9f3a"
             ],
             [
              0.8888888888888888,
              "#fdca26"
             ],
             [
              1,
              "#f0f921"
             ]
            ],
            "type": "histogram2d"
           }
          ],
          "histogram2dcontour": [
           {
            "colorbar": {
             "outlinewidth": 0,
             "ticks": ""
            },
            "colorscale": [
             [
              0,
              "#0d0887"
             ],
             [
              0.1111111111111111,
              "#46039f"
             ],
             [
              0.2222222222222222,
              "#7201a8"
             ],
             [
              0.3333333333333333,
              "#9c179e"
             ],
             [
              0.4444444444444444,
              "#bd3786"
             ],
             [
              0.5555555555555556,
              "#d8576b"
             ],
             [
              0.6666666666666666,
              "#ed7953"
             ],
             [
              0.7777777777777778,
              "#fb9f3a"
             ],
             [
              0.8888888888888888,
              "#fdca26"
             ],
             [
              1,
              "#f0f921"
             ]
            ],
            "type": "histogram2dcontour"
           }
          ],
          "mesh3d": [
           {
            "colorbar": {
             "outlinewidth": 0,
             "ticks": ""
            },
            "type": "mesh3d"
           }
          ],
          "parcoords": [
           {
            "line": {
             "colorbar": {
              "outlinewidth": 0,
              "ticks": ""
             }
            },
            "type": "parcoords"
           }
          ],
          "pie": [
           {
            "automargin": true,
            "type": "pie"
           }
          ],
          "scatter": [
           {
            "marker": {
             "colorbar": {
              "outlinewidth": 0,
              "ticks": ""
             }
            },
            "type": "scatter"
           }
          ],
          "scatter3d": [
           {
            "line": {
             "colorbar": {
              "outlinewidth": 0,
              "ticks": ""
             }
            },
            "marker": {
             "colorbar": {
              "outlinewidth": 0,
              "ticks": ""
             }
            },
            "type": "scatter3d"
           }
          ],
          "scattercarpet": [
           {
            "marker": {
             "colorbar": {
              "outlinewidth": 0,
              "ticks": ""
             }
            },
            "type": "scattercarpet"
           }
          ],
          "scattergeo": [
           {
            "marker": {
             "colorbar": {
              "outlinewidth": 0,
              "ticks": ""
             }
            },
            "type": "scattergeo"
           }
          ],
          "scattergl": [
           {
            "marker": {
             "colorbar": {
              "outlinewidth": 0,
              "ticks": ""
             }
            },
            "type": "scattergl"
           }
          ],
          "scattermapbox": [
           {
            "marker": {
             "colorbar": {
              "outlinewidth": 0,
              "ticks": ""
             }
            },
            "type": "scattermapbox"
           }
          ],
          "scatterpolar": [
           {
            "marker": {
             "colorbar": {
              "outlinewidth": 0,
              "ticks": ""
             }
            },
            "type": "scatterpolar"
           }
          ],
          "scatterpolargl": [
           {
            "marker": {
             "colorbar": {
              "outlinewidth": 0,
              "ticks": ""
             }
            },
            "type": "scatterpolargl"
           }
          ],
          "scatterternary": [
           {
            "marker": {
             "colorbar": {
              "outlinewidth": 0,
              "ticks": ""
             }
            },
            "type": "scatterternary"
           }
          ],
          "surface": [
           {
            "colorbar": {
             "outlinewidth": 0,
             "ticks": ""
            },
            "colorscale": [
             [
              0,
              "#0d0887"
             ],
             [
              0.1111111111111111,
              "#46039f"
             ],
             [
              0.2222222222222222,
              "#7201a8"
             ],
             [
              0.3333333333333333,
              "#9c179e"
             ],
             [
              0.4444444444444444,
              "#bd3786"
             ],
             [
              0.5555555555555556,
              "#d8576b"
             ],
             [
              0.6666666666666666,
              "#ed7953"
             ],
             [
              0.7777777777777778,
              "#fb9f3a"
             ],
             [
              0.8888888888888888,
              "#fdca26"
             ],
             [
              1,
              "#f0f921"
             ]
            ],
            "type": "surface"
           }
          ],
          "table": [
           {
            "cells": {
             "fill": {
              "color": "#EBF0F8"
             },
             "line": {
              "color": "white"
             }
            },
            "header": {
             "fill": {
              "color": "#C8D4E3"
             },
             "line": {
              "color": "white"
             }
            },
            "type": "table"
           }
          ]
         },
         "layout": {
          "annotationdefaults": {
           "arrowcolor": "#2a3f5f",
           "arrowhead": 0,
           "arrowwidth": 1
          },
          "autotypenumbers": "strict",
          "coloraxis": {
           "colorbar": {
            "outlinewidth": 0,
            "ticks": ""
           }
          },
          "colorscale": {
           "diverging": [
            [
             0,
             "#8e0152"
            ],
            [
             0.1,
             "#c51b7d"
            ],
            [
             0.2,
             "#de77ae"
            ],
            [
             0.3,
             "#f1b6da"
            ],
            [
             0.4,
             "#fde0ef"
            ],
            [
             0.5,
             "#f7f7f7"
            ],
            [
             0.6,
             "#e6f5d0"
            ],
            [
             0.7,
             "#b8e186"
            ],
            [
             0.8,
             "#7fbc41"
            ],
            [
             0.9,
             "#4d9221"
            ],
            [
             1,
             "#276419"
            ]
           ],
           "sequential": [
            [
             0,
             "#0d0887"
            ],
            [
             0.1111111111111111,
             "#46039f"
            ],
            [
             0.2222222222222222,
             "#7201a8"
            ],
            [
             0.3333333333333333,
             "#9c179e"
            ],
            [
             0.4444444444444444,
             "#bd3786"
            ],
            [
             0.5555555555555556,
             "#d8576b"
            ],
            [
             0.6666666666666666,
             "#ed7953"
            ],
            [
             0.7777777777777778,
             "#fb9f3a"
            ],
            [
             0.8888888888888888,
             "#fdca26"
            ],
            [
             1,
             "#f0f921"
            ]
           ],
           "sequentialminus": [
            [
             0,
             "#0d0887"
            ],
            [
             0.1111111111111111,
             "#46039f"
            ],
            [
             0.2222222222222222,
             "#7201a8"
            ],
            [
             0.3333333333333333,
             "#9c179e"
            ],
            [
             0.4444444444444444,
             "#bd3786"
            ],
            [
             0.5555555555555556,
             "#d8576b"
            ],
            [
             0.6666666666666666,
             "#ed7953"
            ],
            [
             0.7777777777777778,
             "#fb9f3a"
            ],
            [
             0.8888888888888888,
             "#fdca26"
            ],
            [
             1,
             "#f0f921"
            ]
           ]
          },
          "colorway": [
           "#636efa",
           "#EF553B",
           "#00cc96",
           "#ab63fa",
           "#FFA15A",
           "#19d3f3",
           "#FF6692",
           "#B6E880",
           "#FF97FF",
           "#FECB52"
          ],
          "font": {
           "color": "#2a3f5f"
          },
          "geo": {
           "bgcolor": "white",
           "lakecolor": "white",
           "landcolor": "#E5ECF6",
           "showlakes": true,
           "showland": true,
           "subunitcolor": "white"
          },
          "hoverlabel": {
           "align": "left"
          },
          "hovermode": "closest",
          "mapbox": {
           "style": "light"
          },
          "paper_bgcolor": "white",
          "plot_bgcolor": "#E5ECF6",
          "polar": {
           "angularaxis": {
            "gridcolor": "white",
            "linecolor": "white",
            "ticks": ""
           },
           "bgcolor": "#E5ECF6",
           "radialaxis": {
            "gridcolor": "white",
            "linecolor": "white",
            "ticks": ""
           }
          },
          "scene": {
           "xaxis": {
            "backgroundcolor": "#E5ECF6",
            "gridcolor": "white",
            "gridwidth": 2,
            "linecolor": "white",
            "showbackground": true,
            "ticks": "",
            "zerolinecolor": "white"
           },
           "yaxis": {
            "backgroundcolor": "#E5ECF6",
            "gridcolor": "white",
            "gridwidth": 2,
            "linecolor": "white",
            "showbackground": true,
            "ticks": "",
            "zerolinecolor": "white"
           },
           "zaxis": {
            "backgroundcolor": "#E5ECF6",
            "gridcolor": "white",
            "gridwidth": 2,
            "linecolor": "white",
            "showbackground": true,
            "ticks": "",
            "zerolinecolor": "white"
           }
          },
          "shapedefaults": {
           "line": {
            "color": "#2a3f5f"
           }
          },
          "ternary": {
           "aaxis": {
            "gridcolor": "white",
            "linecolor": "white",
            "ticks": ""
           },
           "baxis": {
            "gridcolor": "white",
            "linecolor": "white",
            "ticks": ""
           },
           "bgcolor": "#E5ECF6",
           "caxis": {
            "gridcolor": "white",
            "linecolor": "white",
            "ticks": ""
           }
          },
          "title": {
           "x": 0.05
          },
          "xaxis": {
           "automargin": true,
           "gridcolor": "white",
           "linecolor": "white",
           "ticks": "",
           "title": {
            "standoff": 15
           },
           "zerolinecolor": "white",
           "zerolinewidth": 2
          },
          "yaxis": {
           "automargin": true,
           "gridcolor": "white",
           "linecolor": "white",
           "ticks": "",
           "title": {
            "standoff": 15
           },
           "zerolinecolor": "white",
           "zerolinewidth": 2
          }
         }
        },
        "title": {
         "text": "B)  Davos Laret, Switzerland"
        },
        "width": 800
       }
      }
     },
     "metadata": {},
     "output_type": "display_data"
    }
   ],
   "source": [
    "# State which site we are working with \n",
    "df = opn_events.copy(deep=True)\n",
    "# df = sod_events.copy(deep=True)\n",
    "# df = niw_events.copy(deep=True)\n",
    "\n",
    "# Some constatns \n",
    "index_vals = df['count']\n",
    "index_symbols = df['TypeSymbol']\n",
    "# colorbar = 'blues_r'\n",
    "colorbar = 'viridis_r'\n",
    "\n",
    "# index_symbols = df['CD']\n",
    "\n",
    "fig = go.Figure()\n",
    "fig.add_trace(go.Splom(dimensions=[dict(label=nametemp, values=df['temp']),\n",
    "                                   dict(label=namewind, values=df['windspeed']),\n",
    "                                   dict(label=nameSW,   values=df['shortwave'])],\n",
    "                                   marker=dict(color=index_vals, colorscale = colorbar, symbol = index_symbols, showscale=True, line_width=2, size=12),\n",
    "                                   showlegend=False, showupperhalf=False, diagonal_visible=False))\n",
    "\n",
    "fig.update_traces(showlegend=True, legendgroup=index_symbols, selector=dict(mode='spolm'))\n",
    "\n",
    "fig.update_layout(title=namelaret, width=800, height=700, dragmode='select')\n",
    "# fig.update_layout(title=namesodankyla, width=800, height=700, dragmode='select')\n",
    "# fig.update_layout(title=nameniwot, width=800, height=700, dragmode='select')\n",
    "\n",
    "\n",
    "fig.show()"
   ]
  }
 ],
 "metadata": {
  "kernelspec": {
   "display_name": "Python 3 (ipykernel)",
   "language": "python",
   "name": "python3"
  },
  "language_info": {
   "codemirror_mode": {
    "name": "ipython",
    "version": 3
   },
   "file_extension": ".py",
   "mimetype": "text/x-python",
   "name": "python",
   "nbconvert_exporter": "python",
   "pygments_lexer": "ipython3",
   "version": "3.9.12"
  }
 },
 "nbformat": 4,
 "nbformat_minor": 5
}
