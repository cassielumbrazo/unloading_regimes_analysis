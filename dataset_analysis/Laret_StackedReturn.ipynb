{
 "cells": [
  {
   "cell_type": "markdown",
   "id": "611a778f-03db-48f8-8242-807f39ce9b1b",
   "metadata": {
    "tags": []
   },
   "source": [
    "# Laret Stacked Return Functions and Plots "
   ]
  },
  {
   "cell_type": "markdown",
   "id": "91604687-581d-47c6-9f11-0265c439415e",
   "metadata": {
    "tags": []
   },
   "source": [
    "## Import packages and set default matplotlib"
   ]
  },
  {
   "cell_type": "code",
   "execution_count": 1,
   "id": "1b7c3cb3-c067-4321-831e-838e87d8645b",
   "metadata": {},
   "outputs": [],
   "source": [
    "# import packages \n",
    "# %matplotlib widget\n",
    "%matplotlib inline\n",
    "\n",
    "# plotting packages \n",
    "import matplotlib as mpl\n",
    "import matplotlib.pyplot as plt\n",
    "import seaborn as sns \n",
    "\n",
    "# interactive plotting\n",
    "import plotly.express as px\n",
    "import plotly.graph_objects as go\n",
    "from plotly.subplots import make_subplots # adding for subplots\n",
    "import plotly.figure_factory as ff\n",
    "\n",
    "# data packages \n",
    "import pandas as pd\n",
    "import numpy as np\n",
    "import xarray as xr\n",
    "from datetime import datetime\n",
    "\n",
    "import csv \n",
    "import copy \n",
    "import os.path "
   ]
  },
  {
   "cell_type": "code",
   "execution_count": 2,
   "id": "a4a53c6f-71f2-4239-99f2-ebc4a7c14bad",
   "metadata": {},
   "outputs": [],
   "source": [
    "import seaborn as sns # a module that adds some plotting capabilities and makes your plots look better\n",
    "\n",
    "sns.set() # activates some of the default settings from seaborn\n",
    "# The following settings just set some defaults for the plots\n",
    "plt.rcParams['figure.figsize']  = (12,4) #width, height\n",
    "plt.rcParams['axes.titlesize']  = 14\n",
    "plt.rcParams['axes.labelsize']  = 12\n",
    "plt.rcParams['xtick.labelsize'] = 11\n",
    "plt.rcParams['ytick.labelsize'] = 11\n",
    "plt.rcParams['legend.fontsize'] = 11\n",
    "mpl.rcParams['figure.dpi'] = 100\n",
    "\n",
    "sns.set_style(\"dark\", {\"xtick.bottom\": True, 'ytick.left': True})"
   ]
  },
  {
   "cell_type": "markdown",
   "id": "e80f7763-d66d-48a8-81ca-e5989825c022",
   "metadata": {
    "jp-MarkdownHeadingCollapsed": true,
    "tags": []
   },
   "source": [
    "### Other for1, for2, for3 sites I'm not using right now"
   ]
  },
  {
   "cell_type": "code",
   "execution_count": 3,
   "id": "db91b6dd-a227-4d27-a084-0345e89ad56e",
   "metadata": {},
   "outputs": [],
   "source": [
    "# # Open all met data \n",
    "# for1 = pd.read_csv(\"/Users/Lumbr/OneDrive - UW/Documents/Washington/UnloadingRegimes/MetStations/Cleaned/for1c_hcass.csv\")\n",
    "# for2 = pd.read_csv(\"/Users/Lumbr/OneDrive - UW/Documents/Washington/UnloadingRegimes/MetStations/Cleaned/for2c_hcass.csv\")\n",
    "# for3 = pd.read_csv(\"/Users/Lumbr/OneDrive - UW/Documents/Washington/UnloadingRegimes/MetStations/Cleaned/for3c_hcass.csv\")\n",
    "# for4 = pd.read_csv(\"/Users/Lumbr/OneDrive - UW/Documents/Washington/UnloadingRegimes/MetStations/Cleaned/for4c_hcass.csv\")\n",
    "\n",
    "# # Need datetime column\n",
    "# for1['datetime'] = pd.to_datetime(for1['datetime'])\n",
    "# for2['datetime'] = pd.to_datetime(for2['datetime'])\n",
    "# for3['datetime'] = pd.to_datetime(for3['datetime'])\n",
    "# for4['datetime'] = pd.to_datetime(for4['datetime'])\n",
    "\n",
    "# # Open observations classifications \n",
    "# obs = pd.read_csv(\"/Users/Lumbr/OneDrive - UW/Documents/Washington/UnloadingRegimes/Excel/Datetime/datetimeformat_ccg_classifications_only_cutdates_sunlightminus1.csv\")\n",
    "# obs['datetime'] = pd.to_datetime(obs['datetime'])\n",
    "# obs.dropna(axis=0, how='all', inplace=True) #removing row is entire row is NAN #careful with this, without datetime a lot gets removed\n",
    "\n",
    "# # Merge the two into 1 df \n",
    "# for1df = pd.merge(for1, obs, how='outer', on='datetime')\n",
    "# for1df.index = pd.DatetimeIndex(for1df['datetime'])\n",
    "\n",
    "# for2df = pd.merge(for1, obs, how='outer', on='datetime')\n",
    "# for2df.index = pd.DatetimeIndex(for1df['datetime'])\n",
    "\n",
    "# for3df = pd.merge(for1, obs, how='outer', on='datetime')\n",
    "# for3df.index = pd.DatetimeIndex(for1df['datetime'])\n",
    "\n",
    "# for1df_unload = for1df.copy(deep=True)\n",
    "# for1df_unload = for1df_unload.dropna(axis=0, how='any', subset=['CD'])\n",
    "\n",
    "# for2df_unload = for2df.copy(deep=True)\n",
    "# for3df_unload = for2df_unload.dropna(axis=0, how='any', subset=['CD'])\n",
    "\n",
    "# for3df_unload = for3df.copy(deep=True)\n",
    "# for3df_unload = for3df_unload.dropna(axis=0, how='any', subset=['CD'])"
   ]
  },
  {
   "cell_type": "markdown",
   "id": "707899ad-7a19-4827-b817-8c9b66de3f9b",
   "metadata": {},
   "source": [
    "### My site"
   ]
  },
  {
   "cell_type": "code",
   "execution_count": 4,
   "id": "bcac6523-e6c0-4f13-b384-49b6ff4ee5b2",
   "metadata": {},
   "outputs": [],
   "source": [
    "# ALL THE CODE I NEED TO SIMPLIFY LARET OPEN SITE DATA ANALYSIS\n",
    "# Open met dataset\n",
    "opn  = pd.read_csv(\"/Users/Lumbr/OneDrive - UW/Documents/Washington/UnloadingRegimes/MetStations/Cleaned/opnc_hcass.csv\")\n",
    "opn['datetime'] = pd.to_datetime(opn['datetime'])\n",
    "\n",
    "# Open observations classifications \n",
    "obs = pd.read_csv(\"/Users/Lumbr/OneDrive - UW/Documents/Washington/UnloadingRegimes/Excel/Datetime/datetimeformat_ccg_classifications_only_cutdates_sunlightminus1.csv\")\n",
    "obs['datetime'] = pd.to_datetime(obs['datetime'])\n",
    "obs.dropna(axis=0, how='all', inplace=True) #removing row is entire row is NAN #careful with this, without datetime a lot gets removed\n",
    "\n",
    "# Merge them\n",
    "opndf = pd.merge(opn, obs, how='outer', on='datetime')\n",
    "opndf.index = pd.DatetimeIndex(opndf['datetime'])\n",
    "\n",
    "# Create symbols for sunlit or not \n",
    "opndf['Esymbol']=np.nan  \n",
    "\n",
    "# Open triangle for cloudy, diamond for sunny, open x circle for no radiation data\n",
    "opndf['Esymbol'].mask(opndf['E'] == 0., 105, inplace=True) # this is working without fillna\n",
    "opndf['Esymbol'].mask(opndf['E'] == 1., 2, inplace=True)  \n",
    "opndf['Esymbol'] = opndf['Esymbol'].fillna(128) \n",
    "\n",
    "# Unload dataset, only when there is snow in the canopy\n",
    "opndf_unload = opndf.copy(deep=True)\n",
    "opndf_unload = opndf_unload.dropna(axis=0, how='any', subset=['CD'])\n",
    "\n",
    "# opndf_unload.dropna(inplace=True) #########KEEP THIS IN MIND, COME BACK TO IT\n",
    "opndf_unload['Classification'] = opndf_unload.CD.copy(deep=True)\n",
    "opndf_unload.Classification.mask(opndf_unload.Classification == 0, \"Snow Unloading\", inplace=True)\n",
    "opndf_unload.Classification.mask(opndf_unload.Classification == 1, \"Snow Staying in the Canopy\", inplace=True)\n",
    "\n",
    "snowstaydf   = opndf_unload.where(opndf_unload.CD == 1).dropna() # where CD == 1, meaning Snow Staying, make that snowstaydf\n",
    "snowunloaddf = opndf_unload.where(opndf_unload.CD == 0).dropna() # where CD == 0, meaning Snow Unloading, make that snowunloaddf"
   ]
  },
  {
   "cell_type": "markdown",
   "id": "0618abe1-e0c7-4402-9948-c0839a42f9b3",
   "metadata": {},
   "source": [
    "-------------------------"
   ]
  },
  {
   "cell_type": "code",
   "execution_count": 5,
   "id": "4d421fb8-6756-4539-8fd2-4c0848324590",
   "metadata": {},
   "outputs": [],
   "source": [
    "## Define some plotting constants for easier coding \n",
    "# Colors\n",
    "colornosnow = '#D2B48C' # nice tan\n",
    "colorsnow = '#7dcfd4' # slightly desaturated cyan\n",
    "colorsnowunload = '#1F15D5' # bright, deep blue \n",
    "colorsunny = '#E4E44A' # trying a little less bright \n",
    "\n",
    "# Names\n",
    "namesnow = 'Snow Staying'\n",
    "namesnowunload = 'Snow Unloading'\n",
    "group_labels = ['Snow Staying', 'Snow Unloading']\n",
    "\n",
    "nametemp = \"Air Temperature (C)\"\n",
    "namewind = \"Wind Speed (m/s)\"\n",
    "nameSW = \"Shortwave (W/m2)\"\n",
    "\n",
    "# colors and names \n",
    "color1='tomato'; color2='maroon'; color3='navy'\n",
    "colors = [color1, color2, color3]\n",
    "\n",
    "# name1 = '600 < SW'; name2 = '400 < SW < 600'; name3 = '400 > SW'\n",
    "name1 = 'SW > 600'; name2 = '400 < SW < 600'; name3 = 'SW < 400'\n",
    "label = [name1, name2, name3]"
   ]
  },
  {
   "cell_type": "markdown",
   "id": "e399b9b6-63ee-4021-8a4c-18800ef07244",
   "metadata": {},
   "source": [
    "## Creating new dataframes and classifying them based on categories "
   ]
  },
  {
   "cell_type": "code",
   "execution_count": 6,
   "id": "fd6e05f8-99d8-42d0-a222-57cec83e2490",
   "metadata": {},
   "outputs": [],
   "source": [
    "# Create copies of the df we want, and then going to classify it by SW threshold\n",
    "dfSW600 =    opndf_unload.copy(deep=True) # SW > 600\n",
    "dfSW400600 = opndf_unload.copy(deep=True) # SW between 400-600\n",
    "dfSW400 =    opndf_unload.copy(deep=True) # SW < 400\n",
    "\n",
    "# Create for temperature threshold \n",
    "dfTg0 =    opndf_unload.copy(deep=True) # Temp g(greater) 0\n",
    "dfTl0 =    opndf_unload.copy(deep=True) # Temp l(less)    0 \n",
    "\n",
    "# Creating df with only SW > 600\n",
    "dfSW600.mask(dfSW600.SWR_Avg < 600, inplace=True) # we want where SW > 600, else nan\n",
    "dfSW600.dropna(inplace=True) # and drop all nan... \n",
    "dfSW600stay   = dfSW600.where(dfSW600.CD == 1).dropna()\n",
    "dfSW600unload = dfSW600.where(dfSW600.CD == 0).dropna()\n",
    "\n",
    "# Creating df with onyl 400 < SW < 600\n",
    "dfSW400600.mask(dfSW400600.SWR_Avg > 600, inplace=True) # we want where SW < 600, \n",
    "dfSW400600.mask(dfSW400600.SWR_Avg < 400, inplace=True) # and SW > 400, else nan\n",
    "dfSW400600.dropna(inplace=True) # and drop all nan... \n",
    "dfSW400600stay   = dfSW400600.where(dfSW400600.CD == 1).dropna()\n",
    "dfSW400600unload = dfSW400600.where(dfSW400600.CD == 0).dropna()\n",
    "\n",
    "# Creating df with SW < 400\n",
    "dfSW400.mask(dfSW400.SWR_Avg > 400, inplace=True) # we want where SW < 400, else nan\n",
    "dfSW400.dropna(inplace=True) # and drop all nan...\n",
    "dfSW400stay   = dfSW400.where(dfSW400.CD == 1).dropna()\n",
    "dfSW400unload = dfSW400.where(dfSW400.CD == 0).dropna()\n",
    "\n",
    "# Create df with T > 0 \n",
    "dfTg0.mask(dfTg0.AirTC_Avg < 0, inplace=True) # we want where T > 0, else nan\n",
    "dfTg0.dropna(inplace=True) \n",
    "dfTg0stay   = dfTg0.where(dfTg0.CD == 1).dropna()\n",
    "dfTg0unload = dfTg0.where(dfTg0.CD == 0).dropna()\n",
    "\n",
    "# Create df with T < 0 \n",
    "dfTl0.mask(dfTl0.AirTC_Avg > 0, inplace=True) # we want where T < 0, else nan \n",
    "dfTl0.dropna(inplace=True)\n",
    "dfTl0stay   = dfTl0.where(dfTl0.CD == 1).dropna()\n",
    "dfTl0unload = dfTl0.where(dfTl0.CD == 0).dropna()"
   ]
  },
  {
   "cell_type": "code",
   "execution_count": 7,
   "id": "c8473701-acc6-41ad-911f-59843f57f8cc",
   "metadata": {},
   "outputs": [],
   "source": [
    "dfTminus80 =    opndf_unload.copy(deep=True) # -8 < T < 0\n",
    "dfTminus80.mask(dfTminus80.AirTC_Avg < -8, inplace=True) # NAN if T < -8 (we want -8 < T < 0)\n",
    "dfTminus80.mask(dfTminus80.AirTC_Avg > 0, inplace=True)  # NAN if T > 0  (we want -8 < T < 0)\n",
    "\n",
    "dfTminus80.dropna(inplace=True) \n",
    "\n",
    "dfTminus80stay   = dfTminus80.where(dfTminus80.CD == 1).dropna()\n",
    "dfTminus80unload = dfTminus80.where(dfTminus80.CD == 0).dropna()"
   ]
  },
  {
   "cell_type": "markdown",
   "id": "f391b68d-eb97-47fe-abc6-b31e7091f3b6",
   "metadata": {},
   "source": [
    "# Stacked Return Code and Plots"
   ]
  },
  {
   "cell_type": "code",
   "execution_count": 8,
   "id": "ba67976b-7c59-4b55-8466-1e788ff291f1",
   "metadata": {},
   "outputs": [],
   "source": [
    "def stackedReturn(adata, bdata, x_min, x_max, bin_width):\n",
    "    \n",
    "    np.seterr(invalid='ignore') #ignore the runtime errors for 0/0\n",
    "    \n",
    "    # define datasets \n",
    "    a = adata.copy(deep=True) # snow staying\n",
    "    b = bdata.copy(deep=True) # snow unloading \n",
    "\n",
    "    # note that these give you bin edges, not bin centers\n",
    "    a_count, a_bin_edges = np.histogram(a, bins=range(int(x_min), int(x_max), int(bin_width)))\n",
    "    b_count, b_bin_edges = np.histogram(b, bins=range(int(x_min), int(x_max), int(bin_width)))\n",
    "    \n",
    "    # to get bin centers, add 1/2 of the bin width (in this case 1/2 of 1 is 0.5) to the bin edges \n",
    "    # (but drop the last bin edge value)\n",
    "    half_range = bin_width / 2\n",
    "    a_bin_centers = a_bin_edges[:-1] + half_range # SINCE SW IN 100 w/m2 BINS\n",
    "    b_bin_centers = b_bin_edges[:-1] + half_range\n",
    "\n",
    "    # calculate percent based on total (a and b) in each bin\n",
    "    a_percent = a_count / (a_count + b_count)\n",
    "    b_percent = b_count / (a_count + b_count)\n",
    "\n",
    "    # convert those int to strings for printing on the plot \n",
    "    staycount   = a_count.astype('str')\n",
    "    unloadcount = b_count.astype('str')\n",
    "\n",
    "    # remove nans where there was missing a or b data\n",
    "    a_percent[np.isnan(a_percent)] = 0\n",
    "    b_percent[np.isnan(b_percent)] = 0\n",
    "\n",
    "    newarray = np.column_stack((a_bin_centers, a_count, a_percent, b_bin_centers, b_count, b_percent))\n",
    "    returndf = pd.DataFrame(newarray, columns=['stay_center', 'stay_count', 'stay_percent', 'unload_center', 'unload_count', 'unload_percent' ])\n",
    "    \n",
    "    return returndf"
   ]
  },
  {
   "cell_type": "code",
   "execution_count": 9,
   "id": "6db0361f-baf9-4ee7-801d-834ebfc2afc1",
   "metadata": {},
   "outputs": [],
   "source": [
    "# using the new stackedReturn function to get the df returned with counts for each bin\n",
    "# temperature\n",
    "dfSW600_temp1_returndf = stackedReturn(dfSW600stay.AirTC_Avg, dfSW600unload.AirTC_Avg, -25, 15, 1) # temp min, temp max, bin size\n",
    "dfSW600_temp2_returndf = stackedReturn(dfSW600stay.AirTC_Avg, dfSW600unload.AirTC_Avg, -25, 15, 2) # temp min, temp max, bin size\n",
    "dfSW600_temp3_returndf = stackedReturn(dfSW600stay.AirTC_Avg, dfSW600unload.AirTC_Avg, -25, 15, 3) # temp min, temp max, bin size\n",
    "dfSW600_temp4_returndf = stackedReturn(dfSW600stay.AirTC_Avg, dfSW600unload.AirTC_Avg, -25, 15, 4) # temp min, temp max, bin size\n",
    "dfSW600_temp5_returndf = stackedReturn(dfSW600stay.AirTC_Avg, dfSW600unload.AirTC_Avg, -25, 15, 5) # temp min, temp max, bin size\n",
    "\n",
    "dfSW460_temp1_returndf = stackedReturn(dfSW400600stay.AirTC_Avg, dfSW400600unload.AirTC_Avg, -25, 15, 1) # temp min, temp max, bin size\n",
    "dfSW460_temp2_returndf = stackedReturn(dfSW400600stay.AirTC_Avg, dfSW400600unload.AirTC_Avg, -25, 15, 2) # temp min, temp max, bin size\n",
    "dfSW460_temp3_returndf = stackedReturn(dfSW400600stay.AirTC_Avg, dfSW400600unload.AirTC_Avg, -25, 15, 3) # temp min, temp max, bin size\n",
    "dfSW460_temp4_returndf = stackedReturn(dfSW400600stay.AirTC_Avg, dfSW400600unload.AirTC_Avg, -25, 15, 4) # temp min, temp max, bin size\n",
    "dfSW460_temp5_returndf = stackedReturn(dfSW400600stay.AirTC_Avg, dfSW400600unload.AirTC_Avg, -25, 15, 5) # temp min, temp max, bin size\n",
    "\n",
    "dfSW400_temp1_returndf = stackedReturn(dfSW400stay.AirTC_Avg, dfSW400unload.AirTC_Avg, -25, 15, 1) # temp min, temp max, bin size\n",
    "dfSW400_temp2_returndf = stackedReturn(dfSW400stay.AirTC_Avg, dfSW400unload.AirTC_Avg, -25, 15, 2) # temp min, temp max, bin size\n",
    "dfSW400_temp3_returndf = stackedReturn(dfSW400stay.AirTC_Avg, dfSW400unload.AirTC_Avg, -25, 15, 3) # temp min, temp max, bin size\n",
    "dfSW400_temp4_returndf = stackedReturn(dfSW400stay.AirTC_Avg, dfSW400unload.AirTC_Avg, -25, 15, 4) # temp min, temp max, bin size\n",
    "dfSW400_temp5_returndf = stackedReturn(dfSW400stay.AirTC_Avg, dfSW400unload.AirTC_Avg, -25, 15, 5) # temp min, temp max, bin size\n",
    "\n",
    "# wind speed\n",
    "dfSW600_wind1_returndf = stackedReturn(dfSW600stay.WS_ms_Avg, dfSW600unload.WS_ms_Avg, 0, 15, 1) # min, max, bin size\n",
    "dfSW600_wind2_returndf = stackedReturn(dfSW600stay.WS_ms_Avg, dfSW600unload.WS_ms_Avg, 0, 15, 2) # min, max, bin size\n",
    "\n",
    "dfSW460_wind1_returndf = stackedReturn(dfSW400600stay.WS_ms_Avg, dfSW400600unload.WS_ms_Avg, 0, 15, 1) # min, max, bin size\n",
    "dfSW460_wind2_returndf = stackedReturn(dfSW400600stay.WS_ms_Avg, dfSW400600unload.WS_ms_Avg, 0, 15, 2) # min, max, bin size\n",
    "\n",
    "dfSW400_wind1_returndf = stackedReturn(dfSW400stay.WS_ms_Avg, dfSW400unload.WS_ms_Avg, 0, 15, 1) # min, max, bin size\n",
    "dfSW400_wind2_returndf = stackedReturn(dfSW400stay.WS_ms_Avg, dfSW400unload.WS_ms_Avg, 0, 15, 2) # min, max, bin size"
   ]
  },
  {
   "cell_type": "code",
   "execution_count": 15,
   "id": "62376c56-fc88-43b5-bd24-7d348e38613f",
   "metadata": {},
   "outputs": [
    {
     "data": {
      "application/vnd.plotly.v1+json": {
       "config": {
        "plotlyServerURL": "https://plot.ly"
       },
       "data": [
        {
         "line": {
          "color": "tomato",
          "width": 4
         },
         "name": "SW > 600",
         "type": "scatter",
         "x": [
          -24,
          -22,
          -20,
          -18,
          -16,
          -14,
          -12,
          -10,
          -8,
          -6,
          -4,
          -2,
          0,
          2,
          4,
          6,
          8,
          10,
          12
         ],
         "xaxis": "x",
         "y": [
          0,
          0,
          0,
          0,
          0,
          0,
          0,
          0,
          0,
          1,
          0.5714285714285714,
          0.16666666666666666,
          0.1111111111111111,
          0,
          0.16666666666666666,
          0,
          0,
          0,
          0
         ],
         "yaxis": "y"
        },
        {
         "line": {
          "color": "maroon",
          "width": 4
         },
         "name": "400 < SW < 600",
         "type": "scatter",
         "x": [
          -24,
          -22,
          -20,
          -18,
          -16,
          -14,
          -12,
          -10,
          -8,
          -6,
          -4,
          -2,
          0,
          2,
          4,
          6,
          8,
          10,
          12
         ],
         "xaxis": "x",
         "y": [
          0,
          0,
          0,
          0,
          0,
          0,
          0,
          0,
          0.3333333333333333,
          1,
          0.9,
          0.5555555555555556,
          0.42857142857142855,
          0.42857142857142855,
          0.5,
          0,
          0,
          0,
          0
         ],
         "yaxis": "y"
        },
        {
         "line": {
          "color": "navy",
          "width": 4
         },
         "name": "SW < 400",
         "type": "scatter",
         "x": [
          -24,
          -22,
          -20,
          -18,
          -16,
          -14,
          -12,
          -10,
          -8,
          -6,
          -4,
          -2,
          0,
          2,
          4,
          6,
          8,
          10,
          12
         ],
         "xaxis": "x",
         "y": [
          0,
          0,
          0,
          0,
          0,
          1,
          1,
          1,
          0.6538461538461539,
          0.7419354838709677,
          0.8108108108108109,
          0.8,
          0.6923076923076923,
          0.36363636363636365,
          0.4,
          0,
          0,
          0,
          0
         ],
         "yaxis": "y"
        },
        {
         "line": {
          "color": "tomato",
          "width": 4
         },
         "showlegend": false,
         "type": "scatter",
         "x": [
          -24,
          -22,
          -20,
          -18,
          -16,
          -14,
          -12,
          -10,
          -8,
          -6,
          -4,
          -2,
          0,
          2,
          4,
          6,
          8,
          10,
          12
         ],
         "xaxis": "x3",
         "y": [
          0,
          0,
          0,
          0,
          0,
          0,
          0,
          0,
          1,
          0,
          0.42857142857142855,
          0.8333333333333334,
          0.8888888888888888,
          1,
          0.8333333333333334,
          1,
          1,
          0,
          0
         ],
         "yaxis": "y3"
        },
        {
         "line": {
          "color": "maroon",
          "width": 4
         },
         "showlegend": false,
         "type": "scatter",
         "x": [
          -24,
          -22,
          -20,
          -18,
          -16,
          -14,
          -12,
          -10,
          -8,
          -6,
          -4,
          -2,
          0,
          2,
          4,
          6,
          8,
          10,
          12
         ],
         "xaxis": "x3",
         "y": [
          0,
          0,
          0,
          0,
          0,
          0,
          0,
          0,
          0.6666666666666666,
          0,
          0.1,
          0.4444444444444444,
          0.5714285714285714,
          0.5714285714285714,
          0.5,
          0,
          0,
          0,
          0
         ],
         "yaxis": "y3"
        },
        {
         "line": {
          "color": "navy",
          "width": 4
         },
         "showlegend": false,
         "type": "scatter",
         "x": [
          -24,
          -22,
          -20,
          -18,
          -16,
          -14,
          -12,
          -10,
          -8,
          -6,
          -4,
          -2,
          0,
          2,
          4,
          6,
          8,
          10,
          12
         ],
         "xaxis": "x3",
         "y": [
          0,
          0,
          0,
          0,
          0,
          0,
          0,
          0,
          0.34615384615384615,
          0.25806451612903225,
          0.1891891891891892,
          0.2,
          0.3076923076923077,
          0.6363636363636364,
          0.6,
          1,
          0,
          0,
          0
         ],
         "yaxis": "y3"
        },
        {
         "line": {
          "color": "tomato",
          "width": 4
         },
         "showlegend": false,
         "type": "scatter",
         "x": [
          0.5,
          1.5,
          2.5,
          3.5,
          4.5,
          5.5,
          6.5,
          7.5,
          8.5,
          9.5,
          10.5,
          11.5,
          12.5,
          13.5
         ],
         "xaxis": "x2",
         "y": [
          0.5,
          0.1,
          0.1875,
          1,
          0,
          0,
          0,
          0,
          0,
          0,
          0,
          0,
          0,
          0
         ],
         "yaxis": "y2"
        },
        {
         "line": {
          "color": "maroon",
          "width": 4
         },
         "showlegend": false,
         "type": "scatter",
         "x": [
          0.5,
          1.5,
          2.5,
          3.5,
          4.5,
          5.5,
          6.5,
          7.5,
          8.5,
          9.5,
          10.5,
          11.5,
          12.5,
          13.5
         ],
         "xaxis": "x2",
         "y": [
          1,
          0.6153846153846154,
          0.5714285714285714,
          0.6666666666666666,
          0,
          0,
          0,
          0,
          0,
          0,
          0,
          0,
          0,
          0
         ],
         "yaxis": "y2"
        },
        {
         "line": {
          "color": "navy",
          "width": 4
         },
         "showlegend": false,
         "type": "scatter",
         "x": [
          0.5,
          1.5,
          2.5,
          3.5,
          4.5,
          5.5,
          6.5,
          7.5,
          8.5,
          9.5,
          10.5,
          11.5,
          12.5,
          13.5
         ],
         "xaxis": "x2",
         "y": [
          0.92,
          0.7215189873417721,
          0.6507936507936508,
          0.7333333333333333,
          1,
          1,
          0,
          0,
          0,
          0,
          0,
          0,
          0,
          0
         ],
         "yaxis": "y2"
        },
        {
         "line": {
          "color": "tomato",
          "width": 4
         },
         "showlegend": false,
         "type": "scatter",
         "x": [
          0.5,
          1.5,
          2.5,
          3.5,
          4.5,
          5.5,
          6.5,
          7.5,
          8.5,
          9.5,
          10.5,
          11.5,
          12.5,
          13.5
         ],
         "xaxis": "x4",
         "y": [
          0.5,
          0.9,
          0.8125,
          0,
          0,
          0,
          0,
          0,
          0,
          0,
          0,
          0,
          0,
          0
         ],
         "yaxis": "y4"
        },
        {
         "line": {
          "color": "maroon",
          "width": 4
         },
         "showlegend": false,
         "type": "scatter",
         "x": [
          0.5,
          1.5,
          2.5,
          3.5,
          4.5,
          5.5,
          6.5,
          7.5,
          8.5,
          9.5,
          10.5,
          11.5,
          12.5,
          13.5
         ],
         "xaxis": "x4",
         "y": [
          0,
          0.38461538461538464,
          0.42857142857142855,
          0.3333333333333333,
          0,
          0,
          0,
          0,
          0,
          0,
          0,
          0,
          0,
          0
         ],
         "yaxis": "y4"
        },
        {
         "line": {
          "color": "navy",
          "width": 4
         },
         "showlegend": false,
         "type": "scatter",
         "x": [
          0.5,
          1.5,
          2.5,
          3.5,
          4.5,
          5.5,
          6.5,
          7.5,
          8.5,
          9.5,
          10.5,
          11.5,
          12.5,
          13.5
         ],
         "xaxis": "x4",
         "y": [
          0.08,
          0.27848101265822783,
          0.3492063492063492,
          0.26666666666666666,
          0,
          0,
          0,
          0,
          0,
          0,
          0,
          0,
          0,
          0
         ],
         "yaxis": "y4"
        },
        {
         "histfunc": "count",
         "marker": {
          "color": "tomato"
         },
         "showlegend": false,
         "type": "histogram",
         "x": [
          -8.376616666666667,
          1.9687125,
          3.2367791666666665,
          1.3711791666666668,
          -0.5221791666666667,
          2.158104166666667,
          2.8465583333333333,
          -4.2037875,
          -3.0557125,
          -3.4685541666666664,
          -4.592866666666667,
          -3.941241666666667,
          -3.007283333333333,
          -2.3574083333333333,
          -4.824425000000001,
          0.1745611814345991,
          0.9012125,
          2.0903416666666668,
          2.6678625,
          3.1820250000000003,
          5.045329166666666,
          6.180345833333333,
          7.069091666666667,
          -6.362466666666666,
          -5.4056125,
          -5.1549625,
          -1.5446791666666668,
          -0.9441583333333332,
          0.335275,
          0.1266916666666666,
          0.9147791666666668,
          1.8131125,
          2.1129625,
          5.020120833333333,
          6.307933333333334,
          -2.177058333333333,
          -1.6942333333333333,
          -1.9626083333333333,
          -1.9813208333333332,
          0.3196170212765957,
          0.4636166666666667,
          1.626958158995816,
          3.865325,
          4.049008333333333,
          4.7681708333333335,
          4.717920833333333
         ],
         "xaxis": "x5",
         "xbins": {
          "end": 10,
          "size": 2,
          "start": -25
         },
         "yaxis": "y5"
        },
        {
         "histfunc": "count",
         "marker": {
          "color": "maroon"
         },
         "showlegend": false,
         "type": "histogram",
         "x": [
          -7.641083333333333,
          -8.342483333333332,
          -7.914891666666667,
          -6.241016666666667,
          -4.429283333333333,
          -3.012491666666667,
          -2.855341666666667,
          -0.7663375,
          0.87565,
          2.4909125,
          -3.2177166666666666,
          -0.179275,
          1.1537375,
          -0.3,
          2.154141666666667,
          -2.41825,
          -5.650558333333334,
          -3.7466875,
          -5.895783333333333,
          -2.2895416666666666,
          -2.3626291666666663,
          -5.987595833333333,
          -5.728125,
          -5.1958375,
          -4.831283333333333,
          -5.004320833333334,
          -3.9918625,
          -4.1054375,
          -3.8211875,
          -3.7643,
          -1.7016666666666669,
          -2.138795833333333,
          -2.515295833333333,
          3.648395833333333,
          1.918425,
          -1.6845291666666666,
          1.834325,
          -3.2127375,
          -1.9730458333333332,
          -0.1292296296296296,
          -0.5075625,
          0.3867833333333333,
          1.5872666666666668,
          3.20375,
          2.1430208333333334
         ],
         "xaxis": "x5",
         "xbins": {
          "end": 10,
          "start": -25
         },
         "yaxis": "y5"
        },
        {
         "histfunc": "count",
         "marker": {
          "color": "navy"
         },
         "showlegend": false,
         "type": "histogram",
         "x": [
          -8.621583333333332,
          -10.212458333333332,
          -11.579958333333334,
          -13.475291666666667,
          -13.848529411764703,
          -13.403250000000002,
          -11.215166666666669,
          -4.2792,
          -6.799345833333334,
          -9.252066666666668,
          -10.438916666666668,
          -8.846833333333333,
          -7.592979166666667,
          -5.172979166666667,
          3.2102791666666666,
          2.9543291666666667,
          3.0721333333333334,
          2.1595416666666667,
          0.8493083333333333,
          -0.2911,
          0.2218625,
          0.595675,
          1.7832916666666667,
          2.690475,
          4.016095833333333,
          4.712545833333333,
          5.575495833333333,
          -0.2067999999999999,
          0.1915416666666666,
          0.5011458333333334,
          1.9662708333333327,
          -1.877,
          -2.2428250000000003,
          -8.364675,
          -6.8027,
          -2.1562208333333337,
          -1.466716666666667,
          -0.9233708333333334,
          -0.2198791666666666,
          -0.5551875000000001,
          -4.466620833333334,
          -3.8289208333333336,
          -2.231970464135021,
          -1.3900833333333331,
          -0.4650416666666667,
          1.3909083333333332,
          -3.1278583690987127,
          -2.71105,
          -3.39045,
          -3.9577,
          -4.4004125,
          -4.908516666666667,
          -6.9869,
          -7.0776,
          -6.917995833333333,
          -5.306670833333333,
          -4.811208333333334,
          -3.941045833333333,
          -5.329387499999999,
          -6.541995833333333,
          -12.218583333333331,
          -11.248208333333334,
          -8.9704625,
          -3.202525,
          -4.3444375,
          -5.928725,
          -9.158833333333332,
          -8.276958333333333,
          -8.333625,
          -7.576491666666667,
          -4.819791666666666,
          -6.476575,
          -7.721841666666666,
          -10.253291666666666,
          -9.278916666666667,
          -7.251645833333333,
          -5.673466666666667,
          -4.461133333333334,
          -4.994883333333333,
          -5.391425,
          -5.586004166666667,
          -5.623254166666666,
          -5.394191666666667,
          -5.1777125,
          -4.607033333333334,
          -3.807133333333333,
          -2.7764625,
          -2.5852416666666667,
          -2.9426666666666668,
          -2.9943083333333336,
          -2.8051166666666663,
          -3.3738916666666667,
          -4.075045833333333,
          -4.735241666666667,
          -9.025958333333334,
          -9.199791666666666,
          -6.3707875000000005,
          3.2786166666666667,
          0.1505583333333333,
          -2.141258333333333,
          -3.316345833333333,
          -4.654541666666666,
          -4.299370833333333,
          -1.8828958333333328,
          -8.418125,
          -8.55175,
          -8.123616666666667,
          -6.141983333333333,
          -6.116841666666667,
          -6.205395833333333,
          -5.465183333333333,
          -6.109415254237288,
          -6.779254166666666,
          -7.3840625,
          -8.082870833333333,
          -8.688370833333332,
          -8.348495833333333,
          -8.0129,
          -7.522466666666667,
          -7.263541666666667,
          -7.464029166666666,
          -6.412183333333333,
          -5.397316666666667,
          -5.798025,
          -6.357370833333333,
          -7.162583333333333,
          -7.572658333333334,
          -8.010195833333333,
          -7.940570833333334,
          -6.483341666666666,
          -0.6969416666666667,
          -2.7121666666666666,
          -3.167841666666667,
          -3.013054166666667,
          -3.4792375000000004,
          -1.2463333333333333,
          1.4503166666666667,
          -0.7334166666666667,
          -1.8811958333333332,
          -2.1415083333333333,
          -2.053554166666667,
          -2.238620833333333,
          -2.460783333333333,
          -2.5554125,
          -2.6784458333333334,
          -3.13545,
          -3.711316666666667,
          -3.856216666666666,
          -3.833629166666667,
          -4.132970833333333,
          -4.431433333333334,
          -5.903220833333333,
          -5.744108333333333,
          -5.305408333333333,
          -4.693391666666667,
          -4.1056875,
          -2.0696916666666665,
          -3.511133333333333,
          -4.53725,
          -4.914645833333334,
          -10.453526315789476,
          -2.9062208333333337,
          -2.9066458333333336,
          -2.6531458333333333,
          -2.0923333333333334,
          -1.3707916666666666,
          -2.370275,
          -2.1780375000000003,
          -1.8096166666666669,
          -1.2109875,
          -0.5381374999999999,
          -0.1189583333333333,
          1.4065125,
          -0.4841458333333334,
          -0.2329083333333333,
          0.5932458333333333,
          1.4184666666666668,
          0.8547166666666667,
          0.4711166666666667,
          0.4011333333333333,
          0.5516916666666667,
          0.7697291666666667,
          1.475025,
          1.6183541666666668,
          0.6532791666666667,
          -0.1125416666666666,
          -1.7557708333333333,
          -1.2533416666666668
         ],
         "xaxis": "x5",
         "xbins": {
          "end": 10,
          "start": -25
         },
         "yaxis": "y5"
        },
        {
         "histfunc": "count",
         "marker": {
          "color": "tomato"
         },
         "showlegend": false,
         "type": "histogram",
         "x": [
          2.645875,
          0.9587833333333332,
          1.625508333333333,
          2.4976541666666665,
          2.30625,
          2.510066666666667,
          2.3434666666666666,
          2.158533333333333,
          2.659675,
          2.6934166666666663,
          2.0468208333333333,
          2.3458875000000003,
          2.286945833333333,
          2.443104166666666,
          3.1422708333333333,
          1.2475738396624474,
          2.208733333333333,
          2.2192541666666665,
          2.607629166666667,
          2.3457541666666666,
          1.6948208333333334,
          2.349883333333333,
          2.0942708333333333,
          2.0864333333333334,
          2.052529166666667,
          1.9665416666666664,
          1.0764666666666665,
          1.3068166666666667,
          1.3741375,
          2.066075,
          2.3137,
          2.0170666666666666,
          2.4200833333333334,
          2.0637041666666667,
          2.3379958333333333,
          3.0640291666666664,
          2.9369666666666663,
          2.8532916666666663,
          2.717433333333333,
          2.180617021276596,
          2.559520833333333,
          2.6221548117154816,
          0.9735541666666666,
          1.6480416666666666,
          1.4273833333333334,
          1.7194041666666666
         ],
         "xaxis": "x6",
         "xbins": {
          "end": 15,
          "size": 1,
          "start": 0
         },
         "yaxis": "y6"
        },
        {
         "histfunc": "count",
         "marker": {
          "color": "maroon"
         },
         "showlegend": false,
         "type": "histogram",
         "x": [
          2.6693458333333333,
          3.3648208333333334,
          3.9923875,
          2.896720833333333,
          3.210175,
          1.5483041666666668,
          1.1893874999999998,
          1.8649833333333332,
          0.992975,
          1.3893916666666668,
          2.0117,
          1.1573708333333337,
          2.1842708333333336,
          1.9802458333333333,
          2.3188208333333336,
          2.1942541666666666,
          1.855775,
          1.8698375,
          0.9748083333333334,
          2.1126458333333336,
          1.7496541666666665,
          2.771125,
          2.299625,
          2.8680875,
          2.922991666666667,
          2.7645166666666667,
          2.593566666666667,
          3.0286416666666667,
          3.1441708333333334,
          2.6812875000000003,
          2.65135,
          3.3375583333333334,
          0.8211791666666667,
          1.9018,
          1.5206666666666666,
          0.5881333333333333,
          2.0431291666666667,
          2.820866666666667,
          2.8847666666666667,
          2.0335185185185183,
          1.6243416666666666,
          2.0015041666666664,
          2.0104291666666665,
          1.560375,
          0.7701250000000001
         ],
         "xaxis": "x6",
         "xbins": {
          "end": 15,
          "start": 0
         },
         "yaxis": "y6"
        },
        {
         "histfunc": "count",
         "marker": {
          "color": "navy"
         },
         "showlegend": false,
         "type": "histogram",
         "x": [
          2.6948541666666666,
          1.706025,
          1.1518083333333335,
          0.9527291666666666,
          5.681882352941177,
          5.271504166666667,
          4.6505,
          1.5697416666666666,
          1.5885916666666666,
          1.8400666666666663,
          1.7125041666666665,
          2.5209708333333336,
          2.5801333333333334,
          3.192683333333333,
          1.2018875,
          1.303583333333333,
          1.1723208333333337,
          1.1051833333333332,
          0.8361999999999999,
          0.6779833333333334,
          0.6831583333333333,
          0.7074041666666666,
          2.1381666666666663,
          2.1342875,
          1.485625,
          1.5136416666666668,
          1.088954166666667,
          1.3150458333333332,
          0.9501791666666668,
          0.5970375,
          1.6291166666666668,
          1.92505,
          2.3055708333333333,
          1.5601375,
          1.8719083333333333,
          0.3251125,
          0.4106041666666666,
          1.1472625,
          2.0879958333333333,
          2.3728583333333333,
          0.9580958333333334,
          1.2075791666666666,
          1.234278481012658,
          0.7134625,
          0.8850958333333333,
          0.7168541666666666,
          3.1234549356223176,
          2.2417708333333333,
          2.410425,
          2.401758333333333,
          2.35285,
          1.4119333333333333,
          1.3383083333333334,
          1.4766791666666668,
          1.353225,
          2.364679166666667,
          1.3205458333333333,
          1.6449375000000002,
          1.9854708333333333,
          1.4256458333333333,
          2.9258,
          3.125870833333333,
          2.198058333333333,
          1.9499375,
          1.3481583333333331,
          1.3995916666666666,
          0.8705916666666667,
          1.9911791666666665,
          1.7716625,
          1.6082875,
          2.4204,
          1.4457666666666666,
          1.4637458333333333,
          0.792875,
          0.7799166666666667,
          1.1366083333333334,
          1.5787,
          3.3749208333333334,
          3.1403958333333337,
          3.2226708333333334,
          3.3937000000000004,
          3.5826,
          2.239520833333333,
          2.10725,
          2.273845833333333,
          1.9596291666666663,
          2.434158333333333,
          2.9359458333333333,
          3.2653541666666666,
          3.198908333333333,
          2.2422375000000003,
          2.172845833333333,
          1.9509166666666669,
          1.4099,
          2.0103,
          2.076225,
          1.8799916666666665,
          1.4208958333333332,
          0.8984458333333334,
          0.6423875,
          1.322375,
          3.0364791666666666,
          2.8616,
          2.5486625,
          2.078308333333333,
          2.461708333333333,
          2.2024375000000003,
          2.0180208333333334,
          2.143375,
          2.3696083333333333,
          1.4481583333333332,
          1.3530466101694916,
          1.48285,
          1.0725083333333332,
          0.8743708333333333,
          1.990629166666667,
          1.9299291666666667,
          1.840975,
          1.9471041666666664,
          2.2814791666666663,
          1.7982875,
          2.36895,
          2.1117833333333333,
          2.2966041666666666,
          1.6539041666666667,
          1.7265083333333335,
          1.7632875,
          2.068725,
          0.76505,
          0.9282375,
          1.5763666666666665,
          0.4945541666666667,
          2.4609666666666663,
          3.322595833333333,
          4.749733333333333,
          4.860495833333333,
          3.915933333333333,
          2.8951333333333333,
          2.9296458333333333,
          2.8667875,
          2.6584416666666666,
          2.6376833333333334,
          2.3614125,
          2.6071250000000004,
          2.8693375,
          3.211516666666667,
          2.261095833333333,
          2.201825,
          2.3192,
          2.5609916666666668,
          1.4995125,
          1.2323708333333334,
          0.965525,
          1.0753,
          1.5915541666666668,
          2.5349541666666666,
          2.4086375,
          2.045408333333333,
          2.2123,
          1.8492083333333331,
          2.06368947368421,
          1.327704166666667,
          1.1816916666666666,
          1.4567416666666666,
          1.3336125,
          2.28145,
          1.2871916666666663,
          1.3190583333333334,
          1.2334083333333332,
          1.4813416666666666,
          1.9554916666666664,
          3.1576250000000003,
          2.0030916666666667,
          5.003150753768844,
          2.230833333333333,
          2.0132791666666665,
          2.2282541666666664,
          2.375008333333333,
          2.11155,
          1.3807416666666663,
          1.3372041666666663,
          1.9275875,
          1.3644208333333334,
          0.9639958333333334,
          1.5641500000000002,
          1.5417458333333334,
          0.7098291666666667,
          1.2437958333333334
         ],
         "xaxis": "x6",
         "xbins": {
          "end": 15,
          "start": 0
         },
         "yaxis": "y6"
        }
       ],
       "layout": {
        "annotations": [
         {
          "font": {
           "size": 16
          },
          "showarrow": false,
          "text": "<b>Temperature </b><br>nbins = 2 degrees",
          "x": 0.245,
          "xanchor": "center",
          "xref": "paper",
          "y": 0.9999999999999998,
          "yanchor": "bottom",
          "yref": "paper"
         },
         {
          "font": {
           "size": 16
          },
          "showarrow": false,
          "text": "<b>Wind Speed </b><br>nbins = 1 m/s",
          "x": 0.755,
          "xanchor": "center",
          "xref": "paper",
          "y": 0.9999999999999998,
          "yanchor": "bottom",
          "yref": "paper"
         }
        ],
        "height": 1000,
        "template": {
         "data": {
          "bar": [
           {
            "error_x": {
             "color": "#2a3f5f"
            },
            "error_y": {
             "color": "#2a3f5f"
            },
            "marker": {
             "line": {
              "color": "#E5ECF6",
              "width": 0.5
             },
             "pattern": {
              "fillmode": "overlay",
              "size": 10,
              "solidity": 0.2
             }
            },
            "type": "bar"
           }
          ],
          "barpolar": [
           {
            "marker": {
             "line": {
              "color": "#E5ECF6",
              "width": 0.5
             },
             "pattern": {
              "fillmode": "overlay",
              "size": 10,
              "solidity": 0.2
             }
            },
            "type": "barpolar"
           }
          ],
          "carpet": [
           {
            "aaxis": {
             "endlinecolor": "#2a3f5f",
             "gridcolor": "white",
             "linecolor": "white",
             "minorgridcolor": "white",
             "startlinecolor": "#2a3f5f"
            },
            "baxis": {
             "endlinecolor": "#2a3f5f",
             "gridcolor": "white",
             "linecolor": "white",
             "minorgridcolor": "white",
             "startlinecolor": "#2a3f5f"
            },
            "type": "carpet"
           }
          ],
          "choropleth": [
           {
            "colorbar": {
             "outlinewidth": 0,
             "ticks": ""
            },
            "type": "choropleth"
           }
          ],
          "contour": [
           {
            "colorbar": {
             "outlinewidth": 0,
             "ticks": ""
            },
            "colorscale": [
             [
              0,
              "#0d0887"
             ],
             [
              0.1111111111111111,
              "#46039f"
             ],
             [
              0.2222222222222222,
              "#7201a8"
             ],
             [
              0.3333333333333333,
              "#9c179e"
             ],
             [
              0.4444444444444444,
              "#bd3786"
             ],
             [
              0.5555555555555556,
              "#d8576b"
             ],
             [
              0.6666666666666666,
              "#ed7953"
             ],
             [
              0.7777777777777778,
              "#fb9f3a"
             ],
             [
              0.8888888888888888,
              "#fdca26"
             ],
             [
              1,
              "#f0f921"
             ]
            ],
            "type": "contour"
           }
          ],
          "contourcarpet": [
           {
            "colorbar": {
             "outlinewidth": 0,
             "ticks": ""
            },
            "type": "contourcarpet"
           }
          ],
          "heatmap": [
           {
            "colorbar": {
             "outlinewidth": 0,
             "ticks": ""
            },
            "colorscale": [
             [
              0,
              "#0d0887"
             ],
             [
              0.1111111111111111,
              "#46039f"
             ],
             [
              0.2222222222222222,
              "#7201a8"
             ],
             [
              0.3333333333333333,
              "#9c179e"
             ],
             [
              0.4444444444444444,
              "#bd3786"
             ],
             [
              0.5555555555555556,
              "#d8576b"
             ],
             [
              0.6666666666666666,
              "#ed7953"
             ],
             [
              0.7777777777777778,
              "#fb9f3a"
             ],
             [
              0.8888888888888888,
              "#fdca26"
             ],
             [
              1,
              "#f0f921"
             ]
            ],
            "type": "heatmap"
           }
          ],
          "heatmapgl": [
           {
            "colorbar": {
             "outlinewidth": 0,
             "ticks": ""
            },
            "colorscale": [
             [
              0,
              "#0d0887"
             ],
             [
              0.1111111111111111,
              "#46039f"
             ],
             [
              0.2222222222222222,
              "#7201a8"
             ],
             [
              0.3333333333333333,
              "#9c179e"
             ],
             [
              0.4444444444444444,
              "#bd3786"
             ],
             [
              0.5555555555555556,
              "#d8576b"
             ],
             [
              0.6666666666666666,
              "#ed7953"
             ],
             [
              0.7777777777777778,
              "#fb9f3a"
             ],
             [
              0.8888888888888888,
              "#fdca26"
             ],
             [
              1,
              "#f0f921"
             ]
            ],
            "type": "heatmapgl"
           }
          ],
          "histogram": [
           {
            "marker": {
             "pattern": {
              "fillmode": "overlay",
              "size": 10,
              "solidity": 0.2
             }
            },
            "type": "histogram"
           }
          ],
          "histogram2d": [
           {
            "colorbar": {
             "outlinewidth": 0,
             "ticks": ""
            },
            "colorscale": [
             [
              0,
              "#0d0887"
             ],
             [
              0.1111111111111111,
              "#46039f"
             ],
             [
              0.2222222222222222,
              "#7201a8"
             ],
             [
              0.3333333333333333,
              "#9c179e"
             ],
             [
              0.4444444444444444,
              "#bd3786"
             ],
             [
              0.5555555555555556,
              "#d8576b"
             ],
             [
              0.6666666666666666,
              "#ed7953"
             ],
             [
              0.7777777777777778,
              "#fb9f3a"
             ],
             [
              0.8888888888888888,
              "#fdca26"
             ],
             [
              1,
              "#f0f921"
             ]
            ],
            "type": "histogram2d"
           }
          ],
          "histogram2dcontour": [
           {
            "colorbar": {
             "outlinewidth": 0,
             "ticks": ""
            },
            "colorscale": [
             [
              0,
              "#0d0887"
             ],
             [
              0.1111111111111111,
              "#46039f"
             ],
             [
              0.2222222222222222,
              "#7201a8"
             ],
             [
              0.3333333333333333,
              "#9c179e"
             ],
             [
              0.4444444444444444,
              "#bd3786"
             ],
             [
              0.5555555555555556,
              "#d8576b"
             ],
             [
              0.6666666666666666,
              "#ed7953"
             ],
             [
              0.7777777777777778,
              "#fb9f3a"
             ],
             [
              0.8888888888888888,
              "#fdca26"
             ],
             [
              1,
              "#f0f921"
             ]
            ],
            "type": "histogram2dcontour"
           }
          ],
          "mesh3d": [
           {
            "colorbar": {
             "outlinewidth": 0,
             "ticks": ""
            },
            "type": "mesh3d"
           }
          ],
          "parcoords": [
           {
            "line": {
             "colorbar": {
              "outlinewidth": 0,
              "ticks": ""
             }
            },
            "type": "parcoords"
           }
          ],
          "pie": [
           {
            "automargin": true,
            "type": "pie"
           }
          ],
          "scatter": [
           {
            "marker": {
             "colorbar": {
              "outlinewidth": 0,
              "ticks": ""
             }
            },
            "type": "scatter"
           }
          ],
          "scatter3d": [
           {
            "line": {
             "colorbar": {
              "outlinewidth": 0,
              "ticks": ""
             }
            },
            "marker": {
             "colorbar": {
              "outlinewidth": 0,
              "ticks": ""
             }
            },
            "type": "scatter3d"
           }
          ],
          "scattercarpet": [
           {
            "marker": {
             "colorbar": {
              "outlinewidth": 0,
              "ticks": ""
             }
            },
            "type": "scattercarpet"
           }
          ],
          "scattergeo": [
           {
            "marker": {
             "colorbar": {
              "outlinewidth": 0,
              "ticks": ""
             }
            },
            "type": "scattergeo"
           }
          ],
          "scattergl": [
           {
            "marker": {
             "colorbar": {
              "outlinewidth": 0,
              "ticks": ""
             }
            },
            "type": "scattergl"
           }
          ],
          "scattermapbox": [
           {
            "marker": {
             "colorbar": {
              "outlinewidth": 0,
              "ticks": ""
             }
            },
            "type": "scattermapbox"
           }
          ],
          "scatterpolar": [
           {
            "marker": {
             "colorbar": {
              "outlinewidth": 0,
              "ticks": ""
             }
            },
            "type": "scatterpolar"
           }
          ],
          "scatterpolargl": [
           {
            "marker": {
             "colorbar": {
              "outlinewidth": 0,
              "ticks": ""
             }
            },
            "type": "scatterpolargl"
           }
          ],
          "scatterternary": [
           {
            "marker": {
             "colorbar": {
              "outlinewidth": 0,
              "ticks": ""
             }
            },
            "type": "scatterternary"
           }
          ],
          "surface": [
           {
            "colorbar": {
             "outlinewidth": 0,
             "ticks": ""
            },
            "colorscale": [
             [
              0,
              "#0d0887"
             ],
             [
              0.1111111111111111,
              "#46039f"
             ],
             [
              0.2222222222222222,
              "#7201a8"
             ],
             [
              0.3333333333333333,
              "#9c179e"
             ],
             [
              0.4444444444444444,
              "#bd3786"
             ],
             [
              0.5555555555555556,
              "#d8576b"
             ],
             [
              0.6666666666666666,
              "#ed7953"
             ],
             [
              0.7777777777777778,
              "#fb9f3a"
             ],
             [
              0.8888888888888888,
              "#fdca26"
             ],
             [
              1,
              "#f0f921"
             ]
            ],
            "type": "surface"
           }
          ],
          "table": [
           {
            "cells": {
             "fill": {
              "color": "#EBF0F8"
             },
             "line": {
              "color": "white"
             }
            },
            "header": {
             "fill": {
              "color": "#C8D4E3"
             },
             "line": {
              "color": "white"
             }
            },
            "type": "table"
           }
          ]
         },
         "layout": {
          "annotationdefaults": {
           "arrowcolor": "#2a3f5f",
           "arrowhead": 0,
           "arrowwidth": 1
          },
          "autotypenumbers": "strict",
          "coloraxis": {
           "colorbar": {
            "outlinewidth": 0,
            "ticks": ""
           }
          },
          "colorscale": {
           "diverging": [
            [
             0,
             "#8e0152"
            ],
            [
             0.1,
             "#c51b7d"
            ],
            [
             0.2,
             "#de77ae"
            ],
            [
             0.3,
             "#f1b6da"
            ],
            [
             0.4,
             "#fde0ef"
            ],
            [
             0.5,
             "#f7f7f7"
            ],
            [
             0.6,
             "#e6f5d0"
            ],
            [
             0.7,
             "#b8e186"
            ],
            [
             0.8,
             "#7fbc41"
            ],
            [
             0.9,
             "#4d9221"
            ],
            [
             1,
             "#276419"
            ]
           ],
           "sequential": [
            [
             0,
             "#0d0887"
            ],
            [
             0.1111111111111111,
             "#46039f"
            ],
            [
             0.2222222222222222,
             "#7201a8"
            ],
            [
             0.3333333333333333,
             "#9c179e"
            ],
            [
             0.4444444444444444,
             "#bd3786"
            ],
            [
             0.5555555555555556,
             "#d8576b"
            ],
            [
             0.6666666666666666,
             "#ed7953"
            ],
            [
             0.7777777777777778,
             "#fb9f3a"
            ],
            [
             0.8888888888888888,
             "#fdca26"
            ],
            [
             1,
             "#f0f921"
            ]
           ],
           "sequentialminus": [
            [
             0,
             "#0d0887"
            ],
            [
             0.1111111111111111,
             "#46039f"
            ],
            [
             0.2222222222222222,
             "#7201a8"
            ],
            [
             0.3333333333333333,
             "#9c179e"
            ],
            [
             0.4444444444444444,
             "#bd3786"
            ],
            [
             0.5555555555555556,
             "#d8576b"
            ],
            [
             0.6666666666666666,
             "#ed7953"
            ],
            [
             0.7777777777777778,
             "#fb9f3a"
            ],
            [
             0.8888888888888888,
             "#fdca26"
            ],
            [
             1,
             "#f0f921"
            ]
           ]
          },
          "colorway": [
           "#636efa",
           "#EF553B",
           "#00cc96",
           "#ab63fa",
           "#FFA15A",
           "#19d3f3",
           "#FF6692",
           "#B6E880",
           "#FF97FF",
           "#FECB52"
          ],
          "font": {
           "color": "#2a3f5f"
          },
          "geo": {
           "bgcolor": "white",
           "lakecolor": "white",
           "landcolor": "#E5ECF6",
           "showlakes": true,
           "showland": true,
           "subunitcolor": "white"
          },
          "hoverlabel": {
           "align": "left"
          },
          "hovermode": "closest",
          "mapbox": {
           "style": "light"
          },
          "paper_bgcolor": "white",
          "plot_bgcolor": "#E5ECF6",
          "polar": {
           "angularaxis": {
            "gridcolor": "white",
            "linecolor": "white",
            "ticks": ""
           },
           "bgcolor": "#E5ECF6",
           "radialaxis": {
            "gridcolor": "white",
            "linecolor": "white",
            "ticks": ""
           }
          },
          "scene": {
           "xaxis": {
            "backgroundcolor": "#E5ECF6",
            "gridcolor": "white",
            "gridwidth": 2,
            "linecolor": "white",
            "showbackground": true,
            "ticks": "",
            "zerolinecolor": "white"
           },
           "yaxis": {
            "backgroundcolor": "#E5ECF6",
            "gridcolor": "white",
            "gridwidth": 2,
            "linecolor": "white",
            "showbackground": true,
            "ticks": "",
            "zerolinecolor": "white"
           },
           "zaxis": {
            "backgroundcolor": "#E5ECF6",
            "gridcolor": "white",
            "gridwidth": 2,
            "linecolor": "white",
            "showbackground": true,
            "ticks": "",
            "zerolinecolor": "white"
           }
          },
          "shapedefaults": {
           "line": {
            "color": "#2a3f5f"
           }
          },
          "ternary": {
           "aaxis": {
            "gridcolor": "white",
            "linecolor": "white",
            "ticks": ""
           },
           "baxis": {
            "gridcolor": "white",
            "linecolor": "white",
            "ticks": ""
           },
           "bgcolor": "#E5ECF6",
           "caxis": {
            "gridcolor": "white",
            "linecolor": "white",
            "ticks": ""
           }
          },
          "title": {
           "x": 0.05
          },
          "xaxis": {
           "automargin": true,
           "gridcolor": "white",
           "linecolor": "white",
           "ticks": "",
           "title": {
            "standoff": 15
           },
           "zerolinecolor": "white",
           "zerolinewidth": 2
          },
          "yaxis": {
           "automargin": true,
           "gridcolor": "white",
           "linecolor": "white",
           "ticks": "",
           "title": {
            "standoff": 15
           },
           "zerolinecolor": "white",
           "zerolinewidth": 2
          }
         }
        },
        "title": {
         "text": "Laret, Switzerland"
        },
        "width": 1300,
        "xaxis": {
         "anchor": "y",
         "domain": [
          0,
          0.49
         ],
         "range": [
          -25,
          15
         ],
         "title": {
          "text": ""
         },
         "type": "linear"
        },
        "xaxis2": {
         "anchor": "y2",
         "domain": [
          0.51,
          1
         ],
         "range": [
          0,
          15
         ],
         "title": {
          "text": ""
         },
         "type": "linear"
        },
        "xaxis3": {
         "anchor": "y3",
         "domain": [
          0,
          0.49
         ],
         "range": [
          -25,
          15
         ],
         "title": {
          "text": ""
         },
         "type": "linear"
        },
        "xaxis4": {
         "anchor": "y4",
         "domain": [
          0.51,
          1
         ],
         "range": [
          0,
          15
         ],
         "title": {
          "text": ""
         },
         "type": "linear"
        },
        "xaxis5": {
         "anchor": "y5",
         "domain": [
          0,
          0.49
         ],
         "range": [
          -25,
          15
         ],
         "title": {
          "text": "Temperature (C)"
         },
         "type": "linear"
        },
        "xaxis6": {
         "anchor": "y6",
         "domain": [
          0.51,
          1
         ],
         "range": [
          0,
          15
         ],
         "title": {
          "text": "Wind Speed (m/s)"
         },
         "type": "linear"
        },
        "yaxis": {
         "anchor": "x",
         "domain": [
          0.6866666666666665,
          0.9999999999999998
         ],
         "range": [
          -0.05,
          1.05
         ],
         "title": {
          "text": "<b> Snow Staying</b> <br> % of observations"
         },
         "type": "linear"
        },
        "yaxis2": {
         "anchor": "x2",
         "domain": [
          0.6866666666666665,
          0.9999999999999998
         ],
         "matches": "y",
         "showticklabels": false,
         "type": "linear"
        },
        "yaxis3": {
         "anchor": "x3",
         "domain": [
          0.34333333333333327,
          0.6566666666666665
         ],
         "range": [
          -0.05,
          1.05
         ],
         "title": {
          "text": "<b> Snow Unloading</b> <br> % of observations"
         },
         "type": "linear"
        },
        "yaxis4": {
         "anchor": "x4",
         "domain": [
          0.34333333333333327,
          0.6566666666666665
         ],
         "matches": "y3",
         "showticklabels": false,
         "type": "linear"
        },
        "yaxis5": {
         "anchor": "x5",
         "domain": [
          0,
          0.3133333333333333
         ],
         "range": [
          -0.05,
          50
         ],
         "title": {
          "text": "<b> All Data</b> <br> total # of obs in each bin"
         }
        },
        "yaxis6": {
         "anchor": "x6",
         "domain": [
          0,
          0.3133333333333333
         ],
         "matches": "y5",
         "showticklabels": false
        }
       }
      },
      "image/png": "[encoded data removed]",
      "text/html": [
       "<div>                            <div id=\"e210cdd1-0640-40df-871f-3246f50dbe51\" class=\"plotly-graph-div\" style=\"height:1000px; width:1300px;\"></div>            <script type=\"text/javascript\">                require([\"plotly\"], function(Plotly) {                    window.PLOTLYENV=window.PLOTLYENV || {};                                    if (document.getElementById(\"e210cdd1-0640-40df-871f-3246f50dbe51\")) {                    Plotly.newPlot(                        \"e210cdd1-0640-40df-871f-3246f50dbe51\",                        [{\"line\":{\"color\":\"tomato\",\"width\":4},\"name\":\"SW > 600\",\"type\":\"scatter\",\"x\":[-24.0,-22.0,-20.0,-18.0,-16.0,-14.0,-12.0,-10.0,-8.0,-6.0,-4.0,-2.0,0.0,2.0,4.0,6.0,8.0,10.0,12.0],\"xaxis\":\"x\",\"y\":[0.0,0.0,0.0,0.0,0.0,0.0,0.0,0.0,0.0,1.0,0.5714285714285714,0.16666666666666666,0.1111111111111111,0.0,0.16666666666666666,0.0,0.0,0.0,0.0],\"yaxis\":\"y\"},{\"line\":{\"color\":\"maroon\",\"width\":4},\"name\":\"400 < SW < 600\",\"type\":\"scatter\",\"x\":[-24.0,-22.0,-20.0,-18.0,-16.0,-14.0,-12.0,-10.0,-8.0,-6.0,-4.0,-2.0,0.0,2.0,4.0,6.0,8.0,10.0,12.0],\"xaxis\":\"x\",\"y\":[0.0,0.0,0.0,0.0,0.0,0.0,0.0,0.0,0.3333333333333333,1.0,0.9,0.5555555555555556,0.42857142857142855,0.42857142857142855,0.5,0.0,0.0,0.0,0.0],\"yaxis\":\"y\"},{\"line\":{\"color\":\"navy\",\"width\":4},\"name\":\"SW < 400\",\"type\":\"scatter\",\"x\":[-24.0,-22.0,-20.0,-18.0,-16.0,-14.0,-12.0,-10.0,-8.0,-6.0,-4.0,-2.0,0.0,2.0,4.0,6.0,8.0,10.0,12.0],\"xaxis\":\"x\",\"y\":[0.0,0.0,0.0,0.0,0.0,1.0,1.0,1.0,0.6538461538461539,0.7419354838709677,0.8108108108108109,0.8,0.6923076923076923,0.36363636363636365,0.4,0.0,0.0,0.0,0.0],\"yaxis\":\"y\"},{\"line\":{\"color\":\"tomato\",\"width\":4},\"showlegend\":false,\"type\":\"scatter\",\"x\":[-24.0,-22.0,-20.0,-18.0,-16.0,-14.0,-12.0,-10.0,-8.0,-6.0,-4.0,-2.0,0.0,2.0,4.0,6.0,8.0,10.0,12.0],\"xaxis\":\"x3\",\"y\":[0.0,0.0,0.0,0.0,0.0,0.0,0.0,0.0,1.0,0.0,0.42857142857142855,0.8333333333333334,0.8888888888888888,1.0,0.8333333333333334,1.0,1.0,0.0,0.0],\"yaxis\":\"y3\"},{\"line\":{\"color\":\"maroon\",\"width\":4},\"showlegend\":false,\"type\":\"scatter\",\"x\":[-24.0,-22.0,-20.0,-18.0,-16.0,-14.0,-12.0,-10.0,-8.0,-6.0,-4.0,-2.0,0.0,2.0,4.0,6.0,8.0,10.0,12.0],\"xaxis\":\"x3\",\"y\":[0.0,0.0,0.0,0.0,0.0,0.0,0.0,0.0,0.6666666666666666,0.0,0.1,0.4444444444444444,0.5714285714285714,0.5714285714285714,0.5,0.0,0.0,0.0,0.0],\"yaxis\":\"y3\"},{\"line\":{\"color\":\"navy\",\"width\":4},\"showlegend\":false,\"type\":\"scatter\",\"x\":[-24.0,-22.0,-20.0,-18.0,-16.0,-14.0,-12.0,-10.0,-8.0,-6.0,-4.0,-2.0,0.0,2.0,4.0,6.0,8.0,10.0,12.0],\"xaxis\":\"x3\",\"y\":[0.0,0.0,0.0,0.0,0.0,0.0,0.0,0.0,0.34615384615384615,0.25806451612903225,0.1891891891891892,0.2,0.3076923076923077,0.6363636363636364,0.6,1.0,0.0,0.0,0.0],\"yaxis\":\"y3\"},{\"line\":{\"color\":\"tomato\",\"width\":4},\"showlegend\":false,\"type\":\"scatter\",\"x\":[0.5,1.5,2.5,3.5,4.5,5.5,6.5,7.5,8.5,9.5,10.5,11.5,12.5,13.5],\"xaxis\":\"x2\",\"y\":[0.5,0.1,0.1875,1.0,0.0,0.0,0.0,0.0,0.0,0.0,0.0,0.0,0.0,0.0],\"yaxis\":\"y2\"},{\"line\":{\"color\":\"maroon\",\"width\":4},\"showlegend\":false,\"type\":\"scatter\",\"x\":[0.5,1.5,2.5,3.5,4.5,5.5,6.5,7.5,8.5,9.5,10.5,11.5,12.5,13.5],\"xaxis\":\"x2\",\"y\":[1.0,0.6153846153846154,0.5714285714285714,0.6666666666666666,0.0,0.0,0.0,0.0,0.0,0.0,0.0,0.0,0.0,0.0],\"yaxis\":\"y2\"},{\"line\":{\"color\":\"navy\",\"width\":4},\"showlegend\":false,\"type\":\"scatter\",\"x\":[0.5,1.5,2.5,3.5,4.5,5.5,6.5,7.5,8.5,9.5,10.5,11.5,12.5,13.5],\"xaxis\":\"x2\",\"y\":[0.92,0.7215189873417721,0.6507936507936508,0.7333333333333333,1.0,1.0,0.0,0.0,0.0,0.0,0.0,0.0,0.0,0.0],\"yaxis\":\"y2\"},{\"line\":{\"color\":\"tomato\",\"width\":4},\"showlegend\":false,\"type\":\"scatter\",\"x\":[0.5,1.5,2.5,3.5,4.5,5.5,6.5,7.5,8.5,9.5,10.5,11.5,12.5,13.5],\"xaxis\":\"x4\",\"y\":[0.5,0.9,0.8125,0.0,0.0,0.0,0.0,0.0,0.0,0.0,0.0,0.0,0.0,0.0],\"yaxis\":\"y4\"},{\"line\":{\"color\":\"maroon\",\"width\":4},\"showlegend\":false,\"type\":\"scatter\",\"x\":[0.5,1.5,2.5,3.5,4.5,5.5,6.5,7.5,8.5,9.5,10.5,11.5,12.5,13.5],\"xaxis\":\"x4\",\"y\":[0.0,0.38461538461538464,0.42857142857142855,0.3333333333333333,0.0,0.0,0.0,0.0,0.0,0.0,0.0,0.0,0.0,0.0],\"yaxis\":\"y4\"},{\"line\":{\"color\":\"navy\",\"width\":4},\"showlegend\":false,\"type\":\"scatter\",\"x\":[0.5,1.5,2.5,3.5,4.5,5.5,6.5,7.5,8.5,9.5,10.5,11.5,12.5,13.5],\"xaxis\":\"x4\",\"y\":[0.08,0.27848101265822783,0.3492063492063492,0.26666666666666666,0.0,0.0,0.0,0.0,0.0,0.0,0.0,0.0,0.0,0.0],\"yaxis\":\"y4\"},{\"autobinx\":false,\"histfunc\":\"count\",\"marker\":{\"color\":\"tomato\"},\"showlegend\":false,\"type\":\"histogram\",\"x\":[-8.376616666666667,1.9687125,3.2367791666666665,1.3711791666666668,-0.5221791666666667,2.158104166666667,2.8465583333333333,-4.2037875,-3.0557125,-3.4685541666666664,-4.592866666666667,-3.941241666666667,-3.007283333333333,-2.3574083333333333,-4.824425000000001,0.1745611814345991,0.9012125,2.0903416666666668,2.6678625,3.1820250000000003,5.045329166666666,6.180345833333333,7.069091666666667,-6.362466666666666,-5.4056125,-5.1549625,-1.5446791666666668,-0.9441583333333332,0.335275,0.1266916666666666,0.9147791666666668,1.8131125,2.1129625,5.020120833333333,6.307933333333334,-2.177058333333333,-1.6942333333333333,-1.9626083333333333,-1.9813208333333332,0.3196170212765957,0.4636166666666667,1.626958158995816,3.865325,4.049008333333333,4.7681708333333335,4.717920833333333],\"xaxis\":\"x5\",\"xbins\":{\"end\":10,\"size\":2,\"start\":-25},\"yaxis\":\"y5\"},{\"autobinx\":false,\"histfunc\":\"count\",\"marker\":{\"color\":\"maroon\"},\"showlegend\":false,\"type\":\"histogram\",\"x\":[-7.641083333333333,-8.342483333333332,-7.914891666666667,-6.241016666666667,-4.429283333333333,-3.012491666666667,-2.855341666666667,-0.7663375,0.87565,2.4909125,-3.2177166666666666,-0.179275,1.1537375,-0.3,2.154141666666667,-2.41825,-5.650558333333334,-3.7466875,-5.895783333333333,-2.2895416666666666,-2.3626291666666663,-5.987595833333333,-5.728125,-5.1958375,-4.831283333333333,-5.004320833333334,-3.9918625,-4.1054375,-3.8211875,-3.7643,-1.7016666666666669,-2.138795833333333,-2.515295833333333,3.648395833333333,1.918425,-1.6845291666666666,1.834325,-3.2127375,-1.9730458333333332,-0.1292296296296296,-0.5075625,0.3867833333333333,1.5872666666666668,3.20375,2.1430208333333334],\"xaxis\":\"x5\",\"xbins\":{\"end\":10,\"size\":2,\"start\":-25},\"yaxis\":\"y5\"},{\"autobinx\":false,\"histfunc\":\"count\",\"marker\":{\"color\":\"navy\"},\"showlegend\":false,\"type\":\"histogram\",\"x\":[-8.621583333333332,-10.212458333333332,-11.579958333333334,-13.475291666666667,-13.848529411764703,-13.403250000000002,-11.215166666666669,-4.2792,-6.799345833333334,-9.252066666666668,-10.438916666666668,-8.846833333333333,-7.592979166666667,-5.172979166666667,3.2102791666666666,2.9543291666666667,3.0721333333333334,2.1595416666666667,0.8493083333333333,-0.2911,0.2218625,0.595675,1.7832916666666667,2.690475,4.016095833333333,4.712545833333333,5.575495833333333,-0.2067999999999999,0.1915416666666666,0.5011458333333334,1.9662708333333327,-1.877,-2.2428250000000003,-8.364675,-6.8027,-2.1562208333333337,-1.466716666666667,-0.9233708333333334,-0.2198791666666666,-0.5551875000000001,-4.466620833333334,-3.8289208333333336,-2.231970464135021,-1.3900833333333331,-0.4650416666666667,1.3909083333333332,-3.1278583690987127,-2.71105,-3.39045,-3.9577,-4.4004125,-4.908516666666667,-6.9869,-7.0776,-6.917995833333333,-5.306670833333333,-4.811208333333334,-3.941045833333333,-5.329387499999999,-6.541995833333333,-12.218583333333331,-11.248208333333334,-8.9704625,-3.202525,-4.3444375,-5.928725,-9.158833333333332,-8.276958333333333,-8.333625,-7.576491666666667,-4.819791666666666,-6.476575,-7.721841666666666,-10.253291666666666,-9.278916666666667,-7.251645833333333,-5.673466666666667,-4.461133333333334,-4.994883333333333,-5.391425,-5.586004166666667,-5.623254166666666,-5.394191666666667,-5.1777125,-4.607033333333334,-3.807133333333333,-2.7764625,-2.5852416666666667,-2.9426666666666668,-2.9943083333333336,-2.8051166666666663,-3.3738916666666667,-4.075045833333333,-4.735241666666667,-9.025958333333334,-9.199791666666666,-6.3707875000000005,3.2786166666666667,0.1505583333333333,-2.141258333333333,-3.316345833333333,-4.654541666666666,-4.299370833333333,-1.8828958333333328,-8.418125,-8.55175,-8.123616666666667,-6.141983333333333,-6.116841666666667,-6.205395833333333,-5.465183333333333,-6.109415254237288,-6.779254166666666,-7.3840625,-8.082870833333333,-8.688370833333332,-8.348495833333333,-8.0129,-7.522466666666667,-7.263541666666667,-7.464029166666666,-6.412183333333333,-5.397316666666667,-5.798025,-6.357370833333333,-7.162583333333333,-7.572658333333334,-8.010195833333333,-7.940570833333334,-6.483341666666666,-0.6969416666666667,-2.7121666666666666,-3.167841666666667,-3.013054166666667,-3.4792375000000004,-1.2463333333333333,1.4503166666666667,-0.7334166666666667,-1.8811958333333332,-2.1415083333333333,-2.053554166666667,-2.238620833333333,-2.460783333333333,-2.5554125,-2.6784458333333334,-3.13545,-3.711316666666667,-3.856216666666666,-3.833629166666667,-4.132970833333333,-4.431433333333334,-5.903220833333333,-5.744108333333333,-5.305408333333333,-4.693391666666667,-4.1056875,-2.0696916666666665,-3.511133333333333,-4.53725,-4.914645833333334,-10.453526315789476,-2.9062208333333337,-2.9066458333333336,-2.6531458333333333,-2.0923333333333334,-1.3707916666666666,-2.370275,-2.1780375000000003,-1.8096166666666669,-1.2109875,-0.5381374999999999,-0.1189583333333333,1.4065125,-0.4841458333333334,-0.2329083333333333,0.5932458333333333,1.4184666666666668,0.8547166666666667,0.4711166666666667,0.4011333333333333,0.5516916666666667,0.7697291666666667,1.475025,1.6183541666666668,0.6532791666666667,-0.1125416666666666,-1.7557708333333333,-1.2533416666666668],\"xaxis\":\"x5\",\"xbins\":{\"end\":10,\"size\":2,\"start\":-25},\"yaxis\":\"y5\"},{\"autobinx\":false,\"histfunc\":\"count\",\"marker\":{\"color\":\"tomato\"},\"showlegend\":false,\"type\":\"histogram\",\"x\":[2.645875,0.9587833333333332,1.625508333333333,2.4976541666666665,2.30625,2.510066666666667,2.3434666666666666,2.158533333333333,2.659675,2.6934166666666663,2.0468208333333333,2.3458875000000003,2.286945833333333,2.443104166666666,3.1422708333333333,1.2475738396624474,2.208733333333333,2.2192541666666665,2.607629166666667,2.3457541666666666,1.6948208333333334,2.349883333333333,2.0942708333333333,2.0864333333333334,2.052529166666667,1.9665416666666664,1.0764666666666665,1.3068166666666667,1.3741375,2.066075,2.3137,2.0170666666666666,2.4200833333333334,2.0637041666666667,2.3379958333333333,3.0640291666666664,2.9369666666666663,2.8532916666666663,2.717433333333333,2.180617021276596,2.559520833333333,2.6221548117154816,0.9735541666666666,1.6480416666666666,1.4273833333333334,1.7194041666666666],\"xaxis\":\"x6\",\"xbins\":{\"end\":15,\"size\":1,\"start\":0},\"yaxis\":\"y6\"},{\"autobinx\":false,\"histfunc\":\"count\",\"marker\":{\"color\":\"maroon\"},\"showlegend\":false,\"type\":\"histogram\",\"x\":[2.6693458333333333,3.3648208333333334,3.9923875,2.896720833333333,3.210175,1.5483041666666668,1.1893874999999998,1.8649833333333332,0.992975,1.3893916666666668,2.0117,1.1573708333333337,2.1842708333333336,1.9802458333333333,2.3188208333333336,2.1942541666666666,1.855775,1.8698375,0.9748083333333334,2.1126458333333336,1.7496541666666665,2.771125,2.299625,2.8680875,2.922991666666667,2.7645166666666667,2.593566666666667,3.0286416666666667,3.1441708333333334,2.6812875000000003,2.65135,3.3375583333333334,0.8211791666666667,1.9018,1.5206666666666666,0.5881333333333333,2.0431291666666667,2.820866666666667,2.8847666666666667,2.0335185185185183,1.6243416666666666,2.0015041666666664,2.0104291666666665,1.560375,0.7701250000000001],\"xaxis\":\"x6\",\"xbins\":{\"end\":15,\"size\":1,\"start\":0},\"yaxis\":\"y6\"},{\"autobinx\":false,\"histfunc\":\"count\",\"marker\":{\"color\":\"navy\"},\"showlegend\":false,\"type\":\"histogram\",\"x\":[2.6948541666666666,1.706025,1.1518083333333335,0.9527291666666666,5.681882352941177,5.271504166666667,4.6505,1.5697416666666666,1.5885916666666666,1.8400666666666663,1.7125041666666665,2.5209708333333336,2.5801333333333334,3.192683333333333,1.2018875,1.303583333333333,1.1723208333333337,1.1051833333333332,0.8361999999999999,0.6779833333333334,0.6831583333333333,0.7074041666666666,2.1381666666666663,2.1342875,1.485625,1.5136416666666668,1.088954166666667,1.3150458333333332,0.9501791666666668,0.5970375,1.6291166666666668,1.92505,2.3055708333333333,1.5601375,1.8719083333333333,0.3251125,0.4106041666666666,1.1472625,2.0879958333333333,2.3728583333333333,0.9580958333333334,1.2075791666666666,1.234278481012658,0.7134625,0.8850958333333333,0.7168541666666666,3.1234549356223176,2.2417708333333333,2.410425,2.401758333333333,2.35285,1.4119333333333333,1.3383083333333334,1.4766791666666668,1.353225,2.364679166666667,1.3205458333333333,1.6449375000000002,1.9854708333333333,1.4256458333333333,2.9258,3.125870833333333,2.198058333333333,1.9499375,1.3481583333333331,1.3995916666666666,0.8705916666666667,1.9911791666666665,1.7716625,1.6082875,2.4204,1.4457666666666666,1.4637458333333333,0.792875,0.7799166666666667,1.1366083333333334,1.5787,3.3749208333333334,3.1403958333333337,3.2226708333333334,3.3937000000000004,3.5826,2.239520833333333,2.10725,2.273845833333333,1.9596291666666663,2.434158333333333,2.9359458333333333,3.2653541666666666,3.198908333333333,2.2422375000000003,2.172845833333333,1.9509166666666669,1.4099,2.0103,2.076225,1.8799916666666665,1.4208958333333332,0.8984458333333334,0.6423875,1.322375,3.0364791666666666,2.8616,2.5486625,2.078308333333333,2.461708333333333,2.2024375000000003,2.0180208333333334,2.143375,2.3696083333333333,1.4481583333333332,1.3530466101694916,1.48285,1.0725083333333332,0.8743708333333333,1.990629166666667,1.9299291666666667,1.840975,1.9471041666666664,2.2814791666666663,1.7982875,2.36895,2.1117833333333333,2.2966041666666666,1.6539041666666667,1.7265083333333335,1.7632875,2.068725,0.76505,0.9282375,1.5763666666666665,0.4945541666666667,2.4609666666666663,3.322595833333333,4.749733333333333,4.860495833333333,3.915933333333333,2.8951333333333333,2.9296458333333333,2.8667875,2.6584416666666666,2.6376833333333334,2.3614125,2.6071250000000004,2.8693375,3.211516666666667,2.261095833333333,2.201825,2.3192,2.5609916666666668,1.4995125,1.2323708333333334,0.965525,1.0753,1.5915541666666668,2.5349541666666666,2.4086375,2.045408333333333,2.2123,1.8492083333333331,2.06368947368421,1.327704166666667,1.1816916666666666,1.4567416666666666,1.3336125,2.28145,1.2871916666666663,1.3190583333333334,1.2334083333333332,1.4813416666666666,1.9554916666666664,3.1576250000000003,2.0030916666666667,5.003150753768844,2.230833333333333,2.0132791666666665,2.2282541666666664,2.375008333333333,2.11155,1.3807416666666663,1.3372041666666663,1.9275875,1.3644208333333334,0.9639958333333334,1.5641500000000002,1.5417458333333334,0.7098291666666667,1.2437958333333334],\"xaxis\":\"x6\",\"xbins\":{\"end\":15,\"size\":1,\"start\":0},\"yaxis\":\"y6\"}],                        {\"annotations\":[{\"font\":{\"size\":16},\"showarrow\":false,\"text\":\"<b>Temperature </b><br>nbins = 2 degrees\",\"x\":0.245,\"xanchor\":\"center\",\"xref\":\"paper\",\"y\":0.9999999999999998,\"yanchor\":\"bottom\",\"yref\":\"paper\"},{\"font\":{\"size\":16},\"showarrow\":false,\"text\":\"<b>Wind Speed </b><br>nbins = 1 m/s\",\"x\":0.755,\"xanchor\":\"center\",\"xref\":\"paper\",\"y\":0.9999999999999998,\"yanchor\":\"bottom\",\"yref\":\"paper\"}],\"height\":1000,\"template\":{\"data\":{\"bar\":[{\"error_x\":{\"color\":\"#2a3f5f\"},\"error_y\":{\"color\":\"#2a3f5f\"},\"marker\":{\"line\":{\"color\":\"#E5ECF6\",\"width\":0.5},\"pattern\":{\"fillmode\":\"overlay\",\"size\":10,\"solidity\":0.2}},\"type\":\"bar\"}],\"barpolar\":[{\"marker\":{\"line\":{\"color\":\"#E5ECF6\",\"width\":0.5},\"pattern\":{\"fillmode\":\"overlay\",\"size\":10,\"solidity\":0.2}},\"type\":\"barpolar\"}],\"carpet\":[{\"aaxis\":{\"endlinecolor\":\"#2a3f5f\",\"gridcolor\":\"white\",\"linecolor\":\"white\",\"minorgridcolor\":\"white\",\"startlinecolor\":\"#2a3f5f\"},\"baxis\":{\"endlinecolor\":\"#2a3f5f\",\"gridcolor\":\"white\",\"linecolor\":\"white\",\"minorgridcolor\":\"white\",\"startlinecolor\":\"#2a3f5f\"},\"type\":\"carpet\"}],\"choropleth\":[{\"colorbar\":{\"outlinewidth\":0,\"ticks\":\"\"},\"type\":\"choropleth\"}],\"contour\":[{\"colorbar\":{\"outlinewidth\":0,\"ticks\":\"\"},\"colorscale\":[[0.0,\"#0d0887\"],[0.1111111111111111,\"#46039f\"],[0.2222222222222222,\"#7201a8\"],[0.3333333333333333,\"#9c179e\"],[0.4444444444444444,\"#bd3786\"],[0.5555555555555556,\"#d8576b\"],[0.6666666666666666,\"#ed7953\"],[0.7777777777777778,\"#fb9f3a\"],[0.8888888888888888,\"#fdca26\"],[1.0,\"#f0f921\"]],\"type\":\"contour\"}],\"contourcarpet\":[{\"colorbar\":{\"outlinewidth\":0,\"ticks\":\"\"},\"type\":\"contourcarpet\"}],\"heatmap\":[{\"colorbar\":{\"outlinewidth\":0,\"ticks\":\"\"},\"colorscale\":[[0.0,\"#0d0887\"],[0.1111111111111111,\"#46039f\"],[0.2222222222222222,\"#7201a8\"],[0.3333333333333333,\"#9c179e\"],[0.4444444444444444,\"#bd3786\"],[0.5555555555555556,\"#d8576b\"],[0.6666666666666666,\"#ed7953\"],[0.7777777777777778,\"#fb9f3a\"],[0.8888888888888888,\"#fdca26\"],[1.0,\"#f0f921\"]],\"type\":\"heatmap\"}],\"heatmapgl\":[{\"colorbar\":{\"outlinewidth\":0,\"ticks\":\"\"},\"colorscale\":[[0.0,\"#0d0887\"],[0.1111111111111111,\"#46039f\"],[0.2222222222222222,\"#7201a8\"],[0.3333333333333333,\"#9c179e\"],[0.4444444444444444,\"#bd3786\"],[0.5555555555555556,\"#d8576b\"],[0.6666666666666666,\"#ed7953\"],[0.7777777777777778,\"#fb9f3a\"],[0.8888888888888888,\"#fdca26\"],[1.0,\"#f0f921\"]],\"type\":\"heatmapgl\"}],\"histogram\":[{\"marker\":{\"pattern\":{\"fillmode\":\"overlay\",\"size\":10,\"solidity\":0.2}},\"type\":\"histogram\"}],\"histogram2d\":[{\"colorbar\":{\"outlinewidth\":0,\"ticks\":\"\"},\"colorscale\":[[0.0,\"#0d0887\"],[0.1111111111111111,\"#46039f\"],[0.2222222222222222,\"#7201a8\"],[0.3333333333333333,\"#9c179e\"],[0.4444444444444444,\"#bd3786\"],[0.5555555555555556,\"#d8576b\"],[0.6666666666666666,\"#ed7953\"],[0.7777777777777778,\"#fb9f3a\"],[0.8888888888888888,\"#fdca26\"],[1.0,\"#f0f921\"]],\"type\":\"histogram2d\"}],\"histogram2dcontour\":[{\"colorbar\":{\"outlinewidth\":0,\"ticks\":\"\"},\"colorscale\":[[0.0,\"#0d0887\"],[0.1111111111111111,\"#46039f\"],[0.2222222222222222,\"#7201a8\"],[0.3333333333333333,\"#9c179e\"],[0.4444444444444444,\"#bd3786\"],[0.5555555555555556,\"#d8576b\"],[0.6666666666666666,\"#ed7953\"],[0.7777777777777778,\"#fb9f3a\"],[0.8888888888888888,\"#fdca26\"],[1.0,\"#f0f921\"]],\"type\":\"histogram2dcontour\"}],\"mesh3d\":[{\"colorbar\":{\"outlinewidth\":0,\"ticks\":\"\"},\"type\":\"mesh3d\"}],\"parcoords\":[{\"line\":{\"colorbar\":{\"outlinewidth\":0,\"ticks\":\"\"}},\"type\":\"parcoords\"}],\"pie\":[{\"automargin\":true,\"type\":\"pie\"}],\"scatter\":[{\"marker\":{\"colorbar\":{\"outlinewidth\":0,\"ticks\":\"\"}},\"type\":\"scatter\"}],\"scatter3d\":[{\"line\":{\"colorbar\":{\"outlinewidth\":0,\"ticks\":\"\"}},\"marker\":{\"colorbar\":{\"outlinewidth\":0,\"ticks\":\"\"}},\"type\":\"scatter3d\"}],\"scattercarpet\":[{\"marker\":{\"colorbar\":{\"outlinewidth\":0,\"ticks\":\"\"}},\"type\":\"scattercarpet\"}],\"scattergeo\":[{\"marker\":{\"colorbar\":{\"outlinewidth\":0,\"ticks\":\"\"}},\"type\":\"scattergeo\"}],\"scattergl\":[{\"marker\":{\"colorbar\":{\"outlinewidth\":0,\"ticks\":\"\"}},\"type\":\"scattergl\"}],\"scattermapbox\":[{\"marker\":{\"colorbar\":{\"outlinewidth\":0,\"ticks\":\"\"}},\"type\":\"scattermapbox\"}],\"scatterpolar\":[{\"marker\":{\"colorbar\":{\"outlinewidth\":0,\"ticks\":\"\"}},\"type\":\"scatterpolar\"}],\"scatterpolargl\":[{\"marker\":{\"colorbar\":{\"outlinewidth\":0,\"ticks\":\"\"}},\"type\":\"scatterpolargl\"}],\"scatterternary\":[{\"marker\":{\"colorbar\":{\"outlinewidth\":0,\"ticks\":\"\"}},\"type\":\"scatterternary\"}],\"surface\":[{\"colorbar\":{\"outlinewidth\":0,\"ticks\":\"\"},\"colorscale\":[[0.0,\"#0d0887\"],[0.1111111111111111,\"#46039f\"],[0.2222222222222222,\"#7201a8\"],[0.3333333333333333,\"#9c179e\"],[0.4444444444444444,\"#bd3786\"],[0.5555555555555556,\"#d8576b\"],[0.6666666666666666,\"#ed7953\"],[0.7777777777777778,\"#fb9f3a\"],[0.8888888888888888,\"#fdca26\"],[1.0,\"#f0f921\"]],\"type\":\"surface\"}],\"table\":[{\"cells\":{\"fill\":{\"color\":\"#EBF0F8\"},\"line\":{\"color\":\"white\"}},\"header\":{\"fill\":{\"color\":\"#C8D4E3\"},\"line\":{\"color\":\"white\"}},\"type\":\"table\"}]},\"layout\":{\"annotationdefaults\":{\"arrowcolor\":\"#2a3f5f\",\"arrowhead\":0,\"arrowwidth\":1},\"autotypenumbers\":\"strict\",\"coloraxis\":{\"colorbar\":{\"outlinewidth\":0,\"ticks\":\"\"}},\"colorscale\":{\"diverging\":[[0,\"#8e0152\"],[0.1,\"#c51b7d\"],[0.2,\"#de77ae\"],[0.3,\"#f1b6da\"],[0.4,\"#fde0ef\"],[0.5,\"#f7f7f7\"],[0.6,\"#e6f5d0\"],[0.7,\"#b8e186\"],[0.8,\"#7fbc41\"],[0.9,\"#4d9221\"],[1,\"#276419\"]],\"sequential\":[[0.0,\"#0d0887\"],[0.1111111111111111,\"#46039f\"],[0.2222222222222222,\"#7201a8\"],[0.3333333333333333,\"#9c179e\"],[0.4444444444444444,\"#bd3786\"],[0.5555555555555556,\"#d8576b\"],[0.6666666666666666,\"#ed7953\"],[0.7777777777777778,\"#fb9f3a\"],[0.8888888888888888,\"#fdca26\"],[1.0,\"#f0f921\"]],\"sequentialminus\":[[0.0,\"#0d0887\"],[0.1111111111111111,\"#46039f\"],[0.2222222222222222,\"#7201a8\"],[0.3333333333333333,\"#9c179e\"],[0.4444444444444444,\"#bd3786\"],[0.5555555555555556,\"#d8576b\"],[0.6666666666666666,\"#ed7953\"],[0.7777777777777778,\"#fb9f3a\"],[0.8888888888888888,\"#fdca26\"],[1.0,\"#f0f921\"]]},\"colorway\":[\"#636efa\",\"#EF553B\",\"#00cc96\",\"#ab63fa\",\"#FFA15A\",\"#19d3f3\",\"#FF6692\",\"#B6E880\",\"#FF97FF\",\"#FECB52\"],\"font\":{\"color\":\"#2a3f5f\"},\"geo\":{\"bgcolor\":\"white\",\"lakecolor\":\"white\",\"landcolor\":\"#E5ECF6\",\"showlakes\":true,\"showland\":true,\"subunitcolor\":\"white\"},\"hoverlabel\":{\"align\":\"left\"},\"hovermode\":\"closest\",\"mapbox\":{\"style\":\"light\"},\"paper_bgcolor\":\"white\",\"plot_bgcolor\":\"#E5ECF6\",\"polar\":{\"angularaxis\":{\"gridcolor\":\"white\",\"linecolor\":\"white\",\"ticks\":\"\"},\"bgcolor\":\"#E5ECF6\",\"radialaxis\":{\"gridcolor\":\"white\",\"linecolor\":\"white\",\"ticks\":\"\"}},\"scene\":{\"xaxis\":{\"backgroundcolor\":\"#E5ECF6\",\"gridcolor\":\"white\",\"gridwidth\":2,\"linecolor\":\"white\",\"showbackground\":true,\"ticks\":\"\",\"zerolinecolor\":\"white\"},\"yaxis\":{\"backgroundcolor\":\"#E5ECF6\",\"gridcolor\":\"white\",\"gridwidth\":2,\"linecolor\":\"white\",\"showbackground\":true,\"ticks\":\"\",\"zerolinecolor\":\"white\"},\"zaxis\":{\"backgroundcolor\":\"#E5ECF6\",\"gridcolor\":\"white\",\"gridwidth\":2,\"linecolor\":\"white\",\"showbackground\":true,\"ticks\":\"\",\"zerolinecolor\":\"white\"}},\"shapedefaults\":{\"line\":{\"color\":\"#2a3f5f\"}},\"ternary\":{\"aaxis\":{\"gridcolor\":\"white\",\"linecolor\":\"white\",\"ticks\":\"\"},\"baxis\":{\"gridcolor\":\"white\",\"linecolor\":\"white\",\"ticks\":\"\"},\"bgcolor\":\"#E5ECF6\",\"caxis\":{\"gridcolor\":\"white\",\"linecolor\":\"white\",\"ticks\":\"\"}},\"title\":{\"x\":0.05},\"xaxis\":{\"automargin\":true,\"gridcolor\":\"white\",\"linecolor\":\"white\",\"ticks\":\"\",\"title\":{\"standoff\":15},\"zerolinecolor\":\"white\",\"zerolinewidth\":2},\"yaxis\":{\"automargin\":true,\"gridcolor\":\"white\",\"linecolor\":\"white\",\"ticks\":\"\",\"title\":{\"standoff\":15},\"zerolinecolor\":\"white\",\"zerolinewidth\":2}}},\"title\":{\"text\":\"Laret, Switzerland\"},\"width\":1300,\"xaxis\":{\"anchor\":\"y\",\"domain\":[0.0,0.49],\"range\":[-25,15],\"title\":{\"text\":\"\"}},\"xaxis2\":{\"anchor\":\"y2\",\"domain\":[0.51,1.0],\"range\":[0,15],\"title\":{\"text\":\"\"}},\"xaxis3\":{\"anchor\":\"y3\",\"domain\":[0.0,0.49],\"range\":[-25,15],\"title\":{\"text\":\"\"}},\"xaxis4\":{\"anchor\":\"y4\",\"domain\":[0.51,1.0],\"range\":[0,15],\"title\":{\"text\":\"\"}},\"xaxis5\":{\"anchor\":\"y5\",\"domain\":[0.0,0.49],\"range\":[-25,15],\"title\":{\"text\":\"Temperature (C)\"}},\"xaxis6\":{\"anchor\":\"y6\",\"domain\":[0.51,1.0],\"range\":[0,15],\"title\":{\"text\":\"Wind Speed (m/s)\"}},\"yaxis\":{\"anchor\":\"x\",\"domain\":[0.6866666666666665,0.9999999999999998],\"range\":[-0.05,1.05],\"title\":{\"text\":\"<b> Snow Staying</b> <br> % of observations\"}},\"yaxis2\":{\"anchor\":\"x2\",\"domain\":[0.6866666666666665,0.9999999999999998],\"matches\":\"y\",\"showticklabels\":false},\"yaxis3\":{\"anchor\":\"x3\",\"domain\":[0.34333333333333327,0.6566666666666665],\"range\":[-0.05,1.05],\"title\":{\"text\":\"<b> Snow Unloading</b> <br> % of observations\"}},\"yaxis4\":{\"anchor\":\"x4\",\"domain\":[0.34333333333333327,0.6566666666666665],\"matches\":\"y3\",\"showticklabels\":false},\"yaxis5\":{\"anchor\":\"x5\",\"domain\":[0.0,0.3133333333333333],\"range\":[-0.05,50],\"title\":{\"text\":\"<b> All Data</b> <br> total # of obs in each bin\"}},\"yaxis6\":{\"anchor\":\"x6\",\"domain\":[0.0,0.3133333333333333],\"matches\":\"y5\",\"showticklabels\":false}},                        {\"responsive\": true}                    ).then(function(){\n",
       "                            \n",
       "var gd = document.getElementById('e210cdd1-0640-40df-871f-3246f50dbe51');\n",
       "var x = new MutationObserver(function (mutations, observer) {{\n",
       "        var display = window.getComputedStyle(gd).display;\n",
       "        if (!display || display === 'none') {{\n",
       "            console.log([gd, 'removed!']);\n",
       "            Plotly.purge(gd);\n",
       "            observer.disconnect();\n",
       "        }}\n",
       "}});\n",
       "\n",
       "// Listen for the removal of the full notebook cells\n",
       "var notebookContainer = gd.closest('#notebook-container');\n",
       "if (notebookContainer) {{\n",
       "    x.observe(notebookContainer, {childList: true});\n",
       "}}\n",
       "\n",
       "// Listen for the clearing of the current output cell\n",
       "var outputEl = gd.closest('.output');\n",
       "if (outputEl) {{\n",
       "    x.observe(outputEl, {childList: true});\n",
       "}}\n",
       "\n",
       "                        })                };                });            </script>        </div>"
      ]
     },
     "metadata": {},
     "output_type": "display_data"
    }
   ],
   "source": [
    "fig = make_subplots(rows=3, cols=2, shared_xaxes=False, shared_yaxes=True, \n",
    "                    vertical_spacing=0.03, horizontal_spacing=0.02,\n",
    "                    subplot_titles=(\"<b>Temperature </b><br>nbins = 2 degrees\", \"<b>Wind Speed </b><br>nbins = 1 m/s\"))\n",
    "\n",
    "width = 4\n",
    "\n",
    "# temp 2 degree bins\n",
    "fig.add_trace(go.Scatter(x = dfSW600_temp2_returndf['stay_center'], line_color=color1, y = dfSW600_temp2_returndf['stay_percent'], line_width=width, name=name1),row=1, col=1)\n",
    "fig.add_trace(go.Scatter(x = dfSW460_temp2_returndf['stay_center'], line_color=color2, y = dfSW460_temp2_returndf['stay_percent'], line_width=width, name=name2),row=1, col=1)\n",
    "fig.add_trace(go.Scatter(x = dfSW400_temp2_returndf['stay_center'], line_color=color3, y = dfSW400_temp2_returndf['stay_percent'], line_width=width, name=name3),row=1, col=1)\n",
    "\n",
    "fig.add_trace(go.Scatter(x = dfSW600_temp2_returndf['unload_center'], line_color=color1, y = dfSW600_temp2_returndf['unload_percent'], line_width=width, showlegend=False),row=2, col=1)\n",
    "fig.add_trace(go.Scatter(x = dfSW460_temp2_returndf['unload_center'], line_color=color2, y = dfSW460_temp2_returndf['unload_percent'], line_width=width, showlegend=False),row=2, col=1)\n",
    "fig.add_trace(go.Scatter(x = dfSW400_temp2_returndf['unload_center'], line_color=color3, y = dfSW400_temp2_returndf['unload_percent'], line_width=width, showlegend=False),row=2, col=1)\n",
    "\n",
    "\n",
    "# wind 1 w/m bins\n",
    "fig.add_trace(go.Scatter(x = dfSW600_wind1_returndf['stay_center'], line_color=color1, y = dfSW600_wind1_returndf['stay_percent'], line_width=width, showlegend=False),row=1, col=2)\n",
    "fig.add_trace(go.Scatter(x = dfSW460_wind1_returndf['stay_center'], line_color=color2, y = dfSW460_wind1_returndf['stay_percent'], line_width=width, showlegend=False),row=1, col=2)\n",
    "fig.add_trace(go.Scatter(x = dfSW400_wind1_returndf['stay_center'], line_color=color3, y = dfSW400_wind1_returndf['stay_percent'], line_width=width, showlegend=False),row=1, col=2)\n",
    "\n",
    "fig.add_trace(go.Scatter(x = dfSW600_wind1_returndf['unload_center'], line_color=color1, y = dfSW600_wind1_returndf['unload_percent'], line_width=width, showlegend=False),row=2, col=2)\n",
    "fig.add_trace(go.Scatter(x = dfSW460_wind1_returndf['unload_center'], line_color=color2, y = dfSW460_wind1_returndf['unload_percent'], line_width=width, showlegend=False),row=2, col=2)\n",
    "fig.add_trace(go.Scatter(x = dfSW400_wind1_returndf['unload_center'], line_color=color3, y = dfSW400_wind1_returndf['unload_percent'], line_width=width, showlegend=False),row=2, col=2)\n",
    "\n",
    "# row 3\n",
    "# fig.add_trace(go.Histogram(x = dfSW600.temp, showlegend=False, histfunc='count', marker_color=color1),row=3, col=1)\n",
    "# fig.add_trace(go.Histogram(x = dfSW400600.temp, showlegend=False, histfunc='count', marker_color=color2),row=3, col=1)\n",
    "# fig.add_trace(go.Histogram(x = dfSW400.temp, showlegend=False, histfunc='count', marker_color=color3),row=3, col=1)\n",
    "\n",
    "# fig.add_trace(go.Histogram(x = dfSW600.windspeed,    showlegend=False, histfunc='count', marker_color=color1),row=3, col=2)\n",
    "# fig.add_trace(go.Histogram(x = dfSW400600.windspeed, showlegend=False, histfunc='count', marker_color=color2),row=3, col=2)\n",
    "# fig.add_trace(go.Histogram(x = dfSW400.windspeed,    showlegend=False, histfunc='count', marker_color=color3),row=3, col=2)\n",
    "\n",
    "fig.add_trace(go.Histogram(x = dfSW600.AirTC_Avg, showlegend=False, histfunc='count', marker_color=color1, xbins=dict(start=-25, end=10, size=2), autobinx=False),row=3, col=1)\n",
    "fig.add_trace(go.Histogram(x = dfSW400600.AirTC_Avg, showlegend=False, histfunc='count', marker_color=color2, xbins=dict(start=-25, end=10, size=2), autobinx=False),row=3, col=1)\n",
    "fig.add_trace(go.Histogram(x = dfSW400.AirTC_Avg, showlegend=False, histfunc='count', marker_color=color3, xbins=dict(start=-25, end=10, size=2), autobinx=False),row=3, col=1)\n",
    "\n",
    "fig.add_trace(go.Histogram(x = dfSW600.WS_ms_Avg,    showlegend=False, histfunc='count', marker_color=color1, xbins=dict(start=0, end=15, size=1), autobinx=False),row=3, col=2)\n",
    "fig.add_trace(go.Histogram(x = dfSW400600.WS_ms_Avg, showlegend=False, histfunc='count', marker_color=color2, xbins=dict(start=0, end=15, size=1), autobinx=False),row=3, col=2)\n",
    "fig.add_trace(go.Histogram(x = dfSW400.WS_ms_Avg,    showlegend=False, histfunc='count', marker_color=color3, xbins=dict(start=0, end=15, size=1), autobinx=False),row=3, col=2)\n",
    "\n",
    "# row 3, fix bins\n",
    "# fig.add_trace(go.Histogram(x = dfSW600.temp,    showlegend=False, histfunc='count', marker_color=color1, bingroup=2, autobinx=False),row=3, col=1)\n",
    "# fig.add_trace(go.Histogram(x = dfSW400600.temp, showlegend=False, histfunc='count', marker_color=color2, bingroup=2, autobinx=False),row=3, col=1)\n",
    "# fig.add_trace(go.Histogram(x = dfSW400.temp,    showlegend=False, histfunc='count', marker_color=color3, bingroup=2, autobinx=False),row=3, col=1)\n",
    "\n",
    "# fig.add_trace(go.Histogram(x = dfSW600.windspeed,    showlegend=False, histfunc='count', marker_color=color1, bingroup=1, autobinx=False), row=3, col=2)\n",
    "# fig.add_trace(go.Histogram(x = dfSW400600.windspeed, showlegend=False, histfunc='count', marker_color=color2, bingroup=1, autobinx=False), row=3, col=2)\n",
    "# fig.add_trace(go.Histogram(x = dfSW400.windspeed,    showlegend=False, histfunc='count', marker_color=color3, bingroup=1, autobinx=False), row=3, col=2)\n",
    "\n",
    "# axes \n",
    "fig.update_xaxes(title_text='Temperature (C)',  range=[-25,15],row=3, col=1)\n",
    "fig.update_xaxes(title_text='',  range=[-25,15],row=1, col=1)\n",
    "fig.update_xaxes(title_text='',  range=[-25,15],row=2, col=1)\n",
    "\n",
    "\n",
    "fig.update_xaxes(title_text='Wind Speed (m/s)', range=[0,15],  row=3, col=2)\n",
    "fig.update_xaxes(title_text='', range=[0,15],  row=1, col=2)\n",
    "fig.update_xaxes(title_text='', range=[0,15],  row=2, col=2)\n",
    "\n",
    "\n",
    "fig.update_yaxes(title_text='<b> Snow Staying</b> <br> % of observations', range=[-0.05,1.05], row=1, col=1)\n",
    "fig.update_yaxes(title_text='<b> Snow Unloading</b> <br> % of observations', range=[-0.05,1.05], row=2, col=1)\n",
    "fig.update_yaxes(title_text='<b> All Data</b> <br> total # of obs in each bin', range=[-0.05,50], row=3, col=1)\n",
    "\n",
    "\n",
    "fig.update_layout(height=1000, width=1300, title_text=\"Laret, Switzerland\")\n",
    "fig.show()"
   ]
  },
  {
   "cell_type": "code",
   "execution_count": 12,
   "id": "527347f9-b90a-4519-9570-a23379d5427a",
   "metadata": {},
   "outputs": [
    {
     "data": {
      "application/vnd.plotly.v1+json": {
       "config": {
        "plotlyServerURL": "https://plot.ly"
       },
       "data": [
        {
         "histfunc": "count",
         "marker": {
          "color": "tomato"
         },
         "showlegend": false,
         "type": "histogram",
         "x": [
          -8.376616666666667,
          1.9687125,
          3.2367791666666665,
          1.3711791666666668,
          -0.5221791666666667,
          2.158104166666667,
          2.8465583333333333,
          -4.2037875,
          -3.0557125,
          -3.4685541666666664,
          -4.592866666666667,
          -3.941241666666667,
          -3.007283333333333,
          -2.3574083333333333,
          -4.824425000000001,
          0.1745611814345991,
          0.9012125,
          2.0903416666666668,
          2.6678625,
          3.1820250000000003,
          5.045329166666666,
          6.180345833333333,
          7.069091666666667,
          -6.362466666666666,
          -5.4056125,
          -5.1549625,
          -1.5446791666666668,
          -0.9441583333333332,
          0.335275,
          0.1266916666666666,
          0.9147791666666668,
          1.8131125,
          2.1129625,
          5.020120833333333,
          6.307933333333334,
          -2.177058333333333,
          -1.6942333333333333,
          -1.9626083333333333,
          -1.9813208333333332,
          0.3196170212765957,
          0.4636166666666667,
          1.626958158995816,
          3.865325,
          4.049008333333333,
          4.7681708333333335,
          4.717920833333333
         ],
         "xaxis": "x",
         "xbins": {
          "end": 10,
          "size": 2,
          "start": -25
         },
         "yaxis": "y"
        },
        {
         "histfunc": "count",
         "marker": {
          "color": "maroon"
         },
         "showlegend": false,
         "type": "histogram",
         "x": [
          -7.641083333333333,
          -8.342483333333332,
          -7.914891666666667,
          -6.241016666666667,
          -4.429283333333333,
          -3.012491666666667,
          -2.855341666666667,
          -0.7663375,
          0.87565,
          2.4909125,
          -3.2177166666666666,
          -0.179275,
          1.1537375,
          -0.3,
          2.154141666666667,
          -2.41825,
          -5.650558333333334,
          -3.7466875,
          -5.895783333333333,
          -2.2895416666666666,
          -2.3626291666666663,
          -5.987595833333333,
          -5.728125,
          -5.1958375,
          -4.831283333333333,
          -5.004320833333334,
          -3.9918625,
          -4.1054375,
          -3.8211875,
          -3.7643,
          -1.7016666666666669,
          -2.138795833333333,
          -2.515295833333333,
          3.648395833333333,
          1.918425,
          -1.6845291666666666,
          1.834325,
          -3.2127375,
          -1.9730458333333332,
          -0.1292296296296296,
          -0.5075625,
          0.3867833333333333,
          1.5872666666666668,
          3.20375,
          2.1430208333333334
         ],
         "xaxis": "x",
         "xbins": {
          "end": 10,
          "start": -25
         },
         "yaxis": "y"
        },
        {
         "histfunc": "count",
         "marker": {
          "color": "navy"
         },
         "showlegend": false,
         "type": "histogram",
         "x": [
          -8.621583333333332,
          -10.212458333333332,
          -11.579958333333334,
          -13.475291666666667,
          -13.848529411764703,
          -13.403250000000002,
          -11.215166666666669,
          -4.2792,
          -6.799345833333334,
          -9.252066666666668,
          -10.438916666666668,
          -8.846833333333333,
          -7.592979166666667,
          -5.172979166666667,
          3.2102791666666666,
          2.9543291666666667,
          3.0721333333333334,
          2.1595416666666667,
          0.8493083333333333,
          -0.2911,
          0.2218625,
          0.595675,
          1.7832916666666667,
          2.690475,
          4.016095833333333,
          4.712545833333333,
          5.575495833333333,
          -0.2067999999999999,
          0.1915416666666666,
          0.5011458333333334,
          1.9662708333333327,
          -1.877,
          -2.2428250000000003,
          -8.364675,
          -6.8027,
          -2.1562208333333337,
          -1.466716666666667,
          -0.9233708333333334,
          -0.2198791666666666,
          -0.5551875000000001,
          -4.466620833333334,
          -3.8289208333333336,
          -2.231970464135021,
          -1.3900833333333331,
          -0.4650416666666667,
          1.3909083333333332,
          -3.1278583690987127,
          -2.71105,
          -3.39045,
          -3.9577,
          -4.4004125,
          -4.908516666666667,
          -6.9869,
          -7.0776,
          -6.917995833333333,
          -5.306670833333333,
          -4.811208333333334,
          -3.941045833333333,
          -5.329387499999999,
          -6.541995833333333,
          -12.218583333333331,
          -11.248208333333334,
          -8.9704625,
          -3.202525,
          -4.3444375,
          -5.928725,
          -9.158833333333332,
          -8.276958333333333,
          -8.333625,
          -7.576491666666667,
          -4.819791666666666,
          -6.476575,
          -7.721841666666666,
          -10.253291666666666,
          -9.278916666666667,
          -7.251645833333333,
          -5.673466666666667,
          -4.461133333333334,
          -4.994883333333333,
          -5.391425,
          -5.586004166666667,
          -5.623254166666666,
          -5.394191666666667,
          -5.1777125,
          -4.607033333333334,
          -3.807133333333333,
          -2.7764625,
          -2.5852416666666667,
          -2.9426666666666668,
          -2.9943083333333336,
          -2.8051166666666663,
          -3.3738916666666667,
          -4.075045833333333,
          -4.735241666666667,
          -9.025958333333334,
          -9.199791666666666,
          -6.3707875000000005,
          3.2786166666666667,
          0.1505583333333333,
          -2.141258333333333,
          -3.316345833333333,
          -4.654541666666666,
          -4.299370833333333,
          -1.8828958333333328,
          -8.418125,
          -8.55175,
          -8.123616666666667,
          -6.141983333333333,
          -6.116841666666667,
          -6.205395833333333,
          -5.465183333333333,
          -6.109415254237288,
          -6.779254166666666,
          -7.3840625,
          -8.082870833333333,
          -8.688370833333332,
          -8.348495833333333,
          -8.0129,
          -7.522466666666667,
          -7.263541666666667,
          -7.464029166666666,
          -6.412183333333333,
          -5.397316666666667,
          -5.798025,
          -6.357370833333333,
          -7.162583333333333,
          -7.572658333333334,
          -8.010195833333333,
          -7.940570833333334,
          -6.483341666666666,
          -0.6969416666666667,
          -2.7121666666666666,
          -3.167841666666667,
          -3.013054166666667,
          -3.4792375000000004,
          -1.2463333333333333,
          1.4503166666666667,
          -0.7334166666666667,
          -1.8811958333333332,
          -2.1415083333333333,
          -2.053554166666667,
          -2.238620833333333,
          -2.460783333333333,
          -2.5554125,
          -2.6784458333333334,
          -3.13545,
          -3.711316666666667,
          -3.856216666666666,
          -3.833629166666667,
          -4.132970833333333,
          -4.431433333333334,
          -5.903220833333333,
          -5.744108333333333,
          -5.305408333333333,
          -4.693391666666667,
          -4.1056875,
          -2.0696916666666665,
          -3.511133333333333,
          -4.53725,
          -4.914645833333334,
          -10.453526315789476,
          -2.9062208333333337,
          -2.9066458333333336,
          -2.6531458333333333,
          -2.0923333333333334,
          -1.3707916666666666,
          -2.370275,
          -2.1780375000000003,
          -1.8096166666666669,
          -1.2109875,
          -0.5381374999999999,
          -0.1189583333333333,
          1.4065125,
          -0.4841458333333334,
          -0.2329083333333333,
          0.5932458333333333,
          1.4184666666666668,
          0.8547166666666667,
          0.4711166666666667,
          0.4011333333333333,
          0.5516916666666667,
          0.7697291666666667,
          1.475025,
          1.6183541666666668,
          0.6532791666666667,
          -0.1125416666666666,
          -1.7557708333333333,
          -1.2533416666666668
         ],
         "xaxis": "x",
         "xbins": {
          "end": 10,
          "start": -25
         },
         "yaxis": "y"
        },
        {
         "histfunc": "count",
         "marker": {
          "color": "tomato"
         },
         "showlegend": false,
         "type": "histogram",
         "x": [
          2.645875,
          0.9587833333333332,
          1.625508333333333,
          2.4976541666666665,
          2.30625,
          2.510066666666667,
          2.3434666666666666,
          2.158533333333333,
          2.659675,
          2.6934166666666663,
          2.0468208333333333,
          2.3458875000000003,
          2.286945833333333,
          2.443104166666666,
          3.1422708333333333,
          1.2475738396624474,
          2.208733333333333,
          2.2192541666666665,
          2.607629166666667,
          2.3457541666666666,
          1.6948208333333334,
          2.349883333333333,
          2.0942708333333333,
          2.0864333333333334,
          2.052529166666667,
          1.9665416666666664,
          1.0764666666666665,
          1.3068166666666667,
          1.3741375,
          2.066075,
          2.3137,
          2.0170666666666666,
          2.4200833333333334,
          2.0637041666666667,
          2.3379958333333333,
          3.0640291666666664,
          2.9369666666666663,
          2.8532916666666663,
          2.717433333333333,
          2.180617021276596,
          2.559520833333333,
          2.6221548117154816,
          0.9735541666666666,
          1.6480416666666666,
          1.4273833333333334,
          1.7194041666666666
         ],
         "xaxis": "x2",
         "xbins": {
          "end": 15,
          "size": 1,
          "start": 0
         },
         "yaxis": "y2"
        },
        {
         "histfunc": "count",
         "marker": {
          "color": "maroon"
         },
         "showlegend": false,
         "type": "histogram",
         "x": [
          2.6693458333333333,
          3.3648208333333334,
          3.9923875,
          2.896720833333333,
          3.210175,
          1.5483041666666668,
          1.1893874999999998,
          1.8649833333333332,
          0.992975,
          1.3893916666666668,
          2.0117,
          1.1573708333333337,
          2.1842708333333336,
          1.9802458333333333,
          2.3188208333333336,
          2.1942541666666666,
          1.855775,
          1.8698375,
          0.9748083333333334,
          2.1126458333333336,
          1.7496541666666665,
          2.771125,
          2.299625,
          2.8680875,
          2.922991666666667,
          2.7645166666666667,
          2.593566666666667,
          3.0286416666666667,
          3.1441708333333334,
          2.6812875000000003,
          2.65135,
          3.3375583333333334,
          0.8211791666666667,
          1.9018,
          1.5206666666666666,
          0.5881333333333333,
          2.0431291666666667,
          2.820866666666667,
          2.8847666666666667,
          2.0335185185185183,
          1.6243416666666666,
          2.0015041666666664,
          2.0104291666666665,
          1.560375,
          0.7701250000000001
         ],
         "xaxis": "x2",
         "xbins": {
          "end": 15,
          "start": 0
         },
         "yaxis": "y2"
        },
        {
         "histfunc": "count",
         "marker": {
          "color": "navy"
         },
         "showlegend": false,
         "type": "histogram",
         "x": [
          2.6948541666666666,
          1.706025,
          1.1518083333333335,
          0.9527291666666666,
          5.681882352941177,
          5.271504166666667,
          4.6505,
          1.5697416666666666,
          1.5885916666666666,
          1.8400666666666663,
          1.7125041666666665,
          2.5209708333333336,
          2.5801333333333334,
          3.192683333333333,
          1.2018875,
          1.303583333333333,
          1.1723208333333337,
          1.1051833333333332,
          0.8361999999999999,
          0.6779833333333334,
          0.6831583333333333,
          0.7074041666666666,
          2.1381666666666663,
          2.1342875,
          1.485625,
          1.5136416666666668,
          1.088954166666667,
          1.3150458333333332,
          0.9501791666666668,
          0.5970375,
          1.6291166666666668,
          1.92505,
          2.3055708333333333,
          1.5601375,
          1.8719083333333333,
          0.3251125,
          0.4106041666666666,
          1.1472625,
          2.0879958333333333,
          2.3728583333333333,
          0.9580958333333334,
          1.2075791666666666,
          1.234278481012658,
          0.7134625,
          0.8850958333333333,
          0.7168541666666666,
          3.1234549356223176,
          2.2417708333333333,
          2.410425,
          2.401758333333333,
          2.35285,
          1.4119333333333333,
          1.3383083333333334,
          1.4766791666666668,
          1.353225,
          2.364679166666667,
          1.3205458333333333,
          1.6449375000000002,
          1.9854708333333333,
          1.4256458333333333,
          2.9258,
          3.125870833333333,
          2.198058333333333,
          1.9499375,
          1.3481583333333331,
          1.3995916666666666,
          0.8705916666666667,
          1.9911791666666665,
          1.7716625,
          1.6082875,
          2.4204,
          1.4457666666666666,
          1.4637458333333333,
          0.792875,
          0.7799166666666667,
          1.1366083333333334,
          1.5787,
          3.3749208333333334,
          3.1403958333333337,
          3.2226708333333334,
          3.3937000000000004,
          3.5826,
          2.239520833333333,
          2.10725,
          2.273845833333333,
          1.9596291666666663,
          2.434158333333333,
          2.9359458333333333,
          3.2653541666666666,
          3.198908333333333,
          2.2422375000000003,
          2.172845833333333,
          1.9509166666666669,
          1.4099,
          2.0103,
          2.076225,
          1.8799916666666665,
          1.4208958333333332,
          0.8984458333333334,
          0.6423875,
          1.322375,
          3.0364791666666666,
          2.8616,
          2.5486625,
          2.078308333333333,
          2.461708333333333,
          2.2024375000000003,
          2.0180208333333334,
          2.143375,
          2.3696083333333333,
          1.4481583333333332,
          1.3530466101694916,
          1.48285,
          1.0725083333333332,
          0.8743708333333333,
          1.990629166666667,
          1.9299291666666667,
          1.840975,
          1.9471041666666664,
          2.2814791666666663,
          1.7982875,
          2.36895,
          2.1117833333333333,
          2.2966041666666666,
          1.6539041666666667,
          1.7265083333333335,
          1.7632875,
          2.068725,
          0.76505,
          0.9282375,
          1.5763666666666665,
          0.4945541666666667,
          2.4609666666666663,
          3.322595833333333,
          4.749733333333333,
          4.860495833333333,
          3.915933333333333,
          2.8951333333333333,
          2.9296458333333333,
          2.8667875,
          2.6584416666666666,
          2.6376833333333334,
          2.3614125,
          2.6071250000000004,
          2.8693375,
          3.211516666666667,
          2.261095833333333,
          2.201825,
          2.3192,
          2.5609916666666668,
          1.4995125,
          1.2323708333333334,
          0.965525,
          1.0753,
          1.5915541666666668,
          2.5349541666666666,
          2.4086375,
          2.045408333333333,
          2.2123,
          1.8492083333333331,
          2.06368947368421,
          1.327704166666667,
          1.1816916666666666,
          1.4567416666666666,
          1.3336125,
          2.28145,
          1.2871916666666663,
          1.3190583333333334,
          1.2334083333333332,
          1.4813416666666666,
          1.9554916666666664,
          3.1576250000000003,
          2.0030916666666667,
          5.003150753768844,
          2.230833333333333,
          2.0132791666666665,
          2.2282541666666664,
          2.375008333333333,
          2.11155,
          1.3807416666666663,
          1.3372041666666663,
          1.9275875,
          1.3644208333333334,
          0.9639958333333334,
          1.5641500000000002,
          1.5417458333333334,
          0.7098291666666667,
          1.2437958333333334
         ],
         "xaxis": "x2",
         "xbins": {
          "end": 15,
          "start": 0
         },
         "yaxis": "y2"
        },
        {
         "histfunc": "count",
         "marker": {
          "color": "tomato"
         },
         "showlegend": false,
         "type": "histogram",
         "x": [
          -8.376616666666667,
          1.9687125,
          3.2367791666666665,
          1.3711791666666668,
          -0.5221791666666667,
          2.158104166666667,
          2.8465583333333333,
          -4.2037875,
          -3.0557125,
          -3.4685541666666664,
          -4.592866666666667,
          -3.941241666666667,
          -3.007283333333333,
          -2.3574083333333333,
          -4.824425000000001,
          0.1745611814345991,
          0.9012125,
          2.0903416666666668,
          2.6678625,
          3.1820250000000003,
          5.045329166666666,
          6.180345833333333,
          7.069091666666667,
          -6.362466666666666,
          -5.4056125,
          -5.1549625,
          -1.5446791666666668,
          -0.9441583333333332,
          0.335275,
          0.1266916666666666,
          0.9147791666666668,
          1.8131125,
          2.1129625,
          5.020120833333333,
          6.307933333333334,
          -2.177058333333333,
          -1.6942333333333333,
          -1.9626083333333333,
          -1.9813208333333332,
          0.3196170212765957,
          0.4636166666666667,
          1.626958158995816,
          3.865325,
          4.049008333333333,
          4.7681708333333335,
          4.717920833333333
         ],
         "xaxis": "x3",
         "xbins": {
          "end": 10,
          "size": 2,
          "start": -25
         },
         "yaxis": "y3"
        },
        {
         "histfunc": "count",
         "marker": {
          "color": "maroon"
         },
         "showlegend": false,
         "type": "histogram",
         "x": [
          -7.641083333333333,
          -8.342483333333332,
          -7.914891666666667,
          -6.241016666666667,
          -4.429283333333333,
          -3.012491666666667,
          -2.855341666666667,
          -0.7663375,
          0.87565,
          2.4909125,
          -3.2177166666666666,
          -0.179275,
          1.1537375,
          -0.3,
          2.154141666666667,
          -2.41825,
          -5.650558333333334,
          -3.7466875,
          -5.895783333333333,
          -2.2895416666666666,
          -2.3626291666666663,
          -5.987595833333333,
          -5.728125,
          -5.1958375,
          -4.831283333333333,
          -5.004320833333334,
          -3.9918625,
          -4.1054375,
          -3.8211875,
          -3.7643,
          -1.7016666666666669,
          -2.138795833333333,
          -2.515295833333333,
          3.648395833333333,
          1.918425,
          -1.6845291666666666,
          1.834325,
          -3.2127375,
          -1.9730458333333332,
          -0.1292296296296296,
          -0.5075625,
          0.3867833333333333,
          1.5872666666666668,
          3.20375,
          2.1430208333333334
         ],
         "xaxis": "x3",
         "xbins": {
          "end": 10,
          "start": -25
         },
         "yaxis": "y3"
        },
        {
         "histfunc": "count",
         "marker": {
          "color": "navy"
         },
         "showlegend": false,
         "type": "histogram",
         "x": [
          -8.621583333333332,
          -10.212458333333332,
          -11.579958333333334,
          -13.475291666666667,
          -13.848529411764703,
          -13.403250000000002,
          -11.215166666666669,
          -4.2792,
          -6.799345833333334,
          -9.252066666666668,
          -10.438916666666668,
          -8.846833333333333,
          -7.592979166666667,
          -5.172979166666667,
          3.2102791666666666,
          2.9543291666666667,
          3.0721333333333334,
          2.1595416666666667,
          0.8493083333333333,
          -0.2911,
          0.2218625,
          0.595675,
          1.7832916666666667,
          2.690475,
          4.016095833333333,
          4.712545833333333,
          5.575495833333333,
          -0.2067999999999999,
          0.1915416666666666,
          0.5011458333333334,
          1.9662708333333327,
          -1.877,
          -2.2428250000000003,
          -8.364675,
          -6.8027,
          -2.1562208333333337,
          -1.466716666666667,
          -0.9233708333333334,
          -0.2198791666666666,
          -0.5551875000000001,
          -4.466620833333334,
          -3.8289208333333336,
          -2.231970464135021,
          -1.3900833333333331,
          -0.4650416666666667,
          1.3909083333333332,
          -3.1278583690987127,
          -2.71105,
          -3.39045,
          -3.9577,
          -4.4004125,
          -4.908516666666667,
          -6.9869,
          -7.0776,
          -6.917995833333333,
          -5.306670833333333,
          -4.811208333333334,
          -3.941045833333333,
          -5.329387499999999,
          -6.541995833333333,
          -12.218583333333331,
          -11.248208333333334,
          -8.9704625,
          -3.202525,
          -4.3444375,
          -5.928725,
          -9.158833333333332,
          -8.276958333333333,
          -8.333625,
          -7.576491666666667,
          -4.819791666666666,
          -6.476575,
          -7.721841666666666,
          -10.253291666666666,
          -9.278916666666667,
          -7.251645833333333,
          -5.673466666666667,
          -4.461133333333334,
          -4.994883333333333,
          -5.391425,
          -5.586004166666667,
          -5.623254166666666,
          -5.394191666666667,
          -5.1777125,
          -4.607033333333334,
          -3.807133333333333,
          -2.7764625,
          -2.5852416666666667,
          -2.9426666666666668,
          -2.9943083333333336,
          -2.8051166666666663,
          -3.3738916666666667,
          -4.075045833333333,
          -4.735241666666667,
          -9.025958333333334,
          -9.199791666666666,
          -6.3707875000000005,
          3.2786166666666667,
          0.1505583333333333,
          -2.141258333333333,
          -3.316345833333333,
          -4.654541666666666,
          -4.299370833333333,
          -1.8828958333333328,
          -8.418125,
          -8.55175,
          -8.123616666666667,
          -6.141983333333333,
          -6.116841666666667,
          -6.205395833333333,
          -5.465183333333333,
          -6.109415254237288,
          -6.779254166666666,
          -7.3840625,
          -8.082870833333333,
          -8.688370833333332,
          -8.348495833333333,
          -8.0129,
          -7.522466666666667,
          -7.263541666666667,
          -7.464029166666666,
          -6.412183333333333,
          -5.397316666666667,
          -5.798025,
          -6.357370833333333,
          -7.162583333333333,
          -7.572658333333334,
          -8.010195833333333,
          -7.940570833333334,
          -6.483341666666666,
          -0.6969416666666667,
          -2.7121666666666666,
          -3.167841666666667,
          -3.013054166666667,
          -3.4792375000000004,
          -1.2463333333333333,
          1.4503166666666667,
          -0.7334166666666667,
          -1.8811958333333332,
          -2.1415083333333333,
          -2.053554166666667,
          -2.238620833333333,
          -2.460783333333333,
          -2.5554125,
          -2.6784458333333334,
          -3.13545,
          -3.711316666666667,
          -3.856216666666666,
          -3.833629166666667,
          -4.132970833333333,
          -4.431433333333334,
          -5.903220833333333,
          -5.744108333333333,
          -5.305408333333333,
          -4.693391666666667,
          -4.1056875,
          -2.0696916666666665,
          -3.511133333333333,
          -4.53725,
          -4.914645833333334,
          -10.453526315789476,
          -2.9062208333333337,
          -2.9066458333333336,
          -2.6531458333333333,
          -2.0923333333333334,
          -1.3707916666666666,
          -2.370275,
          -2.1780375000000003,
          -1.8096166666666669,
          -1.2109875,
          -0.5381374999999999,
          -0.1189583333333333,
          1.4065125,
          -0.4841458333333334,
          -0.2329083333333333,
          0.5932458333333333,
          1.4184666666666668,
          0.8547166666666667,
          0.4711166666666667,
          0.4011333333333333,
          0.5516916666666667,
          0.7697291666666667,
          1.475025,
          1.6183541666666668,
          0.6532791666666667,
          -0.1125416666666666,
          -1.7557708333333333,
          -1.2533416666666668
         ],
         "xaxis": "x3",
         "xbins": {
          "end": 10,
          "start": -25
         },
         "yaxis": "y3"
        },
        {
         "histfunc": "count",
         "marker": {
          "color": "tomato"
         },
         "showlegend": false,
         "type": "histogram",
         "x": [
          2.645875,
          0.9587833333333332,
          1.625508333333333,
          2.4976541666666665,
          2.30625,
          2.510066666666667,
          2.3434666666666666,
          2.158533333333333,
          2.659675,
          2.6934166666666663,
          2.0468208333333333,
          2.3458875000000003,
          2.286945833333333,
          2.443104166666666,
          3.1422708333333333,
          1.2475738396624474,
          2.208733333333333,
          2.2192541666666665,
          2.607629166666667,
          2.3457541666666666,
          1.6948208333333334,
          2.349883333333333,
          2.0942708333333333,
          2.0864333333333334,
          2.052529166666667,
          1.9665416666666664,
          1.0764666666666665,
          1.3068166666666667,
          1.3741375,
          2.066075,
          2.3137,
          2.0170666666666666,
          2.4200833333333334,
          2.0637041666666667,
          2.3379958333333333,
          3.0640291666666664,
          2.9369666666666663,
          2.8532916666666663,
          2.717433333333333,
          2.180617021276596,
          2.559520833333333,
          2.6221548117154816,
          0.9735541666666666,
          1.6480416666666666,
          1.4273833333333334,
          1.7194041666666666
         ],
         "xaxis": "x4",
         "xbins": {
          "end": 15,
          "size": 1,
          "start": 0
         },
         "yaxis": "y4"
        },
        {
         "histfunc": "count",
         "marker": {
          "color": "maroon"
         },
         "showlegend": false,
         "type": "histogram",
         "x": [
          2.6693458333333333,
          3.3648208333333334,
          3.9923875,
          2.896720833333333,
          3.210175,
          1.5483041666666668,
          1.1893874999999998,
          1.8649833333333332,
          0.992975,
          1.3893916666666668,
          2.0117,
          1.1573708333333337,
          2.1842708333333336,
          1.9802458333333333,
          2.3188208333333336,
          2.1942541666666666,
          1.855775,
          1.8698375,
          0.9748083333333334,
          2.1126458333333336,
          1.7496541666666665,
          2.771125,
          2.299625,
          2.8680875,
          2.922991666666667,
          2.7645166666666667,
          2.593566666666667,
          3.0286416666666667,
          3.1441708333333334,
          2.6812875000000003,
          2.65135,
          3.3375583333333334,
          0.8211791666666667,
          1.9018,
          1.5206666666666666,
          0.5881333333333333,
          2.0431291666666667,
          2.820866666666667,
          2.8847666666666667,
          2.0335185185185183,
          1.6243416666666666,
          2.0015041666666664,
          2.0104291666666665,
          1.560375,
          0.7701250000000001
         ],
         "xaxis": "x4",
         "xbins": {
          "end": 15,
          "start": 0
         },
         "yaxis": "y4"
        },
        {
         "histfunc": "count",
         "marker": {
          "color": "navy"
         },
         "showlegend": false,
         "type": "histogram",
         "x": [
          2.6948541666666666,
          1.706025,
          1.1518083333333335,
          0.9527291666666666,
          5.681882352941177,
          5.271504166666667,
          4.6505,
          1.5697416666666666,
          1.5885916666666666,
          1.8400666666666663,
          1.7125041666666665,
          2.5209708333333336,
          2.5801333333333334,
          3.192683333333333,
          1.2018875,
          1.303583333333333,
          1.1723208333333337,
          1.1051833333333332,
          0.8361999999999999,
          0.6779833333333334,
          0.6831583333333333,
          0.7074041666666666,
          2.1381666666666663,
          2.1342875,
          1.485625,
          1.5136416666666668,
          1.088954166666667,
          1.3150458333333332,
          0.9501791666666668,
          0.5970375,
          1.6291166666666668,
          1.92505,
          2.3055708333333333,
          1.5601375,
          1.8719083333333333,
          0.3251125,
          0.4106041666666666,
          1.1472625,
          2.0879958333333333,
          2.3728583333333333,
          0.9580958333333334,
          1.2075791666666666,
          1.234278481012658,
          0.7134625,
          0.8850958333333333,
          0.7168541666666666,
          3.1234549356223176,
          2.2417708333333333,
          2.410425,
          2.401758333333333,
          2.35285,
          1.4119333333333333,
          1.3383083333333334,
          1.4766791666666668,
          1.353225,
          2.364679166666667,
          1.3205458333333333,
          1.6449375000000002,
          1.9854708333333333,
          1.4256458333333333,
          2.9258,
          3.125870833333333,
          2.198058333333333,
          1.9499375,
          1.3481583333333331,
          1.3995916666666666,
          0.8705916666666667,
          1.9911791666666665,
          1.7716625,
          1.6082875,
          2.4204,
          1.4457666666666666,
          1.4637458333333333,
          0.792875,
          0.7799166666666667,
          1.1366083333333334,
          1.5787,
          3.3749208333333334,
          3.1403958333333337,
          3.2226708333333334,
          3.3937000000000004,
          3.5826,
          2.239520833333333,
          2.10725,
          2.273845833333333,
          1.9596291666666663,
          2.434158333333333,
          2.9359458333333333,
          3.2653541666666666,
          3.198908333333333,
          2.2422375000000003,
          2.172845833333333,
          1.9509166666666669,
          1.4099,
          2.0103,
          2.076225,
          1.8799916666666665,
          1.4208958333333332,
          0.8984458333333334,
          0.6423875,
          1.322375,
          3.0364791666666666,
          2.8616,
          2.5486625,
          2.078308333333333,
          2.461708333333333,
          2.2024375000000003,
          2.0180208333333334,
          2.143375,
          2.3696083333333333,
          1.4481583333333332,
          1.3530466101694916,
          1.48285,
          1.0725083333333332,
          0.8743708333333333,
          1.990629166666667,
          1.9299291666666667,
          1.840975,
          1.9471041666666664,
          2.2814791666666663,
          1.7982875,
          2.36895,
          2.1117833333333333,
          2.2966041666666666,
          1.6539041666666667,
          1.7265083333333335,
          1.7632875,
          2.068725,
          0.76505,
          0.9282375,
          1.5763666666666665,
          0.4945541666666667,
          2.4609666666666663,
          3.322595833333333,
          4.749733333333333,
          4.860495833333333,
          3.915933333333333,
          2.8951333333333333,
          2.9296458333333333,
          2.8667875,
          2.6584416666666666,
          2.6376833333333334,
          2.3614125,
          2.6071250000000004,
          2.8693375,
          3.211516666666667,
          2.261095833333333,
          2.201825,
          2.3192,
          2.5609916666666668,
          1.4995125,
          1.2323708333333334,
          0.965525,
          1.0753,
          1.5915541666666668,
          2.5349541666666666,
          2.4086375,
          2.045408333333333,
          2.2123,
          1.8492083333333331,
          2.06368947368421,
          1.327704166666667,
          1.1816916666666666,
          1.4567416666666666,
          1.3336125,
          2.28145,
          1.2871916666666663,
          1.3190583333333334,
          1.2334083333333332,
          1.4813416666666666,
          1.9554916666666664,
          3.1576250000000003,
          2.0030916666666667,
          5.003150753768844,
          2.230833333333333,
          2.0132791666666665,
          2.2282541666666664,
          2.375008333333333,
          2.11155,
          1.3807416666666663,
          1.3372041666666663,
          1.9275875,
          1.3644208333333334,
          0.9639958333333334,
          1.5641500000000002,
          1.5417458333333334,
          0.7098291666666667,
          1.2437958333333334
         ],
         "xaxis": "x4",
         "xbins": {
          "end": 15,
          "start": 0
         },
         "yaxis": "y4"
        }
       ],
       "layout": {
        "height": 400,
        "template": {
         "data": {
          "bar": [
           {
            "error_x": {
             "color": "#2a3f5f"
            },
            "error_y": {
             "color": "#2a3f5f"
            },
            "marker": {
             "line": {
              "color": "#E5ECF6",
              "width": 0.5
             },
             "pattern": {
              "fillmode": "overlay",
              "size": 10,
              "solidity": 0.2
             }
            },
            "type": "bar"
           }
          ],
          "barpolar": [
           {
            "marker": {
             "line": {
              "color": "#E5ECF6",
              "width": 0.5
             },
             "pattern": {
              "fillmode": "overlay",
              "size": 10,
              "solidity": 0.2
             }
            },
            "type": "barpolar"
           }
          ],
          "carpet": [
           {
            "aaxis": {
             "endlinecolor": "#2a3f5f",
             "gridcolor": "white",
             "linecolor": "white",
             "minorgridcolor": "white",
             "startlinecolor": "#2a3f5f"
            },
            "baxis": {
             "endlinecolor": "#2a3f5f",
             "gridcolor": "white",
             "linecolor": "white",
             "minorgridcolor": "white",
             "startlinecolor": "#2a3f5f"
            },
            "type": "carpet"
           }
          ],
          "choropleth": [
           {
            "colorbar": {
             "outlinewidth": 0,
             "ticks": ""
            },
            "type": "choropleth"
           }
          ],
          "contour": [
           {
            "colorbar": {
             "outlinewidth": 0,
             "ticks": ""
            },
            "colorscale": [
             [
              0,
              "#0d0887"
             ],
             [
              0.1111111111111111,
              "#46039f"
             ],
             [
              0.2222222222222222,
              "#7201a8"
             ],
             [
              0.3333333333333333,
              "#9c179e"
             ],
             [
              0.4444444444444444,
              "#bd3786"
             ],
             [
              0.5555555555555556,
              "#d8576b"
             ],
             [
              0.6666666666666666,
              "#ed7953"
             ],
             [
              0.7777777777777778,
              "#fb9f3a"
             ],
             [
              0.8888888888888888,
              "#fdca26"
             ],
             [
              1,
              "#f0f921"
             ]
            ],
            "type": "contour"
           }
          ],
          "contourcarpet": [
           {
            "colorbar": {
             "outlinewidth": 0,
             "ticks": ""
            },
            "type": "contourcarpet"
           }
          ],
          "heatmap": [
           {
            "colorbar": {
             "outlinewidth": 0,
             "ticks": ""
            },
            "colorscale": [
             [
              0,
              "#0d0887"
             ],
             [
              0.1111111111111111,
              "#46039f"
             ],
             [
              0.2222222222222222,
              "#7201a8"
             ],
             [
              0.3333333333333333,
              "#9c179e"
             ],
             [
              0.4444444444444444,
              "#bd3786"
             ],
             [
              0.5555555555555556,
              "#d8576b"
             ],
             [
              0.6666666666666666,
              "#ed7953"
             ],
             [
              0.7777777777777778,
              "#fb9f3a"
             ],
             [
              0.8888888888888888,
              "#fdca26"
             ],
             [
              1,
              "#f0f921"
             ]
            ],
            "type": "heatmap"
           }
          ],
          "heatmapgl": [
           {
            "colorbar": {
             "outlinewidth": 0,
             "ticks": ""
            },
            "colorscale": [
             [
              0,
              "#0d0887"
             ],
             [
              0.1111111111111111,
              "#46039f"
             ],
             [
              0.2222222222222222,
              "#7201a8"
             ],
             [
              0.3333333333333333,
              "#9c179e"
             ],
             [
              0.4444444444444444,
              "#bd3786"
             ],
             [
              0.5555555555555556,
              "#d8576b"
             ],
             [
              0.6666666666666666,
              "#ed7953"
             ],
             [
              0.7777777777777778,
              "#fb9f3a"
             ],
             [
              0.8888888888888888,
              "#fdca26"
             ],
             [
              1,
              "#f0f921"
             ]
            ],
            "type": "heatmapgl"
           }
          ],
          "histogram": [
           {
            "marker": {
             "pattern": {
              "fillmode": "overlay",
              "size": 10,
              "solidity": 0.2
             }
            },
            "type": "histogram"
           }
          ],
          "histogram2d": [
           {
            "colorbar": {
             "outlinewidth": 0,
             "ticks": ""
            },
            "colorscale": [
             [
              0,
              "#0d0887"
             ],
             [
              0.1111111111111111,
              "#46039f"
             ],
             [
              0.2222222222222222,
              "#7201a8"
             ],
             [
              0.3333333333333333,
              "#9c179e"
             ],
             [
              0.4444444444444444,
              "#bd3786"
             ],
             [
              0.5555555555555556,
              "#d8576b"
             ],
             [
              0.6666666666666666,
              "#ed7953"
             ],
             [
              0.7777777777777778,
              "#fb9f3a"
             ],
             [
              0.8888888888888888,
              "#fdca26"
             ],
             [
              1,
              "#f0f921"
             ]
            ],
            "type": "histogram2d"
           }
          ],
          "histogram2dcontour": [
           {
            "colorbar": {
             "outlinewidth": 0,
             "ticks": ""
            },
            "colorscale": [
             [
              0,
              "#0d0887"
             ],
             [
              0.1111111111111111,
              "#46039f"
             ],
             [
              0.2222222222222222,
              "#7201a8"
             ],
             [
              0.3333333333333333,
              "#9c179e"
             ],
             [
              0.4444444444444444,
              "#bd3786"
             ],
             [
              0.5555555555555556,
              "#d8576b"
             ],
             [
              0.6666666666666666,
              "#ed7953"
             ],
             [
              0.7777777777777778,
              "#fb9f3a"
             ],
             [
              0.8888888888888888,
              "#fdca26"
             ],
             [
              1,
              "#f0f921"
             ]
            ],
            "type": "histogram2dcontour"
           }
          ],
          "mesh3d": [
           {
            "colorbar": {
             "outlinewidth": 0,
             "ticks": ""
            },
            "type": "mesh3d"
           }
          ],
          "parcoords": [
           {
            "line": {
             "colorbar": {
              "outlinewidth": 0,
              "ticks": ""
             }
            },
            "type": "parcoords"
           }
          ],
          "pie": [
           {
            "automargin": true,
            "type": "pie"
           }
          ],
          "scatter": [
           {
            "marker": {
             "colorbar": {
              "outlinewidth": 0,
              "ticks": ""
             }
            },
            "type": "scatter"
           }
          ],
          "scatter3d": [
           {
            "line": {
             "colorbar": {
              "outlinewidth": 0,
              "ticks": ""
             }
            },
            "marker": {
             "colorbar": {
              "outlinewidth": 0,
              "ticks": ""
             }
            },
            "type": "scatter3d"
           }
          ],
          "scattercarpet": [
           {
            "marker": {
             "colorbar": {
              "outlinewidth": 0,
              "ticks": ""
             }
            },
            "type": "scattercarpet"
           }
          ],
          "scattergeo": [
           {
            "marker": {
             "colorbar": {
              "outlinewidth": 0,
              "ticks": ""
             }
            },
            "type": "scattergeo"
           }
          ],
          "scattergl": [
           {
            "marker": {
             "colorbar": {
              "outlinewidth": 0,
              "ticks": ""
             }
            },
            "type": "scattergl"
           }
          ],
          "scattermapbox": [
           {
            "marker": {
             "colorbar": {
              "outlinewidth": 0,
              "ticks": ""
             }
            },
            "type": "scattermapbox"
           }
          ],
          "scatterpolar": [
           {
            "marker": {
             "colorbar": {
              "outlinewidth": 0,
              "ticks": ""
             }
            },
            "type": "scatterpolar"
           }
          ],
          "scatterpolargl": [
           {
            "marker": {
             "colorbar": {
              "outlinewidth": 0,
              "ticks": ""
             }
            },
            "type": "scatterpolargl"
           }
          ],
          "scatterternary": [
           {
            "marker": {
             "colorbar": {
              "outlinewidth": 0,
              "ticks": ""
             }
            },
            "type": "scatterternary"
           }
          ],
          "surface": [
           {
            "colorbar": {
             "outlinewidth": 0,
             "ticks": ""
            },
            "colorscale": [
             [
              0,
              "#0d0887"
             ],
             [
              0.1111111111111111,
              "#46039f"
             ],
             [
              0.2222222222222222,
              "#7201a8"
             ],
             [
              0.3333333333333333,
              "#9c179e"
             ],
             [
              0.4444444444444444,
              "#bd3786"
             ],
             [
              0.5555555555555556,
              "#d8576b"
             ],
             [
              0.6666666666666666,
              "#ed7953"
             ],
             [
              0.7777777777777778,
              "#fb9f3a"
             ],
             [
              0.8888888888888888,
              "#fdca26"
             ],
             [
              1,
              "#f0f921"
             ]
            ],
            "type": "surface"
           }
          ],
          "table": [
           {
            "cells": {
             "fill": {
              "color": "#EBF0F8"
             },
             "line": {
              "color": "white"
             }
            },
            "header": {
             "fill": {
              "color": "#C8D4E3"
             },
             "line": {
              "color": "white"
             }
            },
            "type": "table"
           }
          ]
         },
         "layout": {
          "annotationdefaults": {
           "arrowcolor": "#2a3f5f",
           "arrowhead": 0,
           "arrowwidth": 1
          },
          "autotypenumbers": "strict",
          "coloraxis": {
           "colorbar": {
            "outlinewidth": 0,
            "ticks": ""
           }
          },
          "colorscale": {
           "diverging": [
            [
             0,
             "#8e0152"
            ],
            [
             0.1,
             "#c51b7d"
            ],
            [
             0.2,
             "#de77ae"
            ],
            [
             0.3,
             "#f1b6da"
            ],
            [
             0.4,
             "#fde0ef"
            ],
            [
             0.5,
             "#f7f7f7"
            ],
            [
             0.6,
             "#e6f5d0"
            ],
            [
             0.7,
             "#b8e186"
            ],
            [
             0.8,
             "#7fbc41"
            ],
            [
             0.9,
             "#4d9221"
            ],
            [
             1,
             "#276419"
            ]
           ],
           "sequential": [
            [
             0,
             "#0d0887"
            ],
            [
             0.1111111111111111,
             "#46039f"
            ],
            [
             0.2222222222222222,
             "#7201a8"
            ],
            [
             0.3333333333333333,
             "#9c179e"
            ],
            [
             0.4444444444444444,
             "#bd3786"
            ],
            [
             0.5555555555555556,
             "#d8576b"
            ],
            [
             0.6666666666666666,
             "#ed7953"
            ],
            [
             0.7777777777777778,
             "#fb9f3a"
            ],
            [
             0.8888888888888888,
             "#fdca26"
            ],
            [
             1,
             "#f0f921"
            ]
           ],
           "sequentialminus": [
            [
             0,
             "#0d0887"
            ],
            [
             0.1111111111111111,
             "#46039f"
            ],
            [
             0.2222222222222222,
             "#7201a8"
            ],
            [
             0.3333333333333333,
             "#9c179e"
            ],
            [
             0.4444444444444444,
             "#bd3786"
            ],
            [
             0.5555555555555556,
             "#d8576b"
            ],
            [
             0.6666666666666666,
             "#ed7953"
            ],
            [
             0.7777777777777778,
             "#fb9f3a"
            ],
            [
             0.8888888888888888,
             "#fdca26"
            ],
            [
             1,
             "#f0f921"
            ]
           ]
          },
          "colorway": [
           "#636efa",
           "#EF553B",
           "#00cc96",
           "#ab63fa",
           "#FFA15A",
           "#19d3f3",
           "#FF6692",
           "#B6E880",
           "#FF97FF",
           "#FECB52"
          ],
          "font": {
           "color": "#2a3f5f"
          },
          "geo": {
           "bgcolor": "white",
           "lakecolor": "white",
           "landcolor": "#E5ECF6",
           "showlakes": true,
           "showland": true,
           "subunitcolor": "white"
          },
          "hoverlabel": {
           "align": "left"
          },
          "hovermode": "closest",
          "mapbox": {
           "style": "light"
          },
          "paper_bgcolor": "white",
          "plot_bgcolor": "#E5ECF6",
          "polar": {
           "angularaxis": {
            "gridcolor": "white",
            "linecolor": "white",
            "ticks": ""
           },
           "bgcolor": "#E5ECF6",
           "radialaxis": {
            "gridcolor": "white",
            "linecolor": "white",
            "ticks": ""
           }
          },
          "scene": {
           "xaxis": {
            "backgroundcolor": "#E5ECF6",
            "gridcolor": "white",
            "gridwidth": 2,
            "linecolor": "white",
            "showbackground": true,
            "ticks": "",
            "zerolinecolor": "white"
           },
           "yaxis": {
            "backgroundcolor": "#E5ECF6",
            "gridcolor": "white",
            "gridwidth": 2,
            "linecolor": "white",
            "showbackground": true,
            "ticks": "",
            "zerolinecolor": "white"
           },
           "zaxis": {
            "backgroundcolor": "#E5ECF6",
            "gridcolor": "white",
            "gridwidth": 2,
            "linecolor": "white",
            "showbackground": true,
            "ticks": "",
            "zerolinecolor": "white"
           }
          },
          "shapedefaults": {
           "line": {
            "color": "#2a3f5f"
           }
          },
          "ternary": {
           "aaxis": {
            "gridcolor": "white",
            "linecolor": "white",
            "ticks": ""
           },
           "baxis": {
            "gridcolor": "white",
            "linecolor": "white",
            "ticks": ""
           },
           "bgcolor": "#E5ECF6",
           "caxis": {
            "gridcolor": "white",
            "linecolor": "white",
            "ticks": ""
           }
          },
          "title": {
           "x": 0.05
          },
          "xaxis": {
           "automargin": true,
           "gridcolor": "white",
           "linecolor": "white",
           "ticks": "",
           "title": {
            "standoff": 15
           },
           "zerolinecolor": "white",
           "zerolinewidth": 2
          },
          "yaxis": {
           "automargin": true,
           "gridcolor": "white",
           "linecolor": "white",
           "ticks": "",
           "title": {
            "standoff": 15
           },
           "zerolinecolor": "white",
           "zerolinewidth": 2
          }
         }
        },
        "title": {
         "text": ""
        },
        "width": 1300,
        "xaxis": {
         "anchor": "y",
         "domain": [
          0,
          0.49
         ],
         "range": [
          -25,
          15
         ],
         "type": "linear",
         "visible": false
        },
        "xaxis2": {
         "anchor": "y2",
         "domain": [
          0.51,
          1
         ],
         "range": [
          0,
          15
         ],
         "type": "linear",
         "visible": false
        },
        "xaxis3": {
         "anchor": "y3",
         "domain": [
          0,
          0.49
         ],
         "range": [
          -25,
          15
         ],
         "title": {
          "text": "Temperature (C)"
         },
         "type": "linear"
        },
        "xaxis4": {
         "anchor": "y4",
         "domain": [
          0.51,
          1
         ],
         "range": [
          0,
          15
         ],
         "title": {
          "text": "Wind Speed (m/s)"
         },
         "type": "linear"
        },
        "yaxis": {
         "anchor": "x",
         "domain": [
          0.515,
          1
         ],
         "range": [
          100,
          150
         ],
         "title": {
          "text": ""
         }
        },
        "yaxis2": {
         "anchor": "x2",
         "domain": [
          0.515,
          1
         ],
         "matches": "y",
         "showticklabels": false
        },
        "yaxis3": {
         "anchor": "x3",
         "domain": [
          0,
          0.485
         ],
         "range": [
          -0.05,
          50
         ],
         "title": {
          "text": "<b> All Data</b> <br> total # of obs in each bin"
         }
        },
        "yaxis4": {
         "anchor": "x4",
         "domain": [
          0,
          0.485
         ],
         "matches": "y3",
         "showticklabels": false
        }
       }
      },
      "text/html": [
       "<div>                            <div id=\"d4f0c8d2-24c9-421b-acae-3387ba3d7203\" class=\"plotly-graph-div\" style=\"height:400px; width:1300px;\"></div>            <script type=\"text/javascript\">                require([\"plotly\"], function(Plotly) {                    window.PLOTLYENV=window.PLOTLYENV || {};                                    if (document.getElementById(\"d4f0c8d2-24c9-421b-acae-3387ba3d7203\")) {                    Plotly.newPlot(                        \"d4f0c8d2-24c9-421b-acae-3387ba3d7203\",                        [{\"autobinx\":false,\"histfunc\":\"count\",\"marker\":{\"color\":\"tomato\"},\"showlegend\":false,\"type\":\"histogram\",\"x\":[-8.376616666666667,1.9687125,3.2367791666666665,1.3711791666666668,-0.5221791666666667,2.158104166666667,2.8465583333333333,-4.2037875,-3.0557125,-3.4685541666666664,-4.592866666666667,-3.941241666666667,-3.007283333333333,-2.3574083333333333,-4.824425000000001,0.1745611814345991,0.9012125,2.0903416666666668,2.6678625,3.1820250000000003,5.045329166666666,6.180345833333333,7.069091666666667,-6.362466666666666,-5.4056125,-5.1549625,-1.5446791666666668,-0.9441583333333332,0.335275,0.1266916666666666,0.9147791666666668,1.8131125,2.1129625,5.020120833333333,6.307933333333334,-2.177058333333333,-1.6942333333333333,-1.9626083333333333,-1.9813208333333332,0.3196170212765957,0.4636166666666667,1.626958158995816,3.865325,4.049008333333333,4.7681708333333335,4.717920833333333],\"xaxis\":\"x\",\"xbins\":{\"end\":10,\"size\":2,\"start\":-25},\"yaxis\":\"y\"},{\"autobinx\":false,\"histfunc\":\"count\",\"marker\":{\"color\":\"maroon\"},\"showlegend\":false,\"type\":\"histogram\",\"x\":[-7.641083333333333,-8.342483333333332,-7.914891666666667,-6.241016666666667,-4.429283333333333,-3.012491666666667,-2.855341666666667,-0.7663375,0.87565,2.4909125,-3.2177166666666666,-0.179275,1.1537375,-0.3,2.154141666666667,-2.41825,-5.650558333333334,-3.7466875,-5.895783333333333,-2.2895416666666666,-2.3626291666666663,-5.987595833333333,-5.728125,-5.1958375,-4.831283333333333,-5.004320833333334,-3.9918625,-4.1054375,-3.8211875,-3.7643,-1.7016666666666669,-2.138795833333333,-2.515295833333333,3.648395833333333,1.918425,-1.6845291666666666,1.834325,-3.2127375,-1.9730458333333332,-0.1292296296296296,-0.5075625,0.3867833333333333,1.5872666666666668,3.20375,2.1430208333333334],\"xaxis\":\"x\",\"xbins\":{\"end\":10,\"size\":2,\"start\":-25},\"yaxis\":\"y\"},{\"autobinx\":false,\"histfunc\":\"count\",\"marker\":{\"color\":\"navy\"},\"showlegend\":false,\"type\":\"histogram\",\"x\":[-8.621583333333332,-10.212458333333332,-11.579958333333334,-13.475291666666667,-13.848529411764703,-13.403250000000002,-11.215166666666669,-4.2792,-6.799345833333334,-9.252066666666668,-10.438916666666668,-8.846833333333333,-7.592979166666667,-5.172979166666667,3.2102791666666666,2.9543291666666667,3.0721333333333334,2.1595416666666667,0.8493083333333333,-0.2911,0.2218625,0.595675,1.7832916666666667,2.690475,4.016095833333333,4.712545833333333,5.575495833333333,-0.2067999999999999,0.1915416666666666,0.5011458333333334,1.9662708333333327,-1.877,-2.2428250000000003,-8.364675,-6.8027,-2.1562208333333337,-1.466716666666667,-0.9233708333333334,-0.2198791666666666,-0.5551875000000001,-4.466620833333334,-3.8289208333333336,-2.231970464135021,-1.3900833333333331,-0.4650416666666667,1.3909083333333332,-3.1278583690987127,-2.71105,-3.39045,-3.9577,-4.4004125,-4.908516666666667,-6.9869,-7.0776,-6.917995833333333,-5.306670833333333,-4.811208333333334,-3.941045833333333,-5.329387499999999,-6.541995833333333,-12.218583333333331,-11.248208333333334,-8.9704625,-3.202525,-4.3444375,-5.928725,-9.158833333333332,-8.276958333333333,-8.333625,-7.576491666666667,-4.819791666666666,-6.476575,-7.721841666666666,-10.253291666666666,-9.278916666666667,-7.251645833333333,-5.673466666666667,-4.461133333333334,-4.994883333333333,-5.391425,-5.586004166666667,-5.623254166666666,-5.394191666666667,-5.1777125,-4.607033333333334,-3.807133333333333,-2.7764625,-2.5852416666666667,-2.9426666666666668,-2.9943083333333336,-2.8051166666666663,-3.3738916666666667,-4.075045833333333,-4.735241666666667,-9.025958333333334,-9.199791666666666,-6.3707875000000005,3.2786166666666667,0.1505583333333333,-2.141258333333333,-3.316345833333333,-4.654541666666666,-4.299370833333333,-1.8828958333333328,-8.418125,-8.55175,-8.123616666666667,-6.141983333333333,-6.116841666666667,-6.205395833333333,-5.465183333333333,-6.109415254237288,-6.779254166666666,-7.3840625,-8.082870833333333,-8.688370833333332,-8.348495833333333,-8.0129,-7.522466666666667,-7.263541666666667,-7.464029166666666,-6.412183333333333,-5.397316666666667,-5.798025,-6.357370833333333,-7.162583333333333,-7.572658333333334,-8.010195833333333,-7.940570833333334,-6.483341666666666,-0.6969416666666667,-2.7121666666666666,-3.167841666666667,-3.013054166666667,-3.4792375000000004,-1.2463333333333333,1.4503166666666667,-0.7334166666666667,-1.8811958333333332,-2.1415083333333333,-2.053554166666667,-2.238620833333333,-2.460783333333333,-2.5554125,-2.6784458333333334,-3.13545,-3.711316666666667,-3.856216666666666,-3.833629166666667,-4.132970833333333,-4.431433333333334,-5.903220833333333,-5.744108333333333,-5.305408333333333,-4.693391666666667,-4.1056875,-2.0696916666666665,-3.511133333333333,-4.53725,-4.914645833333334,-10.453526315789476,-2.9062208333333337,-2.9066458333333336,-2.6531458333333333,-2.0923333333333334,-1.3707916666666666,-2.370275,-2.1780375000000003,-1.8096166666666669,-1.2109875,-0.5381374999999999,-0.1189583333333333,1.4065125,-0.4841458333333334,-0.2329083333333333,0.5932458333333333,1.4184666666666668,0.8547166666666667,0.4711166666666667,0.4011333333333333,0.5516916666666667,0.7697291666666667,1.475025,1.6183541666666668,0.6532791666666667,-0.1125416666666666,-1.7557708333333333,-1.2533416666666668],\"xaxis\":\"x\",\"xbins\":{\"end\":10,\"size\":2,\"start\":-25},\"yaxis\":\"y\"},{\"autobinx\":false,\"histfunc\":\"count\",\"marker\":{\"color\":\"tomato\"},\"showlegend\":false,\"type\":\"histogram\",\"x\":[2.645875,0.9587833333333332,1.625508333333333,2.4976541666666665,2.30625,2.510066666666667,2.3434666666666666,2.158533333333333,2.659675,2.6934166666666663,2.0468208333333333,2.3458875000000003,2.286945833333333,2.443104166666666,3.1422708333333333,1.2475738396624474,2.208733333333333,2.2192541666666665,2.607629166666667,2.3457541666666666,1.6948208333333334,2.349883333333333,2.0942708333333333,2.0864333333333334,2.052529166666667,1.9665416666666664,1.0764666666666665,1.3068166666666667,1.3741375,2.066075,2.3137,2.0170666666666666,2.4200833333333334,2.0637041666666667,2.3379958333333333,3.0640291666666664,2.9369666666666663,2.8532916666666663,2.717433333333333,2.180617021276596,2.559520833333333,2.6221548117154816,0.9735541666666666,1.6480416666666666,1.4273833333333334,1.7194041666666666],\"xaxis\":\"x2\",\"xbins\":{\"end\":15,\"size\":1,\"start\":0},\"yaxis\":\"y2\"},{\"autobinx\":false,\"histfunc\":\"count\",\"marker\":{\"color\":\"maroon\"},\"showlegend\":false,\"type\":\"histogram\",\"x\":[2.6693458333333333,3.3648208333333334,3.9923875,2.896720833333333,3.210175,1.5483041666666668,1.1893874999999998,1.8649833333333332,0.992975,1.3893916666666668,2.0117,1.1573708333333337,2.1842708333333336,1.9802458333333333,2.3188208333333336,2.1942541666666666,1.855775,1.8698375,0.9748083333333334,2.1126458333333336,1.7496541666666665,2.771125,2.299625,2.8680875,2.922991666666667,2.7645166666666667,2.593566666666667,3.0286416666666667,3.1441708333333334,2.6812875000000003,2.65135,3.3375583333333334,0.8211791666666667,1.9018,1.5206666666666666,0.5881333333333333,2.0431291666666667,2.820866666666667,2.8847666666666667,2.0335185185185183,1.6243416666666666,2.0015041666666664,2.0104291666666665,1.560375,0.7701250000000001],\"xaxis\":\"x2\",\"xbins\":{\"end\":15,\"size\":1,\"start\":0},\"yaxis\":\"y2\"},{\"autobinx\":false,\"histfunc\":\"count\",\"marker\":{\"color\":\"navy\"},\"showlegend\":false,\"type\":\"histogram\",\"x\":[2.6948541666666666,1.706025,1.1518083333333335,0.9527291666666666,5.681882352941177,5.271504166666667,4.6505,1.5697416666666666,1.5885916666666666,1.8400666666666663,1.7125041666666665,2.5209708333333336,2.5801333333333334,3.192683333333333,1.2018875,1.303583333333333,1.1723208333333337,1.1051833333333332,0.8361999999999999,0.6779833333333334,0.6831583333333333,0.7074041666666666,2.1381666666666663,2.1342875,1.485625,1.5136416666666668,1.088954166666667,1.3150458333333332,0.9501791666666668,0.5970375,1.6291166666666668,1.92505,2.3055708333333333,1.5601375,1.8719083333333333,0.3251125,0.4106041666666666,1.1472625,2.0879958333333333,2.3728583333333333,0.9580958333333334,1.2075791666666666,1.234278481012658,0.7134625,0.8850958333333333,0.7168541666666666,3.1234549356223176,2.2417708333333333,2.410425,2.401758333333333,2.35285,1.4119333333333333,1.3383083333333334,1.4766791666666668,1.353225,2.364679166666667,1.3205458333333333,1.6449375000000002,1.9854708333333333,1.4256458333333333,2.9258,3.125870833333333,2.198058333333333,1.9499375,1.3481583333333331,1.3995916666666666,0.8705916666666667,1.9911791666666665,1.7716625,1.6082875,2.4204,1.4457666666666666,1.4637458333333333,0.792875,0.7799166666666667,1.1366083333333334,1.5787,3.3749208333333334,3.1403958333333337,3.2226708333333334,3.3937000000000004,3.5826,2.239520833333333,2.10725,2.273845833333333,1.9596291666666663,2.434158333333333,2.9359458333333333,3.2653541666666666,3.198908333333333,2.2422375000000003,2.172845833333333,1.9509166666666669,1.4099,2.0103,2.076225,1.8799916666666665,1.4208958333333332,0.8984458333333334,0.6423875,1.322375,3.0364791666666666,2.8616,2.5486625,2.078308333333333,2.461708333333333,2.2024375000000003,2.0180208333333334,2.143375,2.3696083333333333,1.4481583333333332,1.3530466101694916,1.48285,1.0725083333333332,0.8743708333333333,1.990629166666667,1.9299291666666667,1.840975,1.9471041666666664,2.2814791666666663,1.7982875,2.36895,2.1117833333333333,2.2966041666666666,1.6539041666666667,1.7265083333333335,1.7632875,2.068725,0.76505,0.9282375,1.5763666666666665,0.4945541666666667,2.4609666666666663,3.322595833333333,4.749733333333333,4.860495833333333,3.915933333333333,2.8951333333333333,2.9296458333333333,2.8667875,2.6584416666666666,2.6376833333333334,2.3614125,2.6071250000000004,2.8693375,3.211516666666667,2.261095833333333,2.201825,2.3192,2.5609916666666668,1.4995125,1.2323708333333334,0.965525,1.0753,1.5915541666666668,2.5349541666666666,2.4086375,2.045408333333333,2.2123,1.8492083333333331,2.06368947368421,1.327704166666667,1.1816916666666666,1.4567416666666666,1.3336125,2.28145,1.2871916666666663,1.3190583333333334,1.2334083333333332,1.4813416666666666,1.9554916666666664,3.1576250000000003,2.0030916666666667,5.003150753768844,2.230833333333333,2.0132791666666665,2.2282541666666664,2.375008333333333,2.11155,1.3807416666666663,1.3372041666666663,1.9275875,1.3644208333333334,0.9639958333333334,1.5641500000000002,1.5417458333333334,0.7098291666666667,1.2437958333333334],\"xaxis\":\"x2\",\"xbins\":{\"end\":15,\"size\":1,\"start\":0},\"yaxis\":\"y2\"},{\"autobinx\":false,\"histfunc\":\"count\",\"marker\":{\"color\":\"tomato\"},\"showlegend\":false,\"type\":\"histogram\",\"x\":[-8.376616666666667,1.9687125,3.2367791666666665,1.3711791666666668,-0.5221791666666667,2.158104166666667,2.8465583333333333,-4.2037875,-3.0557125,-3.4685541666666664,-4.592866666666667,-3.941241666666667,-3.007283333333333,-2.3574083333333333,-4.824425000000001,0.1745611814345991,0.9012125,2.0903416666666668,2.6678625,3.1820250000000003,5.045329166666666,6.180345833333333,7.069091666666667,-6.362466666666666,-5.4056125,-5.1549625,-1.5446791666666668,-0.9441583333333332,0.335275,0.1266916666666666,0.9147791666666668,1.8131125,2.1129625,5.020120833333333,6.307933333333334,-2.177058333333333,-1.6942333333333333,-1.9626083333333333,-1.9813208333333332,0.3196170212765957,0.4636166666666667,1.626958158995816,3.865325,4.049008333333333,4.7681708333333335,4.717920833333333],\"xaxis\":\"x3\",\"xbins\":{\"end\":10,\"size\":2,\"start\":-25},\"yaxis\":\"y3\"},{\"autobinx\":false,\"histfunc\":\"count\",\"marker\":{\"color\":\"maroon\"},\"showlegend\":false,\"type\":\"histogram\",\"x\":[-7.641083333333333,-8.342483333333332,-7.914891666666667,-6.241016666666667,-4.429283333333333,-3.012491666666667,-2.855341666666667,-0.7663375,0.87565,2.4909125,-3.2177166666666666,-0.179275,1.1537375,-0.3,2.154141666666667,-2.41825,-5.650558333333334,-3.7466875,-5.895783333333333,-2.2895416666666666,-2.3626291666666663,-5.987595833333333,-5.728125,-5.1958375,-4.831283333333333,-5.004320833333334,-3.9918625,-4.1054375,-3.8211875,-3.7643,-1.7016666666666669,-2.138795833333333,-2.515295833333333,3.648395833333333,1.918425,-1.6845291666666666,1.834325,-3.2127375,-1.9730458333333332,-0.1292296296296296,-0.5075625,0.3867833333333333,1.5872666666666668,3.20375,2.1430208333333334],\"xaxis\":\"x3\",\"xbins\":{\"end\":10,\"size\":2,\"start\":-25},\"yaxis\":\"y3\"},{\"autobinx\":false,\"histfunc\":\"count\",\"marker\":{\"color\":\"navy\"},\"showlegend\":false,\"type\":\"histogram\",\"x\":[-8.621583333333332,-10.212458333333332,-11.579958333333334,-13.475291666666667,-13.848529411764703,-13.403250000000002,-11.215166666666669,-4.2792,-6.799345833333334,-9.252066666666668,-10.438916666666668,-8.846833333333333,-7.592979166666667,-5.172979166666667,3.2102791666666666,2.9543291666666667,3.0721333333333334,2.1595416666666667,0.8493083333333333,-0.2911,0.2218625,0.595675,1.7832916666666667,2.690475,4.016095833333333,4.712545833333333,5.575495833333333,-0.2067999999999999,0.1915416666666666,0.5011458333333334,1.9662708333333327,-1.877,-2.2428250000000003,-8.364675,-6.8027,-2.1562208333333337,-1.466716666666667,-0.9233708333333334,-0.2198791666666666,-0.5551875000000001,-4.466620833333334,-3.8289208333333336,-2.231970464135021,-1.3900833333333331,-0.4650416666666667,1.3909083333333332,-3.1278583690987127,-2.71105,-3.39045,-3.9577,-4.4004125,-4.908516666666667,-6.9869,-7.0776,-6.917995833333333,-5.306670833333333,-4.811208333333334,-3.941045833333333,-5.329387499999999,-6.541995833333333,-12.218583333333331,-11.248208333333334,-8.9704625,-3.202525,-4.3444375,-5.928725,-9.158833333333332,-8.276958333333333,-8.333625,-7.576491666666667,-4.819791666666666,-6.476575,-7.721841666666666,-10.253291666666666,-9.278916666666667,-7.251645833333333,-5.673466666666667,-4.461133333333334,-4.994883333333333,-5.391425,-5.586004166666667,-5.623254166666666,-5.394191666666667,-5.1777125,-4.607033333333334,-3.807133333333333,-2.7764625,-2.5852416666666667,-2.9426666666666668,-2.9943083333333336,-2.8051166666666663,-3.3738916666666667,-4.075045833333333,-4.735241666666667,-9.025958333333334,-9.199791666666666,-6.3707875000000005,3.2786166666666667,0.1505583333333333,-2.141258333333333,-3.316345833333333,-4.654541666666666,-4.299370833333333,-1.8828958333333328,-8.418125,-8.55175,-8.123616666666667,-6.141983333333333,-6.116841666666667,-6.205395833333333,-5.465183333333333,-6.109415254237288,-6.779254166666666,-7.3840625,-8.082870833333333,-8.688370833333332,-8.348495833333333,-8.0129,-7.522466666666667,-7.263541666666667,-7.464029166666666,-6.412183333333333,-5.397316666666667,-5.798025,-6.357370833333333,-7.162583333333333,-7.572658333333334,-8.010195833333333,-7.940570833333334,-6.483341666666666,-0.6969416666666667,-2.7121666666666666,-3.167841666666667,-3.013054166666667,-3.4792375000000004,-1.2463333333333333,1.4503166666666667,-0.7334166666666667,-1.8811958333333332,-2.1415083333333333,-2.053554166666667,-2.238620833333333,-2.460783333333333,-2.5554125,-2.6784458333333334,-3.13545,-3.711316666666667,-3.856216666666666,-3.833629166666667,-4.132970833333333,-4.431433333333334,-5.903220833333333,-5.744108333333333,-5.305408333333333,-4.693391666666667,-4.1056875,-2.0696916666666665,-3.511133333333333,-4.53725,-4.914645833333334,-10.453526315789476,-2.9062208333333337,-2.9066458333333336,-2.6531458333333333,-2.0923333333333334,-1.3707916666666666,-2.370275,-2.1780375000000003,-1.8096166666666669,-1.2109875,-0.5381374999999999,-0.1189583333333333,1.4065125,-0.4841458333333334,-0.2329083333333333,0.5932458333333333,1.4184666666666668,0.8547166666666667,0.4711166666666667,0.4011333333333333,0.5516916666666667,0.7697291666666667,1.475025,1.6183541666666668,0.6532791666666667,-0.1125416666666666,-1.7557708333333333,-1.2533416666666668],\"xaxis\":\"x3\",\"xbins\":{\"end\":10,\"size\":2,\"start\":-25},\"yaxis\":\"y3\"},{\"autobinx\":false,\"histfunc\":\"count\",\"marker\":{\"color\":\"tomato\"},\"showlegend\":false,\"type\":\"histogram\",\"x\":[2.645875,0.9587833333333332,1.625508333333333,2.4976541666666665,2.30625,2.510066666666667,2.3434666666666666,2.158533333333333,2.659675,2.6934166666666663,2.0468208333333333,2.3458875000000003,2.286945833333333,2.443104166666666,3.1422708333333333,1.2475738396624474,2.208733333333333,2.2192541666666665,2.607629166666667,2.3457541666666666,1.6948208333333334,2.349883333333333,2.0942708333333333,2.0864333333333334,2.052529166666667,1.9665416666666664,1.0764666666666665,1.3068166666666667,1.3741375,2.066075,2.3137,2.0170666666666666,2.4200833333333334,2.0637041666666667,2.3379958333333333,3.0640291666666664,2.9369666666666663,2.8532916666666663,2.717433333333333,2.180617021276596,2.559520833333333,2.6221548117154816,0.9735541666666666,1.6480416666666666,1.4273833333333334,1.7194041666666666],\"xaxis\":\"x4\",\"xbins\":{\"end\":15,\"size\":1,\"start\":0},\"yaxis\":\"y4\"},{\"autobinx\":false,\"histfunc\":\"count\",\"marker\":{\"color\":\"maroon\"},\"showlegend\":false,\"type\":\"histogram\",\"x\":[2.6693458333333333,3.3648208333333334,3.9923875,2.896720833333333,3.210175,1.5483041666666668,1.1893874999999998,1.8649833333333332,0.992975,1.3893916666666668,2.0117,1.1573708333333337,2.1842708333333336,1.9802458333333333,2.3188208333333336,2.1942541666666666,1.855775,1.8698375,0.9748083333333334,2.1126458333333336,1.7496541666666665,2.771125,2.299625,2.8680875,2.922991666666667,2.7645166666666667,2.593566666666667,3.0286416666666667,3.1441708333333334,2.6812875000000003,2.65135,3.3375583333333334,0.8211791666666667,1.9018,1.5206666666666666,0.5881333333333333,2.0431291666666667,2.820866666666667,2.8847666666666667,2.0335185185185183,1.6243416666666666,2.0015041666666664,2.0104291666666665,1.560375,0.7701250000000001],\"xaxis\":\"x4\",\"xbins\":{\"end\":15,\"size\":1,\"start\":0},\"yaxis\":\"y4\"},{\"autobinx\":false,\"histfunc\":\"count\",\"marker\":{\"color\":\"navy\"},\"showlegend\":false,\"type\":\"histogram\",\"x\":[2.6948541666666666,1.706025,1.1518083333333335,0.9527291666666666,5.681882352941177,5.271504166666667,4.6505,1.5697416666666666,1.5885916666666666,1.8400666666666663,1.7125041666666665,2.5209708333333336,2.5801333333333334,3.192683333333333,1.2018875,1.303583333333333,1.1723208333333337,1.1051833333333332,0.8361999999999999,0.6779833333333334,0.6831583333333333,0.7074041666666666,2.1381666666666663,2.1342875,1.485625,1.5136416666666668,1.088954166666667,1.3150458333333332,0.9501791666666668,0.5970375,1.6291166666666668,1.92505,2.3055708333333333,1.5601375,1.8719083333333333,0.3251125,0.4106041666666666,1.1472625,2.0879958333333333,2.3728583333333333,0.9580958333333334,1.2075791666666666,1.234278481012658,0.7134625,0.8850958333333333,0.7168541666666666,3.1234549356223176,2.2417708333333333,2.410425,2.401758333333333,2.35285,1.4119333333333333,1.3383083333333334,1.4766791666666668,1.353225,2.364679166666667,1.3205458333333333,1.6449375000000002,1.9854708333333333,1.4256458333333333,2.9258,3.125870833333333,2.198058333333333,1.9499375,1.3481583333333331,1.3995916666666666,0.8705916666666667,1.9911791666666665,1.7716625,1.6082875,2.4204,1.4457666666666666,1.4637458333333333,0.792875,0.7799166666666667,1.1366083333333334,1.5787,3.3749208333333334,3.1403958333333337,3.2226708333333334,3.3937000000000004,3.5826,2.239520833333333,2.10725,2.273845833333333,1.9596291666666663,2.434158333333333,2.9359458333333333,3.2653541666666666,3.198908333333333,2.2422375000000003,2.172845833333333,1.9509166666666669,1.4099,2.0103,2.076225,1.8799916666666665,1.4208958333333332,0.8984458333333334,0.6423875,1.322375,3.0364791666666666,2.8616,2.5486625,2.078308333333333,2.461708333333333,2.2024375000000003,2.0180208333333334,2.143375,2.3696083333333333,1.4481583333333332,1.3530466101694916,1.48285,1.0725083333333332,0.8743708333333333,1.990629166666667,1.9299291666666667,1.840975,1.9471041666666664,2.2814791666666663,1.7982875,2.36895,2.1117833333333333,2.2966041666666666,1.6539041666666667,1.7265083333333335,1.7632875,2.068725,0.76505,0.9282375,1.5763666666666665,0.4945541666666667,2.4609666666666663,3.322595833333333,4.749733333333333,4.860495833333333,3.915933333333333,2.8951333333333333,2.9296458333333333,2.8667875,2.6584416666666666,2.6376833333333334,2.3614125,2.6071250000000004,2.8693375,3.211516666666667,2.261095833333333,2.201825,2.3192,2.5609916666666668,1.4995125,1.2323708333333334,0.965525,1.0753,1.5915541666666668,2.5349541666666666,2.4086375,2.045408333333333,2.2123,1.8492083333333331,2.06368947368421,1.327704166666667,1.1816916666666666,1.4567416666666666,1.3336125,2.28145,1.2871916666666663,1.3190583333333334,1.2334083333333332,1.4813416666666666,1.9554916666666664,3.1576250000000003,2.0030916666666667,5.003150753768844,2.230833333333333,2.0132791666666665,2.2282541666666664,2.375008333333333,2.11155,1.3807416666666663,1.3372041666666663,1.9275875,1.3644208333333334,0.9639958333333334,1.5641500000000002,1.5417458333333334,0.7098291666666667,1.2437958333333334],\"xaxis\":\"x4\",\"xbins\":{\"end\":15,\"size\":1,\"start\":0},\"yaxis\":\"y4\"}],                        {\"height\":400,\"template\":{\"data\":{\"bar\":[{\"error_x\":{\"color\":\"#2a3f5f\"},\"error_y\":{\"color\":\"#2a3f5f\"},\"marker\":{\"line\":{\"color\":\"#E5ECF6\",\"width\":0.5},\"pattern\":{\"fillmode\":\"overlay\",\"size\":10,\"solidity\":0.2}},\"type\":\"bar\"}],\"barpolar\":[{\"marker\":{\"line\":{\"color\":\"#E5ECF6\",\"width\":0.5},\"pattern\":{\"fillmode\":\"overlay\",\"size\":10,\"solidity\":0.2}},\"type\":\"barpolar\"}],\"carpet\":[{\"aaxis\":{\"endlinecolor\":\"#2a3f5f\",\"gridcolor\":\"white\",\"linecolor\":\"white\",\"minorgridcolor\":\"white\",\"startlinecolor\":\"#2a3f5f\"},\"baxis\":{\"endlinecolor\":\"#2a3f5f\",\"gridcolor\":\"white\",\"linecolor\":\"white\",\"minorgridcolor\":\"white\",\"startlinecolor\":\"#2a3f5f\"},\"type\":\"carpet\"}],\"choropleth\":[{\"colorbar\":{\"outlinewidth\":0,\"ticks\":\"\"},\"type\":\"choropleth\"}],\"contour\":[{\"colorbar\":{\"outlinewidth\":0,\"ticks\":\"\"},\"colorscale\":[[0.0,\"#0d0887\"],[0.1111111111111111,\"#46039f\"],[0.2222222222222222,\"#7201a8\"],[0.3333333333333333,\"#9c179e\"],[0.4444444444444444,\"#bd3786\"],[0.5555555555555556,\"#d8576b\"],[0.6666666666666666,\"#ed7953\"],[0.7777777777777778,\"#fb9f3a\"],[0.8888888888888888,\"#fdca26\"],[1.0,\"#f0f921\"]],\"type\":\"contour\"}],\"contourcarpet\":[{\"colorbar\":{\"outlinewidth\":0,\"ticks\":\"\"},\"type\":\"contourcarpet\"}],\"heatmap\":[{\"colorbar\":{\"outlinewidth\":0,\"ticks\":\"\"},\"colorscale\":[[0.0,\"#0d0887\"],[0.1111111111111111,\"#46039f\"],[0.2222222222222222,\"#7201a8\"],[0.3333333333333333,\"#9c179e\"],[0.4444444444444444,\"#bd3786\"],[0.5555555555555556,\"#d8576b\"],[0.6666666666666666,\"#ed7953\"],[0.7777777777777778,\"#fb9f3a\"],[0.8888888888888888,\"#fdca26\"],[1.0,\"#f0f921\"]],\"type\":\"heatmap\"}],\"heatmapgl\":[{\"colorbar\":{\"outlinewidth\":0,\"ticks\":\"\"},\"colorscale\":[[0.0,\"#0d0887\"],[0.1111111111111111,\"#46039f\"],[0.2222222222222222,\"#7201a8\"],[0.3333333333333333,\"#9c179e\"],[0.4444444444444444,\"#bd3786\"],[0.5555555555555556,\"#d8576b\"],[0.6666666666666666,\"#ed7953\"],[0.7777777777777778,\"#fb9f3a\"],[0.8888888888888888,\"#fdca26\"],[1.0,\"#f0f921\"]],\"type\":\"heatmapgl\"}],\"histogram\":[{\"marker\":{\"pattern\":{\"fillmode\":\"overlay\",\"size\":10,\"solidity\":0.2}},\"type\":\"histogram\"}],\"histogram2d\":[{\"colorbar\":{\"outlinewidth\":0,\"ticks\":\"\"},\"colorscale\":[[0.0,\"#0d0887\"],[0.1111111111111111,\"#46039f\"],[0.2222222222222222,\"#7201a8\"],[0.3333333333333333,\"#9c179e\"],[0.4444444444444444,\"#bd3786\"],[0.5555555555555556,\"#d8576b\"],[0.6666666666666666,\"#ed7953\"],[0.7777777777777778,\"#fb9f3a\"],[0.8888888888888888,\"#fdca26\"],[1.0,\"#f0f921\"]],\"type\":\"histogram2d\"}],\"histogram2dcontour\":[{\"colorbar\":{\"outlinewidth\":0,\"ticks\":\"\"},\"colorscale\":[[0.0,\"#0d0887\"],[0.1111111111111111,\"#46039f\"],[0.2222222222222222,\"#7201a8\"],[0.3333333333333333,\"#9c179e\"],[0.4444444444444444,\"#bd3786\"],[0.5555555555555556,\"#d8576b\"],[0.6666666666666666,\"#ed7953\"],[0.7777777777777778,\"#fb9f3a\"],[0.8888888888888888,\"#fdca26\"],[1.0,\"#f0f921\"]],\"type\":\"histogram2dcontour\"}],\"mesh3d\":[{\"colorbar\":{\"outlinewidth\":0,\"ticks\":\"\"},\"type\":\"mesh3d\"}],\"parcoords\":[{\"line\":{\"colorbar\":{\"outlinewidth\":0,\"ticks\":\"\"}},\"type\":\"parcoords\"}],\"pie\":[{\"automargin\":true,\"type\":\"pie\"}],\"scatter\":[{\"marker\":{\"colorbar\":{\"outlinewidth\":0,\"ticks\":\"\"}},\"type\":\"scatter\"}],\"scatter3d\":[{\"line\":{\"colorbar\":{\"outlinewidth\":0,\"ticks\":\"\"}},\"marker\":{\"colorbar\":{\"outlinewidth\":0,\"ticks\":\"\"}},\"type\":\"scatter3d\"}],\"scattercarpet\":[{\"marker\":{\"colorbar\":{\"outlinewidth\":0,\"ticks\":\"\"}},\"type\":\"scattercarpet\"}],\"scattergeo\":[{\"marker\":{\"colorbar\":{\"outlinewidth\":0,\"ticks\":\"\"}},\"type\":\"scattergeo\"}],\"scattergl\":[{\"marker\":{\"colorbar\":{\"outlinewidth\":0,\"ticks\":\"\"}},\"type\":\"scattergl\"}],\"scattermapbox\":[{\"marker\":{\"colorbar\":{\"outlinewidth\":0,\"ticks\":\"\"}},\"type\":\"scattermapbox\"}],\"scatterpolar\":[{\"marker\":{\"colorbar\":{\"outlinewidth\":0,\"ticks\":\"\"}},\"type\":\"scatterpolar\"}],\"scatterpolargl\":[{\"marker\":{\"colorbar\":{\"outlinewidth\":0,\"ticks\":\"\"}},\"type\":\"scatterpolargl\"}],\"scatterternary\":[{\"marker\":{\"colorbar\":{\"outlinewidth\":0,\"ticks\":\"\"}},\"type\":\"scatterternary\"}],\"surface\":[{\"colorbar\":{\"outlinewidth\":0,\"ticks\":\"\"},\"colorscale\":[[0.0,\"#0d0887\"],[0.1111111111111111,\"#46039f\"],[0.2222222222222222,\"#7201a8\"],[0.3333333333333333,\"#9c179e\"],[0.4444444444444444,\"#bd3786\"],[0.5555555555555556,\"#d8576b\"],[0.6666666666666666,\"#ed7953\"],[0.7777777777777778,\"#fb9f3a\"],[0.8888888888888888,\"#fdca26\"],[1.0,\"#f0f921\"]],\"type\":\"surface\"}],\"table\":[{\"cells\":{\"fill\":{\"color\":\"#EBF0F8\"},\"line\":{\"color\":\"white\"}},\"header\":{\"fill\":{\"color\":\"#C8D4E3\"},\"line\":{\"color\":\"white\"}},\"type\":\"table\"}]},\"layout\":{\"annotationdefaults\":{\"arrowcolor\":\"#2a3f5f\",\"arrowhead\":0,\"arrowwidth\":1},\"autotypenumbers\":\"strict\",\"coloraxis\":{\"colorbar\":{\"outlinewidth\":0,\"ticks\":\"\"}},\"colorscale\":{\"diverging\":[[0,\"#8e0152\"],[0.1,\"#c51b7d\"],[0.2,\"#de77ae\"],[0.3,\"#f1b6da\"],[0.4,\"#fde0ef\"],[0.5,\"#f7f7f7\"],[0.6,\"#e6f5d0\"],[0.7,\"#b8e186\"],[0.8,\"#7fbc41\"],[0.9,\"#4d9221\"],[1,\"#276419\"]],\"sequential\":[[0.0,\"#0d0887\"],[0.1111111111111111,\"#46039f\"],[0.2222222222222222,\"#7201a8\"],[0.3333333333333333,\"#9c179e\"],[0.4444444444444444,\"#bd3786\"],[0.5555555555555556,\"#d8576b\"],[0.6666666666666666,\"#ed7953\"],[0.7777777777777778,\"#fb9f3a\"],[0.8888888888888888,\"#fdca26\"],[1.0,\"#f0f921\"]],\"sequentialminus\":[[0.0,\"#0d0887\"],[0.1111111111111111,\"#46039f\"],[0.2222222222222222,\"#7201a8\"],[0.3333333333333333,\"#9c179e\"],[0.4444444444444444,\"#bd3786\"],[0.5555555555555556,\"#d8576b\"],[0.6666666666666666,\"#ed7953\"],[0.7777777777777778,\"#fb9f3a\"],[0.8888888888888888,\"#fdca26\"],[1.0,\"#f0f921\"]]},\"colorway\":[\"#636efa\",\"#EF553B\",\"#00cc96\",\"#ab63fa\",\"#FFA15A\",\"#19d3f3\",\"#FF6692\",\"#B6E880\",\"#FF97FF\",\"#FECB52\"],\"font\":{\"color\":\"#2a3f5f\"},\"geo\":{\"bgcolor\":\"white\",\"lakecolor\":\"white\",\"landcolor\":\"#E5ECF6\",\"showlakes\":true,\"showland\":true,\"subunitcolor\":\"white\"},\"hoverlabel\":{\"align\":\"left\"},\"hovermode\":\"closest\",\"mapbox\":{\"style\":\"light\"},\"paper_bgcolor\":\"white\",\"plot_bgcolor\":\"#E5ECF6\",\"polar\":{\"angularaxis\":{\"gridcolor\":\"white\",\"linecolor\":\"white\",\"ticks\":\"\"},\"bgcolor\":\"#E5ECF6\",\"radialaxis\":{\"gridcolor\":\"white\",\"linecolor\":\"white\",\"ticks\":\"\"}},\"scene\":{\"xaxis\":{\"backgroundcolor\":\"#E5ECF6\",\"gridcolor\":\"white\",\"gridwidth\":2,\"linecolor\":\"white\",\"showbackground\":true,\"ticks\":\"\",\"zerolinecolor\":\"white\"},\"yaxis\":{\"backgroundcolor\":\"#E5ECF6\",\"gridcolor\":\"white\",\"gridwidth\":2,\"linecolor\":\"white\",\"showbackground\":true,\"ticks\":\"\",\"zerolinecolor\":\"white\"},\"zaxis\":{\"backgroundcolor\":\"#E5ECF6\",\"gridcolor\":\"white\",\"gridwidth\":2,\"linecolor\":\"white\",\"showbackground\":true,\"ticks\":\"\",\"zerolinecolor\":\"white\"}},\"shapedefaults\":{\"line\":{\"color\":\"#2a3f5f\"}},\"ternary\":{\"aaxis\":{\"gridcolor\":\"white\",\"linecolor\":\"white\",\"ticks\":\"\"},\"baxis\":{\"gridcolor\":\"white\",\"linecolor\":\"white\",\"ticks\":\"\"},\"bgcolor\":\"#E5ECF6\",\"caxis\":{\"gridcolor\":\"white\",\"linecolor\":\"white\",\"ticks\":\"\"}},\"title\":{\"x\":0.05},\"xaxis\":{\"automargin\":true,\"gridcolor\":\"white\",\"linecolor\":\"white\",\"ticks\":\"\",\"title\":{\"standoff\":15},\"zerolinecolor\":\"white\",\"zerolinewidth\":2},\"yaxis\":{\"automargin\":true,\"gridcolor\":\"white\",\"linecolor\":\"white\",\"ticks\":\"\",\"title\":{\"standoff\":15},\"zerolinecolor\":\"white\",\"zerolinewidth\":2}}},\"title\":{\"text\":\"\"},\"width\":1300,\"xaxis\":{\"anchor\":\"y\",\"domain\":[0.0,0.49],\"range\":[-25,15],\"visible\":false},\"xaxis2\":{\"anchor\":\"y2\",\"domain\":[0.51,1.0],\"range\":[0,15],\"visible\":false},\"xaxis3\":{\"anchor\":\"y3\",\"domain\":[0.0,0.49],\"range\":[-25,15],\"title\":{\"text\":\"Temperature (C)\"}},\"xaxis4\":{\"anchor\":\"y4\",\"domain\":[0.51,1.0],\"range\":[0,15],\"title\":{\"text\":\"Wind Speed (m/s)\"}},\"yaxis\":{\"anchor\":\"x\",\"domain\":[0.515,1.0],\"range\":[100,150],\"title\":{\"text\":\"\"}},\"yaxis2\":{\"anchor\":\"x2\",\"domain\":[0.515,1.0],\"matches\":\"y\",\"showticklabels\":false},\"yaxis3\":{\"anchor\":\"x3\",\"domain\":[0.0,0.485],\"range\":[-0.05,50],\"title\":{\"text\":\"<b> All Data</b> <br> total # of obs in each bin\"}},\"yaxis4\":{\"anchor\":\"x4\",\"domain\":[0.0,0.485],\"matches\":\"y3\",\"showticklabels\":false}},                        {\"responsive\": true}                    ).then(function(){\n",
       "                            \n",
       "var gd = document.getElementById('d4f0c8d2-24c9-421b-acae-3387ba3d7203');\n",
       "var x = new MutationObserver(function (mutations, observer) {{\n",
       "        var display = window.getComputedStyle(gd).display;\n",
       "        if (!display || display === 'none') {{\n",
       "            console.log([gd, 'removed!']);\n",
       "            Plotly.purge(gd);\n",
       "            observer.disconnect();\n",
       "        }}\n",
       "}});\n",
       "\n",
       "// Listen for the removal of the full notebook cells\n",
       "var notebookContainer = gd.closest('#notebook-container');\n",
       "if (notebookContainer) {{\n",
       "    x.observe(notebookContainer, {childList: true});\n",
       "}}\n",
       "\n",
       "// Listen for the clearing of the current output cell\n",
       "var outputEl = gd.closest('.output');\n",
       "if (outputEl) {{\n",
       "    x.observe(outputEl, {childList: true});\n",
       "}}\n",
       "\n",
       "                        })                };                });            </script>        </div>"
      ]
     },
     "metadata": {},
     "output_type": "display_data"
    }
   ],
   "source": [
    "fig = make_subplots(rows=2, cols=2, shared_xaxes=False, shared_yaxes=True, \n",
    "                    vertical_spacing=0.03, horizontal_spacing=0.02)\n",
    "\n",
    "# row 1 \n",
    "fig.add_trace(go.Histogram(x = dfSW600.AirTC_Avg, showlegend=False, histfunc='count', marker_color=color1, xbins=dict(start=-25, end=10, size=2), autobinx=False),row=1, col=1)\n",
    "fig.add_trace(go.Histogram(x = dfSW400600.AirTC_Avg, showlegend=False, histfunc='count', marker_color=color2, xbins=dict(start=-25, end=10, size=2), autobinx=False),row=1, col=1)\n",
    "fig.add_trace(go.Histogram(x = dfSW400.AirTC_Avg, showlegend=False, histfunc='count', marker_color=color3, xbins=dict(start=-25, end=10, size=2), autobinx=False),row=1, col=1)\n",
    "\n",
    "fig.add_trace(go.Histogram(x = dfSW600.WS_ms_Avg,    showlegend=False, histfunc='count', marker_color=color1, xbins=dict(start=0, end=15, size=1), autobinx=False),row=1, col=2)\n",
    "fig.add_trace(go.Histogram(x = dfSW400600.WS_ms_Avg, showlegend=False, histfunc='count', marker_color=color2, xbins=dict(start=0, end=15, size=1), autobinx=False),row=1, col=2)\n",
    "fig.add_trace(go.Histogram(x = dfSW400.WS_ms_Avg,    showlegend=False, histfunc='count', marker_color=color3, xbins=dict(start=0, end=15, size=1), autobinx=False),row=1, col=2)\n",
    "\n",
    "# row 2 \n",
    "fig.add_trace(go.Histogram(x = dfSW600.AirTC_Avg, showlegend=False, histfunc='count', marker_color=color1, xbins=dict(start=-25, end=10, size=2), autobinx=False),row=2, col=1)\n",
    "fig.add_trace(go.Histogram(x = dfSW400600.AirTC_Avg, showlegend=False, histfunc='count', marker_color=color2, xbins=dict(start=-25, end=10, size=2), autobinx=False),row=2, col=1)\n",
    "fig.add_trace(go.Histogram(x = dfSW400.AirTC_Avg, showlegend=False, histfunc='count', marker_color=color3, xbins=dict(start=-25, end=10, size=2), autobinx=False),row=2, col=1)\n",
    "\n",
    "fig.add_trace(go.Histogram(x = dfSW600.WS_ms_Avg,    showlegend=False, histfunc='count', marker_color=color1, xbins=dict(start=0, end=15, size=1), autobinx=False),row=2, col=2)\n",
    "fig.add_trace(go.Histogram(x = dfSW400600.WS_ms_Avg, showlegend=False, histfunc='count', marker_color=color2, xbins=dict(start=0, end=15, size=1), autobinx=False),row=2, col=2)\n",
    "fig.add_trace(go.Histogram(x = dfSW400.WS_ms_Avg,    showlegend=False, histfunc='count', marker_color=color3, xbins=dict(start=0, end=15, size=1), autobinx=False),row=2, col=2)\n",
    "\n",
    "# axes \n",
    "fig.update_xaxes(visible=False, range=[-25,15], row=1, col=1)\n",
    "fig.update_xaxes(visible=False, range=[0,15],   row=1, col=2)\n",
    "\n",
    "fig.update_xaxes(title_text='Temperature (C)',  range=[-25,15],row=2, col=1)\n",
    "fig.update_xaxes(title_text='Wind Speed (m/s)', range=[0,15],  row=2, col=2)\n",
    "\n",
    "fig.update_yaxes(title_text='', range=[100,150], row=1, col=1)\n",
    "fig.update_yaxes(title_text='<b> All Data</b> <br> total # of obs in each bin', range=[-0.05,50], row=2, col=1)\n",
    "\n",
    "\n",
    "fig.update_layout(height=400, width=1300, title_text=\"\")\n",
    "fig.show()"
   ]
  },
  {
   "cell_type": "markdown",
   "id": "2976cfda-1ecd-4ef9-81ec-0fa3145bda5c",
   "metadata": {},
   "source": [
    "# Pie Chart "
   ]
  },
  {
   "cell_type": "code",
   "execution_count": 13,
   "id": "8ddc5b0f-548c-49ef-89a6-ec4c36f41d06",
   "metadata": {},
   "outputs": [],
   "source": [
    "dfSW600stay_countsum = dfSW600_temp2_returndf.stay_count.sum()\n",
    "dfSW460stay_countsum = dfSW460_temp2_returndf.stay_count.sum()\n",
    "dfSW400stay_countsum = dfSW400_temp2_returndf.stay_count.sum()\n",
    "\n",
    "dfSW600unload_countsum = dfSW600_temp2_returndf.unload_count.sum()\n",
    "dfSW460unload_countsum = dfSW460_temp2_returndf.unload_count.sum()\n",
    "dfSW400unload_countsum = dfSW400_temp2_returndf.unload_count.sum()\n",
    "\n",
    "dfSW600total = dfSW600stay_countsum+dfSW600unload_countsum\n",
    "dfSW640total = dfSW460stay_countsum+dfSW460unload_countsum\n",
    "dfSW400total = dfSW400stay_countsum+dfSW400unload_countsum\n",
    "\n",
    "sumarray = np.column_stack((dfSW600stay_countsum,dfSW460stay_countsum,dfSW400stay_countsum,\n",
    "                                dfSW600unload_countsum,dfSW460unload_countsum,dfSW400unload_countsum,\n",
    "                                dfSW600total, dfSW640total, dfSW400total))\n",
    "sumdf = pd.DataFrame(sumarray, columns=['SW600stay', 'SW460stay','SW400stay','SW600unload','SW460unload','SW400unload', \"SW600total\", 'SW640total', 'SW400total'])\n",
    "sumdf.rename(index={0: 'bincount'}, inplace=True)\n",
    "\n",
    "sumdf_stay   = sumdf.drop(columns=['SW600unload','SW460unload', 'SW400unload', \"SW600total\", 'SW640total', 'SW400total'])\n",
    "sumdf_unload = sumdf.drop(columns=['SW600stay','SW460stay', 'SW400stay', \"SW600total\", 'SW640total', 'SW400total'])\n",
    "sumdf_total  = sumdf.drop(columns=['SW600stay','SW460stay', 'SW400stay', 'SW600unload','SW460unload', 'SW400unload'])\n",
    "\n",
    "\n",
    "sumdf = sumdf.T\n",
    "sumdf['cond'] = sumdf.index.copy(deep=True)\n",
    "\n",
    "sumdf_stay = sumdf_stay.T\n",
    "sumdf_stay['cond'] = sumdf_stay.index.copy(deep=True)\n",
    "\n",
    "sumdf_unload = sumdf_unload.T\n",
    "sumdf_unload['cond'] = sumdf_unload.index.copy(deep=True)\n",
    "\n",
    "sumdf_total = sumdf_total.T\n",
    "sumdf_total['cond'] = sumdf_total.index.copy(deep=True)"
   ]
  },
  {
   "cell_type": "code",
   "execution_count": 16,
   "id": "d74e7515-241f-49b7-b0ed-d1545c321cc8",
   "metadata": {},
   "outputs": [
    {
     "data": {
      "application/vnd.plotly.v1+json": {
       "config": {
        "plotlyServerURL": "https://plot.ly"
       },
       "data": [
        {
         "domain": {
          "x": [
           0,
           0.2888888888888889
          ],
          "y": [
           0,
           1
          ]
         },
         "hole": 0.4,
         "labels": [
          "SW > 600",
          "400 < SW < 600",
          "SW < 400"
         ],
         "marker": {
          "colors": [
           "tomato",
           "maroon",
           "navy"
          ]
         },
         "name": "Stay Pie",
         "textfont": {
          "size": 20
         },
         "textinfo": "value",
         "type": "pie",
         "values": [
          10,
          29,
          138
         ]
        },
        {
         "domain": {
          "x": [
           0.35555555555555557,
           0.6444444444444445
          ],
          "y": [
           0,
           1
          ]
         },
         "hole": 0.4,
         "labels": [
          "SW > 600",
          "400 < SW < 600",
          "SW < 400"
         ],
         "marker": {
          "colors": [
           "tomato",
           "maroon",
           "navy"
          ]
         },
         "name": "Unload Pie",
         "textfont": {
          "size": 20
         },
         "textinfo": "value",
         "type": "pie",
         "values": [
          36,
          16,
          50
         ]
        },
        {
         "domain": {
          "x": [
           0.7111111111111111,
           1
          ],
          "y": [
           0,
           1
          ]
         },
         "hole": 0.4,
         "labels": [
          "SW > 600",
          "400 < SW < 600",
          "SW < 400"
         ],
         "marker": {
          "colors": [
           "tomato",
           "maroon",
           "navy"
          ]
         },
         "name": "Unload Pie",
         "textfont": {
          "size": 20
         },
         "textinfo": "value",
         "type": "pie",
         "values": [
          46,
          45,
          188
         ]
        }
       ],
       "layout": {
        "annotations": [
         {
          "font": {
           "size": 18
          },
          "showarrow": false,
          "text": "Stay",
          "x": 0.12,
          "y": 0.5
         },
         {
          "font": {
           "size": 18
          },
          "showarrow": false,
          "text": "Unload",
          "x": 0.5,
          "y": 0.5
         },
         {
          "font": {
           "size": 18
          },
          "showarrow": false,
          "text": " All",
          "x": 0.86,
          "y": 0.5
         }
        ],
        "autosize": true,
        "template": {
         "data": {
          "bar": [
           {
            "error_x": {
             "color": "#2a3f5f"
            },
            "error_y": {
             "color": "#2a3f5f"
            },
            "marker": {
             "line": {
              "color": "#E5ECF6",
              "width": 0.5
             },
             "pattern": {
              "fillmode": "overlay",
              "size": 10,
              "solidity": 0.2
             }
            },
            "type": "bar"
           }
          ],
          "barpolar": [
           {
            "marker": {
             "line": {
              "color": "#E5ECF6",
              "width": 0.5
             },
             "pattern": {
              "fillmode": "overlay",
              "size": 10,
              "solidity": 0.2
             }
            },
            "type": "barpolar"
           }
          ],
          "carpet": [
           {
            "aaxis": {
             "endlinecolor": "#2a3f5f",
             "gridcolor": "white",
             "linecolor": "white",
             "minorgridcolor": "white",
             "startlinecolor": "#2a3f5f"
            },
            "baxis": {
             "endlinecolor": "#2a3f5f",
             "gridcolor": "white",
             "linecolor": "white",
             "minorgridcolor": "white",
             "startlinecolor": "#2a3f5f"
            },
            "type": "carpet"
           }
          ],
          "choropleth": [
           {
            "colorbar": {
             "outlinewidth": 0,
             "ticks": ""
            },
            "type": "choropleth"
           }
          ],
          "contour": [
           {
            "colorbar": {
             "outlinewidth": 0,
             "ticks": ""
            },
            "colorscale": [
             [
              0,
              "#0d0887"
             ],
             [
              0.1111111111111111,
              "#46039f"
             ],
             [
              0.2222222222222222,
              "#7201a8"
             ],
             [
              0.3333333333333333,
              "#9c179e"
             ],
             [
              0.4444444444444444,
              "#bd3786"
             ],
             [
              0.5555555555555556,
              "#d8576b"
             ],
             [
              0.6666666666666666,
              "#ed7953"
             ],
             [
              0.7777777777777778,
              "#fb9f3a"
             ],
             [
              0.8888888888888888,
              "#fdca26"
             ],
             [
              1,
              "#f0f921"
             ]
            ],
            "type": "contour"
           }
          ],
          "contourcarpet": [
           {
            "colorbar": {
             "outlinewidth": 0,
             "ticks": ""
            },
            "type": "contourcarpet"
           }
          ],
          "heatmap": [
           {
            "colorbar": {
             "outlinewidth": 0,
             "ticks": ""
            },
            "colorscale": [
             [
              0,
              "#0d0887"
             ],
             [
              0.1111111111111111,
              "#46039f"
             ],
             [
              0.2222222222222222,
              "#7201a8"
             ],
             [
              0.3333333333333333,
              "#9c179e"
             ],
             [
              0.4444444444444444,
              "#bd3786"
             ],
             [
              0.5555555555555556,
              "#d8576b"
             ],
             [
              0.6666666666666666,
              "#ed7953"
             ],
             [
              0.7777777777777778,
              "#fb9f3a"
             ],
             [
              0.8888888888888888,
              "#fdca26"
             ],
             [
              1,
              "#f0f921"
             ]
            ],
            "type": "heatmap"
           }
          ],
          "heatmapgl": [
           {
            "colorbar": {
             "outlinewidth": 0,
             "ticks": ""
            },
            "colorscale": [
             [
              0,
              "#0d0887"
             ],
             [
              0.1111111111111111,
              "#46039f"
             ],
             [
              0.2222222222222222,
              "#7201a8"
             ],
             [
              0.3333333333333333,
              "#9c179e"
             ],
             [
              0.4444444444444444,
              "#bd3786"
             ],
             [
              0.5555555555555556,
              "#d8576b"
             ],
             [
              0.6666666666666666,
              "#ed7953"
             ],
             [
              0.7777777777777778,
              "#fb9f3a"
             ],
             [
              0.8888888888888888,
              "#fdca26"
             ],
             [
              1,
              "#f0f921"
             ]
            ],
            "type": "heatmapgl"
           }
          ],
          "histogram": [
           {
            "marker": {
             "pattern": {
              "fillmode": "overlay",
              "size": 10,
              "solidity": 0.2
             }
            },
            "type": "histogram"
           }
          ],
          "histogram2d": [
           {
            "colorbar": {
             "outlinewidth": 0,
             "ticks": ""
            },
            "colorscale": [
             [
              0,
              "#0d0887"
             ],
             [
              0.1111111111111111,
              "#46039f"
             ],
             [
              0.2222222222222222,
              "#7201a8"
             ],
             [
              0.3333333333333333,
              "#9c179e"
             ],
             [
              0.4444444444444444,
              "#bd3786"
             ],
             [
              0.5555555555555556,
              "#d8576b"
             ],
             [
              0.6666666666666666,
              "#ed7953"
             ],
             [
              0.7777777777777778,
              "#fb9f3a"
             ],
             [
              0.8888888888888888,
              "#fdca26"
             ],
             [
              1,
              "#f0f921"
             ]
            ],
            "type": "histogram2d"
           }
          ],
          "histogram2dcontour": [
           {
            "colorbar": {
             "outlinewidth": 0,
             "ticks": ""
            },
            "colorscale": [
             [
              0,
              "#0d0887"
             ],
             [
              0.1111111111111111,
              "#46039f"
             ],
             [
              0.2222222222222222,
              "#7201a8"
             ],
             [
              0.3333333333333333,
              "#9c179e"
             ],
             [
              0.4444444444444444,
              "#bd3786"
             ],
             [
              0.5555555555555556,
              "#d8576b"
             ],
             [
              0.6666666666666666,
              "#ed7953"
             ],
             [
              0.7777777777777778,
              "#fb9f3a"
             ],
             [
              0.8888888888888888,
              "#fdca26"
             ],
             [
              1,
              "#f0f921"
             ]
            ],
            "type": "histogram2dcontour"
           }
          ],
          "mesh3d": [
           {
            "colorbar": {
             "outlinewidth": 0,
             "ticks": ""
            },
            "type": "mesh3d"
           }
          ],
          "parcoords": [
           {
            "line": {
             "colorbar": {
              "outlinewidth": 0,
              "ticks": ""
             }
            },
            "type": "parcoords"
           }
          ],
          "pie": [
           {
            "automargin": true,
            "type": "pie"
           }
          ],
          "scatter": [
           {
            "marker": {
             "colorbar": {
              "outlinewidth": 0,
              "ticks": ""
             }
            },
            "type": "scatter"
           }
          ],
          "scatter3d": [
           {
            "line": {
             "colorbar": {
              "outlinewidth": 0,
              "ticks": ""
             }
            },
            "marker": {
             "colorbar": {
              "outlinewidth": 0,
              "ticks": ""
             }
            },
            "type": "scatter3d"
           }
          ],
          "scattercarpet": [
           {
            "marker": {
             "colorbar": {
              "outlinewidth": 0,
              "ticks": ""
             }
            },
            "type": "scattercarpet"
           }
          ],
          "scattergeo": [
           {
            "marker": {
             "colorbar": {
              "outlinewidth": 0,
              "ticks": ""
             }
            },
            "type": "scattergeo"
           }
          ],
          "scattergl": [
           {
            "marker": {
             "colorbar": {
              "outlinewidth": 0,
              "ticks": ""
             }
            },
            "type": "scattergl"
           }
          ],
          "scattermapbox": [
           {
            "marker": {
             "colorbar": {
              "outlinewidth": 0,
              "ticks": ""
             }
            },
            "type": "scattermapbox"
           }
          ],
          "scatterpolar": [
           {
            "marker": {
             "colorbar": {
              "outlinewidth": 0,
              "ticks": ""
             }
            },
            "type": "scatterpolar"
           }
          ],
          "scatterpolargl": [
           {
            "marker": {
             "colorbar": {
              "outlinewidth": 0,
              "ticks": ""
             }
            },
            "type": "scatterpolargl"
           }
          ],
          "scatterternary": [
           {
            "marker": {
             "colorbar": {
              "outlinewidth": 0,
              "ticks": ""
             }
            },
            "type": "scatterternary"
           }
          ],
          "surface": [
           {
            "colorbar": {
             "outlinewidth": 0,
             "ticks": ""
            },
            "colorscale": [
             [
              0,
              "#0d0887"
             ],
             [
              0.1111111111111111,
              "#46039f"
             ],
             [
              0.2222222222222222,
              "#7201a8"
             ],
             [
              0.3333333333333333,
              "#9c179e"
             ],
             [
              0.4444444444444444,
              "#bd3786"
             ],
             [
              0.5555555555555556,
              "#d8576b"
             ],
             [
              0.6666666666666666,
              "#ed7953"
             ],
             [
              0.7777777777777778,
              "#fb9f3a"
             ],
             [
              0.8888888888888888,
              "#fdca26"
             ],
             [
              1,
              "#f0f921"
             ]
            ],
            "type": "surface"
           }
          ],
          "table": [
           {
            "cells": {
             "fill": {
              "color": "#EBF0F8"
             },
             "line": {
              "color": "white"
             }
            },
            "header": {
             "fill": {
              "color": "#C8D4E3"
             },
             "line": {
              "color": "white"
             }
            },
            "type": "table"
           }
          ]
         },
         "layout": {
          "annotationdefaults": {
           "arrowcolor": "#2a3f5f",
           "arrowhead": 0,
           "arrowwidth": 1
          },
          "autotypenumbers": "strict",
          "coloraxis": {
           "colorbar": {
            "outlinewidth": 0,
            "ticks": ""
           }
          },
          "colorscale": {
           "diverging": [
            [
             0,
             "#8e0152"
            ],
            [
             0.1,
             "#c51b7d"
            ],
            [
             0.2,
             "#de77ae"
            ],
            [
             0.3,
             "#f1b6da"
            ],
            [
             0.4,
             "#fde0ef"
            ],
            [
             0.5,
             "#f7f7f7"
            ],
            [
             0.6,
             "#e6f5d0"
            ],
            [
             0.7,
             "#b8e186"
            ],
            [
             0.8,
             "#7fbc41"
            ],
            [
             0.9,
             "#4d9221"
            ],
            [
             1,
             "#276419"
            ]
           ],
           "sequential": [
            [
             0,
             "#0d0887"
            ],
            [
             0.1111111111111111,
             "#46039f"
            ],
            [
             0.2222222222222222,
             "#7201a8"
            ],
            [
             0.3333333333333333,
             "#9c179e"
            ],
            [
             0.4444444444444444,
             "#bd3786"
            ],
            [
             0.5555555555555556,
             "#d8576b"
            ],
            [
             0.6666666666666666,
             "#ed7953"
            ],
            [
             0.7777777777777778,
             "#fb9f3a"
            ],
            [
             0.8888888888888888,
             "#fdca26"
            ],
            [
             1,
             "#f0f921"
            ]
           ],
           "sequentialminus": [
            [
             0,
             "#0d0887"
            ],
            [
             0.1111111111111111,
             "#46039f"
            ],
            [
             0.2222222222222222,
             "#7201a8"
            ],
            [
             0.3333333333333333,
             "#9c179e"
            ],
            [
             0.4444444444444444,
             "#bd3786"
            ],
            [
             0.5555555555555556,
             "#d8576b"
            ],
            [
             0.6666666666666666,
             "#ed7953"
            ],
            [
             0.7777777777777778,
             "#fb9f3a"
            ],
            [
             0.8888888888888888,
             "#fdca26"
            ],
            [
             1,
             "#f0f921"
            ]
           ]
          },
          "colorway": [
           "#636efa",
           "#EF553B",
           "#00cc96",
           "#ab63fa",
           "#FFA15A",
           "#19d3f3",
           "#FF6692",
           "#B6E880",
           "#FF97FF",
           "#FECB52"
          ],
          "font": {
           "color": "#2a3f5f"
          },
          "geo": {
           "bgcolor": "white",
           "lakecolor": "white",
           "landcolor": "#E5ECF6",
           "showlakes": true,
           "showland": true,
           "subunitcolor": "white"
          },
          "hoverlabel": {
           "align": "left"
          },
          "hovermode": "closest",
          "mapbox": {
           "style": "light"
          },
          "paper_bgcolor": "white",
          "plot_bgcolor": "#E5ECF6",
          "polar": {
           "angularaxis": {
            "gridcolor": "white",
            "linecolor": "white",
            "ticks": ""
           },
           "bgcolor": "#E5ECF6",
           "radialaxis": {
            "gridcolor": "white",
            "linecolor": "white",
            "ticks": ""
           }
          },
          "scene": {
           "xaxis": {
            "backgroundcolor": "#E5ECF6",
            "gridcolor": "white",
            "gridwidth": 2,
            "linecolor": "white",
            "showbackground": true,
            "ticks": "",
            "zerolinecolor": "white"
           },
           "yaxis": {
            "backgroundcolor": "#E5ECF6",
            "gridcolor": "white",
            "gridwidth": 2,
            "linecolor": "white",
            "showbackground": true,
            "ticks": "",
            "zerolinecolor": "white"
           },
           "zaxis": {
            "backgroundcolor": "#E5ECF6",
            "gridcolor": "white",
            "gridwidth": 2,
            "linecolor": "white",
            "showbackground": true,
            "ticks": "",
            "zerolinecolor": "white"
           }
          },
          "shapedefaults": {
           "line": {
            "color": "#2a3f5f"
           }
          },
          "ternary": {
           "aaxis": {
            "gridcolor": "white",
            "linecolor": "white",
            "ticks": ""
           },
           "baxis": {
            "gridcolor": "white",
            "linecolor": "white",
            "ticks": ""
           },
           "bgcolor": "#E5ECF6",
           "caxis": {
            "gridcolor": "white",
            "linecolor": "white",
            "ticks": ""
           }
          },
          "title": {
           "x": 0.05
          },
          "xaxis": {
           "automargin": true,
           "gridcolor": "white",
           "linecolor": "white",
           "ticks": "",
           "title": {
            "standoff": 15
           },
           "zerolinecolor": "white",
           "zerolinewidth": 2
          },
          "yaxis": {
           "automargin": true,
           "gridcolor": "white",
           "linecolor": "white",
           "ticks": "",
           "title": {
            "standoff": 15
           },
           "zerolinecolor": "white",
           "zerolinewidth": 2
          }
         }
        },
        "title": {
         "text": "Niwot Ridge, CO"
        }
       }
      },
      "image/png": "[encoded data removed]",
      "text/html": [
       "<div>                            <div id=\"df469cd3-7ece-4edb-9169-50fb09fb68af\" class=\"plotly-graph-div\" style=\"height:525px; width:100%;\"></div>            <script type=\"text/javascript\">                require([\"plotly\"], function(Plotly) {                    window.PLOTLYENV=window.PLOTLYENV || {};                                    if (document.getElementById(\"df469cd3-7ece-4edb-9169-50fb09fb68af\")) {                    Plotly.newPlot(                        \"df469cd3-7ece-4edb-9169-50fb09fb68af\",                        [{\"domain\":{\"x\":[0.0,0.2888888888888889],\"y\":[0.0,1.0]},\"hole\":0.4,\"labels\":[\"SW > 600\",\"400 < SW < 600\",\"SW < 400\"],\"marker\":{\"colors\":[\"tomato\",\"maroon\",\"navy\"]},\"name\":\"Stay Pie\",\"textfont\":{\"size\":20},\"textinfo\":\"value\",\"type\":\"pie\",\"values\":[10.0,29.0,138.0]},{\"domain\":{\"x\":[0.35555555555555557,0.6444444444444445],\"y\":[0.0,1.0]},\"hole\":0.4,\"labels\":[\"SW > 600\",\"400 < SW < 600\",\"SW < 400\"],\"marker\":{\"colors\":[\"tomato\",\"maroon\",\"navy\"]},\"name\":\"Unload Pie\",\"textfont\":{\"size\":20},\"textinfo\":\"value\",\"type\":\"pie\",\"values\":[36.0,16.0,50.0]},{\"domain\":{\"x\":[0.7111111111111111,1.0],\"y\":[0.0,1.0]},\"hole\":0.4,\"labels\":[\"SW > 600\",\"400 < SW < 600\",\"SW < 400\"],\"marker\":{\"colors\":[\"tomato\",\"maroon\",\"navy\"]},\"name\":\"Unload Pie\",\"textfont\":{\"size\":20},\"textinfo\":\"value\",\"type\":\"pie\",\"values\":[46.0,45.0,188.0]}],                        {\"annotations\":[{\"font\":{\"size\":18},\"showarrow\":false,\"text\":\"Stay\",\"x\":0.12,\"y\":0.5},{\"font\":{\"size\":18},\"showarrow\":false,\"text\":\"Unload\",\"x\":0.5,\"y\":0.5},{\"font\":{\"size\":18},\"showarrow\":false,\"text\":\" All\",\"x\":0.86,\"y\":0.5}],\"template\":{\"data\":{\"bar\":[{\"error_x\":{\"color\":\"#2a3f5f\"},\"error_y\":{\"color\":\"#2a3f5f\"},\"marker\":{\"line\":{\"color\":\"#E5ECF6\",\"width\":0.5},\"pattern\":{\"fillmode\":\"overlay\",\"size\":10,\"solidity\":0.2}},\"type\":\"bar\"}],\"barpolar\":[{\"marker\":{\"line\":{\"color\":\"#E5ECF6\",\"width\":0.5},\"pattern\":{\"fillmode\":\"overlay\",\"size\":10,\"solidity\":0.2}},\"type\":\"barpolar\"}],\"carpet\":[{\"aaxis\":{\"endlinecolor\":\"#2a3f5f\",\"gridcolor\":\"white\",\"linecolor\":\"white\",\"minorgridcolor\":\"white\",\"startlinecolor\":\"#2a3f5f\"},\"baxis\":{\"endlinecolor\":\"#2a3f5f\",\"gridcolor\":\"white\",\"linecolor\":\"white\",\"minorgridcolor\":\"white\",\"startlinecolor\":\"#2a3f5f\"},\"type\":\"carpet\"}],\"choropleth\":[{\"colorbar\":{\"outlinewidth\":0,\"ticks\":\"\"},\"type\":\"choropleth\"}],\"contour\":[{\"colorbar\":{\"outlinewidth\":0,\"ticks\":\"\"},\"colorscale\":[[0.0,\"#0d0887\"],[0.1111111111111111,\"#46039f\"],[0.2222222222222222,\"#7201a8\"],[0.3333333333333333,\"#9c179e\"],[0.4444444444444444,\"#bd3786\"],[0.5555555555555556,\"#d8576b\"],[0.6666666666666666,\"#ed7953\"],[0.7777777777777778,\"#fb9f3a\"],[0.8888888888888888,\"#fdca26\"],[1.0,\"#f0f921\"]],\"type\":\"contour\"}],\"contourcarpet\":[{\"colorbar\":{\"outlinewidth\":0,\"ticks\":\"\"},\"type\":\"contourcarpet\"}],\"heatmap\":[{\"colorbar\":{\"outlinewidth\":0,\"ticks\":\"\"},\"colorscale\":[[0.0,\"#0d0887\"],[0.1111111111111111,\"#46039f\"],[0.2222222222222222,\"#7201a8\"],[0.3333333333333333,\"#9c179e\"],[0.4444444444444444,\"#bd3786\"],[0.5555555555555556,\"#d8576b\"],[0.6666666666666666,\"#ed7953\"],[0.7777777777777778,\"#fb9f3a\"],[0.8888888888888888,\"#fdca26\"],[1.0,\"#f0f921\"]],\"type\":\"heatmap\"}],\"heatmapgl\":[{\"colorbar\":{\"outlinewidth\":0,\"ticks\":\"\"},\"colorscale\":[[0.0,\"#0d0887\"],[0.1111111111111111,\"#46039f\"],[0.2222222222222222,\"#7201a8\"],[0.3333333333333333,\"#9c179e\"],[0.4444444444444444,\"#bd3786\"],[0.5555555555555556,\"#d8576b\"],[0.6666666666666666,\"#ed7953\"],[0.7777777777777778,\"#fb9f3a\"],[0.8888888888888888,\"#fdca26\"],[1.0,\"#f0f921\"]],\"type\":\"heatmapgl\"}],\"histogram\":[{\"marker\":{\"pattern\":{\"fillmode\":\"overlay\",\"size\":10,\"solidity\":0.2}},\"type\":\"histogram\"}],\"histogram2d\":[{\"colorbar\":{\"outlinewidth\":0,\"ticks\":\"\"},\"colorscale\":[[0.0,\"#0d0887\"],[0.1111111111111111,\"#46039f\"],[0.2222222222222222,\"#7201a8\"],[0.3333333333333333,\"#9c179e\"],[0.4444444444444444,\"#bd3786\"],[0.5555555555555556,\"#d8576b\"],[0.6666666666666666,\"#ed7953\"],[0.7777777777777778,\"#fb9f3a\"],[0.8888888888888888,\"#fdca26\"],[1.0,\"#f0f921\"]],\"type\":\"histogram2d\"}],\"histogram2dcontour\":[{\"colorbar\":{\"outlinewidth\":0,\"ticks\":\"\"},\"colorscale\":[[0.0,\"#0d0887\"],[0.1111111111111111,\"#46039f\"],[0.2222222222222222,\"#7201a8\"],[0.3333333333333333,\"#9c179e\"],[0.4444444444444444,\"#bd3786\"],[0.5555555555555556,\"#d8576b\"],[0.6666666666666666,\"#ed7953\"],[0.7777777777777778,\"#fb9f3a\"],[0.8888888888888888,\"#fdca26\"],[1.0,\"#f0f921\"]],\"type\":\"histogram2dcontour\"}],\"mesh3d\":[{\"colorbar\":{\"outlinewidth\":0,\"ticks\":\"\"},\"type\":\"mesh3d\"}],\"parcoords\":[{\"line\":{\"colorbar\":{\"outlinewidth\":0,\"ticks\":\"\"}},\"type\":\"parcoords\"}],\"pie\":[{\"automargin\":true,\"type\":\"pie\"}],\"scatter\":[{\"marker\":{\"colorbar\":{\"outlinewidth\":0,\"ticks\":\"\"}},\"type\":\"scatter\"}],\"scatter3d\":[{\"line\":{\"colorbar\":{\"outlinewidth\":0,\"ticks\":\"\"}},\"marker\":{\"colorbar\":{\"outlinewidth\":0,\"ticks\":\"\"}},\"type\":\"scatter3d\"}],\"scattercarpet\":[{\"marker\":{\"colorbar\":{\"outlinewidth\":0,\"ticks\":\"\"}},\"type\":\"scattercarpet\"}],\"scattergeo\":[{\"marker\":{\"colorbar\":{\"outlinewidth\":0,\"ticks\":\"\"}},\"type\":\"scattergeo\"}],\"scattergl\":[{\"marker\":{\"colorbar\":{\"outlinewidth\":0,\"ticks\":\"\"}},\"type\":\"scattergl\"}],\"scattermapbox\":[{\"marker\":{\"colorbar\":{\"outlinewidth\":0,\"ticks\":\"\"}},\"type\":\"scattermapbox\"}],\"scatterpolar\":[{\"marker\":{\"colorbar\":{\"outlinewidth\":0,\"ticks\":\"\"}},\"type\":\"scatterpolar\"}],\"scatterpolargl\":[{\"marker\":{\"colorbar\":{\"outlinewidth\":0,\"ticks\":\"\"}},\"type\":\"scatterpolargl\"}],\"scatterternary\":[{\"marker\":{\"colorbar\":{\"outlinewidth\":0,\"ticks\":\"\"}},\"type\":\"scatterternary\"}],\"surface\":[{\"colorbar\":{\"outlinewidth\":0,\"ticks\":\"\"},\"colorscale\":[[0.0,\"#0d0887\"],[0.1111111111111111,\"#46039f\"],[0.2222222222222222,\"#7201a8\"],[0.3333333333333333,\"#9c179e\"],[0.4444444444444444,\"#bd3786\"],[0.5555555555555556,\"#d8576b\"],[0.6666666666666666,\"#ed7953\"],[0.7777777777777778,\"#fb9f3a\"],[0.8888888888888888,\"#fdca26\"],[1.0,\"#f0f921\"]],\"type\":\"surface\"}],\"table\":[{\"cells\":{\"fill\":{\"color\":\"#EBF0F8\"},\"line\":{\"color\":\"white\"}},\"header\":{\"fill\":{\"color\":\"#C8D4E3\"},\"line\":{\"color\":\"white\"}},\"type\":\"table\"}]},\"layout\":{\"annotationdefaults\":{\"arrowcolor\":\"#2a3f5f\",\"arrowhead\":0,\"arrowwidth\":1},\"autotypenumbers\":\"strict\",\"coloraxis\":{\"colorbar\":{\"outlinewidth\":0,\"ticks\":\"\"}},\"colorscale\":{\"diverging\":[[0,\"#8e0152\"],[0.1,\"#c51b7d\"],[0.2,\"#de77ae\"],[0.3,\"#f1b6da\"],[0.4,\"#fde0ef\"],[0.5,\"#f7f7f7\"],[0.6,\"#e6f5d0\"],[0.7,\"#b8e186\"],[0.8,\"#7fbc41\"],[0.9,\"#4d9221\"],[1,\"#276419\"]],\"sequential\":[[0.0,\"#0d0887\"],[0.1111111111111111,\"#46039f\"],[0.2222222222222222,\"#7201a8\"],[0.3333333333333333,\"#9c179e\"],[0.4444444444444444,\"#bd3786\"],[0.5555555555555556,\"#d8576b\"],[0.6666666666666666,\"#ed7953\"],[0.7777777777777778,\"#fb9f3a\"],[0.8888888888888888,\"#fdca26\"],[1.0,\"#f0f921\"]],\"sequentialminus\":[[0.0,\"#0d0887\"],[0.1111111111111111,\"#46039f\"],[0.2222222222222222,\"#7201a8\"],[0.3333333333333333,\"#9c179e\"],[0.4444444444444444,\"#bd3786\"],[0.5555555555555556,\"#d8576b\"],[0.6666666666666666,\"#ed7953\"],[0.7777777777777778,\"#fb9f3a\"],[0.8888888888888888,\"#fdca26\"],[1.0,\"#f0f921\"]]},\"colorway\":[\"#636efa\",\"#EF553B\",\"#00cc96\",\"#ab63fa\",\"#FFA15A\",\"#19d3f3\",\"#FF6692\",\"#B6E880\",\"#FF97FF\",\"#FECB52\"],\"font\":{\"color\":\"#2a3f5f\"},\"geo\":{\"bgcolor\":\"white\",\"lakecolor\":\"white\",\"landcolor\":\"#E5ECF6\",\"showlakes\":true,\"showland\":true,\"subunitcolor\":\"white\"},\"hoverlabel\":{\"align\":\"left\"},\"hovermode\":\"closest\",\"mapbox\":{\"style\":\"light\"},\"paper_bgcolor\":\"white\",\"plot_bgcolor\":\"#E5ECF6\",\"polar\":{\"angularaxis\":{\"gridcolor\":\"white\",\"linecolor\":\"white\",\"ticks\":\"\"},\"bgcolor\":\"#E5ECF6\",\"radialaxis\":{\"gridcolor\":\"white\",\"linecolor\":\"white\",\"ticks\":\"\"}},\"scene\":{\"xaxis\":{\"backgroundcolor\":\"#E5ECF6\",\"gridcolor\":\"white\",\"gridwidth\":2,\"linecolor\":\"white\",\"showbackground\":true,\"ticks\":\"\",\"zerolinecolor\":\"white\"},\"yaxis\":{\"backgroundcolor\":\"#E5ECF6\",\"gridcolor\":\"white\",\"gridwidth\":2,\"linecolor\":\"white\",\"showbackground\":true,\"ticks\":\"\",\"zerolinecolor\":\"white\"},\"zaxis\":{\"backgroundcolor\":\"#E5ECF6\",\"gridcolor\":\"white\",\"gridwidth\":2,\"linecolor\":\"white\",\"showbackground\":true,\"ticks\":\"\",\"zerolinecolor\":\"white\"}},\"shapedefaults\":{\"line\":{\"color\":\"#2a3f5f\"}},\"ternary\":{\"aaxis\":{\"gridcolor\":\"white\",\"linecolor\":\"white\",\"ticks\":\"\"},\"baxis\":{\"gridcolor\":\"white\",\"linecolor\":\"white\",\"ticks\":\"\"},\"bgcolor\":\"#E5ECF6\",\"caxis\":{\"gridcolor\":\"white\",\"linecolor\":\"white\",\"ticks\":\"\"}},\"title\":{\"x\":0.05},\"xaxis\":{\"automargin\":true,\"gridcolor\":\"white\",\"linecolor\":\"white\",\"ticks\":\"\",\"title\":{\"standoff\":15},\"zerolinecolor\":\"white\",\"zerolinewidth\":2},\"yaxis\":{\"automargin\":true,\"gridcolor\":\"white\",\"linecolor\":\"white\",\"ticks\":\"\",\"title\":{\"standoff\":15},\"zerolinecolor\":\"white\",\"zerolinewidth\":2}}},\"title\":{\"text\":\"Niwot Ridge, CO\"}},                        {\"responsive\": true}                    ).then(function(){\n",
       "                            \n",
       "var gd = document.getElementById('df469cd3-7ece-4edb-9169-50fb09fb68af');\n",
       "var x = new MutationObserver(function (mutations, observer) {{\n",
       "        var display = window.getComputedStyle(gd).display;\n",
       "        if (!display || display === 'none') {{\n",
       "            console.log([gd, 'removed!']);\n",
       "            Plotly.purge(gd);\n",
       "            observer.disconnect();\n",
       "        }}\n",
       "}});\n",
       "\n",
       "// Listen for the removal of the full notebook cells\n",
       "var notebookContainer = gd.closest('#notebook-container');\n",
       "if (notebookContainer) {{\n",
       "    x.observe(notebookContainer, {childList: true});\n",
       "}}\n",
       "\n",
       "// Listen for the clearing of the current output cell\n",
       "var outputEl = gd.closest('.output');\n",
       "if (outputEl) {{\n",
       "    x.observe(outputEl, {childList: true});\n",
       "}}\n",
       "\n",
       "                        })                };                });            </script>        </div>"
      ]
     },
     "metadata": {},
     "output_type": "display_data"
    }
   ],
   "source": [
    "# for pie chat \n",
    "values_stay = sumdf_stay.bincount\n",
    "values_unload = sumdf_unload.bincount\n",
    "values_all = sumdf_total.bincount\n",
    "\n",
    "# Create subplots: use 'domain' type for Pie subplot\n",
    "fig = make_subplots(rows=1, cols=3, specs=[[{'type':'domain'}, {'type':'domain'}, {'type':'domain'}]])\n",
    "\n",
    "fig.add_trace(go.Pie(labels=label, values=values_stay, name=\"Stay Pie\"),1, 1)\n",
    "fig.add_trace(go.Pie(labels=label, values=values_unload, name=\"Unload Pie\"),1, 2)\n",
    "fig.add_trace(go.Pie(labels=label, values=values_all, name=\"Unload Pie\"),1, 3)\n",
    "\n",
    "# Use `hole` to create a donut-like pie chart\n",
    "fig.update_traces(hole=.4, textinfo='value', textfont_size=20, marker=dict(colors=colors))\n",
    "\n",
    "fig.update_layout(title_text=\"Niwot Ridge, CO\",\n",
    "    annotations=[dict(text='Stay', x=0.12, y=0.5, font_size=18, showarrow=False),\n",
    "                 dict(text='Unload', x=0.5,y=0.5, font_size=18, showarrow=False),\n",
    "                 dict(text=' All', x=0.86,  y=0.5,  font_size=18, showarrow=False)])\n",
    "fig.show()"
   ]
  }
 ],
 "metadata": {
  "kernelspec": {
   "display_name": "Python 3 (ipykernel)",
   "language": "python",
   "name": "python3"
  },
  "language_info": {
   "codemirror_mode": {
    "name": "ipython",
    "version": 3
   },
   "file_extension": ".py",
   "mimetype": "text/x-python",
   "name": "python",
   "nbconvert_exporter": "python",
   "pygments_lexer": "ipython3",
   "version": "3.9.12"
  }
 },
 "nbformat": 4,
 "nbformat_minor": 5
}
